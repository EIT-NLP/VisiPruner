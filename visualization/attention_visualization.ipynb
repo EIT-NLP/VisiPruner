{
 "cells": [
  {
   "cell_type": "code",
   "execution_count": 3,
   "metadata": {},
   "outputs": [
    {
     "data": {
      "text/plain": [
       "_StoreAction(option_strings=['--model-path'], dest='model_path', nargs=None, const=None, default='/code/yingqi/models/liuhaotian/llava-v1.5-7b', type=<class 'str'>, choices=None, required=False, help=None, metavar=None)"
      ]
     },
     "execution_count": 3,
     "metadata": {},
     "output_type": "execute_result"
    },
    {
     "data": {
      "text/plain": [
       "_StoreAction(option_strings=['--model-base'], dest='model_base', nargs=None, const=None, default=None, type=<class 'str'>, choices=None, required=False, help=None, metavar=None)"
      ]
     },
     "execution_count": 3,
     "metadata": {},
     "output_type": "execute_result"
    },
    {
     "data": {
      "text/plain": [
       "_StoreAction(option_strings=['--image-file'], dest='image_file', nargs=None, const=None, default=None, type=<class 'str'>, choices=None, required=False, help=None, metavar=None)"
      ]
     },
     "execution_count": 3,
     "metadata": {},
     "output_type": "execute_result"
    },
    {
     "data": {
      "text/plain": [
       "_StoreAction(option_strings=['--device'], dest='device', nargs=None, const=None, default='cuda', type=<class 'str'>, choices=None, required=False, help=None, metavar=None)"
      ]
     },
     "execution_count": 3,
     "metadata": {},
     "output_type": "execute_result"
    },
    {
     "data": {
      "text/plain": [
       "_StoreAction(option_strings=['--conv-mode'], dest='conv_mode', nargs=None, const=None, default='vicuna_v1', type=<class 'str'>, choices=None, required=False, help=None, metavar=None)"
      ]
     },
     "execution_count": 3,
     "metadata": {},
     "output_type": "execute_result"
    },
    {
     "data": {
      "text/plain": [
       "_StoreAction(option_strings=['--answer-with-sentence'], dest='answer_with_sentence', nargs=None, const=None, default=False, type=<class 'bool'>, choices=None, required=False, help=None, metavar=None)"
      ]
     },
     "execution_count": 3,
     "metadata": {},
     "output_type": "execute_result"
    },
    {
     "data": {
      "text/plain": [
       "_StoreAction(option_strings=['--num-chunks'], dest='num_chunks', nargs=None, const=None, default=1, type=<class 'int'>, choices=None, required=False, help=None, metavar=None)"
      ]
     },
     "execution_count": 3,
     "metadata": {},
     "output_type": "execute_result"
    },
    {
     "data": {
      "text/plain": [
       "_StoreAction(option_strings=['--chunk-idx'], dest='chunk_idx', nargs=None, const=None, default=0, type=<class 'int'>, choices=None, required=False, help=None, metavar=None)"
      ]
     },
     "execution_count": 3,
     "metadata": {},
     "output_type": "execute_result"
    },
    {
     "data": {
      "text/plain": [
       "_StoreAction(option_strings=['--temperature'], dest='temperature', nargs=None, const=None, default=0, type=<class 'float'>, choices=None, required=False, help=None, metavar=None)"
      ]
     },
     "execution_count": 3,
     "metadata": {},
     "output_type": "execute_result"
    },
    {
     "data": {
      "text/plain": [
       "_StoreAction(option_strings=['--top_p'], dest='top_p', nargs=None, const=None, default=None, type=<class 'float'>, choices=None, required=False, help=None, metavar=None)"
      ]
     },
     "execution_count": 3,
     "metadata": {},
     "output_type": "execute_result"
    },
    {
     "data": {
      "text/plain": [
       "_StoreAction(option_strings=['--num_beams'], dest='num_beams', nargs=None, const=None, default=1, type=<class 'int'>, choices=None, required=False, help=None, metavar=None)"
      ]
     },
     "execution_count": 3,
     "metadata": {},
     "output_type": "execute_result"
    },
    {
     "data": {
      "text/plain": [
       "_StoreAction(option_strings=['--max_new_tokens'], dest='max_new_tokens', nargs=None, const=None, default=128, type=<class 'int'>, choices=None, required=False, help=None, metavar=None)"
      ]
     },
     "execution_count": 3,
     "metadata": {},
     "output_type": "execute_result"
    },
    {
     "data": {
      "text/plain": [
       "_StoreTrueAction(option_strings=['--load-8bit'], dest='load_8bit', nargs=0, const=True, default=False, type=None, choices=None, required=False, help=None, metavar=None)"
      ]
     },
     "execution_count": 3,
     "metadata": {},
     "output_type": "execute_result"
    },
    {
     "data": {
      "text/plain": [
       "_StoreTrueAction(option_strings=['--load-4bit'], dest='load_4bit', nargs=0, const=True, default=False, type=None, choices=None, required=False, help=None, metavar=None)"
      ]
     },
     "execution_count": 3,
     "metadata": {},
     "output_type": "execute_result"
    },
    {
     "data": {
      "text/plain": [
       "_StoreTrueAction(option_strings=['--debug'], dest='debug', nargs=0, const=True, default=False, type=None, choices=None, required=False, help=None, metavar=None)"
      ]
     },
     "execution_count": 3,
     "metadata": {},
     "output_type": "execute_result"
    },
    {
     "name": "stderr",
     "output_type": "stream",
     "text": [
      "You are using a model of type llava to instantiate a model of type llava_llama. This is not supported for all configurations of models and can yield errors.\n",
      "Loading checkpoint shards:   0%|          | 0/2 [00:00<?, ?it/s]/opt/conda/envs/llava-visipruner/lib/python3.10/site-packages/torch/_utils.py:831: UserWarning: TypedStorage is deprecated. It will be removed in the future and UntypedStorage will be the only storage class. This should only matter to you if you are using storages directly.  To access UntypedStorage directly, use tensor.untyped_storage() instead of tensor.storage()\n",
      "  return self.fget.__get__(instance, owner)()\n",
      "Loading checkpoint shards: 100%|██████████| 2/2 [02:54<00:00, 87.25s/it] \n"
     ]
    }
   ],
   "source": [
    "from IPython.core.interactiveshell import InteractiveShell\n",
    "InteractiveShell.ast_node_interactivity = \"all\"\n",
    "\n",
    "import argparse\n",
    "import torch\n",
    "import math\n",
    "import matplotlib.pyplot as plt\n",
    "import matplotlib.cm as cm\n",
    "from matplotlib.colors import LogNorm\n",
    "import seaborn as sns\n",
    "from llava.constants import IMAGE_TOKEN_INDEX, DEFAULT_IMAGE_TOKEN, DEFAULT_IM_START_TOKEN, DEFAULT_IM_END_TOKEN\n",
    "from llava.conversation import conv_templates, SeparatorStyle\n",
    "from llava.model.builder import load_pretrained_model\n",
    "from llava.utils import disable_torch_init\n",
    "from llava.mm_utils import process_images, tokenizer_image_token, get_model_name_from_path\n",
    "from transformers.generation.utils import GenerationMixin\n",
    "from PIL import Image\n",
    "import torch.nn.functional as F\n",
    "import pandas as pd\n",
    "import requests\n",
    "from PIL import Image\n",
    "from io import BytesIO\n",
    "from transformers import TextStreamer\n",
    "import torchvision.transforms as transforms\n",
    "import numpy as np\n",
    "import sys\n",
    "\n",
    "\n",
    "def load_image(image_file):\n",
    "    if image_file.startswith('http://') or image_file.startswith('https://'):\n",
    "        response = requests.get(image_file)\n",
    "        image = Image.open(BytesIO(response.content)).convert('RGB')\n",
    "    else:\n",
    "        image = Image.open(image_file).convert('RGB')\n",
    "    return image\n",
    "\n",
    "if \"ipykernel_launcher\" in sys.argv[0]:\n",
    "    sys.argv = sys.argv[:1]\n",
    "\n",
    "parser = argparse.ArgumentParser()\n",
    "\n",
    "parser.add_argument(\"--model-path\", type=str, default=\"/code/yingqi/models/liuhaotian/llava-v1.5-7b\")\n",
    "parser.add_argument(\"--model-base\", type=str, default=None)\n",
    "parser.add_argument(\"--image-file\", type=str, default=None)\n",
    "parser.add_argument(\"--device\", type=str, default=\"cuda\")\n",
    "parser.add_argument(\"--conv-mode\", type=str, default=\"vicuna_v1\")\n",
    "parser.add_argument(\"--answer-with-sentence\", type=bool, default=False)\n",
    "parser.add_argument(\"--num-chunks\", type=int, default=1)\n",
    "parser.add_argument(\"--chunk-idx\", type=int, default=0)\n",
    "parser.add_argument(\"--temperature\", type=float, default=0)\n",
    "parser.add_argument(\"--top_p\", type=float, default=None)\n",
    "parser.add_argument(\"--num_beams\", type=int, default=1)\n",
    "parser.add_argument(\"--max_new_tokens\", type=int, default=128)\n",
    "parser.add_argument(\"--load-8bit\", action=\"store_true\")\n",
    "parser.add_argument(\"--load-4bit\", action=\"store_true\")\n",
    "parser.add_argument(\"--debug\", action=\"store_true\")\n",
    "args = parser.parse_args()\n",
    "\n",
    "disable_torch_init()\n",
    "\n",
    "model_name = get_model_name_from_path(args.model_path)\n",
    "tokenizer, model, image_processor, context_len = load_pretrained_model(args.model_path, args.model_base, model_name, args.load_8bit, args.load_4bit, device=args.device)\n",
    "\n",
    "if \"llama-2\" in model_name.lower():\n",
    "    conv_mode = \"llava_llama_2\"\n",
    "elif \"mistral\" in model_name.lower():\n",
    "    conv_mode = \"mistral_instruct\"\n",
    "elif \"v1.6-34b\" in model_name.lower():\n",
    "    conv_mode = \"chatml_direct\"\n",
    "elif \"v1\" in model_name.lower():\n",
    "    conv_mode = \"llava_v1\"\n",
    "elif \"mpt\" in model_name.lower():\n",
    "    conv_mode = \"mpt\"\n",
    "else:\n",
    "    conv_mode = \"llava_v0\""
   ]
  },
  {
   "cell_type": "code",
   "execution_count": 5,
   "metadata": {},
   "outputs": [
    {
     "name": "stdout",
     "output_type": "stream",
     "text": [
      "[WARNING] the auto inferred conversation mode is llava_v1, while `--conv-mode` is vicuna_v1, using vicuna_v1\n",
      "ASSISTANT: "
     ]
    },
    {
     "name": "stderr",
     "output_type": "stream",
     "text": [
      "/opt/conda/envs/llava-visipruner/lib/python3.10/site-packages/transformers/generation/configuration_utils.py:492: UserWarning: `do_sample` is set to `False`. However, `temperature` is set to `0` -- this flag is only used in sample-based generation modes. You should set `do_sample=True` or unset `temperature`.\n",
      "  warnings.warn(\n"
     ]
    },
    {
     "name": "stdout",
     "output_type": "stream",
     "text": [
      "Yes\n"
     ]
    }
   ],
   "source": [
    "if args.conv_mode is not None and conv_mode != args.conv_mode:\n",
    "    print('[WARNING] the auto inferred conversation mode is {}, while `--conv-mode` is {}, using {}'.format(conv_mode, args.conv_mode, args.conv_mode))\n",
    "else:\n",
    "    args.conv_mode = conv_mode\n",
    "\n",
    "conv = conv_templates[args.conv_mode].copy()\n",
    "if \"mpt\" in model_name.lower():\n",
    "    roles = ('user', 'assistant')\n",
    "else:\n",
    "    roles = conv.roles\n",
    "\n",
    "IMAGE_PATH = \"/code/yingqi/LLaVA_visiPruner/514915.jpg\"\n",
    "inp = \"Is there any scooter in the image?\\nAnswer with a single word or short phrase.\"\n",
    "image = load_image(IMAGE_PATH)\n",
    "image_size = image.size\n",
    "# Similar operation in model_worker.py\n",
    "image_tensor = process_images([image], image_processor, model.config)\n",
    "if type(image_tensor) is list:\n",
    "    image_tensor = [image.to(model.device, dtype=torch.float16) for image in image_tensor]\n",
    "else:\n",
    "    image_tensor = image_tensor.to(model.device, dtype=torch.float16)\n",
    "\n",
    "print(f\"{roles[1]}: \", end=\"\")\n",
    "\n",
    "if image is not None:\n",
    "    # first message\n",
    "    if model.config.mm_use_im_start_end:\n",
    "        inp = DEFAULT_IM_START_TOKEN + DEFAULT_IMAGE_TOKEN + DEFAULT_IM_END_TOKEN + '\\n' + inp\n",
    "    else:\n",
    "        inp = DEFAULT_IMAGE_TOKEN + '\\n' + inp\n",
    "    image = None\n",
    "\n",
    "conv.append_message(conv.roles[0], inp)\n",
    "conv.append_message(conv.roles[1], None)\n",
    "prompt = conv.get_prompt()\n",
    "\n",
    "input_ids = tokenizer_image_token(prompt, tokenizer, IMAGE_TOKEN_INDEX, return_tensors='pt').unsqueeze(0).to(model.device)\n",
    "stop_str = conv.sep if conv.sep_style != SeparatorStyle.TWO else conv.sep2\n",
    "keywords = [stop_str]\n",
    "streamer = TextStreamer(tokenizer, skip_prompt=True, skip_special_tokens=True)\n",
    "\n",
    "with torch.inference_mode():\n",
    "    output = model.generate(\n",
    "        input_ids,\n",
    "        images=image_tensor,\n",
    "        image_sizes=[image_size],\n",
    "        do_sample= False,\n",
    "        temperature=0,\n",
    "        max_new_tokens=args.max_new_tokens,\n",
    "        streamer=streamer,\n",
    "        output_hidden_states=True,\n",
    "        output_attentions=True,\n",
    "        return_dict_in_generate=True  # Return as a dictionary so you can access attentions\n",
    "    )"
   ]
  },
  {
   "cell_type": "code",
   "execution_count": 9,
   "metadata": {},
   "outputs": [
    {
     "name": "stderr",
     "output_type": "stream",
     "text": [
      "/tmp/ipykernel_1627/269903895.py:35: MatplotlibDeprecationWarning: The get_cmap function was deprecated in Matplotlib 3.7 and will be removed in 3.11. Use ``matplotlib.colormaps[name]`` or ``matplotlib.colormaps.get_cmap()`` or ``pyplot.get_cmap()`` instead.\n",
      "  colored = cm.get_cmap(cmap)(np.array(heat_img)/255.0)[..., :3]\n"
     ]
    },
    {
     "data": {
      "image/png": "[encoded data removed]",
      "text/plain": [
       "<Figure size 1000x400 with 3 Axes>"
      ]
     },
     "metadata": {},
     "output_type": "display_data"
    }
   ],
   "source": [
    "vlm_attn_weights = torch.stack(output['attentions'][0]).mean(dim=2)\n",
    "\n",
    "\n",
    "def visualize_patch_vector(patch_vec,\n",
    "                           image_path,\n",
    "                           has_cls=False,\n",
    "                           normalize=True,\n",
    "                           cmap='jet',\n",
    "                           alpha=0.45,\n",
    "                           save_path=None,\n",
    "                           show_colorbar=True):\n",
    "    v = np.array(patch_vec)\n",
    "    if v.ndim == 2 and v.shape[0] == 1:\n",
    "        v = v[0]\n",
    "    N = v.shape[0]\n",
    "    side = int(round(math.sqrt(N)))\n",
    "    if side * side != N:\n",
    "        raise ValueError(f\"Can not be resized to a square: N={N}\")\n",
    "    if normalize:\n",
    "        s = v.sum()\n",
    "        if s > 0:\n",
    "            v = v / s\n",
    "    heat = v.reshape(side, side)\n",
    "\n",
    "    img = Image.open(image_path).convert(\"RGB\")\n",
    "    W, H = img.size\n",
    "\n",
    "    hmin, hmax = heat.min(), heat.max()\n",
    "    if hmax > hmin:\n",
    "        norm_heat = (heat - hmin) / (hmax - hmin)\n",
    "    else:\n",
    "        norm_heat = np.zeros_like(heat)\n",
    "\n",
    "    heat_img = Image.fromarray((norm_heat * 255).astype(np.uint8)).resize((W, H), Image.BICUBIC)\n",
    "    colored = cm.get_cmap(cmap)(np.array(heat_img)/255.0)[..., :3]\n",
    "    colored = (colored * 255).astype(np.uint8)\n",
    "    colored_img = Image.fromarray(colored)\n",
    "    blended = Image.blend(img, colored_img, alpha=alpha)\n",
    "\n",
    "    cols = 2 if show_colorbar else 1\n",
    "    fig, axs = plt.subplots(1, cols, figsize=(10,4))\n",
    "    axs[0].imshow(blended); axs[0].axis('off')\n",
    "    if show_colorbar:\n",
    "        im = axs[1].imshow(heat, cmap=cmap)\n",
    "        axs[1].axis('off')\n",
    "        plt.colorbar(im, ax=axs[1], fraction=0.046, pad=0.04)\n",
    "    plt.tight_layout()\n",
    "    if save_path:\n",
    "        blended.save(save_path)\n",
    "    plt.show()\n",
    "\n",
    "layer_idx = 2\n",
    "patch_vec = vlm_attn_weights[layer_idx,0,-1,35:611].cpu().numpy()\n",
    "visualize_patch_vector(patch_vec, IMAGE_PATH)"
   ]
  },
  {
   "cell_type": "markdown",
   "metadata": {},
   "source": [
    "## Layer-wise Visualization"
   ]
  },
  {
   "cell_type": "code",
   "execution_count": 10,
   "metadata": {},
   "outputs": [
    {
     "name": "stderr",
     "output_type": "stream",
     "text": [
      "/opt/conda/envs/llava-visipruner/lib/python3.10/site-packages/torch/_tensor.py:836: UserWarning: non-inplace resize is deprecated\n",
      "  warnings.warn(\"non-inplace resize is deprecated\")\n"
     ]
    }
   ],
   "source": [
    "self_attention = output.attentions[0]\n",
    "img_token_idx = int(torch.where(input_ids == -200)[1][0])\n",
    "attention_grids = []\n",
    "for layer in self_attention:\n",
    "    averaged_head_attention = torch.mean(layer, axis=1)[0].float()\n",
    "    vision_attention = averaged_head_attention[:, img_token_idx:img_token_idx + 576]\n",
    "    flat_vision_attention = vision_attention[-1,:].resize(24,24).cpu().detach().numpy()\n",
    "    attention_grids.append(flat_vision_attention)"
   ]
  },
  {
   "cell_type": "code",
   "execution_count": null,
   "metadata": {},
   "outputs": [
    {
     "name": "stderr",
     "output_type": "stream",
     "text": [
      "/tmp/ipykernel_1627/3125494494.py:15: MatplotlibDeprecationWarning: The get_cmap function was deprecated in Matplotlib 3.7 and will be removed in 3.11. Use ``matplotlib.colormaps[name]`` or ``matplotlib.colormaps.get_cmap()`` or ``pyplot.get_cmap()`` instead.\n",
      "  cmap = plt.cm.get_cmap(\"viridis\")\n"
     ]
    },
    {
     "data": {
      "text/plain": [
       "<Axes: >"
      ]
     },
     "execution_count": 12,
     "metadata": {},
     "output_type": "execute_result"
    },
    {
     "data": {
      "text/plain": [
       "[<matplotlib.axis.XTick at 0x7f2f5c420d60>,\n",
       " <matplotlib.axis.XTick at 0x7f2f5c42ebf0>,\n",
       " <matplotlib.axis.XTick at 0x7f2f5c42f820>,\n",
       " <matplotlib.axis.XTick at 0x7f2f5c44c4c0>,\n",
       " <matplotlib.axis.XTick at 0x7f2f5c42edd0>,\n",
       " <matplotlib.axis.XTick at 0x7f2f5c44d6c0>,\n",
       " <matplotlib.axis.XTick at 0x7f2f5c44e320>,\n",
       " <matplotlib.axis.XTick at 0x7f2f5c44ef80>,\n",
       " <matplotlib.axis.XTick at 0x7f2f5c44fbe0>,\n",
       " <matplotlib.axis.XTick at 0x7f2f5c44fd90>,\n",
       " <matplotlib.axis.XTick at 0x7f2f5c45ca30>,\n",
       " <matplotlib.axis.XTick at 0x7f2f5c45d690>,\n",
       " <matplotlib.axis.XTick at 0x7f2f5c45e2f0>,\n",
       " <matplotlib.axis.XTick at 0x7f2f5c45cc40>,\n",
       " <matplotlib.axis.XTick at 0x7f2f5c45f070>,\n",
       " <matplotlib.axis.XTick at 0x7f2f5c45fcd0>,\n",
       " <matplotlib.axis.XTick at 0x7f2f5c470970>,\n",
       " <matplotlib.axis.XTick at 0x7f2f5c45e8c0>,\n",
       " <matplotlib.axis.XTick at 0x7f2f5c4717b0>,\n",
       " <matplotlib.axis.XTick at 0x7f2f5c472410>,\n",
       " <matplotlib.axis.XTick at 0x7f2f5c473070>,\n",
       " <matplotlib.axis.XTick at 0x7f2f5c473cd0>,\n",
       " <matplotlib.axis.XTick at 0x7f2f5c471120>,\n",
       " <matplotlib.axis.XTick at 0x7f2f5c488a90>,\n",
       " <matplotlib.axis.XTick at 0x7f2f5c4896f0>,\n",
       " <matplotlib.axis.XTick at 0x7f2f5c48a350>,\n",
       " <matplotlib.axis.XTick at 0x7f2f5c4710f0>,\n",
       " <matplotlib.axis.XTick at 0x7f2f5c48ab30>,\n",
       " <matplotlib.axis.XTick at 0x7f2f5c48b790>,\n",
       " <matplotlib.axis.XTick at 0x7f2f5c49c430>,\n",
       " <matplotlib.axis.XTick at 0x7f2f5c49d090>,\n",
       " <matplotlib.axis.XTick at 0x7f2f5c49c640>,\n",
       " <matplotlib.axis.XTick at 0x7f2f5c4217b0>,\n",
       " <matplotlib.axis.XTick at 0x7f2f5c368550>,\n",
       " <matplotlib.axis.XTick at 0x7f2f5c369270>,\n",
       " <matplotlib.axis.XTick at 0x7f2f5c369ed0>,\n",
       " <matplotlib.axis.XTick at 0x7f2f5c36ab30>,\n",
       " <matplotlib.axis.XTick at 0x7f2f5c3694b0>,\n",
       " <matplotlib.axis.XTick at 0x7f2f5c36b8b0>,\n",
       " <matplotlib.axis.XTick at 0x7f2f5c380550>,\n",
       " <matplotlib.axis.XTick at 0x7f2f5c3811b0>,\n",
       " <matplotlib.axis.XTick at 0x7f2f5c3689a0>,\n",
       " <matplotlib.axis.XTick at 0x7f2f5c381f30>,\n",
       " <matplotlib.axis.XTick at 0x7f2f5c382b90>,\n",
       " <matplotlib.axis.XTick at 0x7f2f5c3837f0>,\n",
       " <matplotlib.axis.XTick at 0x7f2f5c394490>,\n",
       " <matplotlib.axis.XTick at 0x7f2f5c381900>,\n",
       " <matplotlib.axis.XTick at 0x7f2f5c395210>,\n",
       " <matplotlib.axis.XTick at 0x7f2f5c395e70>,\n",
       " <matplotlib.axis.XTick at 0x7f2f5c396ad0>,\n",
       " <matplotlib.axis.XTick at 0x7f2f5c395ab0>,\n",
       " <matplotlib.axis.XTick at 0x7f2f5c397850>,\n",
       " <matplotlib.axis.XTick at 0x7f2f5c3b04f0>,\n",
       " <matplotlib.axis.XTick at 0x7f2f5c3b1150>,\n",
       " <matplotlib.axis.XTick at 0x7f2f5c395450>,\n",
       " <matplotlib.axis.XTick at 0x7f2f5c3b1f60>,\n",
       " <matplotlib.axis.XTick at 0x7f2f5c3b2bc0>,\n",
       " <matplotlib.axis.XTick at 0x7f2f5c3b3820>,\n",
       " <matplotlib.axis.XTick at 0x7f2f5c3c04c0>,\n",
       " <matplotlib.axis.XTick at 0x7f2f5c3b1990>,\n",
       " <matplotlib.axis.XTick at 0x7f2f5c3c1240>,\n",
       " <matplotlib.axis.XTick at 0x7f2f5c3c1ea0>,\n",
       " <matplotlib.axis.XTick at 0x7f2f5c3c2b00>]"
      ]
     },
     "execution_count": 12,
     "metadata": {},
     "output_type": "execute_result"
    },
    {
     "data": {
      "text/plain": [
       "[<matplotlib.axis.YTick at 0x7f2f5c420d30>,\n",
       " <matplotlib.axis.YTick at 0x7f2f5c42ebc0>,\n",
       " <matplotlib.axis.YTick at 0x7f2f5c49e950>,\n",
       " <matplotlib.axis.YTick at 0x7f2f5c49f5b0>,\n",
       " <matplotlib.axis.YTick at 0x7f2f5c49e1d0>,\n",
       " <matplotlib.axis.YTick at 0x7f2f5c4b4370>,\n",
       " <matplotlib.axis.YTick at 0x7f2f5c4b4fd0>,\n",
       " <matplotlib.axis.YTick at 0x7f2f5c4b5c30>,\n",
       " <matplotlib.axis.YTick at 0x7f2f5c49fe50>,\n",
       " <matplotlib.axis.YTick at 0x7f2f5c4b6a40>,\n",
       " <matplotlib.axis.YTick at 0x7f2f5c4b76a0>,\n",
       " <matplotlib.axis.YTick at 0x7f2f5c4c8340>,\n",
       " <matplotlib.axis.YTick at 0x7f2f5c4c8fa0>,\n",
       " <matplotlib.axis.YTick at 0x7f2f5c4c8550>,\n",
       " <matplotlib.axis.YTick at 0x7f2f5c4c9d20>,\n",
       " <matplotlib.axis.YTick at 0x7f2f5c4ca980>,\n",
       " <matplotlib.axis.YTick at 0x7f2f5c4cb5e0>,\n",
       " <matplotlib.axis.YTick at 0x7f2f5c4ca5c0>,\n",
       " <matplotlib.axis.YTick at 0x7f2f5c4e03a0>,\n",
       " <matplotlib.axis.YTick at 0x7f2f5c4e1000>,\n",
       " <matplotlib.axis.YTick at 0x7f2f5c4e1c60>,\n",
       " <matplotlib.axis.YTick at 0x7f2f5c4b72e0>,\n",
       " <matplotlib.axis.YTick at 0x7f2f5c4e2a70>,\n",
       " <matplotlib.axis.YTick at 0x7f2f5c4e36d0>,\n",
       " <matplotlib.axis.YTick at 0x7f2f5c4f4370>,\n",
       " <matplotlib.axis.YTick at 0x7f2f5c4f4fd0>,\n",
       " <matplotlib.axis.YTick at 0x7f2f5c4f46d0>,\n",
       " <matplotlib.axis.YTick at 0x7f2f5c4f5d50>,\n",
       " <matplotlib.axis.YTick at 0x7f2f5c4f69b0>,\n",
       " <matplotlib.axis.YTick at 0x7f2f5c4f7610>,\n",
       " <matplotlib.axis.YTick at 0x7f2f5c4f65c0>,\n",
       " <matplotlib.axis.YTick at 0x7f2f5c3103d0>,\n",
       " <matplotlib.axis.YTick at 0x7f2f5c49dcf0>,\n",
       " <matplotlib.axis.YTick at 0x7f2f5c3c3880>,\n",
       " <matplotlib.axis.YTick at 0x7f2f5c3d4520>,\n",
       " <matplotlib.axis.YTick at 0x7f2f5c3d5180>,\n",
       " <matplotlib.axis.YTick at 0x7f2f5c3c1450>,\n",
       " <matplotlib.axis.YTick at 0x7f2f5c3d5f90>,\n",
       " <matplotlib.axis.YTick at 0x7f2f5c3d6bf0>,\n",
       " <matplotlib.axis.YTick at 0x7f2f5c3d7850>,\n",
       " <matplotlib.axis.YTick at 0x7f2f5c3e84f0>,\n",
       " <matplotlib.axis.YTick at 0x7f2f5c3d59c0>,\n",
       " <matplotlib.axis.YTick at 0x7f2f5c3e9270>,\n",
       " <matplotlib.axis.YTick at 0x7f2f5c3e99c0>,\n",
       " <matplotlib.axis.YTick at 0x7f2f5c3ea3e0>,\n",
       " <matplotlib.axis.YTick at 0x7f2f5c3eadd0>,\n",
       " <matplotlib.axis.YTick at 0x7f2f5c3e8af0>,\n",
       " <matplotlib.axis.YTick at 0x7f2f5c3eb700>,\n",
       " <matplotlib.axis.YTick at 0x7f2f5c204160>,\n",
       " <matplotlib.axis.YTick at 0x7f2f5c204b80>,\n",
       " <matplotlib.axis.YTick at 0x7f2f5c3eb6d0>,\n",
       " <matplotlib.axis.YTick at 0x7f2f5c396e60>,\n",
       " <matplotlib.axis.YTick at 0x7f2f5c204190>,\n",
       " <matplotlib.axis.YTick at 0x7f2f5c205c60>,\n",
       " <matplotlib.axis.YTick at 0x7f2f5c206680>,\n",
       " <matplotlib.axis.YTick at 0x7f2f5c2067d0>,\n",
       " <matplotlib.axis.YTick at 0x7f2f5c206e60>,\n",
       " <matplotlib.axis.YTick at 0x7f2f5c207880>,\n",
       " <matplotlib.axis.YTick at 0x7f2f5c2282e0>,\n",
       " <matplotlib.axis.YTick at 0x7f2f5c207dc0>,\n",
       " <matplotlib.axis.YTick at 0x7f2f5c228e80>,\n",
       " <matplotlib.axis.YTick at 0x7f2f5c229570>,\n",
       " <matplotlib.axis.YTick at 0x7f2f5c229f90>]"
      ]
     },
     "execution_count": 12,
     "metadata": {},
     "output_type": "execute_result"
    },
    {
     "data": {
      "text/plain": [
       "[Text(0, 0, '0'),\n",
       " Text(1, 0, '10'),\n",
       " Text(2, 0, '20'),\n",
       " Text(3, 0, '30'),\n",
       " Text(4, 0, '40'),\n",
       " Text(5, 0, '50'),\n",
       " Text(6, 0, '60'),\n",
       " Text(7, 0, '70'),\n",
       " Text(8, 0, '80'),\n",
       " Text(9, 0, '90'),\n",
       " Text(10, 0, '100'),\n",
       " Text(11, 0, '110'),\n",
       " Text(12, 0, '120'),\n",
       " Text(13, 0, '130'),\n",
       " Text(14, 0, '140'),\n",
       " Text(15, 0, '150'),\n",
       " Text(16, 0, '160'),\n",
       " Text(17, 0, '170'),\n",
       " Text(18, 0, '180'),\n",
       " Text(19, 0, '190'),\n",
       " Text(20, 0, '200'),\n",
       " Text(21, 0, '210'),\n",
       " Text(22, 0, '220'),\n",
       " Text(23, 0, '230'),\n",
       " Text(24, 0, '240'),\n",
       " Text(25, 0, '250'),\n",
       " Text(26, 0, '260'),\n",
       " Text(27, 0, '270'),\n",
       " Text(28, 0, '280'),\n",
       " Text(29, 0, '290'),\n",
       " Text(30, 0, '300'),\n",
       " Text(31, 0, '310'),\n",
       " Text(32, 0, '320'),\n",
       " Text(33, 0, '330'),\n",
       " Text(34, 0, '340'),\n",
       " Text(35, 0, '350'),\n",
       " Text(36, 0, '360'),\n",
       " Text(37, 0, '370'),\n",
       " Text(38, 0, '380'),\n",
       " Text(39, 0, '390'),\n",
       " Text(40, 0, '400'),\n",
       " Text(41, 0, '410'),\n",
       " Text(42, 0, '420'),\n",
       " Text(43, 0, '430'),\n",
       " Text(44, 0, '440'),\n",
       " Text(45, 0, '450'),\n",
       " Text(46, 0, '460'),\n",
       " Text(47, 0, '470'),\n",
       " Text(48, 0, '480'),\n",
       " Text(49, 0, '490'),\n",
       " Text(50, 0, '500'),\n",
       " Text(51, 0, '510'),\n",
       " Text(52, 0, '520'),\n",
       " Text(53, 0, '530'),\n",
       " Text(54, 0, '540'),\n",
       " Text(55, 0, '550'),\n",
       " Text(56, 0, '560'),\n",
       " Text(57, 0, '570'),\n",
       " Text(58, 0, '580'),\n",
       " Text(59, 0, '590'),\n",
       " Text(60, 0, '600'),\n",
       " Text(61, 0, '610'),\n",
       " Text(62, 0, '620')]"
      ]
     },
     "execution_count": 12,
     "metadata": {},
     "output_type": "execute_result"
    },
    {
     "data": {
      "text/plain": [
       "[Text(0, 0, '0'),\n",
       " Text(0, 1, '10'),\n",
       " Text(0, 2, '20'),\n",
       " Text(0, 3, '30'),\n",
       " Text(0, 4, '40'),\n",
       " Text(0, 5, '50'),\n",
       " Text(0, 6, '60'),\n",
       " Text(0, 7, '70'),\n",
       " Text(0, 8, '80'),\n",
       " Text(0, 9, '90'),\n",
       " Text(0, 10, '100'),\n",
       " Text(0, 11, '110'),\n",
       " Text(0, 12, '120'),\n",
       " Text(0, 13, '130'),\n",
       " Text(0, 14, '140'),\n",
       " Text(0, 15, '150'),\n",
       " Text(0, 16, '160'),\n",
       " Text(0, 17, '170'),\n",
       " Text(0, 18, '180'),\n",
       " Text(0, 19, '190'),\n",
       " Text(0, 20, '200'),\n",
       " Text(0, 21, '210'),\n",
       " Text(0, 22, '220'),\n",
       " Text(0, 23, '230'),\n",
       " Text(0, 24, '240'),\n",
       " Text(0, 25, '250'),\n",
       " Text(0, 26, '260'),\n",
       " Text(0, 27, '270'),\n",
       " Text(0, 28, '280'),\n",
       " Text(0, 29, '290'),\n",
       " Text(0, 30, '300'),\n",
       " Text(0, 31, '310'),\n",
       " Text(0, 32, '320'),\n",
       " Text(0, 33, '330'),\n",
       " Text(0, 34, '340'),\n",
       " Text(0, 35, '350'),\n",
       " Text(0, 36, '360'),\n",
       " Text(0, 37, '370'),\n",
       " Text(0, 38, '380'),\n",
       " Text(0, 39, '390'),\n",
       " Text(0, 40, '400'),\n",
       " Text(0, 41, '410'),\n",
       " Text(0, 42, '420'),\n",
       " Text(0, 43, '430'),\n",
       " Text(0, 44, '440'),\n",
       " Text(0, 45, '450'),\n",
       " Text(0, 46, '460'),\n",
       " Text(0, 47, '470'),\n",
       " Text(0, 48, '480'),\n",
       " Text(0, 49, '490'),\n",
       " Text(0, 50, '500'),\n",
       " Text(0, 51, '510'),\n",
       " Text(0, 52, '520'),\n",
       " Text(0, 53, '530'),\n",
       " Text(0, 54, '540'),\n",
       " Text(0, 55, '550'),\n",
       " Text(0, 56, '560'),\n",
       " Text(0, 57, '570'),\n",
       " Text(0, 58, '580'),\n",
       " Text(0, 59, '590'),\n",
       " Text(0, 60, '600'),\n",
       " Text(0, 61, '610'),\n",
       " Text(0, 62, '620')]"
      ]
     },
     "execution_count": 12,
     "metadata": {},
     "output_type": "execute_result"
    },
    {
     "data": {
      "text/plain": [
       "Text(0.5, 1.0, 'Attention Map of Layer 0')"
      ]
     },
     "execution_count": 12,
     "metadata": {},
     "output_type": "execute_result"
    },
    {
     "data": {
      "text/plain": [
       "Text(0.5, 242.16666666666694, 'Column')"
      ]
     },
     "execution_count": 12,
     "metadata": {},
     "output_type": "execute_result"
    },
    {
     "data": {
      "text/plain": [
       "Text(187.79166666666666, 0.5, 'Row')"
      ]
     },
     "execution_count": 12,
     "metadata": {},
     "output_type": "execute_result"
    },
    {
     "data": {
      "text/plain": [
       "Text(0.5, 1.0, 'Attention from last input token to vision of Layer 0')"
      ]
     },
     "execution_count": 12,
     "metadata": {},
     "output_type": "execute_result"
    },
    {
     "data": {
      "text/plain": [
       "<matplotlib.image.AxesImage at 0x7f2f5c229d20>"
      ]
     },
     "execution_count": 12,
     "metadata": {},
     "output_type": "execute_result"
    },
    {
     "data": {
      "text/plain": [
       "(0.0, 22.0)"
      ]
     },
     "execution_count": 12,
     "metadata": {},
     "output_type": "execute_result"
    },
    {
     "data": {
      "text/plain": [
       "(22.0, 0.0)"
      ]
     },
     "execution_count": 12,
     "metadata": {},
     "output_type": "execute_result"
    },
    {
     "name": "stderr",
     "output_type": "stream",
     "text": [
      "/tmp/ipykernel_1627/3125494494.py:15: MatplotlibDeprecationWarning: The get_cmap function was deprecated in Matplotlib 3.7 and will be removed in 3.11. Use ``matplotlib.colormaps[name]`` or ``matplotlib.colormaps.get_cmap()`` or ``pyplot.get_cmap()`` instead.\n",
      "  cmap = plt.cm.get_cmap(\"viridis\")\n"
     ]
    },
    {
     "data": {
      "text/plain": [
       "<Axes: >"
      ]
     },
     "execution_count": 12,
     "metadata": {},
     "output_type": "execute_result"
    },
    {
     "data": {
      "text/plain": [
       "[<matplotlib.axis.XTick at 0x7f2f55fa56f0>,\n",
       " <matplotlib.axis.XTick at 0x7f2f5c2e9b40>,\n",
       " <matplotlib.axis.XTick at 0x7f2f5c2ea980>,\n",
       " <matplotlib.axis.XTick at 0x7f2f5c2eaa10>,\n",
       " <matplotlib.axis.XTick at 0x7f2f5c2ebc70>,\n",
       " <matplotlib.axis.XTick at 0x7f2f5c2ebd30>,\n",
       " <matplotlib.axis.XTick at 0x7f2f55f04880>,\n",
       " <matplotlib.axis.XTick at 0x7f2f55f05180>,\n",
       " <matplotlib.axis.XTick at 0x7f2f55f05ba0>,\n",
       " <matplotlib.axis.XTick at 0x7f2f55f065c0>,\n",
       " <matplotlib.axis.XTick at 0x7f2f55f06dd0>,\n",
       " <matplotlib.axis.XTick at 0x7f2f55f04700>,\n",
       " <matplotlib.axis.XTick at 0x7f2f55f076a0>,\n",
       " <matplotlib.axis.XTick at 0x7f2f55f18100>,\n",
       " <matplotlib.axis.XTick at 0x7f2f55f18b20>,\n",
       " <matplotlib.axis.XTick at 0x7f2f55f072e0>,\n",
       " <matplotlib.axis.XTick at 0x7f2f55f19300>,\n",
       " <matplotlib.axis.XTick at 0x7f2f55f19d20>,\n",
       " <matplotlib.axis.XTick at 0x7f2f55f1a740>,\n",
       " <matplotlib.axis.XTick at 0x7f2f55f07e20>,\n",
       " <matplotlib.axis.XTick at 0x7f2f55f19ae0>,\n",
       " <matplotlib.axis.XTick at 0x7f2f55f1b9d0>,\n",
       " <matplotlib.axis.XTick at 0x7f2f55f3c430>,\n",
       " <matplotlib.axis.XTick at 0x7f2f55f3ce50>,\n",
       " <matplotlib.axis.XTick at 0x7f2f55f1b9a0>,\n",
       " <matplotlib.axis.XTick at 0x7f2f55f3c0a0>,\n",
       " <matplotlib.axis.XTick at 0x7f2f55f3e170>,\n",
       " <matplotlib.axis.XTick at 0x7f2f55f3eb90>,\n",
       " <matplotlib.axis.XTick at 0x7f2f55f3f5b0>,\n",
       " <matplotlib.axis.XTick at 0x7f2f55f3f0a0>,\n",
       " <matplotlib.axis.XTick at 0x7f2f55f3ffd0>,\n",
       " <matplotlib.axis.XTick at 0x7f2f55f587f0>,\n",
       " <matplotlib.axis.XTick at 0x7f2f55fa51e0>,\n",
       " <matplotlib.axis.XTick at 0x7f2f55e66e00>,\n",
       " <matplotlib.axis.XTick at 0x7f2f55e663e0>,\n",
       " <matplotlib.axis.XTick at 0x7f2f55e74070>,\n",
       " <matplotlib.axis.XTick at 0x7f2f55e74a90>,\n",
       " <matplotlib.axis.XTick at 0x7f2f55f59c90>,\n",
       " <matplotlib.axis.XTick at 0x7f2f55e75390>,\n",
       " <matplotlib.axis.XTick at 0x7f2f55e75db0>,\n",
       " <matplotlib.axis.XTick at 0x7f2f55e767d0>,\n",
       " <matplotlib.axis.XTick at 0x7f2f55e771f0>,\n",
       " <matplotlib.axis.XTick at 0x7f2f55e76560>,\n",
       " <matplotlib.axis.XTick at 0x7f2f55e779d0>,\n",
       " <matplotlib.axis.XTick at 0x7f2f55e9c430>,\n",
       " <matplotlib.axis.XTick at 0x7f2f55e9ce50>,\n",
       " <matplotlib.axis.XTick at 0x7f2f55e77b20>,\n",
       " <matplotlib.axis.XTick at 0x7f2f55e9cbb0>,\n",
       " <matplotlib.axis.XTick at 0x7f2f55e9e050>,\n",
       " <matplotlib.axis.XTick at 0x7f2f55e9ea70>,\n",
       " <matplotlib.axis.XTick at 0x7f2f55e9f490>,\n",
       " <matplotlib.axis.XTick at 0x7f2f55e9f4c0>,\n",
       " <matplotlib.axis.XTick at 0x7f2f55e9ffd0>,\n",
       " <matplotlib.axis.XTick at 0x7f2f55ebc7f0>,\n",
       " <matplotlib.axis.XTick at 0x7f2f55ebd210>,\n",
       " <matplotlib.axis.XTick at 0x7f2f55ebdc30>,\n",
       " <matplotlib.axis.XTick at 0x7f2f55ebe290>,\n",
       " <matplotlib.axis.XTick at 0x7f2f55ebe410>,\n",
       " <matplotlib.axis.XTick at 0x7f2f55ebee30>,\n",
       " <matplotlib.axis.XTick at 0x7f2f55ebf850>,\n",
       " <matplotlib.axis.XTick at 0x7f2f55ebfd90>,\n",
       " <matplotlib.axis.XTick at 0x7f2f55ed8490>,\n",
       " <matplotlib.axis.XTick at 0x7f2f55ed8bb0>]"
      ]
     },
     "execution_count": 12,
     "metadata": {},
     "output_type": "execute_result"
    },
    {
     "data": {
      "text/plain": [
       "[<matplotlib.axis.YTick at 0x7f2f55fa5720>,\n",
       " <matplotlib.axis.YTick at 0x7f2f5c2e9ba0>,\n",
       " <matplotlib.axis.YTick at 0x7f2f55f3d870>,\n",
       " <matplotlib.axis.YTick at 0x7f2f55f58d30>,\n",
       " <matplotlib.axis.YTick at 0x7f2f55f5a560>,\n",
       " <matplotlib.axis.YTick at 0x7f2f55f5af80>,\n",
       " <matplotlib.axis.YTick at 0x7f2f55f5b9a0>,\n",
       " <matplotlib.axis.YTick at 0x7f2f55f5b700>,\n",
       " <matplotlib.axis.YTick at 0x7f2f55f742e0>,\n",
       " <matplotlib.axis.YTick at 0x7f2f55f74d00>,\n",
       " <matplotlib.axis.YTick at 0x7f2f55f75720>,\n",
       " <matplotlib.axis.YTick at 0x7f2f55f76140>,\n",
       " <matplotlib.axis.YTick at 0x7f2f55f76110>,\n",
       " <matplotlib.axis.YTick at 0x7f2f55f76920>,\n",
       " <matplotlib.axis.YTick at 0x7f2f55f77340>,\n",
       " <matplotlib.axis.YTick at 0x7f2f55f77fa0>,\n",
       " <matplotlib.axis.YTick at 0x7f2f55f77e20>,\n",
       " <matplotlib.axis.YTick at 0x7f2f55f8c8b0>,\n",
       " <matplotlib.axis.YTick at 0x7f2f55f8d0c0>,\n",
       " <matplotlib.axis.YTick at 0x7f2f55f8dae0>,\n",
       " <matplotlib.axis.YTick at 0x7f2f55f8e500>,\n",
       " <matplotlib.axis.YTick at 0x7f2f55f8e650>,\n",
       " <matplotlib.axis.YTick at 0x7f2f55f8c820>,\n",
       " <matplotlib.axis.YTick at 0x7f2f55f8f820>,\n",
       " <matplotlib.axis.YTick at 0x7f2f55fec280>,\n",
       " <matplotlib.axis.YTick at 0x7f2f55fecca0>,\n",
       " <matplotlib.axis.YTick at 0x7f2f55f770d0>,\n",
       " <matplotlib.axis.YTick at 0x7f2f55fed480>,\n",
       " <matplotlib.axis.YTick at 0x7f2f55fedea0>,\n",
       " <matplotlib.axis.YTick at 0x7f2f55fee8c0>,\n",
       " <matplotlib.axis.YTick at 0x7f2f55fef460>,\n",
       " <matplotlib.axis.YTick at 0x7f2f55fed960>,\n",
       " <matplotlib.axis.YTick at 0x7f2f5c2a4c40>,\n",
       " <matplotlib.axis.YTick at 0x7f2f55ed8820>,\n",
       " <matplotlib.axis.YTick at 0x7f2f55ed9ff0>,\n",
       " <matplotlib.axis.YTick at 0x7f2f55edaa10>,\n",
       " <matplotlib.axis.YTick at 0x7f2f55edb430>,\n",
       " <matplotlib.axis.YTick at 0x7f2f55e9fc40>,\n",
       " <matplotlib.axis.YTick at 0x7f2f55edb1f0>,\n",
       " <matplotlib.axis.YTick at 0x7f2f55edbfd0>,\n",
       " <matplotlib.axis.YTick at 0x7f2f55ef0820>,\n",
       " <matplotlib.axis.YTick at 0x7f2f55ef1240>,\n",
       " <matplotlib.axis.YTick at 0x7f2f55e9fc10>,\n",
       " <matplotlib.axis.YTick at 0x7f2f55ef1a20>,\n",
       " <matplotlib.axis.YTick at 0x7f2f55ef2440>,\n",
       " <matplotlib.axis.YTick at 0x7f2f55ef2e60>,\n",
       " <matplotlib.axis.YTick at 0x7f2f55ef3880>,\n",
       " <matplotlib.axis.YTick at 0x7f2f55ef2fb0>,\n",
       " <matplotlib.axis.YTick at 0x7f2f5c110040>,\n",
       " <matplotlib.axis.YTick at 0x7f2f5c110a30>,\n",
       " <matplotlib.axis.YTick at 0x7f2f5c111450>,\n",
       " <matplotlib.axis.YTick at 0x7f2f55ef1ae0>,\n",
       " <matplotlib.axis.YTick at 0x7f2f5c110f70>,\n",
       " <matplotlib.axis.YTick at 0x7f2f5c1126e0>,\n",
       " <matplotlib.axis.YTick at 0x7f2f5c113100>,\n",
       " <matplotlib.axis.YTick at 0x7f2f5c113b20>,\n",
       " <matplotlib.axis.YTick at 0x7f2f5c113880>,\n",
       " <matplotlib.axis.YTick at 0x7f2f5c130460>,\n",
       " <matplotlib.axis.YTick at 0x7f2f5c130e80>,\n",
       " <matplotlib.axis.YTick at 0x7f2f5c1318a0>,\n",
       " <matplotlib.axis.YTick at 0x7f2f5c1322c0>,\n",
       " <matplotlib.axis.YTick at 0x7f2f5c132290>,\n",
       " <matplotlib.axis.YTick at 0x7f2f5c132aa0>]"
      ]
     },
     "execution_count": 12,
     "metadata": {},
     "output_type": "execute_result"
    },
    {
     "data": {
      "text/plain": [
       "[Text(0, 0, '0'),\n",
       " Text(1, 0, '10'),\n",
       " Text(2, 0, '20'),\n",
       " Text(3, 0, '30'),\n",
       " Text(4, 0, '40'),\n",
       " Text(5, 0, '50'),\n",
       " Text(6, 0, '60'),\n",
       " Text(7, 0, '70'),\n",
       " Text(8, 0, '80'),\n",
       " Text(9, 0, '90'),\n",
       " Text(10, 0, '100'),\n",
       " Text(11, 0, '110'),\n",
       " Text(12, 0, '120'),\n",
       " Text(13, 0, '130'),\n",
       " Text(14, 0, '140'),\n",
       " Text(15, 0, '150'),\n",
       " Text(16, 0, '160'),\n",
       " Text(17, 0, '170'),\n",
       " Text(18, 0, '180'),\n",
       " Text(19, 0, '190'),\n",
       " Text(20, 0, '200'),\n",
       " Text(21, 0, '210'),\n",
       " Text(22, 0, '220'),\n",
       " Text(23, 0, '230'),\n",
       " Text(24, 0, '240'),\n",
       " Text(25, 0, '250'),\n",
       " Text(26, 0, '260'),\n",
       " Text(27, 0, '270'),\n",
       " Text(28, 0, '280'),\n",
       " Text(29, 0, '290'),\n",
       " Text(30, 0, '300'),\n",
       " Text(31, 0, '310'),\n",
       " Text(32, 0, '320'),\n",
       " Text(33, 0, '330'),\n",
       " Text(34, 0, '340'),\n",
       " Text(35, 0, '350'),\n",
       " Text(36, 0, '360'),\n",
       " Text(37, 0, '370'),\n",
       " Text(38, 0, '380'),\n",
       " Text(39, 0, '390'),\n",
       " Text(40, 0, '400'),\n",
       " Text(41, 0, '410'),\n",
       " Text(42, 0, '420'),\n",
       " Text(43, 0, '430'),\n",
       " Text(44, 0, '440'),\n",
       " Text(45, 0, '450'),\n",
       " Text(46, 0, '460'),\n",
       " Text(47, 0, '470'),\n",
       " Text(48, 0, '480'),\n",
       " Text(49, 0, '490'),\n",
       " Text(50, 0, '500'),\n",
       " Text(51, 0, '510'),\n",
       " Text(52, 0, '520'),\n",
       " Text(53, 0, '530'),\n",
       " Text(54, 0, '540'),\n",
       " Text(55, 0, '550'),\n",
       " Text(56, 0, '560'),\n",
       " Text(57, 0, '570'),\n",
       " Text(58, 0, '580'),\n",
       " Text(59, 0, '590'),\n",
       " Text(60, 0, '600'),\n",
       " Text(61, 0, '610'),\n",
       " Text(62, 0, '620')]"
      ]
     },
     "execution_count": 12,
     "metadata": {},
     "output_type": "execute_result"
    },
    {
     "data": {
      "text/plain": [
       "[Text(0, 0, '0'),\n",
       " Text(0, 1, '10'),\n",
       " Text(0, 2, '20'),\n",
       " Text(0, 3, '30'),\n",
       " Text(0, 4, '40'),\n",
       " Text(0, 5, '50'),\n",
       " Text(0, 6, '60'),\n",
       " Text(0, 7, '70'),\n",
       " Text(0, 8, '80'),\n",
       " Text(0, 9, '90'),\n",
       " Text(0, 10, '100'),\n",
       " Text(0, 11, '110'),\n",
       " Text(0, 12, '120'),\n",
       " Text(0, 13, '130'),\n",
       " Text(0, 14, '140'),\n",
       " Text(0, 15, '150'),\n",
       " Text(0, 16, '160'),\n",
       " Text(0, 17, '170'),\n",
       " Text(0, 18, '180'),\n",
       " Text(0, 19, '190'),\n",
       " Text(0, 20, '200'),\n",
       " Text(0, 21, '210'),\n",
       " Text(0, 22, '220'),\n",
       " Text(0, 23, '230'),\n",
       " Text(0, 24, '240'),\n",
       " Text(0, 25, '250'),\n",
       " Text(0, 26, '260'),\n",
       " Text(0, 27, '270'),\n",
       " Text(0, 28, '280'),\n",
       " Text(0, 29, '290'),\n",
       " Text(0, 30, '300'),\n",
       " Text(0, 31, '310'),\n",
       " Text(0, 32, '320'),\n",
       " Text(0, 33, '330'),\n",
       " Text(0, 34, '340'),\n",
       " Text(0, 35, '350'),\n",
       " Text(0, 36, '360'),\n",
       " Text(0, 37, '370'),\n",
       " Text(0, 38, '380'),\n",
       " Text(0, 39, '390'),\n",
       " Text(0, 40, '400'),\n",
       " Text(0, 41, '410'),\n",
       " Text(0, 42, '420'),\n",
       " Text(0, 43, '430'),\n",
       " Text(0, 44, '440'),\n",
       " Text(0, 45, '450'),\n",
       " Text(0, 46, '460'),\n",
       " Text(0, 47, '470'),\n",
       " Text(0, 48, '480'),\n",
       " Text(0, 49, '490'),\n",
       " Text(0, 50, '500'),\n",
       " Text(0, 51, '510'),\n",
       " Text(0, 52, '520'),\n",
       " Text(0, 53, '530'),\n",
       " Text(0, 54, '540'),\n",
       " Text(0, 55, '550'),\n",
       " Text(0, 56, '560'),\n",
       " Text(0, 57, '570'),\n",
       " Text(0, 58, '580'),\n",
       " Text(0, 59, '590'),\n",
       " Text(0, 60, '600'),\n",
       " Text(0, 61, '610'),\n",
       " Text(0, 62, '620')]"
      ]
     },
     "execution_count": 12,
     "metadata": {},
     "output_type": "execute_result"
    },
    {
     "data": {
      "text/plain": [
       "Text(0.5, 1.0, 'Attention Map of Layer 1')"
      ]
     },
     "execution_count": 12,
     "metadata": {},
     "output_type": "execute_result"
    },
    {
     "data": {
      "text/plain": [
       "Text(0.5, 242.16666666666694, 'Column')"
      ]
     },
     "execution_count": 12,
     "metadata": {},
     "output_type": "execute_result"
    },
    {
     "data": {
      "text/plain": [
       "Text(187.79166666666666, 0.5, 'Row')"
      ]
     },
     "execution_count": 12,
     "metadata": {},
     "output_type": "execute_result"
    },
    {
     "data": {
      "text/plain": [
       "Text(0.5, 1.0, 'Attention from last input token to vision of Layer 1')"
      ]
     },
     "execution_count": 12,
     "metadata": {},
     "output_type": "execute_result"
    },
    {
     "data": {
      "text/plain": [
       "<matplotlib.image.AxesImage at 0x7f2f5c132fb0>"
      ]
     },
     "execution_count": 12,
     "metadata": {},
     "output_type": "execute_result"
    },
    {
     "data": {
      "text/plain": [
       "(0.0, 22.0)"
      ]
     },
     "execution_count": 12,
     "metadata": {},
     "output_type": "execute_result"
    },
    {
     "data": {
      "text/plain": [
       "(22.0, 0.0)"
      ]
     },
     "execution_count": 12,
     "metadata": {},
     "output_type": "execute_result"
    },
    {
     "name": "stderr",
     "output_type": "stream",
     "text": [
      "/tmp/ipykernel_1627/3125494494.py:15: MatplotlibDeprecationWarning: The get_cmap function was deprecated in Matplotlib 3.7 and will be removed in 3.11. Use ``matplotlib.colormaps[name]`` or ``matplotlib.colormaps.get_cmap()`` or ``pyplot.get_cmap()`` instead.\n",
      "  cmap = plt.cm.get_cmap(\"viridis\")\n"
     ]
    },
    {
     "data": {
      "text/plain": [
       "<Axes: >"
      ]
     },
     "execution_count": 12,
     "metadata": {},
     "output_type": "execute_result"
    },
    {
     "data": {
      "text/plain": [
       "[<matplotlib.axis.XTick at 0x7f2f5c1cbdc0>,\n",
       " <matplotlib.axis.XTick at 0x7f2f55e50b20>,\n",
       " <matplotlib.axis.XTick at 0x7f2f55c2cca0>,\n",
       " <matplotlib.axis.XTick at 0x7f2f55c2cd30>,\n",
       " <matplotlib.axis.XTick at 0x7f2f55c2df90>,\n",
       " <matplotlib.axis.XTick at 0x7f2f55c2e9b0>,\n",
       " <matplotlib.axis.XTick at 0x7f2f55c2c520>,\n",
       " <matplotlib.axis.XTick at 0x7f2f55c2f460>,\n",
       " <matplotlib.axis.XTick at 0x7f2f55c40070>,\n",
       " <matplotlib.axis.XTick at 0x7f2f55c408e0>,\n",
       " <matplotlib.axis.XTick at 0x7f2f55c2faf0>,\n",
       " <matplotlib.axis.XTick at 0x7f2f55c411e0>,\n",
       " <matplotlib.axis.XTick at 0x7f2f55c41c00>,\n",
       " <matplotlib.axis.XTick at 0x7f2f55c42620>,\n",
       " <matplotlib.axis.XTick at 0x7f2f55c43040>,\n",
       " <matplotlib.axis.XTick at 0x7f2f55c42650>,\n",
       " <matplotlib.axis.XTick at 0x7f2f55c43820>,\n",
       " <matplotlib.axis.XTick at 0x7f2f55c60280>,\n",
       " <matplotlib.axis.XTick at 0x7f2f55c60ca0>,\n",
       " <matplotlib.axis.XTick at 0x7f2f55c43d00>,\n",
       " <matplotlib.axis.XTick at 0x7f2f55c60df0>,\n",
       " <matplotlib.axis.XTick at 0x7f2f55c61f30>,\n",
       " <matplotlib.axis.XTick at 0x7f2f55c62950>,\n",
       " <matplotlib.axis.XTick at 0x7f2f55c63370>,\n",
       " <matplotlib.axis.XTick at 0x7f2f55c63c70>,\n",
       " <matplotlib.axis.XTick at 0x7f2f55c61630>,\n",
       " <matplotlib.axis.XTick at 0x7f2f55c806d0>,\n",
       " <matplotlib.axis.XTick at 0x7f2f55c810f0>,\n",
       " <matplotlib.axis.XTick at 0x7f2f55c81b10>,\n",
       " <matplotlib.axis.XTick at 0x7f2f55c82170>,\n",
       " <matplotlib.axis.XTick at 0x7f2f55c822f0>,\n",
       " <matplotlib.axis.XTick at 0x7f2f55c82d10>,\n",
       " <matplotlib.axis.XTick at 0x7f2f5c1cbcd0>,\n",
       " <matplotlib.axis.XTick at 0x7f2f55b84d90>,\n",
       " <matplotlib.axis.XTick at 0x7f2f55b857e0>,\n",
       " <matplotlib.axis.XTick at 0x7f2f55b85ff0>,\n",
       " <matplotlib.axis.XTick at 0x7f2f55b86a10>,\n",
       " <matplotlib.axis.XTick at 0x7f2f55b87310>,\n",
       " <matplotlib.axis.XTick at 0x7f2f55b847c0>,\n",
       " <matplotlib.axis.XTick at 0x7f2f55b87f70>,\n",
       " <matplotlib.axis.XTick at 0x7f2f55b90790>,\n",
       " <matplotlib.axis.XTick at 0x7f2f55b911b0>,\n",
       " <matplotlib.axis.XTick at 0x7f2f55c0fca0>,\n",
       " <matplotlib.axis.XTick at 0x7f2f55b91990>,\n",
       " <matplotlib.axis.XTick at 0x7f2f55b923b0>,\n",
       " <matplotlib.axis.XTick at 0x7f2f55b92dd0>,\n",
       " <matplotlib.axis.XTick at 0x7f2f55b937f0>,\n",
       " <matplotlib.axis.XTick at 0x7f2f55b92b60>,\n",
       " <matplotlib.axis.XTick at 0x7f2f55bbc100>,\n",
       " <matplotlib.axis.XTick at 0x7f2f55bbc9a0>,\n",
       " <matplotlib.axis.XTick at 0x7f2f55bbd3c0>,\n",
       " <matplotlib.axis.XTick at 0x7f2f55b93d00>,\n",
       " <matplotlib.axis.XTick at 0x7f2f55bbceb0>,\n",
       " <matplotlib.axis.XTick at 0x7f2f55bbe5c0>,\n",
       " <matplotlib.axis.XTick at 0x7f2f55bbefe0>,\n",
       " <matplotlib.axis.XTick at 0x7f2f55bbfa00>,\n",
       " <matplotlib.axis.XTick at 0x7f2f55bbf760>,\n",
       " <matplotlib.axis.XTick at 0x7f2f55bd0340>,\n",
       " <matplotlib.axis.XTick at 0x7f2f55bd0d60>,\n",
       " <matplotlib.axis.XTick at 0x7f2f55bd1780>,\n",
       " <matplotlib.axis.XTick at 0x7f2f55bd21a0>,\n",
       " <matplotlib.axis.XTick at 0x7f2f55b87070>,\n",
       " <matplotlib.axis.XTick at 0x7f2f55bd1540>]"
      ]
     },
     "execution_count": 12,
     "metadata": {},
     "output_type": "execute_result"
    },
    {
     "data": {
      "text/plain": [
       "[<matplotlib.axis.YTick at 0x7f2f5c1c8af0>,\n",
       " <matplotlib.axis.YTick at 0x7f2f5c1c9510>,\n",
       " <matplotlib.axis.YTick at 0x7f2f55c83880>,\n",
       " <matplotlib.axis.YTick at 0x7f2f55c98370>,\n",
       " <matplotlib.axis.YTick at 0x7f2f55c98a90>,\n",
       " <matplotlib.axis.YTick at 0x7f2f55c994b0>,\n",
       " <matplotlib.axis.YTick at 0x7f2f55c99ed0>,\n",
       " <matplotlib.axis.YTick at 0x7f2f55c99f90>,\n",
       " <matplotlib.axis.YTick at 0x7f2f55c985b0>,\n",
       " <matplotlib.axis.YTick at 0x7f2f55c9b1f0>,\n",
       " <matplotlib.axis.YTick at 0x7f2f55c9bc10>,\n",
       " <matplotlib.axis.YTick at 0x7f2f55cb8670>,\n",
       " <matplotlib.axis.YTick at 0x7f2f55c9b2b0>,\n",
       " <matplotlib.axis.YTick at 0x7f2f55cb8e50>,\n",
       " <matplotlib.axis.YTick at 0x7f2f55cb9870>,\n",
       " <matplotlib.axis.YTick at 0x7f2f55cba290>,\n",
       " <matplotlib.axis.YTick at 0x7f2f55c9b9d0>,\n",
       " <matplotlib.axis.YTick at 0x7f2f55cb9480>,\n",
       " <matplotlib.axis.YTick at 0x7f2f55cbb5b0>,\n",
       " <matplotlib.axis.YTick at 0x7f2f55b58040>,\n",
       " <matplotlib.axis.YTick at 0x7f2f55b58a30>,\n",
       " <matplotlib.axis.YTick at 0x7f2f55cbbc10>,\n",
       " <matplotlib.axis.YTick at 0x7f2f55b580d0>,\n",
       " <matplotlib.axis.YTick at 0x7f2f55b59d50>,\n",
       " <matplotlib.axis.YTick at 0x7f2f55b5a770>,\n",
       " <matplotlib.axis.YTick at 0x7f2f55b5b190>,\n",
       " <matplotlib.axis.YTick at 0x7f2f55c9a530>,\n",
       " <matplotlib.axis.YTick at 0x7f2f55b5b2b0>,\n",
       " <matplotlib.axis.YTick at 0x7f2f55b59990>,\n",
       " <matplotlib.axis.YTick at 0x7f2f55b5bfa0>,\n",
       " <matplotlib.axis.YTick at 0x7f2f55b1c7c0>,\n",
       " <matplotlib.axis.YTick at 0x7f2f55c9a500>,\n",
       " <matplotlib.axis.YTick at 0x7f2f5c1c9f90>,\n",
       " <matplotlib.axis.YTick at 0x7f2f55bd3010>,\n",
       " <matplotlib.axis.YTick at 0x7f2f55bd3820>,\n",
       " <matplotlib.axis.YTick at 0x7f2f55bf0280>,\n",
       " <matplotlib.axis.YTick at 0x7f2f55bf0ca0>,\n",
       " <matplotlib.axis.YTick at 0x7f2f55bd3940>,\n",
       " <matplotlib.axis.YTick at 0x7f2f55bf15a0>,\n",
       " <matplotlib.axis.YTick at 0x7f2f55bf1fc0>,\n",
       " <matplotlib.axis.YTick at 0x7f2f55bf29e0>,\n",
       " <matplotlib.axis.YTick at 0x7f2f55bf3400>,\n",
       " <matplotlib.axis.YTick at 0x7f2f55bf29b0>,\n",
       " <matplotlib.axis.YTick at 0x7f2f55bf3be0>,\n",
       " <matplotlib.axis.YTick at 0x7f2f55d14640>,\n",
       " <matplotlib.axis.YTick at 0x7f2f55d15060>,\n",
       " <matplotlib.axis.YTick at 0x7f2f55bf3bb0>,\n",
       " <matplotlib.axis.YTick at 0x7f2f55d15cf0>,\n",
       " <matplotlib.axis.YTick at 0x7f2f55d16440>,\n",
       " <matplotlib.axis.YTick at 0x7f2f55d16e60>,\n",
       " <matplotlib.axis.YTick at 0x7f2f55d17880>,\n",
       " <matplotlib.axis.YTick at 0x7f2f55d174f0>,\n",
       " <matplotlib.axis.YTick at 0x7f2f55d2c1c0>,\n",
       " <matplotlib.axis.YTick at 0x7f2f55d2cbe0>,\n",
       " <matplotlib.axis.YTick at 0x7f2f55d2d600>,\n",
       " <matplotlib.axis.YTick at 0x7f2f55d2e020>,\n",
       " <matplotlib.axis.YTick at 0x7f2f55d2dc90>,\n",
       " <matplotlib.axis.YTick at 0x7f2f55d2e800>,\n",
       " <matplotlib.axis.YTick at 0x7f2f55d2f220>,\n",
       " <matplotlib.axis.YTick at 0x7f2f55d2fc40>,\n",
       " <matplotlib.axis.YTick at 0x7f2f55d2fd00>,\n",
       " <matplotlib.axis.YTick at 0x7f2f55d4c790>,\n",
       " <matplotlib.axis.YTick at 0x7f2f55d4cf10>]"
      ]
     },
     "execution_count": 12,
     "metadata": {},
     "output_type": "execute_result"
    },
    {
     "data": {
      "text/plain": [
       "[Text(0, 0, '0'),\n",
       " Text(1, 0, '10'),\n",
       " Text(2, 0, '20'),\n",
       " Text(3, 0, '30'),\n",
       " Text(4, 0, '40'),\n",
       " Text(5, 0, '50'),\n",
       " Text(6, 0, '60'),\n",
       " Text(7, 0, '70'),\n",
       " Text(8, 0, '80'),\n",
       " Text(9, 0, '90'),\n",
       " Text(10, 0, '100'),\n",
       " Text(11, 0, '110'),\n",
       " Text(12, 0, '120'),\n",
       " Text(13, 0, '130'),\n",
       " Text(14, 0, '140'),\n",
       " Text(15, 0, '150'),\n",
       " Text(16, 0, '160'),\n",
       " Text(17, 0, '170'),\n",
       " Text(18, 0, '180'),\n",
       " Text(19, 0, '190'),\n",
       " Text(20, 0, '200'),\n",
       " Text(21, 0, '210'),\n",
       " Text(22, 0, '220'),\n",
       " Text(23, 0, '230'),\n",
       " Text(24, 0, '240'),\n",
       " Text(25, 0, '250'),\n",
       " Text(26, 0, '260'),\n",
       " Text(27, 0, '270'),\n",
       " Text(28, 0, '280'),\n",
       " Text(29, 0, '290'),\n",
       " Text(30, 0, '300'),\n",
       " Text(31, 0, '310'),\n",
       " Text(32, 0, '320'),\n",
       " Text(33, 0, '330'),\n",
       " Text(34, 0, '340'),\n",
       " Text(35, 0, '350'),\n",
       " Text(36, 0, '360'),\n",
       " Text(37, 0, '370'),\n",
       " Text(38, 0, '380'),\n",
       " Text(39, 0, '390'),\n",
       " Text(40, 0, '400'),\n",
       " Text(41, 0, '410'),\n",
       " Text(42, 0, '420'),\n",
       " Text(43, 0, '430'),\n",
       " Text(44, 0, '440'),\n",
       " Text(45, 0, '450'),\n",
       " Text(46, 0, '460'),\n",
       " Text(47, 0, '470'),\n",
       " Text(48, 0, '480'),\n",
       " Text(49, 0, '490'),\n",
       " Text(50, 0, '500'),\n",
       " Text(51, 0, '510'),\n",
       " Text(52, 0, '520'),\n",
       " Text(53, 0, '530'),\n",
       " Text(54, 0, '540'),\n",
       " Text(55, 0, '550'),\n",
       " Text(56, 0, '560'),\n",
       " Text(57, 0, '570'),\n",
       " Text(58, 0, '580'),\n",
       " Text(59, 0, '590'),\n",
       " Text(60, 0, '600'),\n",
       " Text(61, 0, '610'),\n",
       " Text(62, 0, '620')]"
      ]
     },
     "execution_count": 12,
     "metadata": {},
     "output_type": "execute_result"
    },
    {
     "data": {
      "text/plain": [
       "[Text(0, 0, '0'),\n",
       " Text(0, 1, '10'),\n",
       " Text(0, 2, '20'),\n",
       " Text(0, 3, '30'),\n",
       " Text(0, 4, '40'),\n",
       " Text(0, 5, '50'),\n",
       " Text(0, 6, '60'),\n",
       " Text(0, 7, '70'),\n",
       " Text(0, 8, '80'),\n",
       " Text(0, 9, '90'),\n",
       " Text(0, 10, '100'),\n",
       " Text(0, 11, '110'),\n",
       " Text(0, 12, '120'),\n",
       " Text(0, 13, '130'),\n",
       " Text(0, 14, '140'),\n",
       " Text(0, 15, '150'),\n",
       " Text(0, 16, '160'),\n",
       " Text(0, 17, '170'),\n",
       " Text(0, 18, '180'),\n",
       " Text(0, 19, '190'),\n",
       " Text(0, 20, '200'),\n",
       " Text(0, 21, '210'),\n",
       " Text(0, 22, '220'),\n",
       " Text(0, 23, '230'),\n",
       " Text(0, 24, '240'),\n",
       " Text(0, 25, '250'),\n",
       " Text(0, 26, '260'),\n",
       " Text(0, 27, '270'),\n",
       " Text(0, 28, '280'),\n",
       " Text(0, 29, '290'),\n",
       " Text(0, 30, '300'),\n",
       " Text(0, 31, '310'),\n",
       " Text(0, 32, '320'),\n",
       " Text(0, 33, '330'),\n",
       " Text(0, 34, '340'),\n",
       " Text(0, 35, '350'),\n",
       " Text(0, 36, '360'),\n",
       " Text(0, 37, '370'),\n",
       " Text(0, 38, '380'),\n",
       " Text(0, 39, '390'),\n",
       " Text(0, 40, '400'),\n",
       " Text(0, 41, '410'),\n",
       " Text(0, 42, '420'),\n",
       " Text(0, 43, '430'),\n",
       " Text(0, 44, '440'),\n",
       " Text(0, 45, '450'),\n",
       " Text(0, 46, '460'),\n",
       " Text(0, 47, '470'),\n",
       " Text(0, 48, '480'),\n",
       " Text(0, 49, '490'),\n",
       " Text(0, 50, '500'),\n",
       " Text(0, 51, '510'),\n",
       " Text(0, 52, '520'),\n",
       " Text(0, 53, '530'),\n",
       " Text(0, 54, '540'),\n",
       " Text(0, 55, '550'),\n",
       " Text(0, 56, '560'),\n",
       " Text(0, 57, '570'),\n",
       " Text(0, 58, '580'),\n",
       " Text(0, 59, '590'),\n",
       " Text(0, 60, '600'),\n",
       " Text(0, 61, '610'),\n",
       " Text(0, 62, '620')]"
      ]
     },
     "execution_count": 12,
     "metadata": {},
     "output_type": "execute_result"
    },
    {
     "data": {
      "text/plain": [
       "Text(0.5, 1.0, 'Attention Map of Layer 2')"
      ]
     },
     "execution_count": 12,
     "metadata": {},
     "output_type": "execute_result"
    },
    {
     "data": {
      "text/plain": [
       "Text(0.5, 242.16666666666694, 'Column')"
      ]
     },
     "execution_count": 12,
     "metadata": {},
     "output_type": "execute_result"
    },
    {
     "data": {
      "text/plain": [
       "Text(187.79166666666666, 0.5, 'Row')"
      ]
     },
     "execution_count": 12,
     "metadata": {},
     "output_type": "execute_result"
    },
    {
     "data": {
      "text/plain": [
       "Text(0.5, 1.0, 'Attention from last input token to vision of Layer 2')"
      ]
     },
     "execution_count": 12,
     "metadata": {},
     "output_type": "execute_result"
    },
    {
     "data": {
      "text/plain": [
       "<matplotlib.image.AxesImage at 0x7f2f55d4d6c0>"
      ]
     },
     "execution_count": 12,
     "metadata": {},
     "output_type": "execute_result"
    },
    {
     "data": {
      "text/plain": [
       "(0.0, 22.0)"
      ]
     },
     "execution_count": 12,
     "metadata": {},
     "output_type": "execute_result"
    },
    {
     "data": {
      "text/plain": [
       "(22.0, 0.0)"
      ]
     },
     "execution_count": 12,
     "metadata": {},
     "output_type": "execute_result"
    },
    {
     "name": "stderr",
     "output_type": "stream",
     "text": [
      "/tmp/ipykernel_1627/3125494494.py:15: MatplotlibDeprecationWarning: The get_cmap function was deprecated in Matplotlib 3.7 and will be removed in 3.11. Use ``matplotlib.colormaps[name]`` or ``matplotlib.colormaps.get_cmap()`` or ``pyplot.get_cmap()`` instead.\n",
      "  cmap = plt.cm.get_cmap(\"viridis\")\n"
     ]
    },
    {
     "data": {
      "text/plain": [
       "<Axes: >"
      ]
     },
     "execution_count": 12,
     "metadata": {},
     "output_type": "execute_result"
    },
    {
     "data": {
      "text/plain": [
       "[<matplotlib.axis.XTick at 0x7f2f55df53f0>,\n",
       " <matplotlib.axis.XTick at 0x7f2f55921810>,\n",
       " <matplotlib.axis.XTick at 0x7f2f55922650>,\n",
       " <matplotlib.axis.XTick at 0x7f2f559226e0>,\n",
       " <matplotlib.axis.XTick at 0x7f2f55923940>,\n",
       " <matplotlib.axis.XTick at 0x7f2f55923e80>,\n",
       " <matplotlib.axis.XTick at 0x7f2f5593c400>,\n",
       " <matplotlib.axis.XTick at 0x7f2f5593ce50>,\n",
       " <matplotlib.axis.XTick at 0x7f2f5593d870>,\n",
       " <matplotlib.axis.XTick at 0x7f2f5593e290>,\n",
       " <matplotlib.axis.XTick at 0x7f2f5593eaa0>,\n",
       " <matplotlib.axis.XTick at 0x7f2f5593eb90>,\n",
       " <matplotlib.axis.XTick at 0x7f2f5593f5b0>,\n",
       " <matplotlib.axis.XTick at 0x7f2f55958040>,\n",
       " <matplotlib.axis.XTick at 0x7f2f55958a30>,\n",
       " <matplotlib.axis.XTick at 0x7f2f5593f0a0>,\n",
       " <matplotlib.axis.XTick at 0x7f2f55959210>,\n",
       " <matplotlib.axis.XTick at 0x7f2f55959c30>,\n",
       " <matplotlib.axis.XTick at 0x7f2f5595a650>,\n",
       " <matplotlib.axis.XTick at 0x7f2f5593fbe0>,\n",
       " <matplotlib.axis.XTick at 0x7f2f55959870>,\n",
       " <matplotlib.axis.XTick at 0x7f2f5595b8e0>,\n",
       " <matplotlib.axis.XTick at 0x7f2f55974340>,\n",
       " <matplotlib.axis.XTick at 0x7f2f55974d60>,\n",
       " <matplotlib.axis.XTick at 0x7f2f5595b910>,\n",
       " <matplotlib.axis.XTick at 0x7f2f55974100>,\n",
       " <matplotlib.axis.XTick at 0x7f2f55976080>,\n",
       " <matplotlib.axis.XTick at 0x7f2f55976aa0>,\n",
       " <matplotlib.axis.XTick at 0x7f2f559774c0>,\n",
       " <matplotlib.axis.XTick at 0x7f2f55977130>,\n",
       " <matplotlib.axis.XTick at 0x7f2f55977ca0>,\n",
       " <matplotlib.axis.XTick at 0x7f2f55998700>,\n",
       " <matplotlib.axis.XTick at 0x7f2f55df4f70>,\n",
       " <matplotlib.axis.XTick at 0x7f2f5587afb0>,\n",
       " <matplotlib.axis.XTick at 0x7f2f5587a590>,\n",
       " <matplotlib.axis.XTick at 0x7f2f5589c1f0>,\n",
       " <matplotlib.axis.XTick at 0x7f2f5589cc10>,\n",
       " <matplotlib.axis.XTick at 0x7f2f5587b6a0>,\n",
       " <matplotlib.axis.XTick at 0x7f2f5589d510>,\n",
       " <matplotlib.axis.XTick at 0x7f2f5589df30>,\n",
       " <matplotlib.axis.XTick at 0x7f2f5589e950>,\n",
       " <matplotlib.axis.XTick at 0x7f2f5589f370>,\n",
       " <matplotlib.axis.XTick at 0x7f2f5589e6e0>,\n",
       " <matplotlib.axis.XTick at 0x7f2f5589fb50>,\n",
       " <matplotlib.axis.XTick at 0x7f2f558ac5b0>,\n",
       " <matplotlib.axis.XTick at 0x7f2f558acfd0>,\n",
       " <matplotlib.axis.XTick at 0x7f2f5589fc10>,\n",
       " <matplotlib.axis.XTick at 0x7f2f558acbe0>,\n",
       " <matplotlib.axis.XTick at 0x7f2f558ae1d0>,\n",
       " <matplotlib.axis.XTick at 0x7f2f558aebf0>,\n",
       " <matplotlib.axis.XTick at 0x7f2f558af610>,\n",
       " <matplotlib.axis.XTick at 0x7f2f5586ad70>,\n",
       " <matplotlib.axis.XTick at 0x7f2f558af130>,\n",
       " <matplotlib.axis.XTick at 0x7f2f558d0160>,\n",
       " <matplotlib.axis.XTick at 0x7f2f558d0a00>,\n",
       " <matplotlib.axis.XTick at 0x7f2f558d1420>,\n",
       " <matplotlib.axis.XTick at 0x7f2f744c5c00>,\n",
       " <matplotlib.axis.XTick at 0x7f2f742ce050>,\n",
       " <matplotlib.axis.XTick at 0x7f2f742cefb0>,\n",
       " <matplotlib.axis.XTick at 0x7f2f742cd5d0>,\n",
       " <matplotlib.axis.XTick at 0x7f2f7410be50>,\n",
       " <matplotlib.axis.XTick at 0x7f2f5cf53f40>,\n",
       " <matplotlib.axis.XTick at 0x7f2f5cf60b50>]"
      ]
     },
     "execution_count": 12,
     "metadata": {},
     "output_type": "execute_result"
    },
    {
     "data": {
      "text/plain": [
       "[<matplotlib.axis.YTick at 0x7f2f55df5420>,\n",
       " <matplotlib.axis.YTick at 0x7f2f55921870>,\n",
       " <matplotlib.axis.YTick at 0x7f2f55974970>,\n",
       " <matplotlib.axis.YTick at 0x7f2f55998c10>,\n",
       " <matplotlib.axis.YTick at 0x7f2f5599a440>,\n",
       " <matplotlib.axis.YTick at 0x7f2f5599ae60>,\n",
       " <matplotlib.axis.YTick at 0x7f2f5599b880>,\n",
       " <matplotlib.axis.YTick at 0x7f2f5599b5e0>,\n",
       " <matplotlib.axis.YTick at 0x7f2f559ac1c0>,\n",
       " <matplotlib.axis.YTick at 0x7f2f559acbe0>,\n",
       " <matplotlib.axis.YTick at 0x7f2f559ad600>,\n",
       " <matplotlib.axis.YTick at 0x7f2f559ae020>,\n",
       " <matplotlib.axis.YTick at 0x7f2f559adff0>,\n",
       " <matplotlib.axis.YTick at 0x7f2f559ae800>,\n",
       " <matplotlib.axis.YTick at 0x7f2f559af220>,\n",
       " <matplotlib.axis.YTick at 0x7f2f559afc40>,\n",
       " <matplotlib.axis.YTick at 0x7f2f559afd00>,\n",
       " <matplotlib.axis.YTick at 0x7f2f5599a590>,\n",
       " <matplotlib.axis.YTick at 0x7f2f5593ea10>,\n",
       " <matplotlib.axis.YTick at 0x7f2f559d0cd0>,\n",
       " <matplotlib.axis.YTick at 0x7f2f559d16f0>,\n",
       " <matplotlib.axis.YTick at 0x7f2f559ac1f0>,\n",
       " <matplotlib.axis.YTick at 0x7f2f559d02e0>,\n",
       " <matplotlib.axis.YTick at 0x7f2f559d2a10>,\n",
       " <matplotlib.axis.YTick at 0x7f2f559d3430>,\n",
       " <matplotlib.axis.YTick at 0x7f2f55810190>,\n",
       " <matplotlib.axis.YTick at 0x7f2f559d34f0>,\n",
       " <matplotlib.axis.YTick at 0x7f2f55810670>,\n",
       " <matplotlib.axis.YTick at 0x7f2f55811090>,\n",
       " <matplotlib.axis.YTick at 0x7f2f55811ab0>,\n",
       " <matplotlib.axis.YTick at 0x7f2f559d1300>,\n",
       " <matplotlib.axis.YTick at 0x7f2f55811060>,\n",
       " <matplotlib.axis.YTick at 0x7f2f55ddc820>,\n",
       " <matplotlib.axis.YTick at 0x7f2f6c128fd0>,\n",
       " <matplotlib.axis.YTick at 0x7f2f5c45c940>,\n",
       " <matplotlib.axis.YTick at 0x7f2f5c45f790>,\n",
       " <matplotlib.axis.YTick at 0x7f2f5c44f970>,\n",
       " <matplotlib.axis.YTick at 0x7f2f6c53a560>,\n",
       " <matplotlib.axis.YTick at 0x7f2f5c473130>,\n",
       " <matplotlib.axis.YTick at 0x7f2f740f4bb0>,\n",
       " <matplotlib.axis.YTick at 0x7f2f5c4c8280>,\n",
       " <matplotlib.axis.YTick at 0x7f2f740f5a80>,\n",
       " <matplotlib.axis.YTick at 0x7f2f5c4b4d60>,\n",
       " <matplotlib.axis.YTick at 0x7f2f5c49c2e0>,\n",
       " <matplotlib.axis.YTick at 0x7f2f5c49eb60>,\n",
       " <matplotlib.axis.YTick at 0x7f2f5c36abf0>,\n",
       " <matplotlib.axis.YTick at 0x7f2f5c3699c0>,\n",
       " <matplotlib.axis.YTick at 0x7f2f5c381ff0>,\n",
       " <matplotlib.axis.YTick at 0x7f2f5c395c00>,\n",
       " <matplotlib.axis.YTick at 0x7f2f5c3b03a0>,\n",
       " <matplotlib.axis.YTick at 0x7f2f5c380400>,\n",
       " <matplotlib.axis.YTick at 0x7f2f55d5f610>,\n",
       " <matplotlib.axis.YTick at 0x7f2f558377f0>,\n",
       " <matplotlib.axis.YTick at 0x7f2f5586b5b0>,\n",
       " <matplotlib.axis.YTick at 0x7f2f55869d50>,\n",
       " <matplotlib.axis.YTick at 0x7f2f558aec20>,\n",
       " <matplotlib.axis.YTick at 0x7f2f5c205060>,\n",
       " <matplotlib.axis.YTick at 0x7f2f5c357550>,\n",
       " <matplotlib.axis.YTick at 0x7f2f5c336f80>,\n",
       " <matplotlib.axis.YTick at 0x7f2f558138b0>,\n",
       " <matplotlib.axis.YTick at 0x7f2f5c48b6d0>,\n",
       " <matplotlib.axis.YTick at 0x7f2f5c5f28f0>,\n",
       " <matplotlib.axis.YTick at 0x7f2f5c5f3880>]"
      ]
     },
     "execution_count": 12,
     "metadata": {},
     "output_type": "execute_result"
    },
    {
     "data": {
      "text/plain": [
       "[Text(0, 0, '0'),\n",
       " Text(1, 0, '10'),\n",
       " Text(2, 0, '20'),\n",
       " Text(3, 0, '30'),\n",
       " Text(4, 0, '40'),\n",
       " Text(5, 0, '50'),\n",
       " Text(6, 0, '60'),\n",
       " Text(7, 0, '70'),\n",
       " Text(8, 0, '80'),\n",
       " Text(9, 0, '90'),\n",
       " Text(10, 0, '100'),\n",
       " Text(11, 0, '110'),\n",
       " Text(12, 0, '120'),\n",
       " Text(13, 0, '130'),\n",
       " Text(14, 0, '140'),\n",
       " Text(15, 0, '150'),\n",
       " Text(16, 0, '160'),\n",
       " Text(17, 0, '170'),\n",
       " Text(18, 0, '180'),\n",
       " Text(19, 0, '190'),\n",
       " Text(20, 0, '200'),\n",
       " Text(21, 0, '210'),\n",
       " Text(22, 0, '220'),\n",
       " Text(23, 0, '230'),\n",
       " Text(24, 0, '240'),\n",
       " Text(25, 0, '250'),\n",
       " Text(26, 0, '260'),\n",
       " Text(27, 0, '270'),\n",
       " Text(28, 0, '280'),\n",
       " Text(29, 0, '290'),\n",
       " Text(30, 0, '300'),\n",
       " Text(31, 0, '310'),\n",
       " Text(32, 0, '320'),\n",
       " Text(33, 0, '330'),\n",
       " Text(34, 0, '340'),\n",
       " Text(35, 0, '350'),\n",
       " Text(36, 0, '360'),\n",
       " Text(37, 0, '370'),\n",
       " Text(38, 0, '380'),\n",
       " Text(39, 0, '390'),\n",
       " Text(40, 0, '400'),\n",
       " Text(41, 0, '410'),\n",
       " Text(42, 0, '420'),\n",
       " Text(43, 0, '430'),\n",
       " Text(44, 0, '440'),\n",
       " Text(45, 0, '450'),\n",
       " Text(46, 0, '460'),\n",
       " Text(47, 0, '470'),\n",
       " Text(48, 0, '480'),\n",
       " Text(49, 0, '490'),\n",
       " Text(50, 0, '500'),\n",
       " Text(51, 0, '510'),\n",
       " Text(52, 0, '520'),\n",
       " Text(53, 0, '530'),\n",
       " Text(54, 0, '540'),\n",
       " Text(55, 0, '550'),\n",
       " Text(56, 0, '560'),\n",
       " Text(57, 0, '570'),\n",
       " Text(58, 0, '580'),\n",
       " Text(59, 0, '590'),\n",
       " Text(60, 0, '600'),\n",
       " Text(61, 0, '610'),\n",
       " Text(62, 0, '620')]"
      ]
     },
     "execution_count": 12,
     "metadata": {},
     "output_type": "execute_result"
    },
    {
     "data": {
      "text/plain": [
       "[Text(0, 0, '0'),\n",
       " Text(0, 1, '10'),\n",
       " Text(0, 2, '20'),\n",
       " Text(0, 3, '30'),\n",
       " Text(0, 4, '40'),\n",
       " Text(0, 5, '50'),\n",
       " Text(0, 6, '60'),\n",
       " Text(0, 7, '70'),\n",
       " Text(0, 8, '80'),\n",
       " Text(0, 9, '90'),\n",
       " Text(0, 10, '100'),\n",
       " Text(0, 11, '110'),\n",
       " Text(0, 12, '120'),\n",
       " Text(0, 13, '130'),\n",
       " Text(0, 14, '140'),\n",
       " Text(0, 15, '150'),\n",
       " Text(0, 16, '160'),\n",
       " Text(0, 17, '170'),\n",
       " Text(0, 18, '180'),\n",
       " Text(0, 19, '190'),\n",
       " Text(0, 20, '200'),\n",
       " Text(0, 21, '210'),\n",
       " Text(0, 22, '220'),\n",
       " Text(0, 23, '230'),\n",
       " Text(0, 24, '240'),\n",
       " Text(0, 25, '250'),\n",
       " Text(0, 26, '260'),\n",
       " Text(0, 27, '270'),\n",
       " Text(0, 28, '280'),\n",
       " Text(0, 29, '290'),\n",
       " Text(0, 30, '300'),\n",
       " Text(0, 31, '310'),\n",
       " Text(0, 32, '320'),\n",
       " Text(0, 33, '330'),\n",
       " Text(0, 34, '340'),\n",
       " Text(0, 35, '350'),\n",
       " Text(0, 36, '360'),\n",
       " Text(0, 37, '370'),\n",
       " Text(0, 38, '380'),\n",
       " Text(0, 39, '390'),\n",
       " Text(0, 40, '400'),\n",
       " Text(0, 41, '410'),\n",
       " Text(0, 42, '420'),\n",
       " Text(0, 43, '430'),\n",
       " Text(0, 44, '440'),\n",
       " Text(0, 45, '450'),\n",
       " Text(0, 46, '460'),\n",
       " Text(0, 47, '470'),\n",
       " Text(0, 48, '480'),\n",
       " Text(0, 49, '490'),\n",
       " Text(0, 50, '500'),\n",
       " Text(0, 51, '510'),\n",
       " Text(0, 52, '520'),\n",
       " Text(0, 53, '530'),\n",
       " Text(0, 54, '540'),\n",
       " Text(0, 55, '550'),\n",
       " Text(0, 56, '560'),\n",
       " Text(0, 57, '570'),\n",
       " Text(0, 58, '580'),\n",
       " Text(0, 59, '590'),\n",
       " Text(0, 60, '600'),\n",
       " Text(0, 61, '610'),\n",
       " Text(0, 62, '620')]"
      ]
     },
     "execution_count": 12,
     "metadata": {},
     "output_type": "execute_result"
    },
    {
     "data": {
      "text/plain": [
       "Text(0.5, 1.0, 'Attention Map of Layer 3')"
      ]
     },
     "execution_count": 12,
     "metadata": {},
     "output_type": "execute_result"
    },
    {
     "data": {
      "text/plain": [
       "Text(0.5, 242.16666666666694, 'Column')"
      ]
     },
     "execution_count": 12,
     "metadata": {},
     "output_type": "execute_result"
    },
    {
     "data": {
      "text/plain": [
       "Text(187.79166666666666, 0.5, 'Row')"
      ]
     },
     "execution_count": 12,
     "metadata": {},
     "output_type": "execute_result"
    },
    {
     "data": {
      "text/plain": [
       "Text(0.5, 1.0, 'Attention from last input token to vision of Layer 3')"
      ]
     },
     "execution_count": 12,
     "metadata": {},
     "output_type": "execute_result"
    },
    {
     "data": {
      "text/plain": [
       "<matplotlib.image.AxesImage at 0x7f2f5c336ef0>"
      ]
     },
     "execution_count": 12,
     "metadata": {},
     "output_type": "execute_result"
    },
    {
     "data": {
      "text/plain": [
       "(0.0, 22.0)"
      ]
     },
     "execution_count": 12,
     "metadata": {},
     "output_type": "execute_result"
    },
    {
     "data": {
      "text/plain": [
       "(22.0, 0.0)"
      ]
     },
     "execution_count": 12,
     "metadata": {},
     "output_type": "execute_result"
    },
    {
     "name": "stderr",
     "output_type": "stream",
     "text": [
      "/tmp/ipykernel_1627/3125494494.py:15: MatplotlibDeprecationWarning: The get_cmap function was deprecated in Matplotlib 3.7 and will be removed in 3.11. Use ``matplotlib.colormaps[name]`` or ``matplotlib.colormaps.get_cmap()`` or ``pyplot.get_cmap()`` instead.\n",
      "  cmap = plt.cm.get_cmap(\"viridis\")\n"
     ]
    },
    {
     "data": {
      "text/plain": [
       "<Axes: >"
      ]
     },
     "execution_count": 12,
     "metadata": {},
     "output_type": "execute_result"
    },
    {
     "data": {
      "text/plain": [
       "[<matplotlib.axis.XTick at 0x7f2f55a8ea10>,\n",
       " <matplotlib.axis.XTick at 0x7f2f55aaf190>,\n",
       " <matplotlib.axis.XTick at 0x7f2f55aafdc0>,\n",
       " <matplotlib.axis.XTick at 0x7f2f55acca60>,\n",
       " <matplotlib.axis.XTick at 0x7f2f55acd120>,\n",
       " <matplotlib.axis.XTick at 0x7f2f55acdd80>,\n",
       " <matplotlib.axis.XTick at 0x7f2f55ace9e0>,\n",
       " <matplotlib.axis.XTick at 0x7f2f55acf640>,\n",
       " <matplotlib.axis.XTick at 0x7f2f55ace260>,\n",
       " <matplotlib.axis.XTick at 0x7f2f55adc5b0>,\n",
       " <matplotlib.axis.XTick at 0x7f2f55add210>,\n",
       " <matplotlib.axis.XTick at 0x7f2f55adde70>,\n",
       " <matplotlib.axis.XTick at 0x7f2f55ade800>,\n",
       " <matplotlib.axis.XTick at 0x7f2f55adec80>,\n",
       " <matplotlib.axis.XTick at 0x7f2f55adf8e0>,\n",
       " <matplotlib.axis.XTick at 0x7f2f55af8580>,\n",
       " <matplotlib.axis.XTick at 0x7f2f55af91e0>,\n",
       " <matplotlib.axis.XTick at 0x7f2f55acf850>,\n",
       " <matplotlib.axis.XTick at 0x7f2f55af9930>,\n",
       " <matplotlib.axis.XTick at 0x7f2f55afa590>,\n",
       " <matplotlib.axis.XTick at 0x7f2f55afb1f0>,\n",
       " <matplotlib.axis.XTick at 0x7f2f55afa950>,\n",
       " <matplotlib.axis.XTick at 0x7f2f55afbc70>,\n",
       " <matplotlib.axis.XTick at 0x7f2f55608ca0>,\n",
       " <matplotlib.axis.XTick at 0x7f2f55609900>,\n",
       " <matplotlib.axis.XTick at 0x7f2f5560a560>,\n",
       " <matplotlib.axis.XTick at 0x7f2f556083a0>,\n",
       " <matplotlib.axis.XTick at 0x7f2f5560b1c0>,\n",
       " <matplotlib.axis.XTick at 0x7f2f5560be20>,\n",
       " <matplotlib.axis.XTick at 0x7f2f55620ac0>,\n",
       " <matplotlib.axis.XTick at 0x7f2f5560a080>,\n",
       " <matplotlib.axis.XTick at 0x7f2f55621840>,\n",
       " <matplotlib.axis.XTick at 0x7f2f55a8e590>,\n",
       " <matplotlib.axis.XTick at 0x7f2f5571ce80>,\n",
       " <matplotlib.axis.XTick at 0x7f2f5571d990>,\n",
       " <matplotlib.axis.XTick at 0x7f2f5571e5f0>,\n",
       " <matplotlib.axis.XTick at 0x7f2f5571f250>,\n",
       " <matplotlib.axis.XTick at 0x7f2f5571d540>,\n",
       " <matplotlib.axis.XTick at 0x7f2f5571ffd0>,\n",
       " <matplotlib.axis.XTick at 0x7f2f55738c70>,\n",
       " <matplotlib.axis.XTick at 0x7f2f557398d0>,\n",
       " <matplotlib.axis.XTick at 0x7f2f5571f6d0>,\n",
       " <matplotlib.axis.XTick at 0x7f2f5573a6e0>,\n",
       " <matplotlib.axis.XTick at 0x7f2f5573b340>,\n",
       " <matplotlib.axis.XTick at 0x7f2f5573bfa0>,\n",
       " <matplotlib.axis.XTick at 0x7f2f5573bac0>,\n",
       " <matplotlib.axis.XTick at 0x7f2f5574c250>,\n",
       " <matplotlib.axis.XTick at 0x7f2f5574d930>,\n",
       " <matplotlib.axis.XTick at 0x7f2f5574e590>,\n",
       " <matplotlib.axis.XTick at 0x7f2f5574f1f0>,\n",
       " <matplotlib.axis.XTick at 0x7f2f5574db70>,\n",
       " <matplotlib.axis.XTick at 0x7f2f5574ff70>,\n",
       " <matplotlib.axis.XTick at 0x7f2f5576cc10>,\n",
       " <matplotlib.axis.XTick at 0x7f2f5576d870>,\n",
       " <matplotlib.axis.XTick at 0x7f2f5573aa40>,\n",
       " <matplotlib.axis.XTick at 0x7f2f5576e5f0>,\n",
       " <matplotlib.axis.XTick at 0x7f2f5576f250>,\n",
       " <matplotlib.axis.XTick at 0x7f2f5576feb0>,\n",
       " <matplotlib.axis.XTick at 0x7f2f55784b50>,\n",
       " <matplotlib.axis.XTick at 0x7f2f557842b0>,\n",
       " <matplotlib.axis.XTick at 0x7f2f557858d0>,\n",
       " <matplotlib.axis.XTick at 0x7f2f55786530>,\n",
       " <matplotlib.axis.XTick at 0x7f2f55787190>]"
      ]
     },
     "execution_count": 12,
     "metadata": {},
     "output_type": "execute_result"
    },
    {
     "data": {
      "text/plain": [
       "[<matplotlib.axis.YTick at 0x7f2f55a8ea40>,\n",
       " <matplotlib.axis.YTick at 0x7f2f55aaf160>,\n",
       " <matplotlib.axis.YTick at 0x7f2f55623100>,\n",
       " <matplotlib.axis.YTick at 0x7f2f55622950>,\n",
       " <matplotlib.axis.YTick at 0x7f2f55623f10>,\n",
       " <matplotlib.axis.YTick at 0x7f2f55638bb0>,\n",
       " <matplotlib.axis.YTick at 0x7f2f55639810>,\n",
       " <matplotlib.axis.YTick at 0x7f2f5563a470>,\n",
       " <matplotlib.axis.YTick at 0x7f2f55638160>,\n",
       " <matplotlib.axis.YTick at 0x7f2f5563b1f0>,\n",
       " <matplotlib.axis.YTick at 0x7f2f5563be50>,\n",
       " <matplotlib.axis.YTick at 0x7f2f5564caf0>,\n",
       " <matplotlib.axis.YTick at 0x7f2f55639a80>,\n",
       " <matplotlib.axis.YTick at 0x7f2f5564d870>,\n",
       " <matplotlib.axis.YTick at 0x7f2f5564e4d0>,\n",
       " <matplotlib.axis.YTick at 0x7f2f5564f130>,\n",
       " <matplotlib.axis.YTick at 0x7f2f5564ecb0>,\n",
       " <matplotlib.axis.YTick at 0x7f2f5564ff40>,\n",
       " <matplotlib.axis.YTick at 0x7f2f5566cbe0>,\n",
       " <matplotlib.axis.YTick at 0x7f2f5566d840>,\n",
       " <matplotlib.axis.YTick at 0x7f2f5566e4a0>,\n",
       " <matplotlib.axis.YTick at 0x7f2f5566c2e0>,\n",
       " <matplotlib.axis.YTick at 0x7f2f5566f220>,\n",
       " <matplotlib.axis.YTick at 0x7f2f5566fe80>,\n",
       " <matplotlib.axis.YTick at 0x7f2f556b0b20>,\n",
       " <matplotlib.axis.YTick at 0x7f2f5566dc00>,\n",
       " <matplotlib.axis.YTick at 0x7f2f556b18a0>,\n",
       " <matplotlib.axis.YTick at 0x7f2f556b2500>,\n",
       " <matplotlib.axis.YTick at 0x7f2f556b3160>,\n",
       " <matplotlib.axis.YTick at 0x7f2f556b2c20>,\n",
       " <matplotlib.axis.YTick at 0x7f2f556b3f70>,\n",
       " <matplotlib.axis.YTick at 0x7f2f556c8c10>,\n",
       " <matplotlib.axis.YTick at 0x7f2f556224a0>,\n",
       " <matplotlib.axis.YTick at 0x7f2f55787d90>,\n",
       " <matplotlib.axis.YTick at 0x7f2f557a8a30>,\n",
       " <matplotlib.axis.YTick at 0x7f2f557a8a60>,\n",
       " <matplotlib.axis.YTick at 0x7f2f557a9cf0>,\n",
       " <matplotlib.axis.YTick at 0x7f2f557a9cc0>,\n",
       " <matplotlib.axis.YTick at 0x7f2f557aa4d0>,\n",
       " <matplotlib.axis.YTick at 0x7f2f557aaef0>,\n",
       " <matplotlib.axis.YTick at 0x7f2f557ab910>,\n",
       " <matplotlib.axis.YTick at 0x7f2f557abe50>,\n",
       " <matplotlib.axis.YTick at 0x7f2f55787640>,\n",
       " <matplotlib.axis.YTick at 0x7f2f556ebbb0>,\n",
       " <matplotlib.axis.YTick at 0x7f2f557b4ac0>,\n",
       " <matplotlib.axis.YTick at 0x7f2f557b54e0>,\n",
       " <matplotlib.axis.YTick at 0x7f2f557aa620>,\n",
       " <matplotlib.axis.YTick at 0x7f2f557b45e0>,\n",
       " <matplotlib.axis.YTick at 0x7f2f557b6800>,\n",
       " <matplotlib.axis.YTick at 0x7f2f557b7220>,\n",
       " <matplotlib.axis.YTick at 0x7f2f557b7c40>,\n",
       " <matplotlib.axis.YTick at 0x7f2f557b72e0>,\n",
       " <matplotlib.axis.YTick at 0x7f2f557d0460>,\n",
       " <matplotlib.axis.YTick at 0x7f2f557d0e80>,\n",
       " <matplotlib.axis.YTick at 0x7f2f557d18a0>,\n",
       " <matplotlib.axis.YTick at 0x7f2f557b50f0>,\n",
       " <matplotlib.axis.YTick at 0x7f2f557d0e50>,\n",
       " <matplotlib.axis.YTick at 0x7f2f557d2bc0>,\n",
       " <matplotlib.axis.YTick at 0x7f2f557d35e0>,\n",
       " <matplotlib.axis.YTick at 0x7f2f557f0040>,\n",
       " <matplotlib.axis.YTick at 0x7f2f557d3c70>,\n",
       " <matplotlib.axis.YTick at 0x7f2f557f0100>,\n",
       " <matplotlib.axis.YTick at 0x7f2f557f1360>]"
      ]
     },
     "execution_count": 12,
     "metadata": {},
     "output_type": "execute_result"
    },
    {
     "data": {
      "text/plain": [
       "[Text(0, 0, '0'),\n",
       " Text(1, 0, '10'),\n",
       " Text(2, 0, '20'),\n",
       " Text(3, 0, '30'),\n",
       " Text(4, 0, '40'),\n",
       " Text(5, 0, '50'),\n",
       " Text(6, 0, '60'),\n",
       " Text(7, 0, '70'),\n",
       " Text(8, 0, '80'),\n",
       " Text(9, 0, '90'),\n",
       " Text(10, 0, '100'),\n",
       " Text(11, 0, '110'),\n",
       " Text(12, 0, '120'),\n",
       " Text(13, 0, '130'),\n",
       " Text(14, 0, '140'),\n",
       " Text(15, 0, '150'),\n",
       " Text(16, 0, '160'),\n",
       " Text(17, 0, '170'),\n",
       " Text(18, 0, '180'),\n",
       " Text(19, 0, '190'),\n",
       " Text(20, 0, '200'),\n",
       " Text(21, 0, '210'),\n",
       " Text(22, 0, '220'),\n",
       " Text(23, 0, '230'),\n",
       " Text(24, 0, '240'),\n",
       " Text(25, 0, '250'),\n",
       " Text(26, 0, '260'),\n",
       " Text(27, 0, '270'),\n",
       " Text(28, 0, '280'),\n",
       " Text(29, 0, '290'),\n",
       " Text(30, 0, '300'),\n",
       " Text(31, 0, '310'),\n",
       " Text(32, 0, '320'),\n",
       " Text(33, 0, '330'),\n",
       " Text(34, 0, '340'),\n",
       " Text(35, 0, '350'),\n",
       " Text(36, 0, '360'),\n",
       " Text(37, 0, '370'),\n",
       " Text(38, 0, '380'),\n",
       " Text(39, 0, '390'),\n",
       " Text(40, 0, '400'),\n",
       " Text(41, 0, '410'),\n",
       " Text(42, 0, '420'),\n",
       " Text(43, 0, '430'),\n",
       " Text(44, 0, '440'),\n",
       " Text(45, 0, '450'),\n",
       " Text(46, 0, '460'),\n",
       " Text(47, 0, '470'),\n",
       " Text(48, 0, '480'),\n",
       " Text(49, 0, '490'),\n",
       " Text(50, 0, '500'),\n",
       " Text(51, 0, '510'),\n",
       " Text(52, 0, '520'),\n",
       " Text(53, 0, '530'),\n",
       " Text(54, 0, '540'),\n",
       " Text(55, 0, '550'),\n",
       " Text(56, 0, '560'),\n",
       " Text(57, 0, '570'),\n",
       " Text(58, 0, '580'),\n",
       " Text(59, 0, '590'),\n",
       " Text(60, 0, '600'),\n",
       " Text(61, 0, '610'),\n",
       " Text(62, 0, '620')]"
      ]
     },
     "execution_count": 12,
     "metadata": {},
     "output_type": "execute_result"
    },
    {
     "data": {
      "text/plain": [
       "[Text(0, 0, '0'),\n",
       " Text(0, 1, '10'),\n",
       " Text(0, 2, '20'),\n",
       " Text(0, 3, '30'),\n",
       " Text(0, 4, '40'),\n",
       " Text(0, 5, '50'),\n",
       " Text(0, 6, '60'),\n",
       " Text(0, 7, '70'),\n",
       " Text(0, 8, '80'),\n",
       " Text(0, 9, '90'),\n",
       " Text(0, 10, '100'),\n",
       " Text(0, 11, '110'),\n",
       " Text(0, 12, '120'),\n",
       " Text(0, 13, '130'),\n",
       " Text(0, 14, '140'),\n",
       " Text(0, 15, '150'),\n",
       " Text(0, 16, '160'),\n",
       " Text(0, 17, '170'),\n",
       " Text(0, 18, '180'),\n",
       " Text(0, 19, '190'),\n",
       " Text(0, 20, '200'),\n",
       " Text(0, 21, '210'),\n",
       " Text(0, 22, '220'),\n",
       " Text(0, 23, '230'),\n",
       " Text(0, 24, '240'),\n",
       " Text(0, 25, '250'),\n",
       " Text(0, 26, '260'),\n",
       " Text(0, 27, '270'),\n",
       " Text(0, 28, '280'),\n",
       " Text(0, 29, '290'),\n",
       " Text(0, 30, '300'),\n",
       " Text(0, 31, '310'),\n",
       " Text(0, 32, '320'),\n",
       " Text(0, 33, '330'),\n",
       " Text(0, 34, '340'),\n",
       " Text(0, 35, '350'),\n",
       " Text(0, 36, '360'),\n",
       " Text(0, 37, '370'),\n",
       " Text(0, 38, '380'),\n",
       " Text(0, 39, '390'),\n",
       " Text(0, 40, '400'),\n",
       " Text(0, 41, '410'),\n",
       " Text(0, 42, '420'),\n",
       " Text(0, 43, '430'),\n",
       " Text(0, 44, '440'),\n",
       " Text(0, 45, '450'),\n",
       " Text(0, 46, '460'),\n",
       " Text(0, 47, '470'),\n",
       " Text(0, 48, '480'),\n",
       " Text(0, 49, '490'),\n",
       " Text(0, 50, '500'),\n",
       " Text(0, 51, '510'),\n",
       " Text(0, 52, '520'),\n",
       " Text(0, 53, '530'),\n",
       " Text(0, 54, '540'),\n",
       " Text(0, 55, '550'),\n",
       " Text(0, 56, '560'),\n",
       " Text(0, 57, '570'),\n",
       " Text(0, 58, '580'),\n",
       " Text(0, 59, '590'),\n",
       " Text(0, 60, '600'),\n",
       " Text(0, 61, '610'),\n",
       " Text(0, 62, '620')]"
      ]
     },
     "execution_count": 12,
     "metadata": {},
     "output_type": "execute_result"
    },
    {
     "data": {
      "text/plain": [
       "Text(0.5, 1.0, 'Attention Map of Layer 4')"
      ]
     },
     "execution_count": 12,
     "metadata": {},
     "output_type": "execute_result"
    },
    {
     "data": {
      "text/plain": [
       "Text(0.5, 242.16666666666694, 'Column')"
      ]
     },
     "execution_count": 12,
     "metadata": {},
     "output_type": "execute_result"
    },
    {
     "data": {
      "text/plain": [
       "Text(187.79166666666666, 0.5, 'Row')"
      ]
     },
     "execution_count": 12,
     "metadata": {},
     "output_type": "execute_result"
    },
    {
     "data": {
      "text/plain": [
       "Text(0.5, 1.0, 'Attention from last input token to vision of Layer 4')"
      ]
     },
     "execution_count": 12,
     "metadata": {},
     "output_type": "execute_result"
    },
    {
     "data": {
      "text/plain": [
       "<matplotlib.image.AxesImage at 0x7f2f557f1990>"
      ]
     },
     "execution_count": 12,
     "metadata": {},
     "output_type": "execute_result"
    },
    {
     "data": {
      "text/plain": [
       "(0.0, 22.0)"
      ]
     },
     "execution_count": 12,
     "metadata": {},
     "output_type": "execute_result"
    },
    {
     "data": {
      "text/plain": [
       "(22.0, 0.0)"
      ]
     },
     "execution_count": 12,
     "metadata": {},
     "output_type": "execute_result"
    },
    {
     "name": "stderr",
     "output_type": "stream",
     "text": [
      "/tmp/ipykernel_1627/3125494494.py:15: MatplotlibDeprecationWarning: The get_cmap function was deprecated in Matplotlib 3.7 and will be removed in 3.11. Use ``matplotlib.colormaps[name]`` or ``matplotlib.colormaps.get_cmap()`` or ``pyplot.get_cmap()`` instead.\n",
      "  cmap = plt.cm.get_cmap(\"viridis\")\n"
     ]
    },
    {
     "data": {
      "text/plain": [
       "<Axes: >"
      ]
     },
     "execution_count": 12,
     "metadata": {},
     "output_type": "execute_result"
    },
    {
     "data": {
      "text/plain": [
       "[<matplotlib.axis.XTick at 0x7f2f55550100>,\n",
       " <matplotlib.axis.XTick at 0x7f2f555c3100>,\n",
       " <matplotlib.axis.XTick at 0x7f2f555c3f40>,\n",
       " <matplotlib.axis.XTick at 0x7f2f555c3fd0>,\n",
       " <matplotlib.axis.XTick at 0x7f2f555e1270>,\n",
       " <matplotlib.axis.XTick at 0x7f2f555c3790>,\n",
       " <matplotlib.axis.XTick at 0x7f2f555e0820>,\n",
       " <matplotlib.axis.XTick at 0x7f2f555e2590>,\n",
       " <matplotlib.axis.XTick at 0x7f2f555e2fb0>,\n",
       " <matplotlib.axis.XTick at 0x7f2f555e39d0>,\n",
       " <matplotlib.axis.XTick at 0x7f2f555e35e0>,\n",
       " <matplotlib.axis.XTick at 0x7f2f555f8310>,\n",
       " <matplotlib.axis.XTick at 0x7f2f555f8d30>,\n",
       " <matplotlib.axis.XTick at 0x7f2f555f9750>,\n",
       " <matplotlib.axis.XTick at 0x7f2f555fa170>,\n",
       " <matplotlib.axis.XTick at 0x7f2f555f9d80>,\n",
       " <matplotlib.axis.XTick at 0x7f2f555fa950>,\n",
       " <matplotlib.axis.XTick at 0x7f2f555fb370>,\n",
       " <matplotlib.axis.XTick at 0x7f2f555fbfd0>,\n",
       " <matplotlib.axis.XTick at 0x7f2f555fbe50>,\n",
       " <matplotlib.axis.XTick at 0x7f2f55314970>,\n",
       " <matplotlib.axis.XTick at 0x7f2f55315060>,\n",
       " <matplotlib.axis.XTick at 0x7f2f55315a80>,\n",
       " <matplotlib.axis.XTick at 0x7f2f553164a0>,\n",
       " <matplotlib.axis.XTick at 0x7f2f553164d0>,\n",
       " <matplotlib.axis.XTick at 0x7f2f55314850>,\n",
       " <matplotlib.axis.XTick at 0x7f2f553177c0>,\n",
       " <matplotlib.axis.XTick at 0x7f2f55330220>,\n",
       " <matplotlib.axis.XTick at 0x7f2f55330c40>,\n",
       " <matplotlib.axis.XTick at 0x7f2f55317430>,\n",
       " <matplotlib.axis.XTick at 0x7f2f55331420>,\n",
       " <matplotlib.axis.XTick at 0x7f2f55331e40>,\n",
       " <matplotlib.axis.XTick at 0x7f2f555505e0>,\n",
       " <matplotlib.axis.XTick at 0x7f2f55238460>,\n",
       " <matplotlib.axis.XTick at 0x7f2f552384c0>,\n",
       " <matplotlib.axis.XTick at 0x7f2f55239630>,\n",
       " <matplotlib.axis.XTick at 0x7f2f5523a050>,\n",
       " <matplotlib.axis.XTick at 0x7f2f5523a110>,\n",
       " <matplotlib.axis.XTick at 0x7f2f5523a950>,\n",
       " <matplotlib.axis.XTick at 0x7f2f5523b370>,\n",
       " <matplotlib.axis.XTick at 0x7f2f5523bfd0>,\n",
       " <matplotlib.axis.XTick at 0x7f2f552547f0>,\n",
       " <matplotlib.axis.XTick at 0x7f2f5523afe0>,\n",
       " <matplotlib.axis.XTick at 0x7f2f55254fd0>,\n",
       " <matplotlib.axis.XTick at 0x7f2f552559f0>,\n",
       " <matplotlib.axis.XTick at 0x7f2f55256410>,\n",
       " <matplotlib.axis.XTick at 0x7f2f5523afb0>,\n",
       " <matplotlib.axis.XTick at 0x7f2f55255600>,\n",
       " <matplotlib.axis.XTick at 0x7f2f55257610>,\n",
       " <matplotlib.axis.XTick at 0x7f2f55270070>,\n",
       " <matplotlib.axis.XTick at 0x7f2f55270a90>,\n",
       " <matplotlib.axis.XTick at 0x7f2f55257af0>,\n",
       " <matplotlib.axis.XTick at 0x7f2f55270130>,\n",
       " <matplotlib.axis.XTick at 0x7f2f55271db0>,\n",
       " <matplotlib.axis.XTick at 0x7f2f552727d0>,\n",
       " <matplotlib.axis.XTick at 0x7f2f552731f0>,\n",
       " <matplotlib.axis.XTick at 0x7f2f55272e30>,\n",
       " <matplotlib.axis.XTick at 0x7f2f552739d0>,\n",
       " <matplotlib.axis.XTick at 0x7f2f55290430>,\n",
       " <matplotlib.axis.XTick at 0x7f2f55290e50>,\n",
       " <matplotlib.axis.XTick at 0x7f2f55273b20>,\n",
       " <matplotlib.axis.XTick at 0x7f2f55290a60>,\n",
       " <matplotlib.axis.XTick at 0x7f2f55292170>]"
      ]
     },
     "execution_count": 12,
     "metadata": {},
     "output_type": "execute_result"
    },
    {
     "data": {
      "text/plain": [
       "[<matplotlib.axis.YTick at 0x7f2f55550190>,\n",
       " <matplotlib.axis.YTick at 0x7f2f555c3370>,\n",
       " <matplotlib.axis.YTick at 0x7f2f55333220>,\n",
       " <matplotlib.axis.YTick at 0x7f2f55331930>,\n",
       " <matplotlib.axis.YTick at 0x7f2f55333be0>,\n",
       " <matplotlib.axis.YTick at 0x7f2f55354640>,\n",
       " <matplotlib.axis.YTick at 0x7f2f55355060>,\n",
       " <matplotlib.axis.YTick at 0x7f2f55333940>,\n",
       " <matplotlib.axis.YTick at 0x7f2f55354160>,\n",
       " <matplotlib.axis.YTick at 0x7f2f55356380>,\n",
       " <matplotlib.axis.YTick at 0x7f2f55356da0>,\n",
       " <matplotlib.axis.YTick at 0x7f2f553577c0>,\n",
       " <matplotlib.axis.YTick at 0x7f2f553572b0>,\n",
       " <matplotlib.axis.YTick at 0x7f2f55370160>,\n",
       " <matplotlib.axis.YTick at 0x7f2f55370a00>,\n",
       " <matplotlib.axis.YTick at 0x7f2f55371420>,\n",
       " <matplotlib.axis.YTick at 0x7f2f55355a80>,\n",
       " <matplotlib.axis.YTick at 0x7f2f55370b20>,\n",
       " <matplotlib.axis.YTick at 0x7f2f55372740>,\n",
       " <matplotlib.axis.YTick at 0x7f2f55373160>,\n",
       " <matplotlib.axis.YTick at 0x7f2f55373b80>,\n",
       " <matplotlib.axis.YTick at 0x7f2f553738e0>,\n",
       " <matplotlib.axis.YTick at 0x7f2f553c04c0>,\n",
       " <matplotlib.axis.YTick at 0x7f2f553c0ee0>,\n",
       " <matplotlib.axis.YTick at 0x7f2f553c1900>,\n",
       " <matplotlib.axis.YTick at 0x7f2f553c2320>,\n",
       " <matplotlib.axis.YTick at 0x7f2f553c22f0>,\n",
       " <matplotlib.axis.YTick at 0x7f2f553c2b00>,\n",
       " <matplotlib.axis.YTick at 0x7f2f553c3520>,\n",
       " <matplotlib.axis.YTick at 0x7f2f553d0100>,\n",
       " <matplotlib.axis.YTick at 0x7f2f553c3d00>,\n",
       " <matplotlib.axis.YTick at 0x7f2f55371f60>,\n",
       " <matplotlib.axis.YTick at 0x7f2f55579e70>,\n",
       " <matplotlib.axis.YTick at 0x7f2f55223fd0>,\n",
       " <matplotlib.axis.YTick at 0x7f2f55290c10>,\n",
       " <matplotlib.axis.YTick at 0x7f2f552935b0>,\n",
       " <matplotlib.axis.YTick at 0x7f2f552a4040>,\n",
       " <matplotlib.axis.YTick at 0x7f2f552935e0>,\n",
       " <matplotlib.axis.YTick at 0x7f2f552a4a90>,\n",
       " <matplotlib.axis.YTick at 0x7f2f552a5330>,\n",
       " <matplotlib.axis.YTick at 0x7f2f552a5d50>,\n",
       " <matplotlib.axis.YTick at 0x7f2f552a6770>,\n",
       " <matplotlib.axis.YTick at 0x7f2f552a64d0>,\n",
       " <matplotlib.axis.YTick at 0x7f2f552a6f50>,\n",
       " <matplotlib.axis.YTick at 0x7f2f552a7970>,\n",
       " <matplotlib.axis.YTick at 0x7f2f552c83d0>,\n",
       " <matplotlib.axis.YTick at 0x7f2f552c8df0>,\n",
       " <matplotlib.axis.YTick at 0x7f2f5523a6e0>,\n",
       " <matplotlib.axis.YTick at 0x7f2f552c9540>,\n",
       " <matplotlib.axis.YTick at 0x7f2f552c9f60>,\n",
       " <matplotlib.axis.YTick at 0x7f2f552ca980>,\n",
       " <matplotlib.axis.YTick at 0x7f2f552a7a90>,\n",
       " <matplotlib.axis.YTick at 0x7f2f552c9ba0>,\n",
       " <matplotlib.axis.YTick at 0x7f2f552cbc10>,\n",
       " <matplotlib.axis.YTick at 0x7f2f552e4670>,\n",
       " <matplotlib.axis.YTick at 0x7f2f552e5090>,\n",
       " <matplotlib.axis.YTick at 0x7f2f552cb970>,\n",
       " <matplotlib.axis.YTick at 0x7f2f552e4190>,\n",
       " <matplotlib.axis.YTick at 0x7f2f552e63b0>,\n",
       " <matplotlib.axis.YTick at 0x7f2f552e6dd0>,\n",
       " <matplotlib.axis.YTick at 0x7f2f552e77f0>,\n",
       " <matplotlib.axis.YTick at 0x7f2f552e72e0>,\n",
       " <matplotlib.axis.YTick at 0x7f2f5540c040>]"
      ]
     },
     "execution_count": 12,
     "metadata": {},
     "output_type": "execute_result"
    },
    {
     "data": {
      "text/plain": [
       "[Text(0, 0, '0'),\n",
       " Text(1, 0, '10'),\n",
       " Text(2, 0, '20'),\n",
       " Text(3, 0, '30'),\n",
       " Text(4, 0, '40'),\n",
       " Text(5, 0, '50'),\n",
       " Text(6, 0, '60'),\n",
       " Text(7, 0, '70'),\n",
       " Text(8, 0, '80'),\n",
       " Text(9, 0, '90'),\n",
       " Text(10, 0, '100'),\n",
       " Text(11, 0, '110'),\n",
       " Text(12, 0, '120'),\n",
       " Text(13, 0, '130'),\n",
       " Text(14, 0, '140'),\n",
       " Text(15, 0, '150'),\n",
       " Text(16, 0, '160'),\n",
       " Text(17, 0, '170'),\n",
       " Text(18, 0, '180'),\n",
       " Text(19, 0, '190'),\n",
       " Text(20, 0, '200'),\n",
       " Text(21, 0, '210'),\n",
       " Text(22, 0, '220'),\n",
       " Text(23, 0, '230'),\n",
       " Text(24, 0, '240'),\n",
       " Text(25, 0, '250'),\n",
       " Text(26, 0, '260'),\n",
       " Text(27, 0, '270'),\n",
       " Text(28, 0, '280'),\n",
       " Text(29, 0, '290'),\n",
       " Text(30, 0, '300'),\n",
       " Text(31, 0, '310'),\n",
       " Text(32, 0, '320'),\n",
       " Text(33, 0, '330'),\n",
       " Text(34, 0, '340'),\n",
       " Text(35, 0, '350'),\n",
       " Text(36, 0, '360'),\n",
       " Text(37, 0, '370'),\n",
       " Text(38, 0, '380'),\n",
       " Text(39, 0, '390'),\n",
       " Text(40, 0, '400'),\n",
       " Text(41, 0, '410'),\n",
       " Text(42, 0, '420'),\n",
       " Text(43, 0, '430'),\n",
       " Text(44, 0, '440'),\n",
       " Text(45, 0, '450'),\n",
       " Text(46, 0, '460'),\n",
       " Text(47, 0, '470'),\n",
       " Text(48, 0, '480'),\n",
       " Text(49, 0, '490'),\n",
       " Text(50, 0, '500'),\n",
       " Text(51, 0, '510'),\n",
       " Text(52, 0, '520'),\n",
       " Text(53, 0, '530'),\n",
       " Text(54, 0, '540'),\n",
       " Text(55, 0, '550'),\n",
       " Text(56, 0, '560'),\n",
       " Text(57, 0, '570'),\n",
       " Text(58, 0, '580'),\n",
       " Text(59, 0, '590'),\n",
       " Text(60, 0, '600'),\n",
       " Text(61, 0, '610'),\n",
       " Text(62, 0, '620')]"
      ]
     },
     "execution_count": 12,
     "metadata": {},
     "output_type": "execute_result"
    },
    {
     "data": {
      "text/plain": [
       "[Text(0, 0, '0'),\n",
       " Text(0, 1, '10'),\n",
       " Text(0, 2, '20'),\n",
       " Text(0, 3, '30'),\n",
       " Text(0, 4, '40'),\n",
       " Text(0, 5, '50'),\n",
       " Text(0, 6, '60'),\n",
       " Text(0, 7, '70'),\n",
       " Text(0, 8, '80'),\n",
       " Text(0, 9, '90'),\n",
       " Text(0, 10, '100'),\n",
       " Text(0, 11, '110'),\n",
       " Text(0, 12, '120'),\n",
       " Text(0, 13, '130'),\n",
       " Text(0, 14, '140'),\n",
       " Text(0, 15, '150'),\n",
       " Text(0, 16, '160'),\n",
       " Text(0, 17, '170'),\n",
       " Text(0, 18, '180'),\n",
       " Text(0, 19, '190'),\n",
       " Text(0, 20, '200'),\n",
       " Text(0, 21, '210'),\n",
       " Text(0, 22, '220'),\n",
       " Text(0, 23, '230'),\n",
       " Text(0, 24, '240'),\n",
       " Text(0, 25, '250'),\n",
       " Text(0, 26, '260'),\n",
       " Text(0, 27, '270'),\n",
       " Text(0, 28, '280'),\n",
       " Text(0, 29, '290'),\n",
       " Text(0, 30, '300'),\n",
       " Text(0, 31, '310'),\n",
       " Text(0, 32, '320'),\n",
       " Text(0, 33, '330'),\n",
       " Text(0, 34, '340'),\n",
       " Text(0, 35, '350'),\n",
       " Text(0, 36, '360'),\n",
       " Text(0, 37, '370'),\n",
       " Text(0, 38, '380'),\n",
       " Text(0, 39, '390'),\n",
       " Text(0, 40, '400'),\n",
       " Text(0, 41, '410'),\n",
       " Text(0, 42, '420'),\n",
       " Text(0, 43, '430'),\n",
       " Text(0, 44, '440'),\n",
       " Text(0, 45, '450'),\n",
       " Text(0, 46, '460'),\n",
       " Text(0, 47, '470'),\n",
       " Text(0, 48, '480'),\n",
       " Text(0, 49, '490'),\n",
       " Text(0, 50, '500'),\n",
       " Text(0, 51, '510'),\n",
       " Text(0, 52, '520'),\n",
       " Text(0, 53, '530'),\n",
       " Text(0, 54, '540'),\n",
       " Text(0, 55, '550'),\n",
       " Text(0, 56, '560'),\n",
       " Text(0, 57, '570'),\n",
       " Text(0, 58, '580'),\n",
       " Text(0, 59, '590'),\n",
       " Text(0, 60, '600'),\n",
       " Text(0, 61, '610'),\n",
       " Text(0, 62, '620')]"
      ]
     },
     "execution_count": 12,
     "metadata": {},
     "output_type": "execute_result"
    },
    {
     "data": {
      "text/plain": [
       "Text(0.5, 1.0, 'Attention Map of Layer 5')"
      ]
     },
     "execution_count": 12,
     "metadata": {},
     "output_type": "execute_result"
    },
    {
     "data": {
      "text/plain": [
       "Text(0.5, 242.16666666666694, 'Column')"
      ]
     },
     "execution_count": 12,
     "metadata": {},
     "output_type": "execute_result"
    },
    {
     "data": {
      "text/plain": [
       "Text(187.79166666666666, 0.5, 'Row')"
      ]
     },
     "execution_count": 12,
     "metadata": {},
     "output_type": "execute_result"
    },
    {
     "data": {
      "text/plain": [
       "Text(0.5, 1.0, 'Attention from last input token to vision of Layer 5')"
      ]
     },
     "execution_count": 12,
     "metadata": {},
     "output_type": "execute_result"
    },
    {
     "data": {
      "text/plain": [
       "<matplotlib.image.AxesImage at 0x7f2f5540ca00>"
      ]
     },
     "execution_count": 12,
     "metadata": {},
     "output_type": "execute_result"
    },
    {
     "data": {
      "text/plain": [
       "(0.0, 22.0)"
      ]
     },
     "execution_count": 12,
     "metadata": {},
     "output_type": "execute_result"
    },
    {
     "data": {
      "text/plain": [
       "(22.0, 0.0)"
      ]
     },
     "execution_count": 12,
     "metadata": {},
     "output_type": "execute_result"
    },
    {
     "name": "stderr",
     "output_type": "stream",
     "text": [
      "/tmp/ipykernel_1627/3125494494.py:15: MatplotlibDeprecationWarning: The get_cmap function was deprecated in Matplotlib 3.7 and will be removed in 3.11. Use ``matplotlib.colormaps[name]`` or ``matplotlib.colormaps.get_cmap()`` or ``pyplot.get_cmap()`` instead.\n",
      "  cmap = plt.cm.get_cmap(\"viridis\")\n"
     ]
    },
    {
     "data": {
      "text/plain": [
       "<Axes: >"
      ]
     },
     "execution_count": 12,
     "metadata": {},
     "output_type": "execute_result"
    },
    {
     "data": {
      "text/plain": [
       "[<matplotlib.axis.XTick at 0x7f2f55483010>,\n",
       " <matplotlib.axis.XTick at 0x7f2f55481d50>,\n",
       " <matplotlib.axis.XTick at 0x7f2f554d4f10>,\n",
       " <matplotlib.axis.XTick at 0x7f2f554d4fa0>,\n",
       " <matplotlib.axis.XTick at 0x7f2f554d6200>,\n",
       " <matplotlib.axis.XTick at 0x7f2f554d6c20>,\n",
       " <matplotlib.axis.XTick at 0x7f2f554d4790>,\n",
       " <matplotlib.axis.XTick at 0x7f2f554d76d0>,\n",
       " <matplotlib.axis.XTick at 0x7f2f554f0130>,\n",
       " <matplotlib.axis.XTick at 0x7f2f554f0b50>,\n",
       " <matplotlib.axis.XTick at 0x7f2f554d7820>,\n",
       " <matplotlib.axis.XTick at 0x7f2f554f1450>,\n",
       " <matplotlib.axis.XTick at 0x7f2f554f1e70>,\n",
       " <matplotlib.axis.XTick at 0x7f2f554f2890>,\n",
       " <matplotlib.axis.XTick at 0x7f2f554f32b0>,\n",
       " <matplotlib.axis.XTick at 0x7f2f554f2860>,\n",
       " <matplotlib.axis.XTick at 0x7f2f554f3a90>,\n",
       " <matplotlib.axis.XTick at 0x7f2f5500c4f0>,\n",
       " <matplotlib.axis.XTick at 0x7f2f5500cf10>,\n",
       " <matplotlib.axis.XTick at 0x7f2f554f3ac0>,\n",
       " <matplotlib.axis.XTick at 0x7f2f5500cca0>,\n",
       " <matplotlib.axis.XTick at 0x7f2f5500e1a0>,\n",
       " <matplotlib.axis.XTick at 0x7f2f5500ebc0>,\n",
       " <matplotlib.axis.XTick at 0x7f2f5500f5e0>,\n",
       " <matplotlib.axis.XTick at 0x7f2f5500f730>,\n",
       " <matplotlib.axis.XTick at 0x7f2f5502c0d0>,\n",
       " <matplotlib.axis.XTick at 0x7f2f5502c940>,\n",
       " <matplotlib.axis.XTick at 0x7f2f5502d360>,\n",
       " <matplotlib.axis.XTick at 0x7f2f5502dd80>,\n",
       " <matplotlib.axis.XTick at 0x7f2f5502ddb0>,\n",
       " <matplotlib.axis.XTick at 0x7f2f5502e560>,\n",
       " <matplotlib.axis.XTick at 0x7f2f5502ef80>,\n",
       " <matplotlib.axis.XTick at 0x7f2f554839d0>,\n",
       " <matplotlib.axis.XTick at 0x7f2f54f2d330>,\n",
       " <matplotlib.axis.XTick at 0x7f2f54f2d390>,\n",
       " <matplotlib.axis.XTick at 0x7f2f54f2e500>,\n",
       " <matplotlib.axis.XTick at 0x7f2f54f2ef20>,\n",
       " <matplotlib.axis.XTick at 0x7f2f54f2eef0>,\n",
       " <matplotlib.axis.XTick at 0x7f2f54f2f820>,\n",
       " <matplotlib.axis.XTick at 0x7f2f54f48280>,\n",
       " <matplotlib.axis.XTick at 0x7f2f54f48ca0>,\n",
       " <matplotlib.axis.XTick at 0x7f2f54f496c0>,\n",
       " <matplotlib.axis.XTick at 0x7f2f54f496f0>,\n",
       " <matplotlib.axis.XTick at 0x7f2f54f49ea0>,\n",
       " <matplotlib.axis.XTick at 0x7f2f54f4a8c0>,\n",
       " <matplotlib.axis.XTick at 0x7f2f54f4b2e0>,\n",
       " <matplotlib.axis.XTick at 0x7f2f54f2fd60>,\n",
       " <matplotlib.axis.XTick at 0x7f2f54f4a3b0>,\n",
       " <matplotlib.axis.XTick at 0x7f2f54f6c520>,\n",
       " <matplotlib.axis.XTick at 0x7f2f54f6cf40>,\n",
       " <matplotlib.axis.XTick at 0x7f2f54f6d960>,\n",
       " <matplotlib.axis.XTick at 0x7f2f54f6d930>,\n",
       " <matplotlib.axis.XTick at 0x7f2f54f6c040>,\n",
       " <matplotlib.axis.XTick at 0x7f2f54f6ec80>,\n",
       " <matplotlib.axis.XTick at 0x7f2f54f6f6a0>,\n",
       " <matplotlib.axis.XTick at 0x7f2f54f84100>,\n",
       " <matplotlib.axis.XTick at 0x7f2f54f6f310>,\n",
       " <matplotlib.axis.XTick at 0x7f2f54f848e0>,\n",
       " <matplotlib.axis.XTick at 0x7f2f54f85300>,\n",
       " <matplotlib.axis.XTick at 0x7f2f54f85d20>,\n",
       " <matplotlib.axis.XTick at 0x7f2f54f6edd0>,\n",
       " <matplotlib.axis.XTick at 0x7f2f54f867a0>,\n",
       " <matplotlib.axis.XTick at 0x7f2f54f845e0>]"
      ]
     },
     "execution_count": 12,
     "metadata": {},
     "output_type": "execute_result"
    },
    {
     "data": {
      "text/plain": [
       "[<matplotlib.axis.YTick at 0x7f2f55482f50>,\n",
       " <matplotlib.axis.YTick at 0x7f2f55493fd0>,\n",
       " <matplotlib.axis.YTick at 0x7f2f5502f970>,\n",
       " <matplotlib.axis.YTick at 0x7f2f55044580>,\n",
       " <matplotlib.axis.YTick at 0x7f2f55044d00>,\n",
       " <matplotlib.axis.YTick at 0x7f2f55045720>,\n",
       " <matplotlib.axis.YTick at 0x7f2f55046140>,\n",
       " <matplotlib.axis.YTick at 0x7f2f55046200>,\n",
       " <matplotlib.axis.YTick at 0x7f2f55044820>,\n",
       " <matplotlib.axis.YTick at 0x7f2f55047460>,\n",
       " <matplotlib.axis.YTick at 0x7f2f55068070>,\n",
       " <matplotlib.axis.YTick at 0x7f2f550688e0>,\n",
       " <matplotlib.axis.YTick at 0x7f2f55047520>,\n",
       " <matplotlib.axis.YTick at 0x7f2f550690c0>,\n",
       " <matplotlib.axis.YTick at 0x7f2f55069ae0>,\n",
       " <matplotlib.axis.YTick at 0x7f2f5506a500>,\n",
       " <matplotlib.axis.YTick at 0x7f2f55047c40>,\n",
       " <matplotlib.axis.YTick at 0x7f2f550696f0>,\n",
       " <matplotlib.axis.YTick at 0x7f2f5506b820>,\n",
       " <matplotlib.axis.YTick at 0x7f2f55084280>,\n",
       " <matplotlib.axis.YTick at 0x7f2f55084ca0>,\n",
       " <matplotlib.axis.YTick at 0x7f2f5506bd30>,\n",
       " <matplotlib.axis.YTick at 0x7f2f55084040>,\n",
       " <matplotlib.axis.YTick at 0x7f2f55085fc0>,\n",
       " <matplotlib.axis.YTick at 0x7f2f550869e0>,\n",
       " <matplotlib.axis.YTick at 0x7f2f55087400>,\n",
       " <matplotlib.axis.YTick at 0x7f2f550467a0>,\n",
       " <matplotlib.axis.YTick at 0x7f2f55087520>,\n",
       " <matplotlib.axis.YTick at 0x7f2f55085c00>,\n",
       " <matplotlib.axis.YTick at 0x7f2f550d0040>,\n",
       " <matplotlib.axis.YTick at 0x7f2f550d0a30>,\n",
       " <matplotlib.axis.YTick at 0x7f2f5506bd00>,\n",
       " <matplotlib.axis.YTick at 0x7f2f55483190>,\n",
       " <matplotlib.axis.YTick at 0x7f2f54f84df0>,\n",
       " <matplotlib.axis.YTick at 0x7f2f54f87c10>,\n",
       " <matplotlib.axis.YTick at 0x7f2f54fac670>,\n",
       " <matplotlib.axis.YTick at 0x7f2f54fad090>,\n",
       " <matplotlib.axis.YTick at 0x7f2f54f4bd30>,\n",
       " <matplotlib.axis.YTick at 0x7f2f54fac280>,\n",
       " <matplotlib.axis.YTick at 0x7f2f54fae3b0>,\n",
       " <matplotlib.axis.YTick at 0x7f2f54faedd0>,\n",
       " <matplotlib.axis.YTick at 0x7f2f54faf7f0>,\n",
       " <matplotlib.axis.YTick at 0x7f2f54faf430>,\n",
       " <matplotlib.axis.YTick at 0x7f2f54fc8040>,\n",
       " <matplotlib.axis.YTick at 0x7f2f54fc8a30>,\n",
       " <matplotlib.axis.YTick at 0x7f2f54fc9450>,\n",
       " <matplotlib.axis.YTick at 0x7f2f54fc9e70>,\n",
       " <matplotlib.axis.YTick at 0x7f2f54fc9a80>,\n",
       " <matplotlib.axis.YTick at 0x7f2f54fca5c0>,\n",
       " <matplotlib.axis.YTick at 0x7f2f54fcafe0>,\n",
       " <matplotlib.axis.YTick at 0x7f2f54fcba00>,\n",
       " <matplotlib.axis.YTick at 0x7f2f54fcbb50>,\n",
       " <matplotlib.axis.YTick at 0x7f2f54fcbc40>,\n",
       " <matplotlib.axis.YTick at 0x7f2f54fe0c40>,\n",
       " <matplotlib.axis.YTick at 0x7f2f54fe1660>,\n",
       " <matplotlib.axis.YTick at 0x7f2f54fe2080>,\n",
       " <matplotlib.axis.YTick at 0x7f2f54fe2140>,\n",
       " <matplotlib.axis.YTick at 0x7f2f54fe0760>,\n",
       " <matplotlib.axis.YTick at 0x7f2f54fe33a0>,\n",
       " <matplotlib.axis.YTick at 0x7f2f54fe3fd0>,\n",
       " <matplotlib.axis.YTick at 0x7f2f54ff8820>,\n",
       " <matplotlib.axis.YTick at 0x7f2f54fe3100>,\n",
       " <matplotlib.axis.YTick at 0x7f2f54ff9000>]"
      ]
     },
     "execution_count": 12,
     "metadata": {},
     "output_type": "execute_result"
    },
    {
     "data": {
      "text/plain": [
       "[Text(0, 0, '0'),\n",
       " Text(1, 0, '10'),\n",
       " Text(2, 0, '20'),\n",
       " Text(3, 0, '30'),\n",
       " Text(4, 0, '40'),\n",
       " Text(5, 0, '50'),\n",
       " Text(6, 0, '60'),\n",
       " Text(7, 0, '70'),\n",
       " Text(8, 0, '80'),\n",
       " Text(9, 0, '90'),\n",
       " Text(10, 0, '100'),\n",
       " Text(11, 0, '110'),\n",
       " Text(12, 0, '120'),\n",
       " Text(13, 0, '130'),\n",
       " Text(14, 0, '140'),\n",
       " Text(15, 0, '150'),\n",
       " Text(16, 0, '160'),\n",
       " Text(17, 0, '170'),\n",
       " Text(18, 0, '180'),\n",
       " Text(19, 0, '190'),\n",
       " Text(20, 0, '200'),\n",
       " Text(21, 0, '210'),\n",
       " Text(22, 0, '220'),\n",
       " Text(23, 0, '230'),\n",
       " Text(24, 0, '240'),\n",
       " Text(25, 0, '250'),\n",
       " Text(26, 0, '260'),\n",
       " Text(27, 0, '270'),\n",
       " Text(28, 0, '280'),\n",
       " Text(29, 0, '290'),\n",
       " Text(30, 0, '300'),\n",
       " Text(31, 0, '310'),\n",
       " Text(32, 0, '320'),\n",
       " Text(33, 0, '330'),\n",
       " Text(34, 0, '340'),\n",
       " Text(35, 0, '350'),\n",
       " Text(36, 0, '360'),\n",
       " Text(37, 0, '370'),\n",
       " Text(38, 0, '380'),\n",
       " Text(39, 0, '390'),\n",
       " Text(40, 0, '400'),\n",
       " Text(41, 0, '410'),\n",
       " Text(42, 0, '420'),\n",
       " Text(43, 0, '430'),\n",
       " Text(44, 0, '440'),\n",
       " Text(45, 0, '450'),\n",
       " Text(46, 0, '460'),\n",
       " Text(47, 0, '470'),\n",
       " Text(48, 0, '480'),\n",
       " Text(49, 0, '490'),\n",
       " Text(50, 0, '500'),\n",
       " Text(51, 0, '510'),\n",
       " Text(52, 0, '520'),\n",
       " Text(53, 0, '530'),\n",
       " Text(54, 0, '540'),\n",
       " Text(55, 0, '550'),\n",
       " Text(56, 0, '560'),\n",
       " Text(57, 0, '570'),\n",
       " Text(58, 0, '580'),\n",
       " Text(59, 0, '590'),\n",
       " Text(60, 0, '600'),\n",
       " Text(61, 0, '610'),\n",
       " Text(62, 0, '620')]"
      ]
     },
     "execution_count": 12,
     "metadata": {},
     "output_type": "execute_result"
    },
    {
     "data": {
      "text/plain": [
       "[Text(0, 0, '0'),\n",
       " Text(0, 1, '10'),\n",
       " Text(0, 2, '20'),\n",
       " Text(0, 3, '30'),\n",
       " Text(0, 4, '40'),\n",
       " Text(0, 5, '50'),\n",
       " Text(0, 6, '60'),\n",
       " Text(0, 7, '70'),\n",
       " Text(0, 8, '80'),\n",
       " Text(0, 9, '90'),\n",
       " Text(0, 10, '100'),\n",
       " Text(0, 11, '110'),\n",
       " Text(0, 12, '120'),\n",
       " Text(0, 13, '130'),\n",
       " Text(0, 14, '140'),\n",
       " Text(0, 15, '150'),\n",
       " Text(0, 16, '160'),\n",
       " Text(0, 17, '170'),\n",
       " Text(0, 18, '180'),\n",
       " Text(0, 19, '190'),\n",
       " Text(0, 20, '200'),\n",
       " Text(0, 21, '210'),\n",
       " Text(0, 22, '220'),\n",
       " Text(0, 23, '230'),\n",
       " Text(0, 24, '240'),\n",
       " Text(0, 25, '250'),\n",
       " Text(0, 26, '260'),\n",
       " Text(0, 27, '270'),\n",
       " Text(0, 28, '280'),\n",
       " Text(0, 29, '290'),\n",
       " Text(0, 30, '300'),\n",
       " Text(0, 31, '310'),\n",
       " Text(0, 32, '320'),\n",
       " Text(0, 33, '330'),\n",
       " Text(0, 34, '340'),\n",
       " Text(0, 35, '350'),\n",
       " Text(0, 36, '360'),\n",
       " Text(0, 37, '370'),\n",
       " Text(0, 38, '380'),\n",
       " Text(0, 39, '390'),\n",
       " Text(0, 40, '400'),\n",
       " Text(0, 41, '410'),\n",
       " Text(0, 42, '420'),\n",
       " Text(0, 43, '430'),\n",
       " Text(0, 44, '440'),\n",
       " Text(0, 45, '450'),\n",
       " Text(0, 46, '460'),\n",
       " Text(0, 47, '470'),\n",
       " Text(0, 48, '480'),\n",
       " Text(0, 49, '490'),\n",
       " Text(0, 50, '500'),\n",
       " Text(0, 51, '510'),\n",
       " Text(0, 52, '520'),\n",
       " Text(0, 53, '530'),\n",
       " Text(0, 54, '540'),\n",
       " Text(0, 55, '550'),\n",
       " Text(0, 56, '560'),\n",
       " Text(0, 57, '570'),\n",
       " Text(0, 58, '580'),\n",
       " Text(0, 59, '590'),\n",
       " Text(0, 60, '600'),\n",
       " Text(0, 61, '610'),\n",
       " Text(0, 62, '620')]"
      ]
     },
     "execution_count": 12,
     "metadata": {},
     "output_type": "execute_result"
    },
    {
     "data": {
      "text/plain": [
       "Text(0.5, 1.0, 'Attention Map of Layer 6')"
      ]
     },
     "execution_count": 12,
     "metadata": {},
     "output_type": "execute_result"
    },
    {
     "data": {
      "text/plain": [
       "Text(0.5, 242.16666666666694, 'Column')"
      ]
     },
     "execution_count": 12,
     "metadata": {},
     "output_type": "execute_result"
    },
    {
     "data": {
      "text/plain": [
       "Text(187.79166666666666, 0.5, 'Row')"
      ]
     },
     "execution_count": 12,
     "metadata": {},
     "output_type": "execute_result"
    },
    {
     "data": {
      "text/plain": [
       "Text(0.5, 1.0, 'Attention from last input token to vision of Layer 6')"
      ]
     },
     "execution_count": 12,
     "metadata": {},
     "output_type": "execute_result"
    },
    {
     "data": {
      "text/plain": [
       "<matplotlib.image.AxesImage at 0x7f2f54ff9030>"
      ]
     },
     "execution_count": 12,
     "metadata": {},
     "output_type": "execute_result"
    },
    {
     "data": {
      "text/plain": [
       "(0.0, 22.0)"
      ]
     },
     "execution_count": 12,
     "metadata": {},
     "output_type": "execute_result"
    },
    {
     "data": {
      "text/plain": [
       "(22.0, 0.0)"
      ]
     },
     "execution_count": 12,
     "metadata": {},
     "output_type": "execute_result"
    },
    {
     "name": "stderr",
     "output_type": "stream",
     "text": [
      "/tmp/ipykernel_1627/3125494494.py:15: MatplotlibDeprecationWarning: The get_cmap function was deprecated in Matplotlib 3.7 and will be removed in 3.11. Use ``matplotlib.colormaps[name]`` or ``matplotlib.colormaps.get_cmap()`` or ``pyplot.get_cmap()`` instead.\n",
      "  cmap = plt.cm.get_cmap(\"viridis\")\n"
     ]
    },
    {
     "data": {
      "text/plain": [
       "<Axes: >"
      ]
     },
     "execution_count": 12,
     "metadata": {},
     "output_type": "execute_result"
    },
    {
     "data": {
      "text/plain": [
       "[<matplotlib.axis.XTick at 0x7f2f551a5690>,\n",
       " <matplotlib.axis.XTick at 0x7f2f551d9b10>,\n",
       " <matplotlib.axis.XTick at 0x7f2f551da950>,\n",
       " <matplotlib.axis.XTick at 0x7f2f551da9e0>,\n",
       " <matplotlib.axis.XTick at 0x7f2f551dbc40>,\n",
       " <matplotlib.axis.XTick at 0x7f2f551dbd00>,\n",
       " <matplotlib.axis.XTick at 0x7f2f551f42e0>,\n",
       " <matplotlib.axis.XTick at 0x7f2f551f5150>,\n",
       " <matplotlib.axis.XTick at 0x7f2f551f5b70>,\n",
       " <matplotlib.axis.XTick at 0x7f2f551f6590>,\n",
       " <matplotlib.axis.XTick at 0x7f2f551f66b0>,\n",
       " <matplotlib.axis.XTick at 0x7f2f551f6e90>,\n",
       " <matplotlib.axis.XTick at 0x7f2f551f78b0>,\n",
       " <matplotlib.axis.XTick at 0x7f2f54d0c310>,\n",
       " <matplotlib.axis.XTick at 0x7f2f54d0cd30>,\n",
       " <matplotlib.axis.XTick at 0x7f2f551f6620>,\n",
       " <matplotlib.axis.XTick at 0x7f2f54d0d510>,\n",
       " <matplotlib.axis.XTick at 0x7f2f54d0df30>,\n",
       " <matplotlib.axis.XTick at 0x7f2f54d0e950>,\n",
       " <matplotlib.axis.XTick at 0x7f2f551f78e0>,\n",
       " <matplotlib.axis.XTick at 0x7f2f54d0dba0>,\n",
       " <matplotlib.axis.XTick at 0x7f2f54d0fbe0>,\n",
       " <matplotlib.axis.XTick at 0x7f2f54d2c640>,\n",
       " <matplotlib.axis.XTick at 0x7f2f54d2d060>,\n",
       " <matplotlib.axis.XTick at 0x7f2f54d0f940>,\n",
       " <matplotlib.axis.XTick at 0x7f2f54d2c160>,\n",
       " <matplotlib.axis.XTick at 0x7f2f54d2e380>,\n",
       " <matplotlib.axis.XTick at 0x7f2f54d2eda0>,\n",
       " <matplotlib.axis.XTick at 0x7f2f54d2f7c0>,\n",
       " <matplotlib.axis.XTick at 0x7f2f54d2f2b0>,\n",
       " <matplotlib.axis.XTick at 0x7f2f54d4c160>,\n",
       " <matplotlib.axis.XTick at 0x7f2f54d4ca00>,\n",
       " <matplotlib.axis.XTick at 0x7f2f551a5210>,\n",
       " <matplotlib.axis.XTick at 0x7f2f54c36e30>,\n",
       " <matplotlib.axis.XTick at 0x7f2f54c37880>,\n",
       " <matplotlib.axis.XTick at 0x7f2f54c440d0>,\n",
       " <matplotlib.axis.XTick at 0x7f2f54c44af0>,\n",
       " <matplotlib.axis.XTick at 0x7f2f54c37760>,\n",
       " <matplotlib.axis.XTick at 0x7f2f54c44220>,\n",
       " <matplotlib.axis.XTick at 0x7f2f54c45e10>,\n",
       " <matplotlib.axis.XTick at 0x7f2f54c46830>,\n",
       " <matplotlib.axis.XTick at 0x7f2f54c47250>,\n",
       " <matplotlib.axis.XTick at 0x7f2f54c46e90>,\n",
       " <matplotlib.axis.XTick at 0x7f2f54c47a30>,\n",
       " <matplotlib.axis.XTick at 0x7f2f54c68490>,\n",
       " <matplotlib.axis.XTick at 0x7f2f54c68eb0>,\n",
       " <matplotlib.axis.XTick at 0x7f2f54c698d0>,\n",
       " <matplotlib.axis.XTick at 0x7f2f54c69960>,\n",
       " <matplotlib.axis.XTick at 0x7f2f54c6a020>,\n",
       " <matplotlib.axis.XTick at 0x7f2f54c6aa40>,\n",
       " <matplotlib.axis.XTick at 0x7f2f54c6b460>,\n",
       " <matplotlib.axis.XTick at 0x7f2f54c6be80>,\n",
       " <matplotlib.axis.XTick at 0x7f2f54c45930>,\n",
       " <matplotlib.axis.XTick at 0x7f2f54c84130>,\n",
       " <matplotlib.axis.XTick at 0x7f2f54c84850>,\n",
       " <matplotlib.axis.XTick at 0x7f2f54c85270>,\n",
       " <matplotlib.axis.XTick at 0x7f2f54c6a530>,\n",
       " <matplotlib.axis.XTick at 0x7f2f54c84370>,\n",
       " <matplotlib.axis.XTick at 0x7f2f54c86590>,\n",
       " <matplotlib.axis.XTick at 0x7f2f54c86fb0>,\n",
       " <matplotlib.axis.XTick at 0x7f2f54c879d0>,\n",
       " <matplotlib.axis.XTick at 0x7f2f54c87070>,\n",
       " <matplotlib.axis.XTick at 0x7f2f54ca01f0>]"
      ]
     },
     "execution_count": 12,
     "metadata": {},
     "output_type": "execute_result"
    },
    {
     "data": {
      "text/plain": [
       "[<matplotlib.axis.YTick at 0x7f2f551a56c0>,\n",
       " <matplotlib.axis.YTick at 0x7f2f551d9b70>,\n",
       " <matplotlib.axis.YTick at 0x7f2f54d2df90>,\n",
       " <matplotlib.axis.YTick at 0x7f2f54d4cb50>,\n",
       " <matplotlib.axis.YTick at 0x7f2f54d4e740>,\n",
       " <matplotlib.axis.YTick at 0x7f2f54d4f160>,\n",
       " <matplotlib.axis.YTick at 0x7f2f54d4fb80>,\n",
       " <matplotlib.axis.YTick at 0x7f2f54d4f8e0>,\n",
       " <matplotlib.axis.YTick at 0x7f2f54d644c0>,\n",
       " <matplotlib.axis.YTick at 0x7f2f54d64ee0>,\n",
       " <matplotlib.axis.YTick at 0x7f2f54d65900>,\n",
       " <matplotlib.axis.YTick at 0x7f2f54d66320>,\n",
       " <matplotlib.axis.YTick at 0x7f2f54d662f0>,\n",
       " <matplotlib.axis.YTick at 0x7f2f54d66b00>,\n",
       " <matplotlib.axis.YTick at 0x7f2f54d67520>,\n",
       " <matplotlib.axis.YTick at 0x7f2f54d8c100>,\n",
       " <matplotlib.axis.YTick at 0x7f2f54d67d00>,\n",
       " <matplotlib.axis.YTick at 0x7f2f54d4df30>,\n",
       " <matplotlib.axis.YTick at 0x7f2f551f4430>,\n",
       " <matplotlib.axis.YTick at 0x7f2f54d8cf40>,\n",
       " <matplotlib.axis.YTick at 0x7f2f54d8d960>,\n",
       " <matplotlib.axis.YTick at 0x7f2f54d64ca0>,\n",
       " <matplotlib.axis.YTick at 0x7f2f54d8c5e0>,\n",
       " <matplotlib.axis.YTick at 0x7f2f54d8ec80>,\n",
       " <matplotlib.axis.YTick at 0x7f2f54d8f6a0>,\n",
       " <matplotlib.axis.YTick at 0x7f2f54dcc100>,\n",
       " <matplotlib.axis.YTick at 0x7f2f54d8f310>,\n",
       " <matplotlib.axis.YTick at 0x7f2f54dcc8e0>,\n",
       " <matplotlib.axis.YTick at 0x7f2f54dcd300>,\n",
       " <matplotlib.axis.YTick at 0x7f2f54dcdd20>,\n",
       " <matplotlib.axis.YTick at 0x7f2f54d8d720>,\n",
       " <matplotlib.axis.YTick at 0x7f2f54dcd060>,\n",
       " <matplotlib.axis.YTick at 0x7f2f55190c10>,\n",
       " <matplotlib.axis.YTick at 0x7f2f54ca10f0>,\n",
       " <matplotlib.axis.YTick at 0x7f2f54ca1900>,\n",
       " <matplotlib.axis.YTick at 0x7f2f54ca2320>,\n",
       " <matplotlib.axis.YTick at 0x7f2f54ca2d40>,\n",
       " <matplotlib.axis.YTick at 0x7f2f54ca2d10>,\n",
       " <matplotlib.axis.YTick at 0x7f2f54ca3640>,\n",
       " <matplotlib.axis.YTick at 0x7f2f54cbc0a0>,\n",
       " <matplotlib.axis.YTick at 0x7f2f54cbcac0>,\n",
       " <matplotlib.axis.YTick at 0x7f2f54cbd4e0>,\n",
       " <matplotlib.axis.YTick at 0x7f2f54cbd630>,\n",
       " <matplotlib.axis.YTick at 0x7f2f54cbdcc0>,\n",
       " <matplotlib.axis.YTick at 0x7f2f54cbe6e0>,\n",
       " <matplotlib.axis.YTick at 0x7f2f54cbf100>,\n",
       " <matplotlib.axis.YTick at 0x7f2f54cbfcd0>,\n",
       " <matplotlib.axis.YTick at 0x7f2f54cbe1a0>,\n",
       " <matplotlib.axis.YTick at 0x7f2f54cdc3d0>,\n",
       " <matplotlib.axis.YTick at 0x7f2f54cdcdf0>,\n",
       " <matplotlib.axis.YTick at 0x7f2f54cdd810>,\n",
       " <matplotlib.axis.YTick at 0x7f2f54cdd840>,\n",
       " <matplotlib.axis.YTick at 0x7f2f54cdc040>,\n",
       " <matplotlib.axis.YTick at 0x7f2f54cdeb30>,\n",
       " <matplotlib.axis.YTick at 0x7f2f54cdf550>,\n",
       " <matplotlib.axis.YTick at 0x7f2f54cfc130>,\n",
       " <matplotlib.axis.YTick at 0x7f2f54cdf160>,\n",
       " <matplotlib.axis.YTick at 0x7f2f54cfc790>,\n",
       " <matplotlib.axis.YTick at 0x7f2f54cfd1b0>,\n",
       " <matplotlib.axis.YTick at 0x7f2f54cfdbd0>,\n",
       " <matplotlib.axis.YTick at 0x7f2f54cde1d0>,\n",
       " <matplotlib.axis.YTick at 0x7f2f54cfd240>,\n",
       " <matplotlib.axis.YTick at 0x7f2f54cfeef0>]"
      ]
     },
     "execution_count": 12,
     "metadata": {},
     "output_type": "execute_result"
    },
    {
     "data": {
      "text/plain": [
       "[Text(0, 0, '0'),\n",
       " Text(1, 0, '10'),\n",
       " Text(2, 0, '20'),\n",
       " Text(3, 0, '30'),\n",
       " Text(4, 0, '40'),\n",
       " Text(5, 0, '50'),\n",
       " Text(6, 0, '60'),\n",
       " Text(7, 0, '70'),\n",
       " Text(8, 0, '80'),\n",
       " Text(9, 0, '90'),\n",
       " Text(10, 0, '100'),\n",
       " Text(11, 0, '110'),\n",
       " Text(12, 0, '120'),\n",
       " Text(13, 0, '130'),\n",
       " Text(14, 0, '140'),\n",
       " Text(15, 0, '150'),\n",
       " Text(16, 0, '160'),\n",
       " Text(17, 0, '170'),\n",
       " Text(18, 0, '180'),\n",
       " Text(19, 0, '190'),\n",
       " Text(20, 0, '200'),\n",
       " Text(21, 0, '210'),\n",
       " Text(22, 0, '220'),\n",
       " Text(23, 0, '230'),\n",
       " Text(24, 0, '240'),\n",
       " Text(25, 0, '250'),\n",
       " Text(26, 0, '260'),\n",
       " Text(27, 0, '270'),\n",
       " Text(28, 0, '280'),\n",
       " Text(29, 0, '290'),\n",
       " Text(30, 0, '300'),\n",
       " Text(31, 0, '310'),\n",
       " Text(32, 0, '320'),\n",
       " Text(33, 0, '330'),\n",
       " Text(34, 0, '340'),\n",
       " Text(35, 0, '350'),\n",
       " Text(36, 0, '360'),\n",
       " Text(37, 0, '370'),\n",
       " Text(38, 0, '380'),\n",
       " Text(39, 0, '390'),\n",
       " Text(40, 0, '400'),\n",
       " Text(41, 0, '410'),\n",
       " Text(42, 0, '420'),\n",
       " Text(43, 0, '430'),\n",
       " Text(44, 0, '440'),\n",
       " Text(45, 0, '450'),\n",
       " Text(46, 0, '460'),\n",
       " Text(47, 0, '470'),\n",
       " Text(48, 0, '480'),\n",
       " Text(49, 0, '490'),\n",
       " Text(50, 0, '500'),\n",
       " Text(51, 0, '510'),\n",
       " Text(52, 0, '520'),\n",
       " Text(53, 0, '530'),\n",
       " Text(54, 0, '540'),\n",
       " Text(55, 0, '550'),\n",
       " Text(56, 0, '560'),\n",
       " Text(57, 0, '570'),\n",
       " Text(58, 0, '580'),\n",
       " Text(59, 0, '590'),\n",
       " Text(60, 0, '600'),\n",
       " Text(61, 0, '610'),\n",
       " Text(62, 0, '620')]"
      ]
     },
     "execution_count": 12,
     "metadata": {},
     "output_type": "execute_result"
    },
    {
     "data": {
      "text/plain": [
       "[Text(0, 0, '0'),\n",
       " Text(0, 1, '10'),\n",
       " Text(0, 2, '20'),\n",
       " Text(0, 3, '30'),\n",
       " Text(0, 4, '40'),\n",
       " Text(0, 5, '50'),\n",
       " Text(0, 6, '60'),\n",
       " Text(0, 7, '70'),\n",
       " Text(0, 8, '80'),\n",
       " Text(0, 9, '90'),\n",
       " Text(0, 10, '100'),\n",
       " Text(0, 11, '110'),\n",
       " Text(0, 12, '120'),\n",
       " Text(0, 13, '130'),\n",
       " Text(0, 14, '140'),\n",
       " Text(0, 15, '150'),\n",
       " Text(0, 16, '160'),\n",
       " Text(0, 17, '170'),\n",
       " Text(0, 18, '180'),\n",
       " Text(0, 19, '190'),\n",
       " Text(0, 20, '200'),\n",
       " Text(0, 21, '210'),\n",
       " Text(0, 22, '220'),\n",
       " Text(0, 23, '230'),\n",
       " Text(0, 24, '240'),\n",
       " Text(0, 25, '250'),\n",
       " Text(0, 26, '260'),\n",
       " Text(0, 27, '270'),\n",
       " Text(0, 28, '280'),\n",
       " Text(0, 29, '290'),\n",
       " Text(0, 30, '300'),\n",
       " Text(0, 31, '310'),\n",
       " Text(0, 32, '320'),\n",
       " Text(0, 33, '330'),\n",
       " Text(0, 34, '340'),\n",
       " Text(0, 35, '350'),\n",
       " Text(0, 36, '360'),\n",
       " Text(0, 37, '370'),\n",
       " Text(0, 38, '380'),\n",
       " Text(0, 39, '390'),\n",
       " Text(0, 40, '400'),\n",
       " Text(0, 41, '410'),\n",
       " Text(0, 42, '420'),\n",
       " Text(0, 43, '430'),\n",
       " Text(0, 44, '440'),\n",
       " Text(0, 45, '450'),\n",
       " Text(0, 46, '460'),\n",
       " Text(0, 47, '470'),\n",
       " Text(0, 48, '480'),\n",
       " Text(0, 49, '490'),\n",
       " Text(0, 50, '500'),\n",
       " Text(0, 51, '510'),\n",
       " Text(0, 52, '520'),\n",
       " Text(0, 53, '530'),\n",
       " Text(0, 54, '540'),\n",
       " Text(0, 55, '550'),\n",
       " Text(0, 56, '560'),\n",
       " Text(0, 57, '570'),\n",
       " Text(0, 58, '580'),\n",
       " Text(0, 59, '590'),\n",
       " Text(0, 60, '600'),\n",
       " Text(0, 61, '610'),\n",
       " Text(0, 62, '620')]"
      ]
     },
     "execution_count": 12,
     "metadata": {},
     "output_type": "execute_result"
    },
    {
     "data": {
      "text/plain": [
       "Text(0.5, 1.0, 'Attention Map of Layer 7')"
      ]
     },
     "execution_count": 12,
     "metadata": {},
     "output_type": "execute_result"
    },
    {
     "data": {
      "text/plain": [
       "Text(0.5, 242.16666666666694, 'Column')"
      ]
     },
     "execution_count": 12,
     "metadata": {},
     "output_type": "execute_result"
    },
    {
     "data": {
      "text/plain": [
       "Text(187.79166666666666, 0.5, 'Row')"
      ]
     },
     "execution_count": 12,
     "metadata": {},
     "output_type": "execute_result"
    },
    {
     "data": {
      "text/plain": [
       "Text(0.5, 1.0, 'Attention from last input token to vision of Layer 7')"
      ]
     },
     "execution_count": 12,
     "metadata": {},
     "output_type": "execute_result"
    },
    {
     "data": {
      "text/plain": [
       "<matplotlib.image.AxesImage at 0x7f2f54cff010>"
      ]
     },
     "execution_count": 12,
     "metadata": {},
     "output_type": "execute_result"
    },
    {
     "data": {
      "text/plain": [
       "(0.0, 22.0)"
      ]
     },
     "execution_count": 12,
     "metadata": {},
     "output_type": "execute_result"
    },
    {
     "data": {
      "text/plain": [
       "(22.0, 0.0)"
      ]
     },
     "execution_count": 12,
     "metadata": {},
     "output_type": "execute_result"
    },
    {
     "name": "stderr",
     "output_type": "stream",
     "text": [
      "/tmp/ipykernel_1627/3125494494.py:15: MatplotlibDeprecationWarning: The get_cmap function was deprecated in Matplotlib 3.7 and will be removed in 3.11. Use ``matplotlib.colormaps[name]`` or ``matplotlib.colormaps.get_cmap()`` or ``pyplot.get_cmap()`` instead.\n",
      "  cmap = plt.cm.get_cmap(\"viridis\")\n"
     ]
    },
    {
     "data": {
      "text/plain": [
       "<Axes: >"
      ]
     },
     "execution_count": 12,
     "metadata": {},
     "output_type": "execute_result"
    },
    {
     "data": {
      "text/plain": [
       "[<matplotlib.axis.XTick at 0x7f2f54e8f7f0>,\n",
       " <matplotlib.axis.XTick at 0x7f2f54edb640>,\n",
       " <matplotlib.axis.XTick at 0x7f2f54ef44c0>,\n",
       " <matplotlib.axis.XTick at 0x7f2f54ef4550>,\n",
       " <matplotlib.axis.XTick at 0x7f2f54ef57b0>,\n",
       " <matplotlib.axis.XTick at 0x7f2f54edbb80>,\n",
       " <matplotlib.axis.XTick at 0x7f2f54ef4730>,\n",
       " <matplotlib.axis.XTick at 0x7f2f54ef6c80>,\n",
       " <matplotlib.axis.XTick at 0x7f2f54ef76a0>,\n",
       " <matplotlib.axis.XTick at 0x7f2f54a0c100>,\n",
       " <matplotlib.axis.XTick at 0x7f2f54ef77f0>,\n",
       " <matplotlib.axis.XTick at 0x7f2f54a0ca00>,\n",
       " <matplotlib.axis.XTick at 0x7f2f54a0d420>,\n",
       " <matplotlib.axis.XTick at 0x7f2f54a0de40>,\n",
       " <matplotlib.axis.XTick at 0x7f2f54a0e860>,\n",
       " <matplotlib.axis.XTick at 0x7f2f54a0e4a0>,\n",
       " <matplotlib.axis.XTick at 0x7f2f54a0f040>,\n",
       " <matplotlib.axis.XTick at 0x7f2f54a0fa60>,\n",
       " <matplotlib.axis.XTick at 0x7f2f54a284c0>,\n",
       " <matplotlib.axis.XTick at 0x7f2f54a0fbb0>,\n",
       " <matplotlib.axis.XTick at 0x7f2f54a29090>,\n",
       " <matplotlib.axis.XTick at 0x7f2f54a29750>,\n",
       " <matplotlib.axis.XTick at 0x7f2f54a2a170>,\n",
       " <matplotlib.axis.XTick at 0x7f2f54a2ab90>,\n",
       " <matplotlib.axis.XTick at 0x7f2f54a2ac20>,\n",
       " <matplotlib.axis.XTick at 0x7f2f54a289a0>,\n",
       " <matplotlib.axis.XTick at 0x7f2f54a480a0>,\n",
       " <matplotlib.axis.XTick at 0x7f2f54a48910>,\n",
       " <matplotlib.axis.XTick at 0x7f2f54a49330>,\n",
       " <matplotlib.axis.XTick at 0x7f2f54a2b520>,\n",
       " <matplotlib.axis.XTick at 0x7f2f54a49b10>,\n",
       " <matplotlib.axis.XTick at 0x7f2f54a4a530>,\n",
       " <matplotlib.axis.XTick at 0x7f2f5492e470>,\n",
       " <matplotlib.axis.XTick at 0x7f2f54940ee0>,\n",
       " <matplotlib.axis.XTick at 0x7f2f54940f40>,\n",
       " <matplotlib.axis.XTick at 0x7f2f549420b0>,\n",
       " <matplotlib.axis.XTick at 0x7f2f54942ad0>,\n",
       " <matplotlib.axis.XTick at 0x7f2f54942bf0>,\n",
       " <matplotlib.axis.XTick at 0x7f2f549433d0>,\n",
       " <matplotlib.axis.XTick at 0x7f2f5495c130>,\n",
       " <matplotlib.axis.XTick at 0x7f2f5495c850>,\n",
       " <matplotlib.axis.XTick at 0x7f2f5495d270>,\n",
       " <matplotlib.axis.XTick at 0x7f2f5492cbb0>,\n",
       " <matplotlib.axis.XTick at 0x7f2f5495cb50>,\n",
       " <matplotlib.axis.XTick at 0x7f2f5495db70>,\n",
       " <matplotlib.axis.XTick at 0x7f2f5495e590>,\n",
       " <matplotlib.axis.XTick at 0x7f2f54941b70>,\n",
       " <matplotlib.axis.XTick at 0x7f2f5495e050>,\n",
       " <matplotlib.axis.XTick at 0x7f2f5495f790>,\n",
       " <matplotlib.axis.XTick at 0x7f2f5497c1f0>,\n",
       " <matplotlib.axis.XTick at 0x7f2f5497cc10>,\n",
       " <matplotlib.axis.XTick at 0x7f2f5495fe20>,\n",
       " <matplotlib.axis.XTick at 0x7f2f5497c2b0>,\n",
       " <matplotlib.axis.XTick at 0x7f2f5497df30>,\n",
       " <matplotlib.axis.XTick at 0x7f2f5497e950>,\n",
       " <matplotlib.axis.XTick at 0x7f2f5497f370>,\n",
       " <matplotlib.axis.XTick at 0x7f2f5497efb0>,\n",
       " <matplotlib.axis.XTick at 0x7f2f5497fb50>,\n",
       " <matplotlib.axis.XTick at 0x7f2f5499c5b0>,\n",
       " <matplotlib.axis.XTick at 0x7f2f5499cfd0>,\n",
       " <matplotlib.axis.XTick at 0x7f2f5497fc10>,\n",
       " <matplotlib.axis.XTick at 0x7f2f5499ca90>,\n",
       " <matplotlib.axis.XTick at 0x7f2f5499e2f0>]"
      ]
     },
     "execution_count": 12,
     "metadata": {},
     "output_type": "execute_result"
    },
    {
     "data": {
      "text/plain": [
       "[<matplotlib.axis.YTick at 0x7f2f54e8f820>,\n",
       " <matplotlib.axis.YTick at 0x7f2f54edb6a0>,\n",
       " <matplotlib.axis.YTick at 0x7f2f54a4b8b0>,\n",
       " <matplotlib.axis.YTick at 0x7f2f54a4a020>,\n",
       " <matplotlib.axis.YTick at 0x7f2f54a602b0>,\n",
       " <matplotlib.axis.YTick at 0x7f2f54a60cd0>,\n",
       " <matplotlib.axis.YTick at 0x7f2f54a616f0>,\n",
       " <matplotlib.axis.YTick at 0x7f2f54a4bd90>,\n",
       " <matplotlib.axis.YTick at 0x7f2f54ed9750>,\n",
       " <matplotlib.axis.YTick at 0x7f2f54a60340>,\n",
       " <matplotlib.axis.YTick at 0x7f2f54a62980>,\n",
       " <matplotlib.axis.YTick at 0x7f2f54a633a0>,\n",
       " <matplotlib.axis.YTick at 0x7f2f54a634c0>,\n",
       " <matplotlib.axis.YTick at 0x7f2f54a63b80>,\n",
       " <matplotlib.axis.YTick at 0x7f2f54a805e0>,\n",
       " <matplotlib.axis.YTick at 0x7f2f54a81000>,\n",
       " <matplotlib.axis.YTick at 0x7f2f54a81a20>,\n",
       " <matplotlib.axis.YTick at 0x7f2f54a81b70>,\n",
       " <matplotlib.axis.YTick at 0x7f2f54a82170>,\n",
       " <matplotlib.axis.YTick at 0x7f2f54a82b90>,\n",
       " <matplotlib.axis.YTick at 0x7f2f54a835b0>,\n",
       " <matplotlib.axis.YTick at 0x7f2f54a83c40>,\n",
       " <matplotlib.axis.YTick at 0x7f2f54a837f0>,\n",
       " <matplotlib.axis.YTick at 0x7f2f54acc880>,\n",
       " <matplotlib.axis.YTick at 0x7f2f54acd2a0>,\n",
       " <matplotlib.axis.YTick at 0x7f2f54acdcc0>,\n",
       " <matplotlib.axis.YTick at 0x7f2f54acdd80>,\n",
       " <matplotlib.axis.YTick at 0x7f2f54acc3a0>,\n",
       " <matplotlib.axis.YTick at 0x7f2f54acefe0>,\n",
       " <matplotlib.axis.YTick at 0x7f2f54acfa00>,\n",
       " <matplotlib.axis.YTick at 0x7f2f54ae4460>,\n",
       " <matplotlib.axis.YTick at 0x7f2f54acf130>,\n",
       " <matplotlib.axis.YTick at 0x7f2f54e8e5f0>,\n",
       " <matplotlib.axis.YTick at 0x7f2f5499c580>,\n",
       " <matplotlib.axis.YTick at 0x7f2f5499f5e0>,\n",
       " <matplotlib.axis.YTick at 0x7f2f549c4040>,\n",
       " <matplotlib.axis.YTick at 0x7f2f549c4a60>,\n",
       " <matplotlib.axis.YTick at 0x7f2f5499fc70>,\n",
       " <matplotlib.axis.YTick at 0x7f2f549c4070>,\n",
       " <matplotlib.axis.YTick at 0x7f2f549c5d80>,\n",
       " <matplotlib.axis.YTick at 0x7f2f549c67a0>,\n",
       " <matplotlib.axis.YTick at 0x7f2f549c71c0>,\n",
       " <matplotlib.axis.YTick at 0x7f2f549c7250>,\n",
       " <matplotlib.axis.YTick at 0x7f2f549c79a0>,\n",
       " <matplotlib.axis.YTick at 0x7f2f549d4400>,\n",
       " <matplotlib.axis.YTick at 0x7f2f549d4e20>,\n",
       " <matplotlib.axis.YTick at 0x7f2f549d5840>,\n",
       " <matplotlib.axis.YTick at 0x7f2f549d5960>,\n",
       " <matplotlib.axis.YTick at 0x7f2f549d5f90>,\n",
       " <matplotlib.axis.YTick at 0x7f2f549d69b0>,\n",
       " <matplotlib.axis.YTick at 0x7f2f549d73d0>,\n",
       " <matplotlib.axis.YTick at 0x7f2f549d7ee0>,\n",
       " <matplotlib.axis.YTick at 0x7f2f549d5fc0>,\n",
       " <matplotlib.axis.YTick at 0x7f2f549f4a30>,\n",
       " <matplotlib.axis.YTick at 0x7f2f549f5180>,\n",
       " <matplotlib.axis.YTick at 0x7f2f549f5ba0>,\n",
       " <matplotlib.axis.YTick at 0x7f2f549f5b70>,\n",
       " <matplotlib.axis.YTick at 0x7f2f549f64a0>,\n",
       " <matplotlib.axis.YTick at 0x7f2f549f6ec0>,\n",
       " <matplotlib.axis.YTick at 0x7f2f549f78e0>,\n",
       " <matplotlib.axis.YTick at 0x7f2f54b0c340>,\n",
       " <matplotlib.axis.YTick at 0x7f2f549f6fe0>,\n",
       " <matplotlib.axis.YTick at 0x7f2f54b0cb20>]"
      ]
     },
     "execution_count": 12,
     "metadata": {},
     "output_type": "execute_result"
    },
    {
     "data": {
      "text/plain": [
       "[Text(0, 0, '0'),\n",
       " Text(1, 0, '10'),\n",
       " Text(2, 0, '20'),\n",
       " Text(3, 0, '30'),\n",
       " Text(4, 0, '40'),\n",
       " Text(5, 0, '50'),\n",
       " Text(6, 0, '60'),\n",
       " Text(7, 0, '70'),\n",
       " Text(8, 0, '80'),\n",
       " Text(9, 0, '90'),\n",
       " Text(10, 0, '100'),\n",
       " Text(11, 0, '110'),\n",
       " Text(12, 0, '120'),\n",
       " Text(13, 0, '130'),\n",
       " Text(14, 0, '140'),\n",
       " Text(15, 0, '150'),\n",
       " Text(16, 0, '160'),\n",
       " Text(17, 0, '170'),\n",
       " Text(18, 0, '180'),\n",
       " Text(19, 0, '190'),\n",
       " Text(20, 0, '200'),\n",
       " Text(21, 0, '210'),\n",
       " Text(22, 0, '220'),\n",
       " Text(23, 0, '230'),\n",
       " Text(24, 0, '240'),\n",
       " Text(25, 0, '250'),\n",
       " Text(26, 0, '260'),\n",
       " Text(27, 0, '270'),\n",
       " Text(28, 0, '280'),\n",
       " Text(29, 0, '290'),\n",
       " Text(30, 0, '300'),\n",
       " Text(31, 0, '310'),\n",
       " Text(32, 0, '320'),\n",
       " Text(33, 0, '330'),\n",
       " Text(34, 0, '340'),\n",
       " Text(35, 0, '350'),\n",
       " Text(36, 0, '360'),\n",
       " Text(37, 0, '370'),\n",
       " Text(38, 0, '380'),\n",
       " Text(39, 0, '390'),\n",
       " Text(40, 0, '400'),\n",
       " Text(41, 0, '410'),\n",
       " Text(42, 0, '420'),\n",
       " Text(43, 0, '430'),\n",
       " Text(44, 0, '440'),\n",
       " Text(45, 0, '450'),\n",
       " Text(46, 0, '460'),\n",
       " Text(47, 0, '470'),\n",
       " Text(48, 0, '480'),\n",
       " Text(49, 0, '490'),\n",
       " Text(50, 0, '500'),\n",
       " Text(51, 0, '510'),\n",
       " Text(52, 0, '520'),\n",
       " Text(53, 0, '530'),\n",
       " Text(54, 0, '540'),\n",
       " Text(55, 0, '550'),\n",
       " Text(56, 0, '560'),\n",
       " Text(57, 0, '570'),\n",
       " Text(58, 0, '580'),\n",
       " Text(59, 0, '590'),\n",
       " Text(60, 0, '600'),\n",
       " Text(61, 0, '610'),\n",
       " Text(62, 0, '620')]"
      ]
     },
     "execution_count": 12,
     "metadata": {},
     "output_type": "execute_result"
    },
    {
     "data": {
      "text/plain": [
       "[Text(0, 0, '0'),\n",
       " Text(0, 1, '10'),\n",
       " Text(0, 2, '20'),\n",
       " Text(0, 3, '30'),\n",
       " Text(0, 4, '40'),\n",
       " Text(0, 5, '50'),\n",
       " Text(0, 6, '60'),\n",
       " Text(0, 7, '70'),\n",
       " Text(0, 8, '80'),\n",
       " Text(0, 9, '90'),\n",
       " Text(0, 10, '100'),\n",
       " Text(0, 11, '110'),\n",
       " Text(0, 12, '120'),\n",
       " Text(0, 13, '130'),\n",
       " Text(0, 14, '140'),\n",
       " Text(0, 15, '150'),\n",
       " Text(0, 16, '160'),\n",
       " Text(0, 17, '170'),\n",
       " Text(0, 18, '180'),\n",
       " Text(0, 19, '190'),\n",
       " Text(0, 20, '200'),\n",
       " Text(0, 21, '210'),\n",
       " Text(0, 22, '220'),\n",
       " Text(0, 23, '230'),\n",
       " Text(0, 24, '240'),\n",
       " Text(0, 25, '250'),\n",
       " Text(0, 26, '260'),\n",
       " Text(0, 27, '270'),\n",
       " Text(0, 28, '280'),\n",
       " Text(0, 29, '290'),\n",
       " Text(0, 30, '300'),\n",
       " Text(0, 31, '310'),\n",
       " Text(0, 32, '320'),\n",
       " Text(0, 33, '330'),\n",
       " Text(0, 34, '340'),\n",
       " Text(0, 35, '350'),\n",
       " Text(0, 36, '360'),\n",
       " Text(0, 37, '370'),\n",
       " Text(0, 38, '380'),\n",
       " Text(0, 39, '390'),\n",
       " Text(0, 40, '400'),\n",
       " Text(0, 41, '410'),\n",
       " Text(0, 42, '420'),\n",
       " Text(0, 43, '430'),\n",
       " Text(0, 44, '440'),\n",
       " Text(0, 45, '450'),\n",
       " Text(0, 46, '460'),\n",
       " Text(0, 47, '470'),\n",
       " Text(0, 48, '480'),\n",
       " Text(0, 49, '490'),\n",
       " Text(0, 50, '500'),\n",
       " Text(0, 51, '510'),\n",
       " Text(0, 52, '520'),\n",
       " Text(0, 53, '530'),\n",
       " Text(0, 54, '540'),\n",
       " Text(0, 55, '550'),\n",
       " Text(0, 56, '560'),\n",
       " Text(0, 57, '570'),\n",
       " Text(0, 58, '580'),\n",
       " Text(0, 59, '590'),\n",
       " Text(0, 60, '600'),\n",
       " Text(0, 61, '610'),\n",
       " Text(0, 62, '620')]"
      ]
     },
     "execution_count": 12,
     "metadata": {},
     "output_type": "execute_result"
    },
    {
     "data": {
      "text/plain": [
       "Text(0.5, 1.0, 'Attention Map of Layer 8')"
      ]
     },
     "execution_count": 12,
     "metadata": {},
     "output_type": "execute_result"
    },
    {
     "data": {
      "text/plain": [
       "Text(0.5, 242.16666666666694, 'Column')"
      ]
     },
     "execution_count": 12,
     "metadata": {},
     "output_type": "execute_result"
    },
    {
     "data": {
      "text/plain": [
       "Text(187.79166666666666, 0.5, 'Row')"
      ]
     },
     "execution_count": 12,
     "metadata": {},
     "output_type": "execute_result"
    },
    {
     "data": {
      "text/plain": [
       "Text(0.5, 1.0, 'Attention from last input token to vision of Layer 8')"
      ]
     },
     "execution_count": 12,
     "metadata": {},
     "output_type": "execute_result"
    },
    {
     "data": {
      "text/plain": [
       "<matplotlib.image.AxesImage at 0x7f2f549d48e0>"
      ]
     },
     "execution_count": 12,
     "metadata": {},
     "output_type": "execute_result"
    },
    {
     "data": {
      "text/plain": [
       "(0.0, 22.0)"
      ]
     },
     "execution_count": 12,
     "metadata": {},
     "output_type": "execute_result"
    },
    {
     "data": {
      "text/plain": [
       "(22.0, 0.0)"
      ]
     },
     "execution_count": 12,
     "metadata": {},
     "output_type": "execute_result"
    },
    {
     "name": "stderr",
     "output_type": "stream",
     "text": [
      "/tmp/ipykernel_1627/3125494494.py:15: MatplotlibDeprecationWarning: The get_cmap function was deprecated in Matplotlib 3.7 and will be removed in 3.11. Use ``matplotlib.colormaps[name]`` or ``matplotlib.colormaps.get_cmap()`` or ``pyplot.get_cmap()`` instead.\n",
      "  cmap = plt.cm.get_cmap(\"viridis\")\n"
     ]
    },
    {
     "data": {
      "text/plain": [
       "<Axes: >"
      ]
     },
     "execution_count": 12,
     "metadata": {},
     "output_type": "execute_result"
    },
    {
     "data": {
      "text/plain": [
       "[<matplotlib.axis.XTick at 0x7f2f54b800a0>,\n",
       " <matplotlib.axis.XTick at 0x7f2f54be07f0>,\n",
       " <matplotlib.axis.XTick at 0x7f2f54be1420>,\n",
       " <matplotlib.axis.XTick at 0x7f2f54be14b0>,\n",
       " <matplotlib.axis.XTick at 0x7f2f54be0b20>,\n",
       " <matplotlib.axis.XTick at 0x7f2f54be2b90>,\n",
       " <matplotlib.axis.XTick at 0x7f2f54be35b0>,\n",
       " <matplotlib.axis.XTick at 0x7f2f54bfc040>,\n",
       " <matplotlib.axis.XTick at 0x7f2f54be3c10>,\n",
       " <matplotlib.axis.XTick at 0x7f2f54bfc550>,\n",
       " <matplotlib.axis.XTick at 0x7f2f54bfd330>,\n",
       " <matplotlib.axis.XTick at 0x7f2f54bfdd50>,\n",
       " <matplotlib.axis.XTick at 0x7f2f54bfe770>,\n",
       " <matplotlib.axis.XTick at 0x7f2f54bfef80>,\n",
       " <matplotlib.axis.XTick at 0x7f2f54bff070>,\n",
       " <matplotlib.axis.XTick at 0x7f2f54bffa90>,\n",
       " <matplotlib.axis.XTick at 0x7f2f547144f0>,\n",
       " <matplotlib.axis.XTick at 0x7f2f54714f10>,\n",
       " <matplotlib.axis.XTick at 0x7f2f54714f40>,\n",
       " <matplotlib.axis.XTick at 0x7f2f547156f0>,\n",
       " <matplotlib.axis.XTick at 0x7f2f54716110>,\n",
       " <matplotlib.axis.XTick at 0x7f2f54716b30>,\n",
       " <matplotlib.axis.XTick at 0x7f2f54bffbe0>,\n",
       " <matplotlib.axis.XTick at 0x7f2f54715d50>,\n",
       " <matplotlib.axis.XTick at 0x7f2f54717fd0>,\n",
       " <matplotlib.axis.XTick at 0x7f2f54738820>,\n",
       " <matplotlib.axis.XTick at 0x7f2f54739240>,\n",
       " <matplotlib.axis.XTick at 0x7f2f54717b20>,\n",
       " <matplotlib.axis.XTick at 0x7f2f54738340>,\n",
       " <matplotlib.axis.XTick at 0x7f2f5473a560>,\n",
       " <matplotlib.axis.XTick at 0x7f2f5473af80>,\n",
       " <matplotlib.axis.XTick at 0x7f2f5473b9a0>,\n",
       " <matplotlib.axis.XTick at 0x7f2f54b89840>,\n",
       " <matplotlib.axis.XTick at 0x7f2f5463a050>,\n",
       " <matplotlib.axis.XTick at 0x7f2f5463a7d0>,\n",
       " <matplotlib.axis.XTick at 0x7f2f5463afe0>,\n",
       " <matplotlib.axis.XTick at 0x7f2f5463ba00>,\n",
       " <matplotlib.axis.XTick at 0x7f2f5463b640>,\n",
       " <matplotlib.axis.XTick at 0x7f2f546483d0>,\n",
       " <matplotlib.axis.XTick at 0x7f2f54648d60>,\n",
       " <matplotlib.axis.XTick at 0x7f2f54649780>,\n",
       " <matplotlib.axis.XTick at 0x7f2f5464a1a0>,\n",
       " <matplotlib.axis.XTick at 0x7f2f547dcbe0>,\n",
       " <matplotlib.axis.XTick at 0x7f2f54649a80>,\n",
       " <matplotlib.axis.XTick at 0x7f2f546481f0>,\n",
       " <matplotlib.axis.XTick at 0x7f2f5464b160>,\n",
       " <matplotlib.axis.XTick at 0x7f2f5464bb80>,\n",
       " <matplotlib.axis.XTick at 0x7f2f6c128f70>,\n",
       " <matplotlib.axis.XTick at 0x7f2f5cf60430>,\n",
       " <matplotlib.axis.XTick at 0x7f2f5c4c8a90>,\n",
       " <matplotlib.axis.XTick at 0x7f2f5c45f0a0>,\n",
       " <matplotlib.axis.XTick at 0x7f2f5c36aa70>,\n",
       " <matplotlib.axis.XTick at 0x7f2f5c354670>,\n",
       " <matplotlib.axis.XTick at 0x7f2f55a720e0>,\n",
       " <matplotlib.axis.XTick at 0x7f2f744c4490>,\n",
       " <matplotlib.axis.XTick at 0x7f2f55a8c4f0>,\n",
       " <matplotlib.axis.XTick at 0x7f2f55a2d6c0>,\n",
       " <matplotlib.axis.XTick at 0x7f2f55a2c850>,\n",
       " <matplotlib.axis.XTick at 0x7f2f55ace770>,\n",
       " <matplotlib.axis.XTick at 0x7f2f55aceaa0>,\n",
       " <matplotlib.axis.XTick at 0x7f2f5560a320>,\n",
       " <matplotlib.axis.XTick at 0x7f2f55638c70>,\n",
       " <matplotlib.axis.XTick at 0x7f2f5563aa40>]"
      ]
     },
     "execution_count": 12,
     "metadata": {},
     "output_type": "execute_result"
    },
    {
     "data": {
      "text/plain": [
       "[<matplotlib.axis.YTick at 0x7f2f54b800d0>,\n",
       " <matplotlib.axis.YTick at 0x7f2f54be07c0>,\n",
       " <matplotlib.axis.YTick at 0x7f2f547543d0>,\n",
       " <matplotlib.axis.YTick at 0x7f2f54754be0>,\n",
       " <matplotlib.axis.YTick at 0x7f2f54755600>,\n",
       " <matplotlib.axis.YTick at 0x7f2f54739c60>,\n",
       " <matplotlib.axis.YTick at 0x7f2f54bfec80>,\n",
       " <matplotlib.axis.YTick at 0x7f2f54754c10>,\n",
       " <matplotlib.axis.YTick at 0x7f2f54756890>,\n",
       " <matplotlib.axis.YTick at 0x7f2f547572b0>,\n",
       " <matplotlib.axis.YTick at 0x7f2f54757370>,\n",
       " <matplotlib.axis.YTick at 0x7f2f54755f90>,\n",
       " <matplotlib.axis.YTick at 0x7f2f54778610>,\n",
       " <matplotlib.axis.YTick at 0x7f2f54779030>,\n",
       " <matplotlib.axis.YTick at 0x7f2f54779a50>,\n",
       " <matplotlib.axis.YTick at 0x7f2f5477a0b0>,\n",
       " <matplotlib.axis.YTick at 0x7f2f5477a230>,\n",
       " <matplotlib.axis.YTick at 0x7f2f5477ac50>,\n",
       " <matplotlib.axis.YTick at 0x7f2f5477b670>,\n",
       " <matplotlib.axis.YTick at 0x7f2f5477bb50>,\n",
       " <matplotlib.axis.YTick at 0x7f2f547c42b0>,\n",
       " <matplotlib.axis.YTick at 0x7f2f547c49d0>,\n",
       " <matplotlib.axis.YTick at 0x7f2f547c53f0>,\n",
       " <matplotlib.axis.YTick at 0x7f2f547c5e10>,\n",
       " <matplotlib.axis.YTick at 0x7f2f547c5ed0>,\n",
       " <matplotlib.axis.YTick at 0x7f2f547c44f0>,\n",
       " <matplotlib.axis.YTick at 0x7f2f547c7130>,\n",
       " <matplotlib.axis.YTick at 0x7f2f547c7b50>,\n",
       " <matplotlib.axis.YTick at 0x7f2f547dc5b0>,\n",
       " <matplotlib.axis.YTick at 0x7f2f547c71f0>,\n",
       " <matplotlib.axis.YTick at 0x7f2f547dcd90>,\n",
       " <matplotlib.axis.YTick at 0x7f2f547dd7b0>,\n",
       " <matplotlib.axis.YTick at 0x7f2f5473b040>,\n",
       " <matplotlib.axis.YTick at 0x7f2f55a89ab0>,\n",
       " <matplotlib.axis.YTick at 0x7f2f55a8a800>,\n",
       " <matplotlib.axis.YTick at 0x7f2f55a8bb80>,\n",
       " <matplotlib.axis.YTick at 0x7f2f55623010>,\n",
       " <matplotlib.axis.YTick at 0x7f2f55a89f30>,\n",
       " <matplotlib.axis.YTick at 0x7f2f5564ef50>,\n",
       " <matplotlib.axis.YTick at 0x7f2f556ea9b0>,\n",
       " <matplotlib.axis.YTick at 0x7f2f5570d120>,\n",
       " <matplotlib.axis.YTick at 0x7f2f5564f3a0>,\n",
       " <matplotlib.axis.YTick at 0x7f2f5571cdf0>,\n",
       " <matplotlib.axis.YTick at 0x7f2f5571e860>,\n",
       " <matplotlib.axis.YTick at 0x7f2f5573bf40>,\n",
       " <matplotlib.axis.YTick at 0x7f2f5574e620>,\n",
       " <matplotlib.axis.YTick at 0x7f2f54b8b6d0>,\n",
       " <matplotlib.axis.YTick at 0x7f2f547ff4c0>,\n",
       " <matplotlib.axis.YTick at 0x7f2f547dc370>,\n",
       " <matplotlib.axis.YTick at 0x7f2f546226b0>,\n",
       " <matplotlib.axis.YTick at 0x7f2f547fc190>,\n",
       " <matplotlib.axis.YTick at 0x7f2f5464a170>,\n",
       " <matplotlib.axis.YTick at 0x7f2f55087910>,\n",
       " <matplotlib.axis.YTick at 0x7f2f55afa080>,\n",
       " <matplotlib.axis.YTick at 0x7f2f54756170>,\n",
       " <matplotlib.axis.YTick at 0x7f2f55add2d0>,\n",
       " <matplotlib.axis.YTick at 0x7f2f558d1a50>,\n",
       " <matplotlib.axis.YTick at 0x7f2f54670d60>,\n",
       " <matplotlib.axis.YTick at 0x7f2f546719c0>,\n",
       " <matplotlib.axis.YTick at 0x7f2f556ca050>,\n",
       " <matplotlib.axis.YTick at 0x7f2f54671c90>,\n",
       " <matplotlib.axis.YTick at 0x7f2f546728f0>,\n",
       " <matplotlib.axis.YTick at 0x7f2f54673550>]"
      ]
     },
     "execution_count": 12,
     "metadata": {},
     "output_type": "execute_result"
    },
    {
     "data": {
      "text/plain": [
       "[Text(0, 0, '0'),\n",
       " Text(1, 0, '10'),\n",
       " Text(2, 0, '20'),\n",
       " Text(3, 0, '30'),\n",
       " Text(4, 0, '40'),\n",
       " Text(5, 0, '50'),\n",
       " Text(6, 0, '60'),\n",
       " Text(7, 0, '70'),\n",
       " Text(8, 0, '80'),\n",
       " Text(9, 0, '90'),\n",
       " Text(10, 0, '100'),\n",
       " Text(11, 0, '110'),\n",
       " Text(12, 0, '120'),\n",
       " Text(13, 0, '130'),\n",
       " Text(14, 0, '140'),\n",
       " Text(15, 0, '150'),\n",
       " Text(16, 0, '160'),\n",
       " Text(17, 0, '170'),\n",
       " Text(18, 0, '180'),\n",
       " Text(19, 0, '190'),\n",
       " Text(20, 0, '200'),\n",
       " Text(21, 0, '210'),\n",
       " Text(22, 0, '220'),\n",
       " Text(23, 0, '230'),\n",
       " Text(24, 0, '240'),\n",
       " Text(25, 0, '250'),\n",
       " Text(26, 0, '260'),\n",
       " Text(27, 0, '270'),\n",
       " Text(28, 0, '280'),\n",
       " Text(29, 0, '290'),\n",
       " Text(30, 0, '300'),\n",
       " Text(31, 0, '310'),\n",
       " Text(32, 0, '320'),\n",
       " Text(33, 0, '330'),\n",
       " Text(34, 0, '340'),\n",
       " Text(35, 0, '350'),\n",
       " Text(36, 0, '360'),\n",
       " Text(37, 0, '370'),\n",
       " Text(38, 0, '380'),\n",
       " Text(39, 0, '390'),\n",
       " Text(40, 0, '400'),\n",
       " Text(41, 0, '410'),\n",
       " Text(42, 0, '420'),\n",
       " Text(43, 0, '430'),\n",
       " Text(44, 0, '440'),\n",
       " Text(45, 0, '450'),\n",
       " Text(46, 0, '460'),\n",
       " Text(47, 0, '470'),\n",
       " Text(48, 0, '480'),\n",
       " Text(49, 0, '490'),\n",
       " Text(50, 0, '500'),\n",
       " Text(51, 0, '510'),\n",
       " Text(52, 0, '520'),\n",
       " Text(53, 0, '530'),\n",
       " Text(54, 0, '540'),\n",
       " Text(55, 0, '550'),\n",
       " Text(56, 0, '560'),\n",
       " Text(57, 0, '570'),\n",
       " Text(58, 0, '580'),\n",
       " Text(59, 0, '590'),\n",
       " Text(60, 0, '600'),\n",
       " Text(61, 0, '610'),\n",
       " Text(62, 0, '620')]"
      ]
     },
     "execution_count": 12,
     "metadata": {},
     "output_type": "execute_result"
    },
    {
     "data": {
      "text/plain": [
       "[Text(0, 0, '0'),\n",
       " Text(0, 1, '10'),\n",
       " Text(0, 2, '20'),\n",
       " Text(0, 3, '30'),\n",
       " Text(0, 4, '40'),\n",
       " Text(0, 5, '50'),\n",
       " Text(0, 6, '60'),\n",
       " Text(0, 7, '70'),\n",
       " Text(0, 8, '80'),\n",
       " Text(0, 9, '90'),\n",
       " Text(0, 10, '100'),\n",
       " Text(0, 11, '110'),\n",
       " Text(0, 12, '120'),\n",
       " Text(0, 13, '130'),\n",
       " Text(0, 14, '140'),\n",
       " Text(0, 15, '150'),\n",
       " Text(0, 16, '160'),\n",
       " Text(0, 17, '170'),\n",
       " Text(0, 18, '180'),\n",
       " Text(0, 19, '190'),\n",
       " Text(0, 20, '200'),\n",
       " Text(0, 21, '210'),\n",
       " Text(0, 22, '220'),\n",
       " Text(0, 23, '230'),\n",
       " Text(0, 24, '240'),\n",
       " Text(0, 25, '250'),\n",
       " Text(0, 26, '260'),\n",
       " Text(0, 27, '270'),\n",
       " Text(0, 28, '280'),\n",
       " Text(0, 29, '290'),\n",
       " Text(0, 30, '300'),\n",
       " Text(0, 31, '310'),\n",
       " Text(0, 32, '320'),\n",
       " Text(0, 33, '330'),\n",
       " Text(0, 34, '340'),\n",
       " Text(0, 35, '350'),\n",
       " Text(0, 36, '360'),\n",
       " Text(0, 37, '370'),\n",
       " Text(0, 38, '380'),\n",
       " Text(0, 39, '390'),\n",
       " Text(0, 40, '400'),\n",
       " Text(0, 41, '410'),\n",
       " Text(0, 42, '420'),\n",
       " Text(0, 43, '430'),\n",
       " Text(0, 44, '440'),\n",
       " Text(0, 45, '450'),\n",
       " Text(0, 46, '460'),\n",
       " Text(0, 47, '470'),\n",
       " Text(0, 48, '480'),\n",
       " Text(0, 49, '490'),\n",
       " Text(0, 50, '500'),\n",
       " Text(0, 51, '510'),\n",
       " Text(0, 52, '520'),\n",
       " Text(0, 53, '530'),\n",
       " Text(0, 54, '540'),\n",
       " Text(0, 55, '550'),\n",
       " Text(0, 56, '560'),\n",
       " Text(0, 57, '570'),\n",
       " Text(0, 58, '580'),\n",
       " Text(0, 59, '590'),\n",
       " Text(0, 60, '600'),\n",
       " Text(0, 61, '610'),\n",
       " Text(0, 62, '620')]"
      ]
     },
     "execution_count": 12,
     "metadata": {},
     "output_type": "execute_result"
    },
    {
     "data": {
      "text/plain": [
       "Text(0.5, 1.0, 'Attention Map of Layer 9')"
      ]
     },
     "execution_count": 12,
     "metadata": {},
     "output_type": "execute_result"
    },
    {
     "data": {
      "text/plain": [
       "Text(0.5, 242.16666666666694, 'Column')"
      ]
     },
     "execution_count": 12,
     "metadata": {},
     "output_type": "execute_result"
    },
    {
     "data": {
      "text/plain": [
       "Text(187.79166666666666, 0.5, 'Row')"
      ]
     },
     "execution_count": 12,
     "metadata": {},
     "output_type": "execute_result"
    },
    {
     "data": {
      "text/plain": [
       "Text(0.5, 1.0, 'Attention from last input token to vision of Layer 9')"
      ]
     },
     "execution_count": 12,
     "metadata": {},
     "output_type": "execute_result"
    },
    {
     "data": {
      "text/plain": [
       "<matplotlib.image.AxesImage at 0x7f2f5c4723b0>"
      ]
     },
     "execution_count": 12,
     "metadata": {},
     "output_type": "execute_result"
    },
    {
     "data": {
      "text/plain": [
       "(0.0, 22.0)"
      ]
     },
     "execution_count": 12,
     "metadata": {},
     "output_type": "execute_result"
    },
    {
     "data": {
      "text/plain": [
       "(22.0, 0.0)"
      ]
     },
     "execution_count": 12,
     "metadata": {},
     "output_type": "execute_result"
    },
    {
     "name": "stderr",
     "output_type": "stream",
     "text": [
      "/tmp/ipykernel_1627/3125494494.py:15: MatplotlibDeprecationWarning: The get_cmap function was deprecated in Matplotlib 3.7 and will be removed in 3.11. Use ``matplotlib.colormaps[name]`` or ``matplotlib.colormaps.get_cmap()`` or ``pyplot.get_cmap()`` instead.\n",
      "  cmap = plt.cm.get_cmap(\"viridis\")\n"
     ]
    },
    {
     "data": {
      "text/plain": [
       "<Axes: >"
      ]
     },
     "execution_count": 12,
     "metadata": {},
     "output_type": "execute_result"
    },
    {
     "data": {
      "text/plain": [
       "[<matplotlib.axis.XTick at 0x7f2f54877af0>,\n",
       " <matplotlib.axis.XTick at 0x7f2f548b4280>,\n",
       " <matplotlib.axis.XTick at 0x7f2f548b4eb0>,\n",
       " <matplotlib.axis.XTick at 0x7f2f548b5b10>,\n",
       " <matplotlib.axis.XTick at 0x7f2f548b61d0>,\n",
       " <matplotlib.axis.XTick at 0x7f2f548b6e30>,\n",
       " <matplotlib.axis.XTick at 0x7f2f548b7a90>,\n",
       " <matplotlib.axis.XTick at 0x7f2f548c4730>,\n",
       " <matplotlib.axis.XTick at 0x7f2f548b69e0>,\n",
       " <matplotlib.axis.XTick at 0x7f2f548c5390>,\n",
       " <matplotlib.axis.XTick at 0x7f2f548c5ff0>,\n",
       " <matplotlib.axis.XTick at 0x7f2f548c6c50>,\n",
       " <matplotlib.axis.XTick at 0x7f2f548c78b0>,\n",
       " <matplotlib.axis.XTick at 0x7f2f548c55d0>,\n",
       " <matplotlib.axis.XTick at 0x7f2f548e0550>,\n",
       " <matplotlib.axis.XTick at 0x7f2f548e11b0>,\n",
       " <matplotlib.axis.XTick at 0x7f2f548e1e10>,\n",
       " <matplotlib.axis.XTick at 0x7f2f548e1570>,\n",
       " <matplotlib.axis.XTick at 0x7f2f548e2b90>,\n",
       " <matplotlib.axis.XTick at 0x7f2f548e37f0>,\n",
       " <matplotlib.axis.XTick at 0x7f2f548f4490>,\n",
       " <matplotlib.axis.XTick at 0x7f2f548e2f50>,\n",
       " <matplotlib.axis.XTick at 0x7f2f548f52a0>,\n",
       " <matplotlib.axis.XTick at 0x7f2f548f5f00>,\n",
       " <matplotlib.axis.XTick at 0x7f2f548f6b60>,\n",
       " <matplotlib.axis.XTick at 0x7f2f548f77c0>,\n",
       " <matplotlib.axis.XTick at 0x7f2f548f4e20>,\n",
       " <matplotlib.axis.XTick at 0x7f2f54408580>,\n",
       " <matplotlib.axis.XTick at 0x7f2f544091e0>,\n",
       " <matplotlib.axis.XTick at 0x7f2f54409e40>,\n",
       " <matplotlib.axis.XTick at 0x7f2f544096c0>,\n",
       " <matplotlib.axis.XTick at 0x7f2f5440abc0>,\n",
       " <matplotlib.axis.XTick at 0x7f2f548b4310>,\n",
       " <matplotlib.axis.XTick at 0x7f2f5450e110>,\n",
       " <matplotlib.axis.XTick at 0x7f2f5450eb60>,\n",
       " <matplotlib.axis.XTick at 0x7f2f5450f7c0>,\n",
       " <matplotlib.axis.XTick at 0x7f2f5451c460>,\n",
       " <matplotlib.axis.XTick at 0x7f2f544ae440>,\n",
       " <matplotlib.axis.XTick at 0x7f2f5451d1e0>,\n",
       " <matplotlib.axis.XTick at 0x7f2f5451de40>,\n",
       " <matplotlib.axis.XTick at 0x7f2f5451eaa0>,\n",
       " <matplotlib.axis.XTick at 0x7f2f5451d960>,\n",
       " <matplotlib.axis.XTick at 0x7f2f5451f8b0>,\n",
       " <matplotlib.axis.XTick at 0x7f2f54538550>,\n",
       " <matplotlib.axis.XTick at 0x7f2f545391b0>,\n",
       " <matplotlib.axis.XTick at 0x7f2f5451ffd0>,\n",
       " <matplotlib.axis.XTick at 0x7f2f54538100>,\n",
       " <matplotlib.axis.XTick at 0x7f2f5453ab00>,\n",
       " <matplotlib.axis.XTick at 0x7f2f5453b760>,\n",
       " <matplotlib.axis.XTick at 0x7f2f54550400>,\n",
       " <matplotlib.axis.XTick at 0x7f2f545393f0>,\n",
       " <matplotlib.axis.XTick at 0x7f2f54551180>,\n",
       " <matplotlib.axis.XTick at 0x7f2f54551de0>,\n",
       " <matplotlib.axis.XTick at 0x7f2f54552a40>,\n",
       " <matplotlib.axis.XTick at 0x7f2f54552650>,\n",
       " <matplotlib.axis.XTick at 0x7f2f545537c0>,\n",
       " <matplotlib.axis.XTick at 0x7f2f54568460>,\n",
       " <matplotlib.axis.XTick at 0x7f2f545690c0>,\n",
       " <matplotlib.axis.XTick at 0x7f2f54569150>,\n",
       " <matplotlib.axis.XTick at 0x7f2f54569840>,\n",
       " <matplotlib.axis.XTick at 0x7f2f5456a2f0>,\n",
       " <matplotlib.axis.XTick at 0x7f2f5456ad10>,\n",
       " <matplotlib.axis.XTick at 0x7f2f5456b730>]"
      ]
     },
     "execution_count": 12,
     "metadata": {},
     "output_type": "execute_result"
    },
    {
     "data": {
      "text/plain": [
       "[<matplotlib.axis.YTick at 0x7f2f54877b20>,\n",
       " <matplotlib.axis.YTick at 0x7f2f548b4250>,\n",
       " <matplotlib.axis.YTick at 0x7f2f544244c0>,\n",
       " <matplotlib.axis.YTick at 0x7f2f5440add0>,\n",
       " <matplotlib.axis.YTick at 0x7f2f544252d0>,\n",
       " <matplotlib.axis.YTick at 0x7f2f54425f30>,\n",
       " <matplotlib.axis.YTick at 0x7f2f54426b90>,\n",
       " <matplotlib.axis.YTick at 0x7f2f544277f0>,\n",
       " <matplotlib.axis.YTick at 0x7f2f54424100>,\n",
       " <matplotlib.axis.YTick at 0x7f2f5443c5b0>,\n",
       " <matplotlib.axis.YTick at 0x7f2f5443d210>,\n",
       " <matplotlib.axis.YTick at 0x7f2f5443de70>,\n",
       " <matplotlib.axis.YTick at 0x7f2f5443d6f0>,\n",
       " <matplotlib.axis.YTick at 0x7f2f5443ebf0>,\n",
       " <matplotlib.axis.YTick at 0x7f2f5443f850>,\n",
       " <matplotlib.axis.YTick at 0x7f2f544504f0>,\n",
       " <matplotlib.axis.YTick at 0x7f2f5443ee00>,\n",
       " <matplotlib.axis.YTick at 0x7f2f54451300>,\n",
       " <matplotlib.axis.YTick at 0x7f2f54451f60>,\n",
       " <matplotlib.axis.YTick at 0x7f2f54452bc0>,\n",
       " <matplotlib.axis.YTick at 0x7f2f54453820>,\n",
       " <matplotlib.axis.YTick at 0x7f2f54450f40>,\n",
       " <matplotlib.axis.YTick at 0x7f2f544a05e0>,\n",
       " <matplotlib.axis.YTick at 0x7f2f544a1240>,\n",
       " <matplotlib.axis.YTick at 0x7f2f544a1ea0>,\n",
       " <matplotlib.axis.YTick at 0x7f2f544a15d0>,\n",
       " <matplotlib.axis.YTick at 0x7f2f544a2cb0>,\n",
       " <matplotlib.axis.YTick at 0x7f2f544a3910>,\n",
       " <matplotlib.axis.YTick at 0x7f2f544ac5b0>,\n",
       " <matplotlib.axis.YTick at 0x7f2f544a2f20>,\n",
       " <matplotlib.axis.YTick at 0x7f2f5440a200>,\n",
       " <matplotlib.axis.YTick at 0x7f2f544ad3c0>,\n",
       " <matplotlib.axis.YTick at 0x7f2f5440b820>,\n",
       " <matplotlib.axis.YTick at 0x7f2f54553400>,\n",
       " <matplotlib.axis.YTick at 0x7f2f544f6770>,\n",
       " <matplotlib.axis.YTick at 0x7f2f54580940>,\n",
       " <matplotlib.axis.YTick at 0x7f2f54581360>,\n",
       " <matplotlib.axis.YTick at 0x7f2f54568670>,\n",
       " <matplotlib.axis.YTick at 0x7f2f54580700>,\n",
       " <matplotlib.axis.YTick at 0x7f2f54582680>,\n",
       " <matplotlib.axis.YTick at 0x7f2f545830a0>,\n",
       " <matplotlib.axis.YTick at 0x7f2f54583ac0>,\n",
       " <matplotlib.axis.YTick at 0x7f2f545835e0>,\n",
       " <matplotlib.axis.YTick at 0x7f2f545a02e0>,\n",
       " <matplotlib.axis.YTick at 0x7f2f545a1120>,\n",
       " <matplotlib.axis.YTick at 0x7f2f545a1870>,\n",
       " <matplotlib.axis.YTick at 0x7f2f545a2290>,\n",
       " <matplotlib.axis.YTick at 0x7f2f545a1d80>,\n",
       " <matplotlib.axis.YTick at 0x7f2f545a29e0>,\n",
       " <matplotlib.axis.YTick at 0x7f2f545a3400>,\n",
       " <matplotlib.axis.YTick at 0x7f2f545bc160>,\n",
       " <matplotlib.axis.YTick at 0x7f2f545a3ee0>,\n",
       " <matplotlib.axis.YTick at 0x7f2f545bc4c0>,\n",
       " <matplotlib.axis.YTick at 0x7f2f545bd060>,\n",
       " <matplotlib.axis.YTick at 0x7f2f545bda80>,\n",
       " <matplotlib.axis.YTick at 0x7f2f545be4a0>,\n",
       " <matplotlib.axis.YTick at 0x7f2f545be560>,\n",
       " <matplotlib.axis.YTick at 0x7f2f545bcb80>,\n",
       " <matplotlib.axis.YTick at 0x7f2f545bf7c0>,\n",
       " <matplotlib.axis.YTick at 0x7f2f545e4220>,\n",
       " <matplotlib.axis.YTick at 0x7f2f545e4c40>,\n",
       " <matplotlib.axis.YTick at 0x7f2f545a2770>,\n",
       " <matplotlib.axis.YTick at 0x7f2f545e5420>]"
      ]
     },
     "execution_count": 12,
     "metadata": {},
     "output_type": "execute_result"
    },
    {
     "data": {
      "text/plain": [
       "[Text(0, 0, '0'),\n",
       " Text(1, 0, '10'),\n",
       " Text(2, 0, '20'),\n",
       " Text(3, 0, '30'),\n",
       " Text(4, 0, '40'),\n",
       " Text(5, 0, '50'),\n",
       " Text(6, 0, '60'),\n",
       " Text(7, 0, '70'),\n",
       " Text(8, 0, '80'),\n",
       " Text(9, 0, '90'),\n",
       " Text(10, 0, '100'),\n",
       " Text(11, 0, '110'),\n",
       " Text(12, 0, '120'),\n",
       " Text(13, 0, '130'),\n",
       " Text(14, 0, '140'),\n",
       " Text(15, 0, '150'),\n",
       " Text(16, 0, '160'),\n",
       " Text(17, 0, '170'),\n",
       " Text(18, 0, '180'),\n",
       " Text(19, 0, '190'),\n",
       " Text(20, 0, '200'),\n",
       " Text(21, 0, '210'),\n",
       " Text(22, 0, '220'),\n",
       " Text(23, 0, '230'),\n",
       " Text(24, 0, '240'),\n",
       " Text(25, 0, '250'),\n",
       " Text(26, 0, '260'),\n",
       " Text(27, 0, '270'),\n",
       " Text(28, 0, '280'),\n",
       " Text(29, 0, '290'),\n",
       " Text(30, 0, '300'),\n",
       " Text(31, 0, '310'),\n",
       " Text(32, 0, '320'),\n",
       " Text(33, 0, '330'),\n",
       " Text(34, 0, '340'),\n",
       " Text(35, 0, '350'),\n",
       " Text(36, 0, '360'),\n",
       " Text(37, 0, '370'),\n",
       " Text(38, 0, '380'),\n",
       " Text(39, 0, '390'),\n",
       " Text(40, 0, '400'),\n",
       " Text(41, 0, '410'),\n",
       " Text(42, 0, '420'),\n",
       " Text(43, 0, '430'),\n",
       " Text(44, 0, '440'),\n",
       " Text(45, 0, '450'),\n",
       " Text(46, 0, '460'),\n",
       " Text(47, 0, '470'),\n",
       " Text(48, 0, '480'),\n",
       " Text(49, 0, '490'),\n",
       " Text(50, 0, '500'),\n",
       " Text(51, 0, '510'),\n",
       " Text(52, 0, '520'),\n",
       " Text(53, 0, '530'),\n",
       " Text(54, 0, '540'),\n",
       " Text(55, 0, '550'),\n",
       " Text(56, 0, '560'),\n",
       " Text(57, 0, '570'),\n",
       " Text(58, 0, '580'),\n",
       " Text(59, 0, '590'),\n",
       " Text(60, 0, '600'),\n",
       " Text(61, 0, '610'),\n",
       " Text(62, 0, '620')]"
      ]
     },
     "execution_count": 12,
     "metadata": {},
     "output_type": "execute_result"
    },
    {
     "data": {
      "text/plain": [
       "[Text(0, 0, '0'),\n",
       " Text(0, 1, '10'),\n",
       " Text(0, 2, '20'),\n",
       " Text(0, 3, '30'),\n",
       " Text(0, 4, '40'),\n",
       " Text(0, 5, '50'),\n",
       " Text(0, 6, '60'),\n",
       " Text(0, 7, '70'),\n",
       " Text(0, 8, '80'),\n",
       " Text(0, 9, '90'),\n",
       " Text(0, 10, '100'),\n",
       " Text(0, 11, '110'),\n",
       " Text(0, 12, '120'),\n",
       " Text(0, 13, '130'),\n",
       " Text(0, 14, '140'),\n",
       " Text(0, 15, '150'),\n",
       " Text(0, 16, '160'),\n",
       " Text(0, 17, '170'),\n",
       " Text(0, 18, '180'),\n",
       " Text(0, 19, '190'),\n",
       " Text(0, 20, '200'),\n",
       " Text(0, 21, '210'),\n",
       " Text(0, 22, '220'),\n",
       " Text(0, 23, '230'),\n",
       " Text(0, 24, '240'),\n",
       " Text(0, 25, '250'),\n",
       " Text(0, 26, '260'),\n",
       " Text(0, 27, '270'),\n",
       " Text(0, 28, '280'),\n",
       " Text(0, 29, '290'),\n",
       " Text(0, 30, '300'),\n",
       " Text(0, 31, '310'),\n",
       " Text(0, 32, '320'),\n",
       " Text(0, 33, '330'),\n",
       " Text(0, 34, '340'),\n",
       " Text(0, 35, '350'),\n",
       " Text(0, 36, '360'),\n",
       " Text(0, 37, '370'),\n",
       " Text(0, 38, '380'),\n",
       " Text(0, 39, '390'),\n",
       " Text(0, 40, '400'),\n",
       " Text(0, 41, '410'),\n",
       " Text(0, 42, '420'),\n",
       " Text(0, 43, '430'),\n",
       " Text(0, 44, '440'),\n",
       " Text(0, 45, '450'),\n",
       " Text(0, 46, '460'),\n",
       " Text(0, 47, '470'),\n",
       " Text(0, 48, '480'),\n",
       " Text(0, 49, '490'),\n",
       " Text(0, 50, '500'),\n",
       " Text(0, 51, '510'),\n",
       " Text(0, 52, '520'),\n",
       " Text(0, 53, '530'),\n",
       " Text(0, 54, '540'),\n",
       " Text(0, 55, '550'),\n",
       " Text(0, 56, '560'),\n",
       " Text(0, 57, '570'),\n",
       " Text(0, 58, '580'),\n",
       " Text(0, 59, '590'),\n",
       " Text(0, 60, '600'),\n",
       " Text(0, 61, '610'),\n",
       " Text(0, 62, '620')]"
      ]
     },
     "execution_count": 12,
     "metadata": {},
     "output_type": "execute_result"
    },
    {
     "data": {
      "text/plain": [
       "Text(0.5, 1.0, 'Attention Map of Layer 10')"
      ]
     },
     "execution_count": 12,
     "metadata": {},
     "output_type": "execute_result"
    },
    {
     "data": {
      "text/plain": [
       "Text(0.5, 242.16666666666694, 'Column')"
      ]
     },
     "execution_count": 12,
     "metadata": {},
     "output_type": "execute_result"
    },
    {
     "data": {
      "text/plain": [
       "Text(187.79166666666666, 0.5, 'Row')"
      ]
     },
     "execution_count": 12,
     "metadata": {},
     "output_type": "execute_result"
    },
    {
     "data": {
      "text/plain": [
       "Text(0.5, 1.0, 'Attention from last input token to vision of Layer 10')"
      ]
     },
     "execution_count": 12,
     "metadata": {},
     "output_type": "execute_result"
    },
    {
     "data": {
      "text/plain": [
       "<matplotlib.image.AxesImage at 0x7f2f545a05e0>"
      ]
     },
     "execution_count": 12,
     "metadata": {},
     "output_type": "execute_result"
    },
    {
     "data": {
      "text/plain": [
       "(0.0, 22.0)"
      ]
     },
     "execution_count": 12,
     "metadata": {},
     "output_type": "execute_result"
    },
    {
     "data": {
      "text/plain": [
       "(22.0, 0.0)"
      ]
     },
     "execution_count": 12,
     "metadata": {},
     "output_type": "execute_result"
    },
    {
     "name": "stderr",
     "output_type": "stream",
     "text": [
      "/tmp/ipykernel_1627/3125494494.py:15: MatplotlibDeprecationWarning: The get_cmap function was deprecated in Matplotlib 3.7 and will be removed in 3.11. Use ``matplotlib.colormaps[name]`` or ``matplotlib.colormaps.get_cmap()`` or ``pyplot.get_cmap()`` instead.\n",
      "  cmap = plt.cm.get_cmap(\"viridis\")\n"
     ]
    },
    {
     "data": {
      "text/plain": [
       "<Axes: >"
      ]
     },
     "execution_count": 12,
     "metadata": {},
     "output_type": "execute_result"
    },
    {
     "data": {
      "text/plain": [
       "[<matplotlib.axis.XTick at 0x7f2f54385000>,\n",
       " <matplotlib.axis.XTick at 0x7f2f543ad720>,\n",
       " <matplotlib.axis.XTick at 0x7f2f543ae230>,\n",
       " <matplotlib.axis.XTick at 0x7f2f543ae2c0>,\n",
       " <matplotlib.axis.XTick at 0x7f2f543af520>,\n",
       " <matplotlib.axis.XTick at 0x7f2f543afbb0>,\n",
       " <matplotlib.axis.XTick at 0x7f2f543c4190>,\n",
       " <matplotlib.axis.XTick at 0x7f2f543c4a30>,\n",
       " <matplotlib.axis.XTick at 0x7f2f543c5450>,\n",
       " <matplotlib.axis.XTick at 0x7f2f543c5e70>,\n",
       " <matplotlib.axis.XTick at 0x7f2f543c6680>,\n",
       " <matplotlib.axis.XTick at 0x7f2f543c6770>,\n",
       " <matplotlib.axis.XTick at 0x7f2f543c7190>,\n",
       " <matplotlib.axis.XTick at 0x7f2f543c7bb0>,\n",
       " <matplotlib.axis.XTick at 0x7f2f543e4610>,\n",
       " <matplotlib.axis.XTick at 0x7f2f543c6f50>,\n",
       " <matplotlib.axis.XTick at 0x7f2f543e4df0>,\n",
       " <matplotlib.axis.XTick at 0x7f2f543e5810>,\n",
       " <matplotlib.axis.XTick at 0x7f2f543e6230>,\n",
       " <matplotlib.axis.XTick at 0x7f2f543c7c40>,\n",
       " <matplotlib.axis.XTick at 0x7f2f543e5450>,\n",
       " <matplotlib.axis.XTick at 0x7f2f543e74c0>,\n",
       " <matplotlib.axis.XTick at 0x7f2f541000d0>,\n",
       " <matplotlib.axis.XTick at 0x7f2f54100940>,\n",
       " <matplotlib.axis.XTick at 0x7f2f543e7ca0>,\n",
       " <matplotlib.axis.XTick at 0x7f2f54100070>,\n",
       " <matplotlib.axis.XTick at 0x7f2f54101c60>,\n",
       " <matplotlib.axis.XTick at 0x7f2f54102680>,\n",
       " <matplotlib.axis.XTick at 0x7f2f541030a0>,\n",
       " <matplotlib.axis.XTick at 0x7f2f54102e60>,\n",
       " <matplotlib.axis.XTick at 0x7f2f54103880>,\n",
       " <matplotlib.axis.XTick at 0x7f2f541202e0>,\n",
       " <matplotlib.axis.XTick at 0x7f2f54384b80>,\n",
       " <matplotlib.axis.XTick at 0x7f2f5420e650>,\n",
       " <matplotlib.axis.XTick at 0x7f2f5420e6b0>,\n",
       " <matplotlib.axis.XTick at 0x7f2f5420f820>,\n",
       " <matplotlib.axis.XTick at 0x7f2f54220280>,\n",
       " <matplotlib.axis.XTick at 0x7f2f5420f8e0>,\n",
       " <matplotlib.axis.XTick at 0x7f2f54220b80>,\n",
       " <matplotlib.axis.XTick at 0x7f2f542215a0>,\n",
       " <matplotlib.axis.XTick at 0x7f2f54221fc0>,\n",
       " <matplotlib.axis.XTick at 0x7f2f542229e0>,\n",
       " <matplotlib.axis.XTick at 0x7f2f542220e0>,\n",
       " <matplotlib.axis.XTick at 0x7f2f542231c0>,\n",
       " <matplotlib.axis.XTick at 0x7f2f54223be0>,\n",
       " <matplotlib.axis.XTick at 0x7f2f54244640>,\n",
       " <matplotlib.axis.XTick at 0x7f2f54223ca0>,\n",
       " <matplotlib.axis.XTick at 0x7f2f54244c70>,\n",
       " <matplotlib.axis.XTick at 0x7f2f54245840>,\n",
       " <matplotlib.axis.XTick at 0x7f2f54246260>,\n",
       " <matplotlib.axis.XTick at 0x7f2f54246c80>,\n",
       " <matplotlib.axis.XTick at 0x7f2f54246d10>,\n",
       " <matplotlib.axis.XTick at 0x7f2f54244b50>,\n",
       " <matplotlib.axis.XTick at 0x7f2f54260160>,\n",
       " <matplotlib.axis.XTick at 0x7f2f54260a00>,\n",
       " <matplotlib.axis.XTick at 0x7f2f54261420>,\n",
       " <matplotlib.axis.XTick at 0x7f2f54261570>,\n",
       " <matplotlib.axis.XTick at 0x7f2f54261c00>,\n",
       " <matplotlib.axis.XTick at 0x7f2f54262620>,\n",
       " <matplotlib.axis.XTick at 0x7f2f54263040>,\n",
       " <matplotlib.axis.XTick at 0x7f2f54245960>,\n",
       " <matplotlib.axis.XTick at 0x7f2f54263c40>,\n",
       " <matplotlib.axis.XTick at 0x7f2f54261900>]"
      ]
     },
     "execution_count": 12,
     "metadata": {},
     "output_type": "execute_result"
    },
    {
     "data": {
      "text/plain": [
       "[<matplotlib.axis.YTick at 0x7f2f54385030>,\n",
       " <matplotlib.axis.YTick at 0x7f2f543ad6c0>,\n",
       " <matplotlib.axis.YTick at 0x7f2f541039d0>,\n",
       " <matplotlib.axis.YTick at 0x7f2f54120a90>,\n",
       " <matplotlib.axis.YTick at 0x7f2f54122020>,\n",
       " <matplotlib.axis.YTick at 0x7f2f54122a40>,\n",
       " <matplotlib.axis.YTick at 0x7f2f54123460>,\n",
       " <matplotlib.axis.YTick at 0x7f2f541235b0>,\n",
       " <matplotlib.axis.YTick at 0x7f2f54123fa0>,\n",
       " <matplotlib.axis.YTick at 0x7f2f5413c7c0>,\n",
       " <matplotlib.axis.YTick at 0x7f2f5413d1e0>,\n",
       " <matplotlib.axis.YTick at 0x7f2f5413dc00>,\n",
       " <matplotlib.axis.YTick at 0x7f2f5413e260>,\n",
       " <matplotlib.axis.YTick at 0x7f2f5413e3e0>,\n",
       " <matplotlib.axis.YTick at 0x7f2f5413ee00>,\n",
       " <matplotlib.axis.YTick at 0x7f2f5413f820>,\n",
       " <matplotlib.axis.YTick at 0x7f2f5413fd60>,\n",
       " <matplotlib.axis.YTick at 0x7f2f54164490>,\n",
       " <matplotlib.axis.YTick at 0x7f2f54164bb0>,\n",
       " <matplotlib.axis.YTick at 0x7f2f541655d0>,\n",
       " <matplotlib.axis.YTick at 0x7f2f54165ff0>,\n",
       " <matplotlib.axis.YTick at 0x7f2f541660b0>,\n",
       " <matplotlib.axis.YTick at 0x7f2f541646d0>,\n",
       " <matplotlib.axis.YTick at 0x7f2f54167310>,\n",
       " <matplotlib.axis.YTick at 0x7f2f54167f70>,\n",
       " <matplotlib.axis.YTick at 0x7f2f541a8790>,\n",
       " <matplotlib.axis.YTick at 0x7f2f541673d0>,\n",
       " <matplotlib.axis.YTick at 0x7f2f54121480>,\n",
       " <matplotlib.axis.YTick at 0x7f2f541a8130>,\n",
       " <matplotlib.axis.YTick at 0x7f2f541a9360>,\n",
       " <matplotlib.axis.YTick at 0x7f2f541a9d80>,\n",
       " <matplotlib.axis.YTick at 0x7f2f541a9ea0>,\n",
       " <matplotlib.axis.YTick at 0x7f2f54369ed0>,\n",
       " <matplotlib.axis.YTick at 0x7f2f5427c3d0>,\n",
       " <matplotlib.axis.YTick at 0x7f2f5427d000>,\n",
       " <matplotlib.axis.YTick at 0x7f2f5427da20>,\n",
       " <matplotlib.axis.YTick at 0x7f2f5427e440>,\n",
       " <matplotlib.axis.YTick at 0x7f2f5427df00>,\n",
       " <matplotlib.axis.YTick at 0x7f2f5427ee90>,\n",
       " <matplotlib.axis.YTick at 0x7f2f5427f8b0>,\n",
       " <matplotlib.axis.YTick at 0x7f2f5429c310>,\n",
       " <matplotlib.axis.YTick at 0x7f2f5429cd30>,\n",
       " <matplotlib.axis.YTick at 0x7f2f542625f0>,\n",
       " <matplotlib.axis.YTick at 0x7f2f5429d510>,\n",
       " <matplotlib.axis.YTick at 0x7f2f5429df30>,\n",
       " <matplotlib.axis.YTick at 0x7f2f5429e950>,\n",
       " <matplotlib.axis.YTick at 0x7f2f5427f8e0>,\n",
       " <matplotlib.axis.YTick at 0x7f2f5429db70>,\n",
       " <matplotlib.axis.YTick at 0x7f2f5429fbe0>,\n",
       " <matplotlib.axis.YTick at 0x7f2f542b8640>,\n",
       " <matplotlib.axis.YTick at 0x7f2f542b9060>,\n",
       " <matplotlib.axis.YTick at 0x7f2f5429f940>,\n",
       " <matplotlib.axis.YTick at 0x7f2f542b8160>,\n",
       " <matplotlib.axis.YTick at 0x7f2f542ba380>,\n",
       " <matplotlib.axis.YTick at 0x7f2f542bada0>,\n",
       " <matplotlib.axis.YTick at 0x7f2f542bb7c0>,\n",
       " <matplotlib.axis.YTick at 0x7f2f542bb2b0>,\n",
       " <matplotlib.axis.YTick at 0x7f2f542d4160>,\n",
       " <matplotlib.axis.YTick at 0x7f2f542d4a00>,\n",
       " <matplotlib.axis.YTick at 0x7f2f542d5420>,\n",
       " <matplotlib.axis.YTick at 0x7f2f542b9a80>,\n",
       " <matplotlib.axis.YTick at 0x7f2f542d4b20>,\n",
       " <matplotlib.axis.YTick at 0x7f2f542d6740>]"
      ]
     },
     "execution_count": 12,
     "metadata": {},
     "output_type": "execute_result"
    },
    {
     "data": {
      "text/plain": [
       "[Text(0, 0, '0'),\n",
       " Text(1, 0, '10'),\n",
       " Text(2, 0, '20'),\n",
       " Text(3, 0, '30'),\n",
       " Text(4, 0, '40'),\n",
       " Text(5, 0, '50'),\n",
       " Text(6, 0, '60'),\n",
       " Text(7, 0, '70'),\n",
       " Text(8, 0, '80'),\n",
       " Text(9, 0, '90'),\n",
       " Text(10, 0, '100'),\n",
       " Text(11, 0, '110'),\n",
       " Text(12, 0, '120'),\n",
       " Text(13, 0, '130'),\n",
       " Text(14, 0, '140'),\n",
       " Text(15, 0, '150'),\n",
       " Text(16, 0, '160'),\n",
       " Text(17, 0, '170'),\n",
       " Text(18, 0, '180'),\n",
       " Text(19, 0, '190'),\n",
       " Text(20, 0, '200'),\n",
       " Text(21, 0, '210'),\n",
       " Text(22, 0, '220'),\n",
       " Text(23, 0, '230'),\n",
       " Text(24, 0, '240'),\n",
       " Text(25, 0, '250'),\n",
       " Text(26, 0, '260'),\n",
       " Text(27, 0, '270'),\n",
       " Text(28, 0, '280'),\n",
       " Text(29, 0, '290'),\n",
       " Text(30, 0, '300'),\n",
       " Text(31, 0, '310'),\n",
       " Text(32, 0, '320'),\n",
       " Text(33, 0, '330'),\n",
       " Text(34, 0, '340'),\n",
       " Text(35, 0, '350'),\n",
       " Text(36, 0, '360'),\n",
       " Text(37, 0, '370'),\n",
       " Text(38, 0, '380'),\n",
       " Text(39, 0, '390'),\n",
       " Text(40, 0, '400'),\n",
       " Text(41, 0, '410'),\n",
       " Text(42, 0, '420'),\n",
       " Text(43, 0, '430'),\n",
       " Text(44, 0, '440'),\n",
       " Text(45, 0, '450'),\n",
       " Text(46, 0, '460'),\n",
       " Text(47, 0, '470'),\n",
       " Text(48, 0, '480'),\n",
       " Text(49, 0, '490'),\n",
       " Text(50, 0, '500'),\n",
       " Text(51, 0, '510'),\n",
       " Text(52, 0, '520'),\n",
       " Text(53, 0, '530'),\n",
       " Text(54, 0, '540'),\n",
       " Text(55, 0, '550'),\n",
       " Text(56, 0, '560'),\n",
       " Text(57, 0, '570'),\n",
       " Text(58, 0, '580'),\n",
       " Text(59, 0, '590'),\n",
       " Text(60, 0, '600'),\n",
       " Text(61, 0, '610'),\n",
       " Text(62, 0, '620')]"
      ]
     },
     "execution_count": 12,
     "metadata": {},
     "output_type": "execute_result"
    },
    {
     "data": {
      "text/plain": [
       "[Text(0, 0, '0'),\n",
       " Text(0, 1, '10'),\n",
       " Text(0, 2, '20'),\n",
       " Text(0, 3, '30'),\n",
       " Text(0, 4, '40'),\n",
       " Text(0, 5, '50'),\n",
       " Text(0, 6, '60'),\n",
       " Text(0, 7, '70'),\n",
       " Text(0, 8, '80'),\n",
       " Text(0, 9, '90'),\n",
       " Text(0, 10, '100'),\n",
       " Text(0, 11, '110'),\n",
       " Text(0, 12, '120'),\n",
       " Text(0, 13, '130'),\n",
       " Text(0, 14, '140'),\n",
       " Text(0, 15, '150'),\n",
       " Text(0, 16, '160'),\n",
       " Text(0, 17, '170'),\n",
       " Text(0, 18, '180'),\n",
       " Text(0, 19, '190'),\n",
       " Text(0, 20, '200'),\n",
       " Text(0, 21, '210'),\n",
       " Text(0, 22, '220'),\n",
       " Text(0, 23, '230'),\n",
       " Text(0, 24, '240'),\n",
       " Text(0, 25, '250'),\n",
       " Text(0, 26, '260'),\n",
       " Text(0, 27, '270'),\n",
       " Text(0, 28, '280'),\n",
       " Text(0, 29, '290'),\n",
       " Text(0, 30, '300'),\n",
       " Text(0, 31, '310'),\n",
       " Text(0, 32, '320'),\n",
       " Text(0, 33, '330'),\n",
       " Text(0, 34, '340'),\n",
       " Text(0, 35, '350'),\n",
       " Text(0, 36, '360'),\n",
       " Text(0, 37, '370'),\n",
       " Text(0, 38, '380'),\n",
       " Text(0, 39, '390'),\n",
       " Text(0, 40, '400'),\n",
       " Text(0, 41, '410'),\n",
       " Text(0, 42, '420'),\n",
       " Text(0, 43, '430'),\n",
       " Text(0, 44, '440'),\n",
       " Text(0, 45, '450'),\n",
       " Text(0, 46, '460'),\n",
       " Text(0, 47, '470'),\n",
       " Text(0, 48, '480'),\n",
       " Text(0, 49, '490'),\n",
       " Text(0, 50, '500'),\n",
       " Text(0, 51, '510'),\n",
       " Text(0, 52, '520'),\n",
       " Text(0, 53, '530'),\n",
       " Text(0, 54, '540'),\n",
       " Text(0, 55, '550'),\n",
       " Text(0, 56, '560'),\n",
       " Text(0, 57, '570'),\n",
       " Text(0, 58, '580'),\n",
       " Text(0, 59, '590'),\n",
       " Text(0, 60, '600'),\n",
       " Text(0, 61, '610'),\n",
       " Text(0, 62, '620')]"
      ]
     },
     "execution_count": 12,
     "metadata": {},
     "output_type": "execute_result"
    },
    {
     "data": {
      "text/plain": [
       "Text(0.5, 1.0, 'Attention Map of Layer 11')"
      ]
     },
     "execution_count": 12,
     "metadata": {},
     "output_type": "execute_result"
    },
    {
     "data": {
      "text/plain": [
       "Text(0.5, 242.16666666666694, 'Column')"
      ]
     },
     "execution_count": 12,
     "metadata": {},
     "output_type": "execute_result"
    },
    {
     "data": {
      "text/plain": [
       "Text(187.79166666666666, 0.5, 'Row')"
      ]
     },
     "execution_count": 12,
     "metadata": {},
     "output_type": "execute_result"
    },
    {
     "data": {
      "text/plain": [
       "Text(0.5, 1.0, 'Attention from last input token to vision of Layer 11')"
      ]
     },
     "execution_count": 12,
     "metadata": {},
     "output_type": "execute_result"
    },
    {
     "data": {
      "text/plain": [
       "<matplotlib.image.AxesImage at 0x7f2f542d6dd0>"
      ]
     },
     "execution_count": 12,
     "metadata": {},
     "output_type": "execute_result"
    },
    {
     "data": {
      "text/plain": [
       "(0.0, 22.0)"
      ]
     },
     "execution_count": 12,
     "metadata": {},
     "output_type": "execute_result"
    },
    {
     "data": {
      "text/plain": [
       "(22.0, 0.0)"
      ]
     },
     "execution_count": 12,
     "metadata": {},
     "output_type": "execute_result"
    },
    {
     "name": "stderr",
     "output_type": "stream",
     "text": [
      "/tmp/ipykernel_1627/3125494494.py:15: MatplotlibDeprecationWarning: The get_cmap function was deprecated in Matplotlib 3.7 and will be removed in 3.11. Use ``matplotlib.colormaps[name]`` or ``matplotlib.colormaps.get_cmap()`` or ``pyplot.get_cmap()`` instead.\n",
      "  cmap = plt.cm.get_cmap(\"viridis\")\n"
     ]
    },
    {
     "data": {
      "text/plain": [
       "<Axes: >"
      ]
     },
     "execution_count": 12,
     "metadata": {},
     "output_type": "execute_result"
    },
    {
     "data": {
      "text/plain": [
       "[<matplotlib.axis.XTick at 0x7f2f5407f4f0>,\n",
       " <matplotlib.axis.XTick at 0x7f2f540a64a0>,\n",
       " <matplotlib.axis.XTick at 0x7f2f540a72e0>,\n",
       " <matplotlib.axis.XTick at 0x7f2f540a7370>,\n",
       " <matplotlib.axis.XTick at 0x7f2f540c8610>,\n",
       " <matplotlib.axis.XTick at 0x7f2f540a7af0>,\n",
       " <matplotlib.axis.XTick at 0x7f2f540c83a0>,\n",
       " <matplotlib.axis.XTick at 0x7f2f540c9ae0>,\n",
       " <matplotlib.axis.XTick at 0x7f2f540ca500>,\n",
       " <matplotlib.axis.XTick at 0x7f2f540caf20>,\n",
       " <matplotlib.axis.XTick at 0x7f2f540cac80>,\n",
       " <matplotlib.axis.XTick at 0x7f2f540cb820>,\n",
       " <matplotlib.axis.XTick at 0x7f2f540e8280>,\n",
       " <matplotlib.axis.XTick at 0x7f2f540e8ca0>,\n",
       " <matplotlib.axis.XTick at 0x7f2f540e96c0>,\n",
       " <matplotlib.axis.XTick at 0x7f2f540e9690>,\n",
       " <matplotlib.axis.XTick at 0x7f2f540e9ea0>,\n",
       " <matplotlib.axis.XTick at 0x7f2f540ea8c0>,\n",
       " <matplotlib.axis.XTick at 0x7f2f540eb2e0>,\n",
       " <matplotlib.axis.XTick at 0x7f2f540ebe80>,\n",
       " <matplotlib.axis.XTick at 0x7f2f540ea3b0>,\n",
       " <matplotlib.axis.XTick at 0x7f2f4de085b0>,\n",
       " <matplotlib.axis.XTick at 0x7f2f4de08fd0>,\n",
       " <matplotlib.axis.XTick at 0x7f2f4de099f0>,\n",
       " <matplotlib.axis.XTick at 0x7f2f4de09ab0>,\n",
       " <matplotlib.axis.XTick at 0x7f2f4de080d0>,\n",
       " <matplotlib.axis.XTick at 0x7f2f4de0ad10>,\n",
       " <matplotlib.axis.XTick at 0x7f2f4de0b730>,\n",
       " <matplotlib.axis.XTick at 0x7f2f4de20190>,\n",
       " <matplotlib.axis.XTick at 0x7f2f4de0b3a0>,\n",
       " <matplotlib.axis.XTick at 0x7f2f4de20970>,\n",
       " <matplotlib.axis.XTick at 0x7f2f4de21390>,\n",
       " <matplotlib.axis.XTick at 0x7f2f5407f070>,\n",
       " <matplotlib.axis.XTick at 0x7f2f4df13610>,\n",
       " <matplotlib.axis.XTick at 0x7f2f4df2c0a0>,\n",
       " <matplotlib.axis.XTick at 0x7f2f4df2c8b0>,\n",
       " <matplotlib.axis.XTick at 0x7f2f4df2d2d0>,\n",
       " <matplotlib.axis.XTick at 0x7f2f4deafcd0>,\n",
       " <matplotlib.axis.XTick at 0x7f2f4df2c520>,\n",
       " <matplotlib.axis.XTick at 0x7f2f4df2e5f0>,\n",
       " <matplotlib.axis.XTick at 0x7f2f4df2f010>,\n",
       " <matplotlib.axis.XTick at 0x7f2f4df2fa30>,\n",
       " <matplotlib.axis.XTick at 0x7f2f4df2f0a0>,\n",
       " <matplotlib.axis.XTick at 0x7f2f4df3c250>,\n",
       " <matplotlib.axis.XTick at 0x7f2f4df3cc70>,\n",
       " <matplotlib.axis.XTick at 0x7f2f4df3d690>,\n",
       " <matplotlib.axis.XTick at 0x7f2f4df3e0b0>,\n",
       " <matplotlib.axis.XTick at 0x7f2f4df3dba0>,\n",
       " <matplotlib.axis.XTick at 0x7f2f4df3e800>,\n",
       " <matplotlib.axis.XTick at 0x7f2f4df3f2b0>,\n",
       " <matplotlib.axis.XTick at 0x7f2f4df3fc70>,\n",
       " <matplotlib.axis.XTick at 0x7f2f4df3fd30>,\n",
       " <matplotlib.axis.XTick at 0x7f2f4df5c310>,\n",
       " <matplotlib.axis.XTick at 0x7f2f4df5ceb0>,\n",
       " <matplotlib.axis.XTick at 0x7f2f4df5d8d0>,\n",
       " <matplotlib.axis.XTick at 0x7f2f4df5e2f0>,\n",
       " <matplotlib.axis.XTick at 0x7f2f4df2cdf0>,\n",
       " <matplotlib.axis.XTick at 0x7f2f4df5df60>,\n",
       " <matplotlib.axis.XTick at 0x7f2f4df5ee30>,\n",
       " <matplotlib.axis.XTick at 0x7f2f4df5f850>,\n",
       " <matplotlib.axis.XTick at 0x7f2f4df7c2b0>,\n",
       " <matplotlib.axis.XTick at 0x7f2f4df5f5e0>,\n",
       " <matplotlib.axis.XTick at 0x7f2f4df7ca90>]"
      ]
     },
     "execution_count": 12,
     "metadata": {},
     "output_type": "execute_result"
    },
    {
     "data": {
      "text/plain": [
       "[<matplotlib.axis.YTick at 0x7f2f5407f520>,\n",
       " <matplotlib.axis.YTick at 0x7f2f540a6500>,\n",
       " <matplotlib.axis.YTick at 0x7f2f4de0ace0>,\n",
       " <matplotlib.axis.YTick at 0x7f2f4de21120>,\n",
       " <matplotlib.axis.YTick at 0x7f2f4de230d0>,\n",
       " <matplotlib.axis.YTick at 0x7f2f4de23af0>,\n",
       " <matplotlib.axis.YTick at 0x7f2f4de40550>,\n",
       " <matplotlib.axis.YTick at 0x7f2f4de23bb0>,\n",
       " <matplotlib.axis.YTick at 0x7f2f4de40070>,\n",
       " <matplotlib.axis.YTick at 0x7f2f4de41870>,\n",
       " <matplotlib.axis.YTick at 0x7f2f4de42290>,\n",
       " <matplotlib.axis.YTick at 0x7f2f4de42cb0>,\n",
       " <matplotlib.axis.YTick at 0x7f2f4de42a40>,\n",
       " <matplotlib.axis.YTick at 0x7f2f4de43490>,\n",
       " <matplotlib.axis.YTick at 0x7f2f4de5c0a0>,\n",
       " <matplotlib.axis.YTick at 0x7f2f4de5c910>,\n",
       " <matplotlib.axis.YTick at 0x7f2f4de43c10>,\n",
       " <matplotlib.axis.YTick at 0x7f2f4de5ce20>,\n",
       " <matplotlib.axis.YTick at 0x7f2f4de5dc30>,\n",
       " <matplotlib.axis.YTick at 0x7f2f4de5e650>,\n",
       " <matplotlib.axis.YTick at 0x7f2f4de5f070>,\n",
       " <matplotlib.axis.YTick at 0x7f2f4de228f0>,\n",
       " <matplotlib.axis.YTick at 0x7f2f4de5f970>,\n",
       " <matplotlib.axis.YTick at 0x7f2f4de5d9f0>,\n",
       " <matplotlib.axis.YTick at 0x7f2f4deac0d0>,\n",
       " <matplotlib.axis.YTick at 0x7f2f4deac970>,\n",
       " <matplotlib.axis.YTick at 0x7f2f4de5d750>,\n",
       " <matplotlib.axis.YTick at 0x7f2f4dead150>,\n",
       " <matplotlib.axis.YTick at 0x7f2f4deadb70>,\n",
       " <matplotlib.axis.YTick at 0x7f2f4deae590>,\n",
       " <matplotlib.axis.YTick at 0x7f2f4deaefb0>,\n",
       " <matplotlib.axis.YTick at 0x7f2f4deaead0>,\n",
       " <matplotlib.axis.YTick at 0x7f2f5406d570>,\n",
       " <matplotlib.axis.YTick at 0x7f2f4df7d990>,\n",
       " <matplotlib.axis.YTick at 0x7f2f4df7e1a0>,\n",
       " <matplotlib.axis.YTick at 0x7f2f4df7ebc0>,\n",
       " <matplotlib.axis.YTick at 0x7f2f4df7f5e0>,\n",
       " <matplotlib.axis.YTick at 0x7f2f4df7f5b0>,\n",
       " <matplotlib.axis.YTick at 0x7f2f4df940d0>,\n",
       " <matplotlib.axis.YTick at 0x7f2f4df94940>,\n",
       " <matplotlib.axis.YTick at 0x7f2f4df95360>,\n",
       " <matplotlib.axis.YTick at 0x7f2f4df95d80>,\n",
       " <matplotlib.axis.YTick at 0x7f2f4df95e40>,\n",
       " <matplotlib.axis.YTick at 0x7f2f4df96560>,\n",
       " <matplotlib.axis.YTick at 0x7f2f4df96f80>,\n",
       " <matplotlib.axis.YTick at 0x7f2f4df979a0>,\n",
       " <matplotlib.axis.YTick at 0x7f2f4df97ac0>,\n",
       " <matplotlib.axis.YTick at 0x7f2f4dfbc400>,\n",
       " <matplotlib.axis.YTick at 0x7f2f4dfbd090>,\n",
       " <matplotlib.axis.YTick at 0x7f2f4dfbd7e0>,\n",
       " <matplotlib.axis.YTick at 0x7f2f4dfbe200>,\n",
       " <matplotlib.axis.YTick at 0x7f2f4dfbe290>,\n",
       " <matplotlib.axis.YTick at 0x7f2f4dfbeb00>,\n",
       " <matplotlib.axis.YTick at 0x7f2f4dfbf520>,\n",
       " <matplotlib.axis.YTick at 0x7f2f4dfd8100>,\n",
       " <matplotlib.axis.YTick at 0x7f2f4dfd89a0>,\n",
       " <matplotlib.axis.YTick at 0x7f2f4dfbf190>,\n",
       " <matplotlib.axis.YTick at 0x7f2f4dfd9180>,\n",
       " <matplotlib.axis.YTick at 0x7f2f4dfd9ba0>,\n",
       " <matplotlib.axis.YTick at 0x7f2f4dfda5c0>,\n",
       " <matplotlib.axis.YTick at 0x7f2f4dfbfcd0>,\n",
       " <matplotlib.axis.YTick at 0x7f2f4dfd97e0>,\n",
       " <matplotlib.axis.YTick at 0x7f2f4dfdb850>]"
      ]
     },
     "execution_count": 12,
     "metadata": {},
     "output_type": "execute_result"
    },
    {
     "data": {
      "text/plain": [
       "[Text(0, 0, '0'),\n",
       " Text(1, 0, '10'),\n",
       " Text(2, 0, '20'),\n",
       " Text(3, 0, '30'),\n",
       " Text(4, 0, '40'),\n",
       " Text(5, 0, '50'),\n",
       " Text(6, 0, '60'),\n",
       " Text(7, 0, '70'),\n",
       " Text(8, 0, '80'),\n",
       " Text(9, 0, '90'),\n",
       " Text(10, 0, '100'),\n",
       " Text(11, 0, '110'),\n",
       " Text(12, 0, '120'),\n",
       " Text(13, 0, '130'),\n",
       " Text(14, 0, '140'),\n",
       " Text(15, 0, '150'),\n",
       " Text(16, 0, '160'),\n",
       " Text(17, 0, '170'),\n",
       " Text(18, 0, '180'),\n",
       " Text(19, 0, '190'),\n",
       " Text(20, 0, '200'),\n",
       " Text(21, 0, '210'),\n",
       " Text(22, 0, '220'),\n",
       " Text(23, 0, '230'),\n",
       " Text(24, 0, '240'),\n",
       " Text(25, 0, '250'),\n",
       " Text(26, 0, '260'),\n",
       " Text(27, 0, '270'),\n",
       " Text(28, 0, '280'),\n",
       " Text(29, 0, '290'),\n",
       " Text(30, 0, '300'),\n",
       " Text(31, 0, '310'),\n",
       " Text(32, 0, '320'),\n",
       " Text(33, 0, '330'),\n",
       " Text(34, 0, '340'),\n",
       " Text(35, 0, '350'),\n",
       " Text(36, 0, '360'),\n",
       " Text(37, 0, '370'),\n",
       " Text(38, 0, '380'),\n",
       " Text(39, 0, '390'),\n",
       " Text(40, 0, '400'),\n",
       " Text(41, 0, '410'),\n",
       " Text(42, 0, '420'),\n",
       " Text(43, 0, '430'),\n",
       " Text(44, 0, '440'),\n",
       " Text(45, 0, '450'),\n",
       " Text(46, 0, '460'),\n",
       " Text(47, 0, '470'),\n",
       " Text(48, 0, '480'),\n",
       " Text(49, 0, '490'),\n",
       " Text(50, 0, '500'),\n",
       " Text(51, 0, '510'),\n",
       " Text(52, 0, '520'),\n",
       " Text(53, 0, '530'),\n",
       " Text(54, 0, '540'),\n",
       " Text(55, 0, '550'),\n",
       " Text(56, 0, '560'),\n",
       " Text(57, 0, '570'),\n",
       " Text(58, 0, '580'),\n",
       " Text(59, 0, '590'),\n",
       " Text(60, 0, '600'),\n",
       " Text(61, 0, '610'),\n",
       " Text(62, 0, '620')]"
      ]
     },
     "execution_count": 12,
     "metadata": {},
     "output_type": "execute_result"
    },
    {
     "data": {
      "text/plain": [
       "[Text(0, 0, '0'),\n",
       " Text(0, 1, '10'),\n",
       " Text(0, 2, '20'),\n",
       " Text(0, 3, '30'),\n",
       " Text(0, 4, '40'),\n",
       " Text(0, 5, '50'),\n",
       " Text(0, 6, '60'),\n",
       " Text(0, 7, '70'),\n",
       " Text(0, 8, '80'),\n",
       " Text(0, 9, '90'),\n",
       " Text(0, 10, '100'),\n",
       " Text(0, 11, '110'),\n",
       " Text(0, 12, '120'),\n",
       " Text(0, 13, '130'),\n",
       " Text(0, 14, '140'),\n",
       " Text(0, 15, '150'),\n",
       " Text(0, 16, '160'),\n",
       " Text(0, 17, '170'),\n",
       " Text(0, 18, '180'),\n",
       " Text(0, 19, '190'),\n",
       " Text(0, 20, '200'),\n",
       " Text(0, 21, '210'),\n",
       " Text(0, 22, '220'),\n",
       " Text(0, 23, '230'),\n",
       " Text(0, 24, '240'),\n",
       " Text(0, 25, '250'),\n",
       " Text(0, 26, '260'),\n",
       " Text(0, 27, '270'),\n",
       " Text(0, 28, '280'),\n",
       " Text(0, 29, '290'),\n",
       " Text(0, 30, '300'),\n",
       " Text(0, 31, '310'),\n",
       " Text(0, 32, '320'),\n",
       " Text(0, 33, '330'),\n",
       " Text(0, 34, '340'),\n",
       " Text(0, 35, '350'),\n",
       " Text(0, 36, '360'),\n",
       " Text(0, 37, '370'),\n",
       " Text(0, 38, '380'),\n",
       " Text(0, 39, '390'),\n",
       " Text(0, 40, '400'),\n",
       " Text(0, 41, '410'),\n",
       " Text(0, 42, '420'),\n",
       " Text(0, 43, '430'),\n",
       " Text(0, 44, '440'),\n",
       " Text(0, 45, '450'),\n",
       " Text(0, 46, '460'),\n",
       " Text(0, 47, '470'),\n",
       " Text(0, 48, '480'),\n",
       " Text(0, 49, '490'),\n",
       " Text(0, 50, '500'),\n",
       " Text(0, 51, '510'),\n",
       " Text(0, 52, '520'),\n",
       " Text(0, 53, '530'),\n",
       " Text(0, 54, '540'),\n",
       " Text(0, 55, '550'),\n",
       " Text(0, 56, '560'),\n",
       " Text(0, 57, '570'),\n",
       " Text(0, 58, '580'),\n",
       " Text(0, 59, '590'),\n",
       " Text(0, 60, '600'),\n",
       " Text(0, 61, '610'),\n",
       " Text(0, 62, '620')]"
      ]
     },
     "execution_count": 12,
     "metadata": {},
     "output_type": "execute_result"
    },
    {
     "data": {
      "text/plain": [
       "Text(0.5, 1.0, 'Attention Map of Layer 12')"
      ]
     },
     "execution_count": 12,
     "metadata": {},
     "output_type": "execute_result"
    },
    {
     "data": {
      "text/plain": [
       "Text(0.5, 242.16666666666694, 'Column')"
      ]
     },
     "execution_count": 12,
     "metadata": {},
     "output_type": "execute_result"
    },
    {
     "data": {
      "text/plain": [
       "Text(187.79166666666666, 0.5, 'Row')"
      ]
     },
     "execution_count": 12,
     "metadata": {},
     "output_type": "execute_result"
    },
    {
     "data": {
      "text/plain": [
       "Text(0.5, 1.0, 'Attention from last input token to vision of Layer 12')"
      ]
     },
     "execution_count": 12,
     "metadata": {},
     "output_type": "execute_result"
    },
    {
     "data": {
      "text/plain": [
       "<matplotlib.image.AxesImage at 0x7f2f4dfdb5e0>"
      ]
     },
     "execution_count": 12,
     "metadata": {},
     "output_type": "execute_result"
    },
    {
     "data": {
      "text/plain": [
       "(0.0, 22.0)"
      ]
     },
     "execution_count": 12,
     "metadata": {},
     "output_type": "execute_result"
    },
    {
     "data": {
      "text/plain": [
       "(22.0, 0.0)"
      ]
     },
     "execution_count": 12,
     "metadata": {},
     "output_type": "execute_result"
    },
    {
     "name": "stderr",
     "output_type": "stream",
     "text": [
      "/tmp/ipykernel_1627/3125494494.py:15: MatplotlibDeprecationWarning: The get_cmap function was deprecated in Matplotlib 3.7 and will be removed in 3.11. Use ``matplotlib.colormaps[name]`` or ``matplotlib.colormaps.get_cmap()`` or ``pyplot.get_cmap()`` instead.\n",
      "  cmap = plt.cm.get_cmap(\"viridis\")\n"
     ]
    },
    {
     "data": {
      "text/plain": [
       "<Axes: >"
      ]
     },
     "execution_count": 12,
     "metadata": {},
     "output_type": "execute_result"
    },
    {
     "data": {
      "text/plain": [
       "[<matplotlib.axis.XTick at 0x7f2f4dd7fca0>,\n",
       " <matplotlib.axis.XTick at 0x7f2f4ddb2d40>,\n",
       " <matplotlib.axis.XTick at 0x7f2f4ddb3b80>,\n",
       " <matplotlib.axis.XTick at 0x7f2f4ddb3c10>,\n",
       " <matplotlib.axis.XTick at 0x7f2f4ddc8eb0>,\n",
       " <matplotlib.axis.XTick at 0x7f2f4ddb3df0>,\n",
       " <matplotlib.axis.XTick at 0x7f2f4ddc8430>,\n",
       " <matplotlib.axis.XTick at 0x7f2f4ddca380>,\n",
       " <matplotlib.axis.XTick at 0x7f2f4ddcada0>,\n",
       " <matplotlib.axis.XTick at 0x7f2f4ddcb7c0>,\n",
       " <matplotlib.axis.XTick at 0x7f2f4ddcb400>,\n",
       " <matplotlib.axis.XTick at 0x7f2f4dde4100>,\n",
       " <matplotlib.axis.XTick at 0x7f2f4dde4b20>,\n",
       " <matplotlib.axis.XTick at 0x7f2f4dde5540>,\n",
       " <matplotlib.axis.XTick at 0x7f2f4dde5f60>,\n",
       " <matplotlib.axis.XTick at 0x7f2f4dde5b70>,\n",
       " <matplotlib.axis.XTick at 0x7f2f4dde6740>,\n",
       " <matplotlib.axis.XTick at 0x7f2f4dde7160>,\n",
       " <matplotlib.axis.XTick at 0x7f2f4dde7b80>,\n",
       " <matplotlib.axis.XTick at 0x7f2f4dde7c40>,\n",
       " <matplotlib.axis.XTick at 0x7f2f4db70760>,\n",
       " <matplotlib.axis.XTick at 0x7f2f4db70e50>,\n",
       " <matplotlib.axis.XTick at 0x7f2f4db71870>,\n",
       " <matplotlib.axis.XTick at 0x7f2f4db72290>,\n",
       " <matplotlib.axis.XTick at 0x7f2f4db722c0>,\n",
       " <matplotlib.axis.XTick at 0x7f2f4db70640>,\n",
       " <matplotlib.axis.XTick at 0x7f2f4db735b0>,\n",
       " <matplotlib.axis.XTick at 0x7f2f4db1c040>,\n",
       " <matplotlib.axis.XTick at 0x7f2f4db1ca30>,\n",
       " <matplotlib.axis.XTick at 0x7f2f4db731c0>,\n",
       " <matplotlib.axis.XTick at 0x7f2f4db1d210>,\n",
       " <matplotlib.axis.XTick at 0x7f2f4db1dc30>,\n",
       " <matplotlib.axis.XTick at 0x7f2f4dd7f820>,\n",
       " <matplotlib.axis.XTick at 0x7f2f4dc1c4c0>,\n",
       " <matplotlib.axis.XTick at 0x7f2f4dc1c520>,\n",
       " <matplotlib.axis.XTick at 0x7f2f4dc1d690>,\n",
       " <matplotlib.axis.XTick at 0x7f2f4dc1e0b0>,\n",
       " <matplotlib.axis.XTick at 0x7f2f4dc1e170>,\n",
       " <matplotlib.axis.XTick at 0x7f2f4dc1e9b0>,\n",
       " <matplotlib.axis.XTick at 0x7f2f4dc1f3d0>,\n",
       " <matplotlib.axis.XTick at 0x7f2f4dc38130>,\n",
       " <matplotlib.axis.XTick at 0x7f2f4dc38850>,\n",
       " <matplotlib.axis.XTick at 0x7f2f4dc1f040>,\n",
       " <matplotlib.axis.XTick at 0x7f2f4dc39030>,\n",
       " <matplotlib.axis.XTick at 0x7f2f4dc39a50>,\n",
       " <matplotlib.axis.XTick at 0x7f2f4dc3a470>,\n",
       " <matplotlib.axis.XTick at 0x7f2f4dc1f010>,\n",
       " <matplotlib.axis.XTick at 0x7f2f4dc39660>,\n",
       " <matplotlib.axis.XTick at 0x7f2f4dc3b670>,\n",
       " <matplotlib.axis.XTick at 0x7f2f4dc580d0>,\n",
       " <matplotlib.axis.XTick at 0x7f2f4dc58af0>,\n",
       " <matplotlib.axis.XTick at 0x7f2f4dc3bb50>,\n",
       " <matplotlib.axis.XTick at 0x7f2f4db5f3d0>,\n",
       " <matplotlib.axis.XTick at 0x7f2f4dc59510>,\n",
       " <matplotlib.axis.XTick at 0x7f2f4dc59f30>,\n",
       " <matplotlib.axis.XTick at 0x7f2f4dc5a950>,\n",
       " <matplotlib.axis.XTick at 0x7f2f4dc5aa70>,\n",
       " <matplotlib.axis.XTick at 0x7f2f4dc5b130>,\n",
       " <matplotlib.axis.XTick at 0x7f2f4dc5bb50>,\n",
       " <matplotlib.axis.XTick at 0x7f2f4dc745b0>,\n",
       " <matplotlib.axis.XTick at 0x7f2f4dc74fd0>,\n",
       " <matplotlib.axis.XTick at 0x7f2f4dc75120>,\n",
       " <matplotlib.axis.XTick at 0x7f2f4dc75720>]"
      ]
     },
     "execution_count": 12,
     "metadata": {},
     "output_type": "execute_result"
    },
    {
     "data": {
      "text/plain": [
       "[<matplotlib.axis.YTick at 0x7f2f4dd7fcd0>,\n",
       " <matplotlib.axis.YTick at 0x7f2f4ddb2da0>,\n",
       " <matplotlib.axis.YTick at 0x7f2f4db1efb0>,\n",
       " <matplotlib.axis.YTick at 0x7f2f4db1d720>,\n",
       " <matplotlib.axis.YTick at 0x7f2f4db1f970>,\n",
       " <matplotlib.axis.YTick at 0x7f2f4db303d0>,\n",
       " <matplotlib.axis.YTick at 0x7f2f4db30df0>,\n",
       " <matplotlib.axis.YTick at 0x7f2f4db1fa90>,\n",
       " <matplotlib.axis.YTick at 0x7f2f4db30040>,\n",
       " <matplotlib.axis.YTick at 0x7f2f4db32110>,\n",
       " <matplotlib.axis.YTick at 0x7f2f4db32b30>,\n",
       " <matplotlib.axis.YTick at 0x7f2f4db33550>,\n",
       " <matplotlib.axis.YTick at 0x7f2f4db33010>,\n",
       " <matplotlib.axis.YTick at 0x7f2f4db33f70>,\n",
       " <matplotlib.axis.YTick at 0x7f2f4db5c790>,\n",
       " <matplotlib.axis.YTick at 0x7f2f4db5d1b0>,\n",
       " <matplotlib.axis.YTick at 0x7f2f4db33df0>,\n",
       " <matplotlib.axis.YTick at 0x7f2f4dde64a0>,\n",
       " <matplotlib.axis.YTick at 0x7f2f4db5d690>,\n",
       " <matplotlib.axis.YTick at 0x7f2f4db5e200>,\n",
       " <matplotlib.axis.YTick at 0x7f2f4db5ec20>,\n",
       " <matplotlib.axis.YTick at 0x7f2f4db1cf70>,\n",
       " <matplotlib.axis.YTick at 0x7f2f4db5c9d0>,\n",
       " <matplotlib.axis.YTick at 0x7f2f4db9c100>,\n",
       " <matplotlib.axis.YTick at 0x7f2f4db9c9a0>,\n",
       " <matplotlib.axis.YTick at 0x7f2f4db9d3c0>,\n",
       " <matplotlib.axis.YTick at 0x7f2f4db9d4e0>,\n",
       " <matplotlib.axis.YTick at 0x7f2f4db9dba0>,\n",
       " <matplotlib.axis.YTick at 0x7f2f4db9e5c0>,\n",
       " <matplotlib.axis.YTick at 0x7f2f4db9efe0>,\n",
       " <matplotlib.axis.YTick at 0x7f2f4db9fb80>,\n",
       " <matplotlib.axis.YTick at 0x7f2f4db9e080>,\n",
       " <matplotlib.axis.YTick at 0x7f2f4dd7ca90>,\n",
       " <matplotlib.axis.YTick at 0x7f2f4dc757e0>,\n",
       " <matplotlib.axis.YTick at 0x7f2f4dc76ad0>,\n",
       " <matplotlib.axis.YTick at 0x7f2f4dc774f0>,\n",
       " <matplotlib.axis.YTick at 0x7f2f4dc900d0>,\n",
       " <matplotlib.axis.YTick at 0x7f2f4dc779d0>,\n",
       " <matplotlib.axis.YTick at 0x7f2f4dc908b0>,\n",
       " <matplotlib.axis.YTick at 0x7f2f4dc91270>,\n",
       " <matplotlib.axis.YTick at 0x7f2f4dc91c90>,\n",
       " <matplotlib.axis.YTick at 0x7f2f4dc926b0>,\n",
       " <matplotlib.axis.YTick at 0x7f2f4dc92680>,\n",
       " <matplotlib.axis.YTick at 0x7f2f4dc92e90>,\n",
       " <matplotlib.axis.YTick at 0x7f2f4dc938b0>,\n",
       " <matplotlib.axis.YTick at 0x7f2f4dcac310>,\n",
       " <matplotlib.axis.YTick at 0x7f2f4dcacd30>,\n",
       " <matplotlib.axis.YTick at 0x7f2f4dcace50>,\n",
       " <matplotlib.axis.YTick at 0x7f2f4dcad480>,\n",
       " <matplotlib.axis.YTick at 0x7f2f4dcadea0>,\n",
       " <matplotlib.axis.YTick at 0x7f2f4dcae8c0>,\n",
       " <matplotlib.axis.YTick at 0x7f2f4dc91390>,\n",
       " <matplotlib.axis.YTick at 0x7f2f4dcadab0>,\n",
       " <matplotlib.axis.YTick at 0x7f2f4dcafac0>,\n",
       " <matplotlib.axis.YTick at 0x7f2f4dccc520>,\n",
       " <matplotlib.axis.YTick at 0x7f2f4dcccf40>,\n",
       " <matplotlib.axis.YTick at 0x7f2f4dcafb50>,\n",
       " <matplotlib.axis.YTick at 0x7f2f4dccd840>,\n",
       " <matplotlib.axis.YTick at 0x7f2f4dcce260>,\n",
       " <matplotlib.axis.YTick at 0x7f2f4dccec80>,\n",
       " <matplotlib.axis.YTick at 0x7f2f4dccf6a0>,\n",
       " <matplotlib.axis.YTick at 0x7f2f4dccecb0>,\n",
       " <matplotlib.axis.YTick at 0x7f2f4dce4070>]"
      ]
     },
     "execution_count": 12,
     "metadata": {},
     "output_type": "execute_result"
    },
    {
     "data": {
      "text/plain": [
       "[Text(0, 0, '0'),\n",
       " Text(1, 0, '10'),\n",
       " Text(2, 0, '20'),\n",
       " Text(3, 0, '30'),\n",
       " Text(4, 0, '40'),\n",
       " Text(5, 0, '50'),\n",
       " Text(6, 0, '60'),\n",
       " Text(7, 0, '70'),\n",
       " Text(8, 0, '80'),\n",
       " Text(9, 0, '90'),\n",
       " Text(10, 0, '100'),\n",
       " Text(11, 0, '110'),\n",
       " Text(12, 0, '120'),\n",
       " Text(13, 0, '130'),\n",
       " Text(14, 0, '140'),\n",
       " Text(15, 0, '150'),\n",
       " Text(16, 0, '160'),\n",
       " Text(17, 0, '170'),\n",
       " Text(18, 0, '180'),\n",
       " Text(19, 0, '190'),\n",
       " Text(20, 0, '200'),\n",
       " Text(21, 0, '210'),\n",
       " Text(22, 0, '220'),\n",
       " Text(23, 0, '230'),\n",
       " Text(24, 0, '240'),\n",
       " Text(25, 0, '250'),\n",
       " Text(26, 0, '260'),\n",
       " Text(27, 0, '270'),\n",
       " Text(28, 0, '280'),\n",
       " Text(29, 0, '290'),\n",
       " Text(30, 0, '300'),\n",
       " Text(31, 0, '310'),\n",
       " Text(32, 0, '320'),\n",
       " Text(33, 0, '330'),\n",
       " Text(34, 0, '340'),\n",
       " Text(35, 0, '350'),\n",
       " Text(36, 0, '360'),\n",
       " Text(37, 0, '370'),\n",
       " Text(38, 0, '380'),\n",
       " Text(39, 0, '390'),\n",
       " Text(40, 0, '400'),\n",
       " Text(41, 0, '410'),\n",
       " Text(42, 0, '420'),\n",
       " Text(43, 0, '430'),\n",
       " Text(44, 0, '440'),\n",
       " Text(45, 0, '450'),\n",
       " Text(46, 0, '460'),\n",
       " Text(47, 0, '470'),\n",
       " Text(48, 0, '480'),\n",
       " Text(49, 0, '490'),\n",
       " Text(50, 0, '500'),\n",
       " Text(51, 0, '510'),\n",
       " Text(52, 0, '520'),\n",
       " Text(53, 0, '530'),\n",
       " Text(54, 0, '540'),\n",
       " Text(55, 0, '550'),\n",
       " Text(56, 0, '560'),\n",
       " Text(57, 0, '570'),\n",
       " Text(58, 0, '580'),\n",
       " Text(59, 0, '590'),\n",
       " Text(60, 0, '600'),\n",
       " Text(61, 0, '610'),\n",
       " Text(62, 0, '620')]"
      ]
     },
     "execution_count": 12,
     "metadata": {},
     "output_type": "execute_result"
    },
    {
     "data": {
      "text/plain": [
       "[Text(0, 0, '0'),\n",
       " Text(0, 1, '10'),\n",
       " Text(0, 2, '20'),\n",
       " Text(0, 3, '30'),\n",
       " Text(0, 4, '40'),\n",
       " Text(0, 5, '50'),\n",
       " Text(0, 6, '60'),\n",
       " Text(0, 7, '70'),\n",
       " Text(0, 8, '80'),\n",
       " Text(0, 9, '90'),\n",
       " Text(0, 10, '100'),\n",
       " Text(0, 11, '110'),\n",
       " Text(0, 12, '120'),\n",
       " Text(0, 13, '130'),\n",
       " Text(0, 14, '140'),\n",
       " Text(0, 15, '150'),\n",
       " Text(0, 16, '160'),\n",
       " Text(0, 17, '170'),\n",
       " Text(0, 18, '180'),\n",
       " Text(0, 19, '190'),\n",
       " Text(0, 20, '200'),\n",
       " Text(0, 21, '210'),\n",
       " Text(0, 22, '220'),\n",
       " Text(0, 23, '230'),\n",
       " Text(0, 24, '240'),\n",
       " Text(0, 25, '250'),\n",
       " Text(0, 26, '260'),\n",
       " Text(0, 27, '270'),\n",
       " Text(0, 28, '280'),\n",
       " Text(0, 29, '290'),\n",
       " Text(0, 30, '300'),\n",
       " Text(0, 31, '310'),\n",
       " Text(0, 32, '320'),\n",
       " Text(0, 33, '330'),\n",
       " Text(0, 34, '340'),\n",
       " Text(0, 35, '350'),\n",
       " Text(0, 36, '360'),\n",
       " Text(0, 37, '370'),\n",
       " Text(0, 38, '380'),\n",
       " Text(0, 39, '390'),\n",
       " Text(0, 40, '400'),\n",
       " Text(0, 41, '410'),\n",
       " Text(0, 42, '420'),\n",
       " Text(0, 43, '430'),\n",
       " Text(0, 44, '440'),\n",
       " Text(0, 45, '450'),\n",
       " Text(0, 46, '460'),\n",
       " Text(0, 47, '470'),\n",
       " Text(0, 48, '480'),\n",
       " Text(0, 49, '490'),\n",
       " Text(0, 50, '500'),\n",
       " Text(0, 51, '510'),\n",
       " Text(0, 52, '520'),\n",
       " Text(0, 53, '530'),\n",
       " Text(0, 54, '540'),\n",
       " Text(0, 55, '550'),\n",
       " Text(0, 56, '560'),\n",
       " Text(0, 57, '570'),\n",
       " Text(0, 58, '580'),\n",
       " Text(0, 59, '590'),\n",
       " Text(0, 60, '600'),\n",
       " Text(0, 61, '610'),\n",
       " Text(0, 62, '620')]"
      ]
     },
     "execution_count": 12,
     "metadata": {},
     "output_type": "execute_result"
    },
    {
     "data": {
      "text/plain": [
       "Text(0.5, 1.0, 'Attention Map of Layer 13')"
      ]
     },
     "execution_count": 12,
     "metadata": {},
     "output_type": "execute_result"
    },
    {
     "data": {
      "text/plain": [
       "Text(0.5, 242.16666666666694, 'Column')"
      ]
     },
     "execution_count": 12,
     "metadata": {},
     "output_type": "execute_result"
    },
    {
     "data": {
      "text/plain": [
       "Text(187.79166666666666, 0.5, 'Row')"
      ]
     },
     "execution_count": 12,
     "metadata": {},
     "output_type": "execute_result"
    },
    {
     "data": {
      "text/plain": [
       "Text(0.5, 1.0, 'Attention from last input token to vision of Layer 13')"
      ]
     },
     "execution_count": 12,
     "metadata": {},
     "output_type": "execute_result"
    },
    {
     "data": {
      "text/plain": [
       "<matplotlib.image.AxesImage at 0x7f2f4dd68a90>"
      ]
     },
     "execution_count": 12,
     "metadata": {},
     "output_type": "execute_result"
    },
    {
     "data": {
      "text/plain": [
       "(0.0, 22.0)"
      ]
     },
     "execution_count": 12,
     "metadata": {},
     "output_type": "execute_result"
    },
    {
     "data": {
      "text/plain": [
       "(22.0, 0.0)"
      ]
     },
     "execution_count": 12,
     "metadata": {},
     "output_type": "execute_result"
    },
    {
     "name": "stderr",
     "output_type": "stream",
     "text": [
      "/tmp/ipykernel_1627/3125494494.py:15: MatplotlibDeprecationWarning: The get_cmap function was deprecated in Matplotlib 3.7 and will be removed in 3.11. Use ``matplotlib.colormaps[name]`` or ``matplotlib.colormaps.get_cmap()`` or ``pyplot.get_cmap()`` instead.\n",
      "  cmap = plt.cm.get_cmap(\"viridis\")\n"
     ]
    },
    {
     "data": {
      "text/plain": [
       "<Axes: >"
      ]
     },
     "execution_count": 12,
     "metadata": {},
     "output_type": "execute_result"
    },
    {
     "data": {
      "text/plain": [
       "[<matplotlib.axis.XTick at 0x7f2f4da76260>,\n",
       " <matplotlib.axis.XTick at 0x7f2f4daa19c0>,\n",
       " <matplotlib.axis.XTick at 0x7f2f4daa25f0>,\n",
       " <matplotlib.axis.XTick at 0x7f2f4daa2680>,\n",
       " <matplotlib.axis.XTick at 0x7f2f4daa38e0>,\n",
       " <matplotlib.axis.XTick at 0x7f2f4daa3cd0>,\n",
       " <matplotlib.axis.XTick at 0x7f2f4dab8730>,\n",
       " <matplotlib.axis.XTick at 0x7f2f4dab9150>,\n",
       " <matplotlib.axis.XTick at 0x7f2f4dab9b70>,\n",
       " <matplotlib.axis.XTick at 0x7f2f4dab9cc0>,\n",
       " <matplotlib.axis.XTick at 0x7f2f4daba470>,\n",
       " <matplotlib.axis.XTick at 0x7f2f4dabae90>,\n",
       " <matplotlib.axis.XTick at 0x7f2f4dabb8b0>,\n",
       " <matplotlib.axis.XTick at 0x7f2f4dad4310>,\n",
       " <matplotlib.axis.XTick at 0x7f2f4dabab00>,\n",
       " <matplotlib.axis.XTick at 0x7f2f4dad4a60>,\n",
       " <matplotlib.axis.XTick at 0x7f2f4dad5480>,\n",
       " <matplotlib.axis.XTick at 0x7f2f4dad5ea0>,\n",
       " <matplotlib.axis.XTick at 0x7f2f4dabaad0>,\n",
       " <matplotlib.axis.XTick at 0x7f2f4dad5240>,\n",
       " <matplotlib.axis.XTick at 0x7f2f4dad70a0>,\n",
       " <matplotlib.axis.XTick at 0x7f2f4dad7ac0>,\n",
       " <matplotlib.axis.XTick at 0x7f2f4daf0520>,\n",
       " <matplotlib.axis.XTick at 0x7f2f4dad7b50>,\n",
       " <matplotlib.axis.XTick at 0x7f2f4daf0040>,\n",
       " <matplotlib.axis.XTick at 0x7f2f4daf1840>,\n",
       " <matplotlib.axis.XTick at 0x7f2f4daf2260>,\n",
       " <matplotlib.axis.XTick at 0x7f2f4daf2c80>,\n",
       " <matplotlib.axis.XTick at 0x7f2f4daf2a40>,\n",
       " <matplotlib.axis.XTick at 0x7f2f4daf3460>,\n",
       " <matplotlib.axis.XTick at 0x7f2f4d810070>,\n",
       " <matplotlib.axis.XTick at 0x7f2f4d8108e0>,\n",
       " <matplotlib.axis.XTick at 0x7f2f4da75de0>,\n",
       " <matplotlib.axis.XTick at 0x7f2f4d8f9de0>,\n",
       " <matplotlib.axis.XTick at 0x7f2f4d8fa830>,\n",
       " <matplotlib.axis.XTick at 0x7f2f4d8fba90>,\n",
       " <matplotlib.axis.XTick at 0x7f2f4d9084f0>,\n",
       " <matplotlib.axis.XTick at 0x7f2f4d8fb6d0>,\n",
       " <matplotlib.axis.XTick at 0x7f2f4d908df0>,\n",
       " <matplotlib.axis.XTick at 0x7f2f4d909810>,\n",
       " <matplotlib.axis.XTick at 0x7f2f4d90a230>,\n",
       " <matplotlib.axis.XTick at 0x7f2f4d90ac50>,\n",
       " <matplotlib.axis.XTick at 0x7f2f4d90a380>,\n",
       " <matplotlib.axis.XTick at 0x7f2f4d90b430>,\n",
       " <matplotlib.axis.XTick at 0x7f2f4d92c190>,\n",
       " <matplotlib.axis.XTick at 0x7f2f4d92c8b0>,\n",
       " <matplotlib.axis.XTick at 0x7f2f4d90bf10>,\n",
       " <matplotlib.axis.XTick at 0x7f2f4d92cee0>,\n",
       " <matplotlib.axis.XTick at 0x7f2f4d92dab0>,\n",
       " <matplotlib.axis.XTick at 0x7f2f4d92e4d0>,\n",
       " <matplotlib.axis.XTick at 0x7f2f4d92eef0>,\n",
       " <matplotlib.axis.XTick at 0x7f2f4d8de740>,\n",
       " <matplotlib.axis.XTick at 0x7f2f4d92efb0>,\n",
       " <matplotlib.axis.XTick at 0x7f2f4d92d090>,\n",
       " <matplotlib.axis.XTick at 0x7f2f4d944250>,\n",
       " <matplotlib.axis.XTick at 0x7f2f4d944c70>,\n",
       " <matplotlib.axis.XTick at 0x7f2f4d84d5d0>,\n",
       " <matplotlib.axis.XTick at 0x7f2f4d945450>,\n",
       " <matplotlib.axis.XTick at 0x7f2f4d945e70>,\n",
       " <matplotlib.axis.XTick at 0x7f2f4d946890>,\n",
       " <matplotlib.axis.XTick at 0x7f2f4d9472b0>,\n",
       " <matplotlib.axis.XTick at 0x7f2f4d946dd0>,\n",
       " <matplotlib.axis.XTick at 0x7f2f4d947a00>]"
      ]
     },
     "execution_count": 12,
     "metadata": {},
     "output_type": "execute_result"
    },
    {
     "data": {
      "text/plain": [
       "[<matplotlib.axis.YTick at 0x7f2f4da76290>,\n",
       " <matplotlib.axis.YTick at 0x7f2f4daa1990>,\n",
       " <matplotlib.axis.YTick at 0x7f2f4d810970>,\n",
       " <matplotlib.axis.YTick at 0x7f2f4d811b70>,\n",
       " <matplotlib.axis.YTick at 0x7f2f4d812590>,\n",
       " <matplotlib.axis.YTick at 0x7f2f4d812fb0>,\n",
       " <matplotlib.axis.YTick at 0x7f2f4d813040>,\n",
       " <matplotlib.axis.YTick at 0x7f2f4d810f70>,\n",
       " <matplotlib.axis.YTick at 0x7f2f4d82c310>,\n",
       " <matplotlib.axis.YTick at 0x7f2f4d82cd30>,\n",
       " <matplotlib.axis.YTick at 0x7f2f4d82d750>,\n",
       " <matplotlib.axis.YTick at 0x7f2f4d82d870>,\n",
       " <matplotlib.axis.YTick at 0x7f2f4d82df30>,\n",
       " <matplotlib.axis.YTick at 0x7f2f4d82e950>,\n",
       " <matplotlib.axis.YTick at 0x7f2f4d82f370>,\n",
       " <matplotlib.axis.YTick at 0x7f2f4d813dc0>,\n",
       " <matplotlib.axis.YTick at 0x7f2f4daa39a0>,\n",
       " <matplotlib.axis.YTick at 0x7f2f4d82e710>,\n",
       " <matplotlib.axis.YTick at 0x7f2f4d84c520>,\n",
       " <matplotlib.axis.YTick at 0x7f2f4d84cf40>,\n",
       " <matplotlib.axis.YTick at 0x7f2f4dad68f0>,\n",
       " <matplotlib.axis.YTick at 0x7f2f4d84c040>,\n",
       " <matplotlib.axis.YTick at 0x7f2f4d84e260>,\n",
       " <matplotlib.axis.YTick at 0x7f2f4d84ec80>,\n",
       " <matplotlib.axis.YTick at 0x7f2f4d84f6a0>,\n",
       " <matplotlib.axis.YTick at 0x7f2f4d84f190>,\n",
       " <matplotlib.axis.YTick at 0x7f2f4d898070>,\n",
       " <matplotlib.axis.YTick at 0x7f2f4d8988e0>,\n",
       " <matplotlib.axis.YTick at 0x7f2f4d899300>,\n",
       " <matplotlib.axis.YTick at 0x7f2f4d84ff40>,\n",
       " <matplotlib.axis.YTick at 0x7f2f4d898dc0>,\n",
       " <matplotlib.axis.YTick at 0x7f2f4d89a620>,\n",
       " <matplotlib.axis.YTick at 0x7f2f4da623e0>,\n",
       " <matplotlib.axis.YTick at 0x7f2f4d96c580>,\n",
       " <matplotlib.axis.YTick at 0x7f2f4d96cdc0>,\n",
       " <matplotlib.axis.YTick at 0x7f2f4d96d7e0>,\n",
       " <matplotlib.axis.YTick at 0x7f2f4d96e200>,\n",
       " <matplotlib.axis.YTick at 0x7f2f4d96e290>,\n",
       " <matplotlib.axis.YTick at 0x7f2f4d96c8b0>,\n",
       " <matplotlib.axis.YTick at 0x7f2f4d96f520>,\n",
       " <matplotlib.axis.YTick at 0x7f2f4d984100>,\n",
       " <matplotlib.axis.YTick at 0x7f2f4d9849a0>,\n",
       " <matplotlib.axis.YTick at 0x7f2f4d96f280>,\n",
       " <matplotlib.axis.YTick at 0x7f2f4d985180>,\n",
       " <matplotlib.axis.YTick at 0x7f2f4d985ba0>,\n",
       " <matplotlib.axis.YTick at 0x7f2f4d9865c0>,\n",
       " <matplotlib.axis.YTick at 0x7f2f4d986fe0>,\n",
       " <matplotlib.axis.YTick at 0x7f2f4d986680>,\n",
       " <matplotlib.axis.YTick at 0x7f2f4d987730>,\n",
       " <matplotlib.axis.YTick at 0x7f2f4d9a0190>,\n",
       " <matplotlib.axis.YTick at 0x7f2f4d9a0bb0>,\n",
       " <matplotlib.axis.YTick at 0x7f2f4d987dc0>,\n",
       " <matplotlib.axis.YTick at 0x7f2f4d9a0be0>,\n",
       " <matplotlib.axis.YTick at 0x7f2f4d9a1db0>,\n",
       " <matplotlib.axis.YTick at 0x7f2f4d9a27d0>,\n",
       " <matplotlib.axis.YTick at 0x7f2f4d9a31f0>,\n",
       " <matplotlib.axis.YTick at 0x7f2f4d9a3220>,\n",
       " <matplotlib.axis.YTick at 0x7f2f4d9a3af0>,\n",
       " <matplotlib.axis.YTick at 0x7f2f4d9c0550>,\n",
       " <matplotlib.axis.YTick at 0x7f2f4d9c0f70>,\n",
       " <matplotlib.axis.YTick at 0x7f2f4d9c1990>,\n",
       " <matplotlib.axis.YTick at 0x7f2f4d9c19c0>,\n",
       " <matplotlib.axis.YTick at 0x7f2f4d9c2170>]"
      ]
     },
     "execution_count": 12,
     "metadata": {},
     "output_type": "execute_result"
    },
    {
     "data": {
      "text/plain": [
       "[Text(0, 0, '0'),\n",
       " Text(1, 0, '10'),\n",
       " Text(2, 0, '20'),\n",
       " Text(3, 0, '30'),\n",
       " Text(4, 0, '40'),\n",
       " Text(5, 0, '50'),\n",
       " Text(6, 0, '60'),\n",
       " Text(7, 0, '70'),\n",
       " Text(8, 0, '80'),\n",
       " Text(9, 0, '90'),\n",
       " Text(10, 0, '100'),\n",
       " Text(11, 0, '110'),\n",
       " Text(12, 0, '120'),\n",
       " Text(13, 0, '130'),\n",
       " Text(14, 0, '140'),\n",
       " Text(15, 0, '150'),\n",
       " Text(16, 0, '160'),\n",
       " Text(17, 0, '170'),\n",
       " Text(18, 0, '180'),\n",
       " Text(19, 0, '190'),\n",
       " Text(20, 0, '200'),\n",
       " Text(21, 0, '210'),\n",
       " Text(22, 0, '220'),\n",
       " Text(23, 0, '230'),\n",
       " Text(24, 0, '240'),\n",
       " Text(25, 0, '250'),\n",
       " Text(26, 0, '260'),\n",
       " Text(27, 0, '270'),\n",
       " Text(28, 0, '280'),\n",
       " Text(29, 0, '290'),\n",
       " Text(30, 0, '300'),\n",
       " Text(31, 0, '310'),\n",
       " Text(32, 0, '320'),\n",
       " Text(33, 0, '330'),\n",
       " Text(34, 0, '340'),\n",
       " Text(35, 0, '350'),\n",
       " Text(36, 0, '360'),\n",
       " Text(37, 0, '370'),\n",
       " Text(38, 0, '380'),\n",
       " Text(39, 0, '390'),\n",
       " Text(40, 0, '400'),\n",
       " Text(41, 0, '410'),\n",
       " Text(42, 0, '420'),\n",
       " Text(43, 0, '430'),\n",
       " Text(44, 0, '440'),\n",
       " Text(45, 0, '450'),\n",
       " Text(46, 0, '460'),\n",
       " Text(47, 0, '470'),\n",
       " Text(48, 0, '480'),\n",
       " Text(49, 0, '490'),\n",
       " Text(50, 0, '500'),\n",
       " Text(51, 0, '510'),\n",
       " Text(52, 0, '520'),\n",
       " Text(53, 0, '530'),\n",
       " Text(54, 0, '540'),\n",
       " Text(55, 0, '550'),\n",
       " Text(56, 0, '560'),\n",
       " Text(57, 0, '570'),\n",
       " Text(58, 0, '580'),\n",
       " Text(59, 0, '590'),\n",
       " Text(60, 0, '600'),\n",
       " Text(61, 0, '610'),\n",
       " Text(62, 0, '620')]"
      ]
     },
     "execution_count": 12,
     "metadata": {},
     "output_type": "execute_result"
    },
    {
     "data": {
      "text/plain": [
       "[Text(0, 0, '0'),\n",
       " Text(0, 1, '10'),\n",
       " Text(0, 2, '20'),\n",
       " Text(0, 3, '30'),\n",
       " Text(0, 4, '40'),\n",
       " Text(0, 5, '50'),\n",
       " Text(0, 6, '60'),\n",
       " Text(0, 7, '70'),\n",
       " Text(0, 8, '80'),\n",
       " Text(0, 9, '90'),\n",
       " Text(0, 10, '100'),\n",
       " Text(0, 11, '110'),\n",
       " Text(0, 12, '120'),\n",
       " Text(0, 13, '130'),\n",
       " Text(0, 14, '140'),\n",
       " Text(0, 15, '150'),\n",
       " Text(0, 16, '160'),\n",
       " Text(0, 17, '170'),\n",
       " Text(0, 18, '180'),\n",
       " Text(0, 19, '190'),\n",
       " Text(0, 20, '200'),\n",
       " Text(0, 21, '210'),\n",
       " Text(0, 22, '220'),\n",
       " Text(0, 23, '230'),\n",
       " Text(0, 24, '240'),\n",
       " Text(0, 25, '250'),\n",
       " Text(0, 26, '260'),\n",
       " Text(0, 27, '270'),\n",
       " Text(0, 28, '280'),\n",
       " Text(0, 29, '290'),\n",
       " Text(0, 30, '300'),\n",
       " Text(0, 31, '310'),\n",
       " Text(0, 32, '320'),\n",
       " Text(0, 33, '330'),\n",
       " Text(0, 34, '340'),\n",
       " Text(0, 35, '350'),\n",
       " Text(0, 36, '360'),\n",
       " Text(0, 37, '370'),\n",
       " Text(0, 38, '380'),\n",
       " Text(0, 39, '390'),\n",
       " Text(0, 40, '400'),\n",
       " Text(0, 41, '410'),\n",
       " Text(0, 42, '420'),\n",
       " Text(0, 43, '430'),\n",
       " Text(0, 44, '440'),\n",
       " Text(0, 45, '450'),\n",
       " Text(0, 46, '460'),\n",
       " Text(0, 47, '470'),\n",
       " Text(0, 48, '480'),\n",
       " Text(0, 49, '490'),\n",
       " Text(0, 50, '500'),\n",
       " Text(0, 51, '510'),\n",
       " Text(0, 52, '520'),\n",
       " Text(0, 53, '530'),\n",
       " Text(0, 54, '540'),\n",
       " Text(0, 55, '550'),\n",
       " Text(0, 56, '560'),\n",
       " Text(0, 57, '570'),\n",
       " Text(0, 58, '580'),\n",
       " Text(0, 59, '590'),\n",
       " Text(0, 60, '600'),\n",
       " Text(0, 61, '610'),\n",
       " Text(0, 62, '620')]"
      ]
     },
     "execution_count": 12,
     "metadata": {},
     "output_type": "execute_result"
    },
    {
     "data": {
      "text/plain": [
       "Text(0.5, 1.0, 'Attention Map of Layer 14')"
      ]
     },
     "execution_count": 12,
     "metadata": {},
     "output_type": "execute_result"
    },
    {
     "data": {
      "text/plain": [
       "Text(0.5, 242.16666666666694, 'Column')"
      ]
     },
     "execution_count": 12,
     "metadata": {},
     "output_type": "execute_result"
    },
    {
     "data": {
      "text/plain": [
       "Text(187.79166666666666, 0.5, 'Row')"
      ]
     },
     "execution_count": 12,
     "metadata": {},
     "output_type": "execute_result"
    },
    {
     "data": {
      "text/plain": [
       "Text(0.5, 1.0, 'Attention from last input token to vision of Layer 14')"
      ]
     },
     "execution_count": 12,
     "metadata": {},
     "output_type": "execute_result"
    },
    {
     "data": {
      "text/plain": [
       "<matplotlib.image.AxesImage at 0x7f2f4d9c2800>"
      ]
     },
     "execution_count": 12,
     "metadata": {},
     "output_type": "execute_result"
    },
    {
     "data": {
      "text/plain": [
       "(0.0, 22.0)"
      ]
     },
     "execution_count": 12,
     "metadata": {},
     "output_type": "execute_result"
    },
    {
     "data": {
      "text/plain": [
       "(22.0, 0.0)"
      ]
     },
     "execution_count": 12,
     "metadata": {},
     "output_type": "execute_result"
    },
    {
     "name": "stderr",
     "output_type": "stream",
     "text": [
      "/tmp/ipykernel_1627/3125494494.py:15: MatplotlibDeprecationWarning: The get_cmap function was deprecated in Matplotlib 3.7 and will be removed in 3.11. Use ``matplotlib.colormaps[name]`` or ``matplotlib.colormaps.get_cmap()`` or ``pyplot.get_cmap()`` instead.\n",
      "  cmap = plt.cm.get_cmap(\"viridis\")\n"
     ]
    },
    {
     "data": {
      "text/plain": [
       "<Axes: >"
      ]
     },
     "execution_count": 12,
     "metadata": {},
     "output_type": "execute_result"
    },
    {
     "data": {
      "text/plain": [
       "[<matplotlib.axis.XTick at 0x7f2f4d72c700>,\n",
       " <matplotlib.axis.XTick at 0x7f2f4d77bd00>,\n",
       " <matplotlib.axis.XTick at 0x7f2f4d78cb80>,\n",
       " <matplotlib.axis.XTick at 0x7f2f4d78cc10>,\n",
       " <matplotlib.axis.XTick at 0x7f2f4d78de70>,\n",
       " <matplotlib.axis.XTick at 0x7f2f4d78e890>,\n",
       " <matplotlib.axis.XTick at 0x7f2f4d78c400>,\n",
       " <matplotlib.axis.XTick at 0x7f2f4d78f340>,\n",
       " <matplotlib.axis.XTick at 0x7f2f4d78ffa0>,\n",
       " <matplotlib.axis.XTick at 0x7f2f4d7a87c0>,\n",
       " <matplotlib.axis.XTick at 0x7f2f4d78f9d0>,\n",
       " <matplotlib.axis.XTick at 0x7f2f4d7a90c0>,\n",
       " <matplotlib.axis.XTick at 0x7f2f4d7a9ae0>,\n",
       " <matplotlib.axis.XTick at 0x7f2f4d7aa500>,\n",
       " <matplotlib.axis.XTick at 0x7f2f4d7aaf20>,\n",
       " <matplotlib.axis.XTick at 0x7f2f4d7aa530>,\n",
       " <matplotlib.axis.XTick at 0x7f2f4d7ab700>,\n",
       " <matplotlib.axis.XTick at 0x7f2f4d7c4160>,\n",
       " <matplotlib.axis.XTick at 0x7f2f4d7c4b80>,\n",
       " <matplotlib.axis.XTick at 0x7f2f4d7abd90>,\n",
       " <matplotlib.axis.XTick at 0x7f2f4d7c4ca0>,\n",
       " <matplotlib.axis.XTick at 0x7f2f4d7c5e10>,\n",
       " <matplotlib.axis.XTick at 0x7f2f4d7c6830>,\n",
       " <matplotlib.axis.XTick at 0x7f2f4d7c7250>,\n",
       " <matplotlib.axis.XTick at 0x7f2f4d7c7b50>,\n",
       " <matplotlib.axis.XTick at 0x7f2f4d7c5720>,\n",
       " <matplotlib.axis.XTick at 0x7f2f4d7e05b0>,\n",
       " <matplotlib.axis.XTick at 0x7f2f4d7e0fd0>,\n",
       " <matplotlib.axis.XTick at 0x7f2f4d7e19f0>,\n",
       " <matplotlib.axis.XTick at 0x7f2f4d7e2050>,\n",
       " <matplotlib.axis.XTick at 0x7f2f4d7e21d0>,\n",
       " <matplotlib.axis.XTick at 0x7f2f4d7e2bf0>,\n",
       " <matplotlib.axis.XTick at 0x7f2f4d72cb80>,\n",
       " <matplotlib.axis.XTick at 0x7f2f4d5d8cd0>,\n",
       " <matplotlib.axis.XTick at 0x7f2f4d5d9420>,\n",
       " <matplotlib.axis.XTick at 0x7f2f4d5d9e40>,\n",
       " <matplotlib.axis.XTick at 0x7f2f4d5da860>,\n",
       " <matplotlib.axis.XTick at 0x7f2f4d5da890>,\n",
       " <matplotlib.axis.XTick at 0x7f2f4d5d8820>,\n",
       " <matplotlib.axis.XTick at 0x7f2f4d5dbb80>,\n",
       " <matplotlib.axis.XTick at 0x7f2f4d5f45e0>,\n",
       " <matplotlib.axis.XTick at 0x7f2f4d5f5000>,\n",
       " <matplotlib.axis.XTick at 0x7f2f4d57d870>,\n",
       " <matplotlib.axis.XTick at 0x7f2f4d5f57e0>,\n",
       " <matplotlib.axis.XTick at 0x7f2f4d5f6200>,\n",
       " <matplotlib.axis.XTick at 0x7f2f4d5f6c20>,\n",
       " <matplotlib.axis.XTick at 0x7f2f4d5f7640>,\n",
       " <matplotlib.axis.XTick at 0x7f2f4d5f6ce0>,\n",
       " <matplotlib.axis.XTick at 0x7f2f4d5f7fd0>,\n",
       " <matplotlib.axis.XTick at 0x7f2f4d6147f0>,\n",
       " <matplotlib.axis.XTick at 0x7f2f4d615210>,\n",
       " <matplotlib.axis.XTick at 0x7f2f4d5f7e50>,\n",
       " <matplotlib.axis.XTick at 0x7f2f4d5d8490>,\n",
       " <matplotlib.axis.XTick at 0x7f2f4d614f70>,\n",
       " <matplotlib.axis.XTick at 0x7f2f4d616380>,\n",
       " <matplotlib.axis.XTick at 0x7f2f4d616da0>,\n",
       " <matplotlib.axis.XTick at 0x7f2f4d616ef0>,\n",
       " <matplotlib.axis.XTick at 0x7f2f4d614af0>,\n",
       " <matplotlib.axis.XTick at 0x7f2f4d630100>,\n",
       " <matplotlib.axis.XTick at 0x7f2f4d630b20>,\n",
       " <matplotlib.axis.XTick at 0x7f2f4d631540>,\n",
       " <matplotlib.axis.XTick at 0x7f2f4d6315d0>,\n",
       " <matplotlib.axis.XTick at 0x7f2f4d631d20>]"
      ]
     },
     "execution_count": 12,
     "metadata": {},
     "output_type": "execute_result"
    },
    {
     "data": {
      "text/plain": [
       "[<matplotlib.axis.YTick at 0x7f2f4d72c670>,\n",
       " <matplotlib.axis.YTick at 0x7f2f4d77bd60>,\n",
       " <matplotlib.axis.YTick at 0x7f2f4d7e3730>,\n",
       " <matplotlib.axis.YTick at 0x7f2f4d7fc250>,\n",
       " <matplotlib.axis.YTick at 0x7f2f4d7fc970>,\n",
       " <matplotlib.axis.YTick at 0x7f2f4d7fd390>,\n",
       " <matplotlib.axis.YTick at 0x7f2f4d7fddb0>,\n",
       " <matplotlib.axis.YTick at 0x7f2f4d7fde70>,\n",
       " <matplotlib.axis.YTick at 0x7f2f4d7fc490>,\n",
       " <matplotlib.axis.YTick at 0x7f2f4d7ff0d0>,\n",
       " <matplotlib.axis.YTick at 0x7f2f4d7ffaf0>,\n",
       " <matplotlib.axis.YTick at 0x7f2f4d514550>,\n",
       " <matplotlib.axis.YTick at 0x7f2f4d7ff160>,\n",
       " <matplotlib.axis.YTick at 0x7f2f4d514d30>,\n",
       " <matplotlib.axis.YTick at 0x7f2f4d515750>,\n",
       " <matplotlib.axis.YTick at 0x7f2f4d516170>,\n",
       " <matplotlib.axis.YTick at 0x7f2f4d7fee90>,\n",
       " <matplotlib.axis.YTick at 0x7f2f4d7a8d00>,\n",
       " <matplotlib.axis.YTick at 0x7f2f4d515c60>,\n",
       " <matplotlib.axis.YTick at 0x7f2f4d5171c0>,\n",
       " <matplotlib.axis.YTick at 0x7f2f4d517be0>,\n",
       " <matplotlib.axis.YTick at 0x7f2f4d517940>,\n",
       " <matplotlib.axis.YTick at 0x7f2f4d530520>,\n",
       " <matplotlib.axis.YTick at 0x7f2f4d530f40>,\n",
       " <matplotlib.axis.YTick at 0x7f2f4d531960>,\n",
       " <matplotlib.axis.YTick at 0x7f2f4d532380>,\n",
       " <matplotlib.axis.YTick at 0x7f2f4d532350>,\n",
       " <matplotlib.axis.YTick at 0x7f2f4d532b60>,\n",
       " <matplotlib.axis.YTick at 0x7f2f4d533580>,\n",
       " <matplotlib.axis.YTick at 0x7f2f4d57c160>,\n",
       " <matplotlib.axis.YTick at 0x7f2f4d533bb0>,\n",
       " <matplotlib.axis.YTick at 0x7f2f4d57ca60>,\n",
       " <matplotlib.axis.YTick at 0x7f2f4d7e3610>,\n",
       " <matplotlib.axis.YTick at 0x7f2f4d632c20>,\n",
       " <matplotlib.axis.YTick at 0x7f2f4d633430>,\n",
       " <matplotlib.axis.YTick at 0x7f2f4d64c190>,\n",
       " <matplotlib.axis.YTick at 0x7f2f4d64c8b0>,\n",
       " <matplotlib.axis.YTick at 0x7f2f4d633a60>,\n",
       " <matplotlib.axis.YTick at 0x7f2f4d64d1b0>,\n",
       " <matplotlib.axis.YTick at 0x7f2f4d64dbd0>,\n",
       " <matplotlib.axis.YTick at 0x7f2f4d64e5f0>,\n",
       " <matplotlib.axis.YTick at 0x7f2f4d64f010>,\n",
       " <matplotlib.axis.YTick at 0x7f2f4d64e620>,\n",
       " <matplotlib.axis.YTick at 0x7f2f4d64fc10>,\n",
       " <matplotlib.axis.YTick at 0x7f2f4d6683a0>,\n",
       " <matplotlib.axis.YTick at 0x7f2f4d668dc0>,\n",
       " <matplotlib.axis.YTick at 0x7f2f4d64fe80>,\n",
       " <matplotlib.axis.YTick at 0x7f2f4d668b50>,\n",
       " <matplotlib.axis.YTick at 0x7f2f4d66a050>,\n",
       " <matplotlib.axis.YTick at 0x7f2f4d66aa70>,\n",
       " <matplotlib.axis.YTick at 0x7f2f4d66b490>,\n",
       " <matplotlib.axis.YTick at 0x7f2f4d66b5b0>,\n",
       " <matplotlib.axis.YTick at 0x7f2f4d66bfd0>,\n",
       " <matplotlib.axis.YTick at 0x7f2f4d6847f0>,\n",
       " <matplotlib.axis.YTick at 0x7f2f4d685210>,\n",
       " <matplotlib.axis.YTick at 0x7f2f4d685c30>,\n",
       " <matplotlib.axis.YTick at 0x7f2f4d685c60>,\n",
       " <matplotlib.axis.YTick at 0x7f2f4d686410>,\n",
       " <matplotlib.axis.YTick at 0x7f2f4d686e30>,\n",
       " <matplotlib.axis.YTick at 0x7f2f4d687850>,\n",
       " <matplotlib.axis.YTick at 0x7f2f4d687d90>,\n",
       " <matplotlib.axis.YTick at 0x7f2f4d687a90>,\n",
       " <matplotlib.axis.YTick at 0x7f2f4d6a4b20>]"
      ]
     },
     "execution_count": 12,
     "metadata": {},
     "output_type": "execute_result"
    },
    {
     "data": {
      "text/plain": [
       "[Text(0, 0, '0'),\n",
       " Text(1, 0, '10'),\n",
       " Text(2, 0, '20'),\n",
       " Text(3, 0, '30'),\n",
       " Text(4, 0, '40'),\n",
       " Text(5, 0, '50'),\n",
       " Text(6, 0, '60'),\n",
       " Text(7, 0, '70'),\n",
       " Text(8, 0, '80'),\n",
       " Text(9, 0, '90'),\n",
       " Text(10, 0, '100'),\n",
       " Text(11, 0, '110'),\n",
       " Text(12, 0, '120'),\n",
       " Text(13, 0, '130'),\n",
       " Text(14, 0, '140'),\n",
       " Text(15, 0, '150'),\n",
       " Text(16, 0, '160'),\n",
       " Text(17, 0, '170'),\n",
       " Text(18, 0, '180'),\n",
       " Text(19, 0, '190'),\n",
       " Text(20, 0, '200'),\n",
       " Text(21, 0, '210'),\n",
       " Text(22, 0, '220'),\n",
       " Text(23, 0, '230'),\n",
       " Text(24, 0, '240'),\n",
       " Text(25, 0, '250'),\n",
       " Text(26, 0, '260'),\n",
       " Text(27, 0, '270'),\n",
       " Text(28, 0, '280'),\n",
       " Text(29, 0, '290'),\n",
       " Text(30, 0, '300'),\n",
       " Text(31, 0, '310'),\n",
       " Text(32, 0, '320'),\n",
       " Text(33, 0, '330'),\n",
       " Text(34, 0, '340'),\n",
       " Text(35, 0, '350'),\n",
       " Text(36, 0, '360'),\n",
       " Text(37, 0, '370'),\n",
       " Text(38, 0, '380'),\n",
       " Text(39, 0, '390'),\n",
       " Text(40, 0, '400'),\n",
       " Text(41, 0, '410'),\n",
       " Text(42, 0, '420'),\n",
       " Text(43, 0, '430'),\n",
       " Text(44, 0, '440'),\n",
       " Text(45, 0, '450'),\n",
       " Text(46, 0, '460'),\n",
       " Text(47, 0, '470'),\n",
       " Text(48, 0, '480'),\n",
       " Text(49, 0, '490'),\n",
       " Text(50, 0, '500'),\n",
       " Text(51, 0, '510'),\n",
       " Text(52, 0, '520'),\n",
       " Text(53, 0, '530'),\n",
       " Text(54, 0, '540'),\n",
       " Text(55, 0, '550'),\n",
       " Text(56, 0, '560'),\n",
       " Text(57, 0, '570'),\n",
       " Text(58, 0, '580'),\n",
       " Text(59, 0, '590'),\n",
       " Text(60, 0, '600'),\n",
       " Text(61, 0, '610'),\n",
       " Text(62, 0, '620')]"
      ]
     },
     "execution_count": 12,
     "metadata": {},
     "output_type": "execute_result"
    },
    {
     "data": {
      "text/plain": [
       "[Text(0, 0, '0'),\n",
       " Text(0, 1, '10'),\n",
       " Text(0, 2, '20'),\n",
       " Text(0, 3, '30'),\n",
       " Text(0, 4, '40'),\n",
       " Text(0, 5, '50'),\n",
       " Text(0, 6, '60'),\n",
       " Text(0, 7, '70'),\n",
       " Text(0, 8, '80'),\n",
       " Text(0, 9, '90'),\n",
       " Text(0, 10, '100'),\n",
       " Text(0, 11, '110'),\n",
       " Text(0, 12, '120'),\n",
       " Text(0, 13, '130'),\n",
       " Text(0, 14, '140'),\n",
       " Text(0, 15, '150'),\n",
       " Text(0, 16, '160'),\n",
       " Text(0, 17, '170'),\n",
       " Text(0, 18, '180'),\n",
       " Text(0, 19, '190'),\n",
       " Text(0, 20, '200'),\n",
       " Text(0, 21, '210'),\n",
       " Text(0, 22, '220'),\n",
       " Text(0, 23, '230'),\n",
       " Text(0, 24, '240'),\n",
       " Text(0, 25, '250'),\n",
       " Text(0, 26, '260'),\n",
       " Text(0, 27, '270'),\n",
       " Text(0, 28, '280'),\n",
       " Text(0, 29, '290'),\n",
       " Text(0, 30, '300'),\n",
       " Text(0, 31, '310'),\n",
       " Text(0, 32, '320'),\n",
       " Text(0, 33, '330'),\n",
       " Text(0, 34, '340'),\n",
       " Text(0, 35, '350'),\n",
       " Text(0, 36, '360'),\n",
       " Text(0, 37, '370'),\n",
       " Text(0, 38, '380'),\n",
       " Text(0, 39, '390'),\n",
       " Text(0, 40, '400'),\n",
       " Text(0, 41, '410'),\n",
       " Text(0, 42, '420'),\n",
       " Text(0, 43, '430'),\n",
       " Text(0, 44, '440'),\n",
       " Text(0, 45, '450'),\n",
       " Text(0, 46, '460'),\n",
       " Text(0, 47, '470'),\n",
       " Text(0, 48, '480'),\n",
       " Text(0, 49, '490'),\n",
       " Text(0, 50, '500'),\n",
       " Text(0, 51, '510'),\n",
       " Text(0, 52, '520'),\n",
       " Text(0, 53, '530'),\n",
       " Text(0, 54, '540'),\n",
       " Text(0, 55, '550'),\n",
       " Text(0, 56, '560'),\n",
       " Text(0, 57, '570'),\n",
       " Text(0, 58, '580'),\n",
       " Text(0, 59, '590'),\n",
       " Text(0, 60, '600'),\n",
       " Text(0, 61, '610'),\n",
       " Text(0, 62, '620')]"
      ]
     },
     "execution_count": 12,
     "metadata": {},
     "output_type": "execute_result"
    },
    {
     "data": {
      "text/plain": [
       "Text(0.5, 1.0, 'Attention Map of Layer 15')"
      ]
     },
     "execution_count": 12,
     "metadata": {},
     "output_type": "execute_result"
    },
    {
     "data": {
      "text/plain": [
       "Text(0.5, 242.16666666666694, 'Column')"
      ]
     },
     "execution_count": 12,
     "metadata": {},
     "output_type": "execute_result"
    },
    {
     "data": {
      "text/plain": [
       "Text(187.79166666666666, 0.5, 'Row')"
      ]
     },
     "execution_count": 12,
     "metadata": {},
     "output_type": "execute_result"
    },
    {
     "data": {
      "text/plain": [
       "Text(0.5, 1.0, 'Attention from last input token to vision of Layer 15')"
      ]
     },
     "execution_count": 12,
     "metadata": {},
     "output_type": "execute_result"
    },
    {
     "data": {
      "text/plain": [
       "<matplotlib.image.AxesImage at 0x7f2f4d6a5000>"
      ]
     },
     "execution_count": 12,
     "metadata": {},
     "output_type": "execute_result"
    },
    {
     "data": {
      "text/plain": [
       "(0.0, 22.0)"
      ]
     },
     "execution_count": 12,
     "metadata": {},
     "output_type": "execute_result"
    },
    {
     "data": {
      "text/plain": [
       "(22.0, 0.0)"
      ]
     },
     "execution_count": 12,
     "metadata": {},
     "output_type": "execute_result"
    },
    {
     "name": "stderr",
     "output_type": "stream",
     "text": [
      "/tmp/ipykernel_1627/3125494494.py:15: MatplotlibDeprecationWarning: The get_cmap function was deprecated in Matplotlib 3.7 and will be removed in 3.11. Use ``matplotlib.colormaps[name]`` or ``matplotlib.colormaps.get_cmap()`` or ``pyplot.get_cmap()`` instead.\n",
      "  cmap = plt.cm.get_cmap(\"viridis\")\n"
     ]
    },
    {
     "data": {
      "text/plain": [
       "<Axes: >"
      ]
     },
     "execution_count": 12,
     "metadata": {},
     "output_type": "execute_result"
    },
    {
     "data": {
      "text/plain": [
       "[<matplotlib.axis.XTick at 0x7f2f4d439240>,\n",
       " <matplotlib.axis.XTick at 0x7f2f4d456200>,\n",
       " <matplotlib.axis.XTick at 0x7f2f4d457040>,\n",
       " <matplotlib.axis.XTick at 0x7f2f4d4570d0>,\n",
       " <matplotlib.axis.XTick at 0x7f2f4d46c370>,\n",
       " <matplotlib.axis.XTick at 0x7f2f4d457e50>,\n",
       " <matplotlib.axis.XTick at 0x7f2f4d46c490>,\n",
       " <matplotlib.axis.XTick at 0x7f2f4d46d840>,\n",
       " <matplotlib.axis.XTick at 0x7f2f4d46e260>,\n",
       " <matplotlib.axis.XTick at 0x7f2f4d46ec80>,\n",
       " <matplotlib.axis.XTick at 0x7f2f4d46ed10>,\n",
       " <matplotlib.axis.XTick at 0x7f2f4d46f580>,\n",
       " <matplotlib.axis.XTick at 0x7f2f4d48c160>,\n",
       " <matplotlib.axis.XTick at 0x7f2f4d48ca00>,\n",
       " <matplotlib.axis.XTick at 0x7f2f4d48d420>,\n",
       " <matplotlib.axis.XTick at 0x7f2f4d48d540>,\n",
       " <matplotlib.axis.XTick at 0x7f2f4d48dc00>,\n",
       " <matplotlib.axis.XTick at 0x7f2f4d48e620>,\n",
       " <matplotlib.axis.XTick at 0x7f2f4d48f040>,\n",
       " <matplotlib.axis.XTick at 0x7f2f4d46f5b0>,\n",
       " <matplotlib.axis.XTick at 0x7f2f4d48e290>,\n",
       " <matplotlib.axis.XTick at 0x7f2f4d4a4310>,\n",
       " <matplotlib.axis.XTick at 0x7f2f4d4a4d30>,\n",
       " <matplotlib.axis.XTick at 0x7f2f4d4a5750>,\n",
       " <matplotlib.axis.XTick at 0x7f2f4d48e0e0>,\n",
       " <matplotlib.axis.XTick at 0x7f2f4d4a40d0>,\n",
       " <matplotlib.axis.XTick at 0x7f2f4d4a6a70>,\n",
       " <matplotlib.axis.XTick at 0x7f2f4d4a7490>,\n",
       " <matplotlib.axis.XTick at 0x7f2f4d4c40a0>,\n",
       " <matplotlib.axis.XTick at 0x7f2f4d4a71f0>,\n",
       " <matplotlib.axis.XTick at 0x7f2f4d4c46d0>,\n",
       " <matplotlib.axis.XTick at 0x7f2f4d4c50f0>,\n",
       " <matplotlib.axis.XTick at 0x7f2f4d439ba0>,\n",
       " <matplotlib.axis.XTick at 0x7f2f4d2a7160>,\n",
       " <matplotlib.axis.XTick at 0x7f2f4d2a7af0>,\n",
       " <matplotlib.axis.XTick at 0x7f2f4d2c4340>,\n",
       " <matplotlib.axis.XTick at 0x7f2f4d2c4d60>,\n",
       " <matplotlib.axis.XTick at 0x7f2f4d2a7a00>,\n",
       " <matplotlib.axis.XTick at 0x7f2f4d2c4400>,\n",
       " <matplotlib.axis.XTick at 0x7f2f4d2c6080>,\n",
       " <matplotlib.axis.XTick at 0x7f2f4d2c6aa0>,\n",
       " <matplotlib.axis.XTick at 0x7f2f4d2c74c0>,\n",
       " <matplotlib.axis.XTick at 0x7f2f4d2c7130>,\n",
       " <matplotlib.axis.XTick at 0x7f2f4d2c7ca0>,\n",
       " <matplotlib.axis.XTick at 0x7f2f4d2e0700>,\n",
       " <matplotlib.axis.XTick at 0x7f2f4d2e1120>,\n",
       " <matplotlib.axis.XTick at 0x7f2f4d2e1b40>,\n",
       " <matplotlib.axis.XTick at 0x7f2f4d2e18d0>,\n",
       " <matplotlib.axis.XTick at 0x7f2f4d2e2290>,\n",
       " <matplotlib.axis.XTick at 0x7f2f4d2e2cb0>,\n",
       " <matplotlib.axis.XTick at 0x7f2f4d2e36d0>,\n",
       " <matplotlib.axis.XTick at 0x7f2f4d2e3c10>,\n",
       " <matplotlib.axis.XTick at 0x7f2f4d2c6fe0>,\n",
       " <matplotlib.axis.XTick at 0x7f2f4d203f40>,\n",
       " <matplotlib.axis.XTick at 0x7f2f4d2fc880>,\n",
       " <matplotlib.axis.XTick at 0x7f2f4d2fd2a0>,\n",
       " <matplotlib.axis.XTick at 0x7f2f4d2e23e0>,\n",
       " <matplotlib.axis.XTick at 0x7f2f4d2fc3a0>,\n",
       " <matplotlib.axis.XTick at 0x7f2f4d2fe5c0>,\n",
       " <matplotlib.axis.XTick at 0x7f2f4d2fefe0>,\n",
       " <matplotlib.axis.XTick at 0x7f2f4d2ffa00>,\n",
       " <matplotlib.axis.XTick at 0x7f2f4d2ff0a0>,\n",
       " <matplotlib.axis.XTick at 0x7f2f4d314220>]"
      ]
     },
     "execution_count": 12,
     "metadata": {},
     "output_type": "execute_result"
    },
    {
     "data": {
      "text/plain": [
       "[<matplotlib.axis.YTick at 0x7f2f4d439450>,\n",
       " <matplotlib.axis.YTick at 0x7f2f4d456260>,\n",
       " <matplotlib.axis.YTick at 0x7f2f4d4a60e0>,\n",
       " <matplotlib.axis.YTick at 0x7f2f4d4c5180>,\n",
       " <matplotlib.axis.YTick at 0x7f2f4d4c6e30>,\n",
       " <matplotlib.axis.YTick at 0x7f2f4d4c7850>,\n",
       " <matplotlib.axis.YTick at 0x7f2f4d4e82b0>,\n",
       " <matplotlib.axis.YTick at 0x7f2f4d4c7d90>,\n",
       " <matplotlib.axis.YTick at 0x7f2f4d4e8070>,\n",
       " <matplotlib.axis.YTick at 0x7f2f4d4e95d0>,\n",
       " <matplotlib.axis.YTick at 0x7f2f4d4e9ff0>,\n",
       " <matplotlib.axis.YTick at 0x7f2f4d4eaa10>,\n",
       " <matplotlib.axis.YTick at 0x7f2f4d4eaaa0>,\n",
       " <matplotlib.axis.YTick at 0x7f2f4d4eb1f0>,\n",
       " <matplotlib.axis.YTick at 0x7f2f4d4ebc10>,\n",
       " <matplotlib.axis.YTick at 0x7f2f4d200670>,\n",
       " <matplotlib.axis.YTick at 0x7f2f4d4ebcd0>,\n",
       " <matplotlib.axis.YTick at 0x7f2f4d4c4400>,\n",
       " <matplotlib.axis.YTick at 0x7f2f4d201180>,\n",
       " <matplotlib.axis.YTick at 0x7f2f4d2016c0>,\n",
       " <matplotlib.axis.YTick at 0x7f2f4d2020e0>,\n",
       " <matplotlib.axis.YTick at 0x7f2f4d48fa90>,\n",
       " <matplotlib.axis.YTick at 0x7f2f4d2010f0>,\n",
       " <matplotlib.axis.YTick at 0x7f2f4d203400>,\n",
       " <matplotlib.axis.YTick at 0x7f2f4d220160>,\n",
       " <matplotlib.axis.YTick at 0x7f2f4d220880>,\n",
       " <matplotlib.axis.YTick at 0x7f2f4d2034c0>,\n",
       " <matplotlib.axis.YTick at 0x7f2f4d221060>,\n",
       " <matplotlib.axis.YTick at 0x7f2f4d221a80>,\n",
       " <matplotlib.axis.YTick at 0x7f2f4d2224a0>,\n",
       " <matplotlib.axis.YTick at 0x7f2f4d203be0>,\n",
       " <matplotlib.axis.YTick at 0x7f2f4d221690>,\n",
       " <matplotlib.axis.YTick at 0x7f2f4d423130>,\n",
       " <matplotlib.axis.YTick at 0x7f2f4d315120>,\n",
       " <matplotlib.axis.YTick at 0x7f2f4d315930>,\n",
       " <matplotlib.axis.YTick at 0x7f2f4d316350>,\n",
       " <matplotlib.axis.YTick at 0x7f2f4d316d70>,\n",
       " <matplotlib.axis.YTick at 0x7f2f4d316d40>,\n",
       " <matplotlib.axis.YTick at 0x7f2f4d317670>,\n",
       " <matplotlib.axis.YTick at 0x7f2f4d3340d0>,\n",
       " <matplotlib.axis.YTick at 0x7f2f4d334af0>,\n",
       " <matplotlib.axis.YTick at 0x7f2f4d335510>,\n",
       " <matplotlib.axis.YTick at 0x7f2f4d335660>,\n",
       " <matplotlib.axis.YTick at 0x7f2f4d335cf0>,\n",
       " <matplotlib.axis.YTick at 0x7f2f4d336710>,\n",
       " <matplotlib.axis.YTick at 0x7f2f4d337130>,\n",
       " <matplotlib.axis.YTick at 0x7f2f4d337d00>,\n",
       " <matplotlib.axis.YTick at 0x7f2f4d3361d0>,\n",
       " <matplotlib.axis.YTick at 0x7f2f4d350400>,\n",
       " <matplotlib.axis.YTick at 0x7f2f4d350e20>,\n",
       " <matplotlib.axis.YTick at 0x7f2f4d351840>,\n",
       " <matplotlib.axis.YTick at 0x7f2f4d351960>,\n",
       " <matplotlib.axis.YTick at 0x7f2f4d350070>,\n",
       " <matplotlib.axis.YTick at 0x7f2f4d352b60>,\n",
       " <matplotlib.axis.YTick at 0x7f2f4d353580>,\n",
       " <matplotlib.axis.YTick at 0x7f2f4d374160>,\n",
       " <matplotlib.axis.YTick at 0x7f2f4d353190>,\n",
       " <matplotlib.axis.YTick at 0x7f2f4d3747c0>,\n",
       " <matplotlib.axis.YTick at 0x7f2f4d3751e0>,\n",
       " <matplotlib.axis.YTick at 0x7f2f4d375c00>,\n",
       " <matplotlib.axis.YTick at 0x7f2f4d352200>,\n",
       " <matplotlib.axis.YTick at 0x7f2f4d375270>,\n",
       " <matplotlib.axis.YTick at 0x7f2f4d376f20>]"
      ]
     },
     "execution_count": 12,
     "metadata": {},
     "output_type": "execute_result"
    },
    {
     "data": {
      "text/plain": [
       "[Text(0, 0, '0'),\n",
       " Text(1, 0, '10'),\n",
       " Text(2, 0, '20'),\n",
       " Text(3, 0, '30'),\n",
       " Text(4, 0, '40'),\n",
       " Text(5, 0, '50'),\n",
       " Text(6, 0, '60'),\n",
       " Text(7, 0, '70'),\n",
       " Text(8, 0, '80'),\n",
       " Text(9, 0, '90'),\n",
       " Text(10, 0, '100'),\n",
       " Text(11, 0, '110'),\n",
       " Text(12, 0, '120'),\n",
       " Text(13, 0, '130'),\n",
       " Text(14, 0, '140'),\n",
       " Text(15, 0, '150'),\n",
       " Text(16, 0, '160'),\n",
       " Text(17, 0, '170'),\n",
       " Text(18, 0, '180'),\n",
       " Text(19, 0, '190'),\n",
       " Text(20, 0, '200'),\n",
       " Text(21, 0, '210'),\n",
       " Text(22, 0, '220'),\n",
       " Text(23, 0, '230'),\n",
       " Text(24, 0, '240'),\n",
       " Text(25, 0, '250'),\n",
       " Text(26, 0, '260'),\n",
       " Text(27, 0, '270'),\n",
       " Text(28, 0, '280'),\n",
       " Text(29, 0, '290'),\n",
       " Text(30, 0, '300'),\n",
       " Text(31, 0, '310'),\n",
       " Text(32, 0, '320'),\n",
       " Text(33, 0, '330'),\n",
       " Text(34, 0, '340'),\n",
       " Text(35, 0, '350'),\n",
       " Text(36, 0, '360'),\n",
       " Text(37, 0, '370'),\n",
       " Text(38, 0, '380'),\n",
       " Text(39, 0, '390'),\n",
       " Text(40, 0, '400'),\n",
       " Text(41, 0, '410'),\n",
       " Text(42, 0, '420'),\n",
       " Text(43, 0, '430'),\n",
       " Text(44, 0, '440'),\n",
       " Text(45, 0, '450'),\n",
       " Text(46, 0, '460'),\n",
       " Text(47, 0, '470'),\n",
       " Text(48, 0, '480'),\n",
       " Text(49, 0, '490'),\n",
       " Text(50, 0, '500'),\n",
       " Text(51, 0, '510'),\n",
       " Text(52, 0, '520'),\n",
       " Text(53, 0, '530'),\n",
       " Text(54, 0, '540'),\n",
       " Text(55, 0, '550'),\n",
       " Text(56, 0, '560'),\n",
       " Text(57, 0, '570'),\n",
       " Text(58, 0, '580'),\n",
       " Text(59, 0, '590'),\n",
       " Text(60, 0, '600'),\n",
       " Text(61, 0, '610'),\n",
       " Text(62, 0, '620')]"
      ]
     },
     "execution_count": 12,
     "metadata": {},
     "output_type": "execute_result"
    },
    {
     "data": {
      "text/plain": [
       "[Text(0, 0, '0'),\n",
       " Text(0, 1, '10'),\n",
       " Text(0, 2, '20'),\n",
       " Text(0, 3, '30'),\n",
       " Text(0, 4, '40'),\n",
       " Text(0, 5, '50'),\n",
       " Text(0, 6, '60'),\n",
       " Text(0, 7, '70'),\n",
       " Text(0, 8, '80'),\n",
       " Text(0, 9, '90'),\n",
       " Text(0, 10, '100'),\n",
       " Text(0, 11, '110'),\n",
       " Text(0, 12, '120'),\n",
       " Text(0, 13, '130'),\n",
       " Text(0, 14, '140'),\n",
       " Text(0, 15, '150'),\n",
       " Text(0, 16, '160'),\n",
       " Text(0, 17, '170'),\n",
       " Text(0, 18, '180'),\n",
       " Text(0, 19, '190'),\n",
       " Text(0, 20, '200'),\n",
       " Text(0, 21, '210'),\n",
       " Text(0, 22, '220'),\n",
       " Text(0, 23, '230'),\n",
       " Text(0, 24, '240'),\n",
       " Text(0, 25, '250'),\n",
       " Text(0, 26, '260'),\n",
       " Text(0, 27, '270'),\n",
       " Text(0, 28, '280'),\n",
       " Text(0, 29, '290'),\n",
       " Text(0, 30, '300'),\n",
       " Text(0, 31, '310'),\n",
       " Text(0, 32, '320'),\n",
       " Text(0, 33, '330'),\n",
       " Text(0, 34, '340'),\n",
       " Text(0, 35, '350'),\n",
       " Text(0, 36, '360'),\n",
       " Text(0, 37, '370'),\n",
       " Text(0, 38, '380'),\n",
       " Text(0, 39, '390'),\n",
       " Text(0, 40, '400'),\n",
       " Text(0, 41, '410'),\n",
       " Text(0, 42, '420'),\n",
       " Text(0, 43, '430'),\n",
       " Text(0, 44, '440'),\n",
       " Text(0, 45, '450'),\n",
       " Text(0, 46, '460'),\n",
       " Text(0, 47, '470'),\n",
       " Text(0, 48, '480'),\n",
       " Text(0, 49, '490'),\n",
       " Text(0, 50, '500'),\n",
       " Text(0, 51, '510'),\n",
       " Text(0, 52, '520'),\n",
       " Text(0, 53, '530'),\n",
       " Text(0, 54, '540'),\n",
       " Text(0, 55, '550'),\n",
       " Text(0, 56, '560'),\n",
       " Text(0, 57, '570'),\n",
       " Text(0, 58, '580'),\n",
       " Text(0, 59, '590'),\n",
       " Text(0, 60, '600'),\n",
       " Text(0, 61, '610'),\n",
       " Text(0, 62, '620')]"
      ]
     },
     "execution_count": 12,
     "metadata": {},
     "output_type": "execute_result"
    },
    {
     "data": {
      "text/plain": [
       "Text(0.5, 1.0, 'Attention Map of Layer 16')"
      ]
     },
     "execution_count": 12,
     "metadata": {},
     "output_type": "execute_result"
    },
    {
     "data": {
      "text/plain": [
       "Text(0.5, 242.16666666666694, 'Column')"
      ]
     },
     "execution_count": 12,
     "metadata": {},
     "output_type": "execute_result"
    },
    {
     "data": {
      "text/plain": [
       "Text(187.79166666666666, 0.5, 'Row')"
      ]
     },
     "execution_count": 12,
     "metadata": {},
     "output_type": "execute_result"
    },
    {
     "data": {
      "text/plain": [
       "Text(0.5, 1.0, 'Attention from last input token to vision of Layer 16')"
      ]
     },
     "execution_count": 12,
     "metadata": {},
     "output_type": "execute_result"
    },
    {
     "data": {
      "text/plain": [
       "<matplotlib.image.AxesImage at 0x7f2f4d376a10>"
      ]
     },
     "execution_count": 12,
     "metadata": {},
     "output_type": "execute_result"
    },
    {
     "data": {
      "text/plain": [
       "(0.0, 22.0)"
      ]
     },
     "execution_count": 12,
     "metadata": {},
     "output_type": "execute_result"
    },
    {
     "data": {
      "text/plain": [
       "(22.0, 0.0)"
      ]
     },
     "execution_count": 12,
     "metadata": {},
     "output_type": "execute_result"
    },
    {
     "name": "stderr",
     "output_type": "stream",
     "text": [
      "/tmp/ipykernel_1627/3125494494.py:15: MatplotlibDeprecationWarning: The get_cmap function was deprecated in Matplotlib 3.7 and will be removed in 3.11. Use ``matplotlib.colormaps[name]`` or ``matplotlib.colormaps.get_cmap()`` or ``pyplot.get_cmap()`` instead.\n",
      "  cmap = plt.cm.get_cmap(\"viridis\")\n"
     ]
    },
    {
     "data": {
      "text/plain": [
       "<Axes: >"
      ]
     },
     "execution_count": 12,
     "metadata": {},
     "output_type": "execute_result"
    },
    {
     "data": {
      "text/plain": [
       "[<matplotlib.axis.XTick at 0x7f2f4dc59030>,\n",
       " <matplotlib.axis.XTick at 0x7f2f4d3fb5e0>,\n",
       " <matplotlib.axis.XTick at 0x7f2f4d010250>,\n",
       " <matplotlib.axis.XTick at 0x7f2f4d010eb0>,\n",
       " <matplotlib.axis.XTick at 0x7f2f4d011b10>,\n",
       " <matplotlib.axis.XTick at 0x7f2f4d011f00>,\n",
       " <matplotlib.axis.XTick at 0x7f2f4d012b60>,\n",
       " <matplotlib.axis.XTick at 0x7f2f4d0137c0>,\n",
       " <matplotlib.axis.XTick at 0x7f2f4d024460>,\n",
       " <matplotlib.axis.XTick at 0x7f2f4d012770>,\n",
       " <matplotlib.axis.XTick at 0x7f2f4d025300>,\n",
       " <matplotlib.axis.XTick at 0x7f2f4d025f60>,\n",
       " <matplotlib.axis.XTick at 0x7f2f4d026bc0>,\n",
       " <matplotlib.axis.XTick at 0x7f2f4d026f80>,\n",
       " <matplotlib.axis.XTick at 0x7f2f4d0279d0>,\n",
       " <matplotlib.axis.XTick at 0x7f2f4d038670>,\n",
       " <matplotlib.axis.XTick at 0x7f2f4d0392d0>,\n",
       " <matplotlib.axis.XTick at 0x7f2f4d039f30>,\n",
       " <matplotlib.axis.XTick at 0x7f2f4d0388e0>,\n",
       " <matplotlib.axis.XTick at 0x7f2f4d03acb0>,\n",
       " <matplotlib.axis.XTick at 0x7f2f4d03b910>,\n",
       " <matplotlib.axis.XTick at 0x7f2f4d0545b0>,\n",
       " <matplotlib.axis.XTick at 0x7f2f4d03a3b0>,\n",
       " <matplotlib.axis.XTick at 0x7f2f4d054d00>,\n",
       " <matplotlib.axis.XTick at 0x7f2f4d055960>,\n",
       " <matplotlib.axis.XTick at 0x7f2f4d0565c0>,\n",
       " <matplotlib.axis.XTick at 0x7f2f4d057220>,\n",
       " <matplotlib.axis.XTick at 0x7f2f4d055060>,\n",
       " <matplotlib.axis.XTick at 0x7f2f4d057e80>,\n",
       " <matplotlib.axis.XTick at 0x7f2f4d068b20>,\n",
       " <matplotlib.axis.XTick at 0x7f2f4d069780>,\n",
       " <matplotlib.axis.XTick at 0x7f2f4d068fd0>,\n",
       " <matplotlib.axis.XTick at 0x7f2f4d92f6d0>,\n",
       " <matplotlib.axis.XTick at 0x7f2f4cf6c940>,\n",
       " <matplotlib.axis.XTick at 0x7f2f4cf6d480>,\n",
       " <matplotlib.axis.XTick at 0x7f2f4cf6e0e0>,\n",
       " <matplotlib.axis.XTick at 0x7f2f4cf6edd0>,\n",
       " <matplotlib.axis.XTick at 0x7f2f4cf6d090>,\n",
       " <matplotlib.axis.XTick at 0x7f2f4cf6fb50>,\n",
       " <matplotlib.axis.XTick at 0x7f2f4cf847f0>,\n",
       " <matplotlib.axis.XTick at 0x7f2f4cf85450>,\n",
       " <matplotlib.axis.XTick at 0x7f2f4cf6e5f0>,\n",
       " <matplotlib.axis.XTick at 0x7f2f4cf862f0>,\n",
       " <matplotlib.axis.XTick at 0x7f2f4cf86f50>,\n",
       " <matplotlib.axis.XTick at 0x7f2f4cf87bb0>,\n",
       " <matplotlib.axis.XTick at 0x7f2f4cf94850>,\n",
       " <matplotlib.axis.XTick at 0x7f2f4cf943d0>,\n",
       " <matplotlib.axis.XTick at 0x7f2f4cf95540>,\n",
       " <matplotlib.axis.XTick at 0x7f2f4cf961a0>,\n",
       " <matplotlib.axis.XTick at 0x7f2f4cf96e00>,\n",
       " <matplotlib.axis.XTick at 0x7f2f4cf95a20>,\n",
       " <matplotlib.axis.XTick at 0x7f2f4cf97b80>,\n",
       " <matplotlib.axis.XTick at 0x7f2f4cfb4820>,\n",
       " <matplotlib.axis.XTick at 0x7f2f4cfb5420>,\n",
       " <matplotlib.axis.XTick at 0x7f2f4cf950f0>,\n",
       " <matplotlib.axis.XTick at 0x7f2f4cfb6230>,\n",
       " <matplotlib.axis.XTick at 0x7f2f4cfb6e90>,\n",
       " <matplotlib.axis.XTick at 0x7f2f4cfb7af0>,\n",
       " <matplotlib.axis.XTick at 0x7f2f4cfc8790>,\n",
       " <matplotlib.axis.XTick at 0x7f2f4cfb6470>,\n",
       " <matplotlib.axis.XTick at 0x7f2f4cfc9510>,\n",
       " <matplotlib.axis.XTick at 0x7f2f4cfca170>,\n",
       " <matplotlib.axis.XTick at 0x7f2f4cfcadd0>]"
      ]
     },
     "execution_count": 12,
     "metadata": {},
     "output_type": "execute_result"
    },
    {
     "data": {
      "text/plain": [
       "[<matplotlib.axis.YTick at 0x7f2f4db5dc00>,\n",
       " <matplotlib.axis.YTick at 0x7f2f4d3fb5b0>,\n",
       " <matplotlib.axis.YTick at 0x7f2f4d06b160>,\n",
       " <matplotlib.axis.YTick at 0x7f2f4d06bdc0>,\n",
       " <matplotlib.axis.YTick at 0x7f2f4d06a9e0>,\n",
       " <matplotlib.axis.YTick at 0x7f2f4d074c10>,\n",
       " <matplotlib.axis.YTick at 0x7f2f4d075870>,\n",
       " <matplotlib.axis.YTick at 0x7f2f4d0764d0>,\n",
       " <matplotlib.axis.YTick at 0x7f2f4d077130>,\n",
       " <matplotlib.axis.YTick at 0x7f2f4d074070>,\n",
       " <matplotlib.axis.YTick at 0x7f2f4d077eb0>,\n",
       " <matplotlib.axis.YTick at 0x7f2f4d09cb50>,\n",
       " <matplotlib.axis.YTick at 0x7f2f4d09d7b0>,\n",
       " <matplotlib.axis.YTick at 0x7f2f4d09d3f0>,\n",
       " <matplotlib.axis.YTick at 0x7f2f4d09e530>,\n",
       " <matplotlib.axis.YTick at 0x7f2f4d09f190>,\n",
       " <matplotlib.axis.YTick at 0x7f2f4d09fdf0>,\n",
       " <matplotlib.axis.YTick at 0x7f2f4d09ea40>,\n",
       " <matplotlib.axis.YTick at 0x7f2f4d0b4c40>,\n",
       " <matplotlib.axis.YTick at 0x7f2f4d0b58a0>,\n",
       " <matplotlib.axis.YTick at 0x7f2f4d0b6500>,\n",
       " <matplotlib.axis.YTick at 0x7f2f4d0b7160>,\n",
       " <matplotlib.axis.YTick at 0x7f2f4d0b4760>,\n",
       " <matplotlib.axis.YTick at 0x7f2f4d0b7ee0>,\n",
       " <matplotlib.axis.YTick at 0x7f2f4d0d0b80>,\n",
       " <matplotlib.axis.YTick at 0x7f2f4d0d17e0>,\n",
       " <matplotlib.axis.YTick at 0x7f2f4d0d13f0>,\n",
       " <matplotlib.axis.YTick at 0x7f2f4d0d2560>,\n",
       " <matplotlib.axis.YTick at 0x7f2f4d0d31c0>,\n",
       " <matplotlib.axis.YTick at 0x7f2f4d0d3e20>,\n",
       " <matplotlib.axis.YTick at 0x7f2f4d0d2a70>,\n",
       " <matplotlib.axis.YTick at 0x7f2f4cf08c70>,\n",
       " <matplotlib.axis.YTick at 0x7f2f4d06a500>,\n",
       " <matplotlib.axis.YTick at 0x7f2f4cfcbb20>,\n",
       " <matplotlib.axis.YTick at 0x7f2f4cfec7c0>,\n",
       " <matplotlib.axis.YTick at 0x7f2f4cfed420>,\n",
       " <matplotlib.axis.YTick at 0x7f2f4cfb7fa0>,\n",
       " <matplotlib.axis.YTick at 0x7f2f4cfee260>,\n",
       " <matplotlib.axis.YTick at 0x7f2f4cfeeec0>,\n",
       " <matplotlib.axis.YTick at 0x7f2f4cfefb20>,\n",
       " <matplotlib.axis.YTick at 0x7f2f4cff06d0>,\n",
       " <matplotlib.axis.YTick at 0x7f2f4cfee620>,\n",
       " <matplotlib.axis.YTick at 0x7f2f4cff1450>,\n",
       " <matplotlib.axis.YTick at 0x7f2f4cff20b0>,\n",
       " <matplotlib.axis.YTick at 0x7f2f4cff2d10>,\n",
       " <matplotlib.axis.YTick at 0x7f2f4cfcb040>,\n",
       " <matplotlib.axis.YTick at 0x7f2f4cff1900>,\n",
       " <matplotlib.axis.YTick at 0x7f2f4cff3bb0>,\n",
       " <matplotlib.axis.YTick at 0x7f2f4d114850>,\n",
       " <matplotlib.axis.YTick at 0x7f2f4d1154b0>,\n",
       " <matplotlib.axis.YTick at 0x7f2f4d114ac0>,\n",
       " <matplotlib.axis.YTick at 0x7f2f4d116110>,\n",
       " <matplotlib.axis.YTick at 0x7f2f4d116d70>,\n",
       " <matplotlib.axis.YTick at 0x7f2f4d1179d0>,\n",
       " <matplotlib.axis.YTick at 0x7f2f4d115bd0>,\n",
       " <matplotlib.axis.YTick at 0x7f2f4d115960>,\n",
       " <matplotlib.axis.YTick at 0x7f2f4d120e20>,\n",
       " <matplotlib.axis.YTick at 0x7f2f4d121840>,\n",
       " <matplotlib.axis.YTick at 0x7f2f4d122260>,\n",
       " <matplotlib.axis.YTick at 0x7f2f4d121d20>,\n",
       " <matplotlib.axis.YTick at 0x7f2f4d122a40>,\n",
       " <matplotlib.axis.YTick at 0x7f2f4d123460>,\n",
       " <matplotlib.axis.YTick at 0x7f2f4d140070>]"
      ]
     },
     "execution_count": 12,
     "metadata": {},
     "output_type": "execute_result"
    },
    {
     "data": {
      "text/plain": [
       "[Text(0, 0, '0'),\n",
       " Text(1, 0, '10'),\n",
       " Text(2, 0, '20'),\n",
       " Text(3, 0, '30'),\n",
       " Text(4, 0, '40'),\n",
       " Text(5, 0, '50'),\n",
       " Text(6, 0, '60'),\n",
       " Text(7, 0, '70'),\n",
       " Text(8, 0, '80'),\n",
       " Text(9, 0, '90'),\n",
       " Text(10, 0, '100'),\n",
       " Text(11, 0, '110'),\n",
       " Text(12, 0, '120'),\n",
       " Text(13, 0, '130'),\n",
       " Text(14, 0, '140'),\n",
       " Text(15, 0, '150'),\n",
       " Text(16, 0, '160'),\n",
       " Text(17, 0, '170'),\n",
       " Text(18, 0, '180'),\n",
       " Text(19, 0, '190'),\n",
       " Text(20, 0, '200'),\n",
       " Text(21, 0, '210'),\n",
       " Text(22, 0, '220'),\n",
       " Text(23, 0, '230'),\n",
       " Text(24, 0, '240'),\n",
       " Text(25, 0, '250'),\n",
       " Text(26, 0, '260'),\n",
       " Text(27, 0, '270'),\n",
       " Text(28, 0, '280'),\n",
       " Text(29, 0, '290'),\n",
       " Text(30, 0, '300'),\n",
       " Text(31, 0, '310'),\n",
       " Text(32, 0, '320'),\n",
       " Text(33, 0, '330'),\n",
       " Text(34, 0, '340'),\n",
       " Text(35, 0, '350'),\n",
       " Text(36, 0, '360'),\n",
       " Text(37, 0, '370'),\n",
       " Text(38, 0, '380'),\n",
       " Text(39, 0, '390'),\n",
       " Text(40, 0, '400'),\n",
       " Text(41, 0, '410'),\n",
       " Text(42, 0, '420'),\n",
       " Text(43, 0, '430'),\n",
       " Text(44, 0, '440'),\n",
       " Text(45, 0, '450'),\n",
       " Text(46, 0, '460'),\n",
       " Text(47, 0, '470'),\n",
       " Text(48, 0, '480'),\n",
       " Text(49, 0, '490'),\n",
       " Text(50, 0, '500'),\n",
       " Text(51, 0, '510'),\n",
       " Text(52, 0, '520'),\n",
       " Text(53, 0, '530'),\n",
       " Text(54, 0, '540'),\n",
       " Text(55, 0, '550'),\n",
       " Text(56, 0, '560'),\n",
       " Text(57, 0, '570'),\n",
       " Text(58, 0, '580'),\n",
       " Text(59, 0, '590'),\n",
       " Text(60, 0, '600'),\n",
       " Text(61, 0, '610'),\n",
       " Text(62, 0, '620')]"
      ]
     },
     "execution_count": 12,
     "metadata": {},
     "output_type": "execute_result"
    },
    {
     "data": {
      "text/plain": [
       "[Text(0, 0, '0'),\n",
       " Text(0, 1, '10'),\n",
       " Text(0, 2, '20'),\n",
       " Text(0, 3, '30'),\n",
       " Text(0, 4, '40'),\n",
       " Text(0, 5, '50'),\n",
       " Text(0, 6, '60'),\n",
       " Text(0, 7, '70'),\n",
       " Text(0, 8, '80'),\n",
       " Text(0, 9, '90'),\n",
       " Text(0, 10, '100'),\n",
       " Text(0, 11, '110'),\n",
       " Text(0, 12, '120'),\n",
       " Text(0, 13, '130'),\n",
       " Text(0, 14, '140'),\n",
       " Text(0, 15, '150'),\n",
       " Text(0, 16, '160'),\n",
       " Text(0, 17, '170'),\n",
       " Text(0, 18, '180'),\n",
       " Text(0, 19, '190'),\n",
       " Text(0, 20, '200'),\n",
       " Text(0, 21, '210'),\n",
       " Text(0, 22, '220'),\n",
       " Text(0, 23, '230'),\n",
       " Text(0, 24, '240'),\n",
       " Text(0, 25, '250'),\n",
       " Text(0, 26, '260'),\n",
       " Text(0, 27, '270'),\n",
       " Text(0, 28, '280'),\n",
       " Text(0, 29, '290'),\n",
       " Text(0, 30, '300'),\n",
       " Text(0, 31, '310'),\n",
       " Text(0, 32, '320'),\n",
       " Text(0, 33, '330'),\n",
       " Text(0, 34, '340'),\n",
       " Text(0, 35, '350'),\n",
       " Text(0, 36, '360'),\n",
       " Text(0, 37, '370'),\n",
       " Text(0, 38, '380'),\n",
       " Text(0, 39, '390'),\n",
       " Text(0, 40, '400'),\n",
       " Text(0, 41, '410'),\n",
       " Text(0, 42, '420'),\n",
       " Text(0, 43, '430'),\n",
       " Text(0, 44, '440'),\n",
       " Text(0, 45, '450'),\n",
       " Text(0, 46, '460'),\n",
       " Text(0, 47, '470'),\n",
       " Text(0, 48, '480'),\n",
       " Text(0, 49, '490'),\n",
       " Text(0, 50, '500'),\n",
       " Text(0, 51, '510'),\n",
       " Text(0, 52, '520'),\n",
       " Text(0, 53, '530'),\n",
       " Text(0, 54, '540'),\n",
       " Text(0, 55, '550'),\n",
       " Text(0, 56, '560'),\n",
       " Text(0, 57, '570'),\n",
       " Text(0, 58, '580'),\n",
       " Text(0, 59, '590'),\n",
       " Text(0, 60, '600'),\n",
       " Text(0, 61, '610'),\n",
       " Text(0, 62, '620')]"
      ]
     },
     "execution_count": 12,
     "metadata": {},
     "output_type": "execute_result"
    },
    {
     "data": {
      "text/plain": [
       "Text(0.5, 1.0, 'Attention Map of Layer 17')"
      ]
     },
     "execution_count": 12,
     "metadata": {},
     "output_type": "execute_result"
    },
    {
     "data": {
      "text/plain": [
       "Text(0.5, 242.16666666666694, 'Column')"
      ]
     },
     "execution_count": 12,
     "metadata": {},
     "output_type": "execute_result"
    },
    {
     "data": {
      "text/plain": [
       "Text(187.79166666666666, 0.5, 'Row')"
      ]
     },
     "execution_count": 12,
     "metadata": {},
     "output_type": "execute_result"
    },
    {
     "data": {
      "text/plain": [
       "Text(0.5, 1.0, 'Attention from last input token to vision of Layer 17')"
      ]
     },
     "execution_count": 12,
     "metadata": {},
     "output_type": "execute_result"
    },
    {
     "data": {
      "text/plain": [
       "<matplotlib.image.AxesImage at 0x7f2f4d1203a0>"
      ]
     },
     "execution_count": 12,
     "metadata": {},
     "output_type": "execute_result"
    },
    {
     "data": {
      "text/plain": [
       "(0.0, 22.0)"
      ]
     },
     "execution_count": 12,
     "metadata": {},
     "output_type": "execute_result"
    },
    {
     "data": {
      "text/plain": [
       "(22.0, 0.0)"
      ]
     },
     "execution_count": 12,
     "metadata": {},
     "output_type": "execute_result"
    },
    {
     "name": "stderr",
     "output_type": "stream",
     "text": [
      "/tmp/ipykernel_1627/3125494494.py:15: MatplotlibDeprecationWarning: The get_cmap function was deprecated in Matplotlib 3.7 and will be removed in 3.11. Use ``matplotlib.colormaps[name]`` or ``matplotlib.colormaps.get_cmap()`` or ``pyplot.get_cmap()`` instead.\n",
      "  cmap = plt.cm.get_cmap(\"viridis\")\n"
     ]
    },
    {
     "data": {
      "text/plain": [
       "<Axes: >"
      ]
     },
     "execution_count": 12,
     "metadata": {},
     "output_type": "execute_result"
    },
    {
     "data": {
      "text/plain": [
       "[<matplotlib.axis.XTick at 0x7f2f4d1d3490>,\n",
       " <matplotlib.axis.XTick at 0x7f2f4d1f2ec0>,\n",
       " <matplotlib.axis.XTick at 0x7f2f4d1f3af0>,\n",
       " <matplotlib.axis.XTick at 0x7f2f4d1f3b80>,\n",
       " <matplotlib.axis.XTick at 0x7f2f4d1f3d00>,\n",
       " <matplotlib.axis.XTick at 0x7f2f4cd11210>,\n",
       " <matplotlib.axis.XTick at 0x7f2f4cd11c30>,\n",
       " <matplotlib.axis.XTick at 0x7f2f4cd12650>,\n",
       " <matplotlib.axis.XTick at 0x7f2f4cd13070>,\n",
       " <matplotlib.axis.XTick at 0x7f2f4cd127a0>,\n",
       " <matplotlib.axis.XTick at 0x7f2f4cd13970>,\n",
       " <matplotlib.axis.XTick at 0x7f2f4cd283d0>,\n",
       " <matplotlib.axis.XTick at 0x7f2f4cd28df0>,\n",
       " <matplotlib.axis.XTick at 0x7f2f4cd29810>,\n",
       " <matplotlib.axis.XTick at 0x7f2f4cd13550>,\n",
       " <matplotlib.axis.XTick at 0x7f2f4cd28190>,\n",
       " <matplotlib.axis.XTick at 0x7f2f4cd2a620>,\n",
       " <matplotlib.axis.XTick at 0x7f2f4cd2b040>,\n",
       " <matplotlib.axis.XTick at 0x7f2f4cd10f40>,\n",
       " <matplotlib.axis.XTick at 0x7f2f4cd2a230>,\n",
       " <matplotlib.axis.XTick at 0x7f2f4cd50280>,\n",
       " <matplotlib.axis.XTick at 0x7f2f4cd50ca0>,\n",
       " <matplotlib.axis.XTick at 0x7f2f4cd516c0>,\n",
       " <matplotlib.axis.XTick at 0x7f2f4cd2b520>,\n",
       " <matplotlib.axis.XTick at 0x7f2f4cd51fc0>,\n",
       " <matplotlib.axis.XTick at 0x7f2f4cd529e0>,\n",
       " <matplotlib.axis.XTick at 0x7f2f4cd53400>,\n",
       " <matplotlib.axis.XTick at 0x7f2f4cd68160>,\n",
       " <matplotlib.axis.XTick at 0x7f2f4cd53160>,\n",
       " <matplotlib.axis.XTick at 0x7f2f4cd68640>,\n",
       " <matplotlib.axis.XTick at 0x7f2f4cd69060>,\n",
       " <matplotlib.axis.XTick at 0x7f2f4cd69a80>,\n",
       " <matplotlib.axis.XTick at 0x7f2f4d1d3160>,\n",
       " <matplotlib.axis.XTick at 0x7f2f4cc5b6d0>,\n",
       " <matplotlib.axis.XTick at 0x7f2f4cc5acb0>,\n",
       " <matplotlib.axis.XTick at 0x7f2f4cc74910>,\n",
       " <matplotlib.axis.XTick at 0x7f2f4cc75330>,\n",
       " <matplotlib.axis.XTick at 0x7f2f4cc092d0>,\n",
       " <matplotlib.axis.XTick at 0x7f2f4cc75c30>,\n",
       " <matplotlib.axis.XTick at 0x7f2f4cc76650>,\n",
       " <matplotlib.axis.XTick at 0x7f2f4cc77070>,\n",
       " <matplotlib.axis.XTick at 0x7f2f4cc77a90>,\n",
       " <matplotlib.axis.XTick at 0x7f2f4cc76e00>,\n",
       " <matplotlib.axis.XTick at 0x7f2f4cc842b0>,\n",
       " <matplotlib.axis.XTick at 0x7f2f4cc84cd0>,\n",
       " <matplotlib.axis.XTick at 0x7f2f4cc856f0>,\n",
       " <matplotlib.axis.XTick at 0x7f2f4cc75cc0>,\n",
       " <matplotlib.axis.XTick at 0x7f2f4cc84e20>,\n",
       " <matplotlib.axis.XTick at 0x7f2f4cc868f0>,\n",
       " <matplotlib.axis.XTick at 0x7f2f4cc87310>,\n",
       " <matplotlib.axis.XTick at 0x7f2f4cc87f70>,\n",
       " <matplotlib.axis.XTick at 0x7f2f4cc87a90>,\n",
       " <matplotlib.axis.XTick at 0x7f2f4cca4670>,\n",
       " <matplotlib.axis.XTick at 0x7f2f4cca5090>,\n",
       " <matplotlib.axis.XTick at 0x7f2f4cca5ab0>,\n",
       " <matplotlib.axis.XTick at 0x7f2f4cca64d0>,\n",
       " <matplotlib.axis.XTick at 0x7f2f4cca64a0>,\n",
       " <matplotlib.axis.XTick at 0x7f2f4cca6cb0>,\n",
       " <matplotlib.axis.XTick at 0x7f2f4cca76d0>,\n",
       " <matplotlib.axis.XTick at 0x7f2f4ccbc130>,\n",
       " <matplotlib.axis.XTick at 0x7f2f4cca7d60>,\n",
       " <matplotlib.axis.XTick at 0x7f2f4ccbccd0>,\n",
       " <matplotlib.axis.XTick at 0x7f2f4ccbd450>]"
      ]
     },
     "execution_count": 12,
     "metadata": {},
     "output_type": "execute_result"
    },
    {
     "data": {
      "text/plain": [
       "[<matplotlib.axis.YTick at 0x7f2f4d1d34c0>,\n",
       " <matplotlib.axis.YTick at 0x7f2f4d1f2e90>,\n",
       " <matplotlib.axis.YTick at 0x7f2f4cd68ca0>,\n",
       " <matplotlib.axis.YTick at 0x7f2f4cd6ad10>,\n",
       " <matplotlib.axis.YTick at 0x7f2f4cd6b730>,\n",
       " <matplotlib.axis.YTick at 0x7f2f4cd88190>,\n",
       " <matplotlib.axis.YTick at 0x7f2f4cd6bc10>,\n",
       " <matplotlib.axis.YTick at 0x7f2f4cd88250>,\n",
       " <matplotlib.axis.YTick at 0x7f2f4cd894b0>,\n",
       " <matplotlib.axis.YTick at 0x7f2f4cd89ed0>,\n",
       " <matplotlib.axis.YTick at 0x7f2f4cd8a8f0>,\n",
       " <matplotlib.axis.YTick at 0x7f2f4cd8a980>,\n",
       " <matplotlib.axis.YTick at 0x7f2f4cd8b0d0>,\n",
       " <matplotlib.axis.YTick at 0x7f2f4cd8baf0>,\n",
       " <matplotlib.axis.YTick at 0x7f2f4cda4550>,\n",
       " <matplotlib.axis.YTick at 0x7f2f4cd8bb80>,\n",
       " <matplotlib.axis.YTick at 0x7f2f4cda4be0>,\n",
       " <matplotlib.axis.YTick at 0x7f2f4cda5870>,\n",
       " <matplotlib.axis.YTick at 0x7f2f4cda6290>,\n",
       " <matplotlib.axis.YTick at 0x7f2f4cda6cb0>,\n",
       " <matplotlib.axis.YTick at 0x7f2f4cda6d40>,\n",
       " <matplotlib.axis.YTick at 0x7f2f4cda4580>,\n",
       " <matplotlib.axis.YTick at 0x7f2f4cdc0040>,\n",
       " <matplotlib.axis.YTick at 0x7f2f4cdc0a30>,\n",
       " <matplotlib.axis.YTick at 0x7f2f4cdc1450>,\n",
       " <matplotlib.axis.YTick at 0x7f2f4cdc15a0>,\n",
       " <matplotlib.axis.YTick at 0x7f2f4cdc1c30>,\n",
       " <matplotlib.axis.YTick at 0x7f2f4cdc2650>,\n",
       " <matplotlib.axis.YTick at 0x7f2f4cdc3070>,\n",
       " <matplotlib.axis.YTick at 0x7f2f4cdc3c10>,\n",
       " <matplotlib.axis.YTick at 0x7f2f4cdc2110>,\n",
       " <matplotlib.axis.YTick at 0x7f2f4cc083d0>,\n",
       " <matplotlib.axis.YTick at 0x7f2f4d1b7af0>,\n",
       " <matplotlib.axis.YTick at 0x7f2f4ccbd210>,\n",
       " <matplotlib.axis.YTick at 0x7f2f4ccbe770>,\n",
       " <matplotlib.axis.YTick at 0x7f2f4ccbf190>,\n",
       " <matplotlib.axis.YTick at 0x7f2f4ccbfbb0>,\n",
       " <matplotlib.axis.YTick at 0x7f2f4ccbf910>,\n",
       " <matplotlib.axis.YTick at 0x7f2f4ccd8910>,\n",
       " <matplotlib.axis.YTick at 0x7f2f4ccd9060>,\n",
       " <matplotlib.axis.YTick at 0x7f2f4ccd9a80>,\n",
       " <matplotlib.axis.YTick at 0x7f2f4ccda4a0>,\n",
       " <matplotlib.axis.YTick at 0x7f2f4cca4250>,\n",
       " <matplotlib.axis.YTick at 0x7f2f4ccda230>,\n",
       " <matplotlib.axis.YTick at 0x7f2f4ccdab60>,\n",
       " <matplotlib.axis.YTick at 0x7f2f4ccdb580>,\n",
       " <matplotlib.axis.YTick at 0x7f2f4ccfc160>,\n",
       " <matplotlib.axis.YTick at 0x7f2f4ccdabf0>,\n",
       " <matplotlib.axis.YTick at 0x7f2f4ccfc6a0>,\n",
       " <matplotlib.axis.YTick at 0x7f2f4ccfd0c0>,\n",
       " <matplotlib.axis.YTick at 0x7f2f4ccfdae0>,\n",
       " <matplotlib.axis.YTick at 0x7f2f4ccdb2e0>,\n",
       " <matplotlib.axis.YTick at 0x7f2f4ccfd090>,\n",
       " <matplotlib.axis.YTick at 0x7f2f4ccfece0>,\n",
       " <matplotlib.axis.YTick at 0x7f2f4ccff700>,\n",
       " <matplotlib.axis.YTick at 0x7f2f4ce18160>,\n",
       " <matplotlib.axis.YTick at 0x7f2f4ccffbe0>,\n",
       " <matplotlib.axis.YTick at 0x7f2f4ce18220>,\n",
       " <matplotlib.axis.YTick at 0x7f2f4ce19480>,\n",
       " <matplotlib.axis.YTick at 0x7f2f4ce19ea0>,\n",
       " <matplotlib.axis.YTick at 0x7f2f4ce1a8c0>,\n",
       " <matplotlib.axis.YTick at 0x7f2f4ce1a950>,\n",
       " <matplotlib.axis.YTick at 0x7f2f4ce1b0a0>]"
      ]
     },
     "execution_count": 12,
     "metadata": {},
     "output_type": "execute_result"
    },
    {
     "data": {
      "text/plain": [
       "[Text(0, 0, '0'),\n",
       " Text(1, 0, '10'),\n",
       " Text(2, 0, '20'),\n",
       " Text(3, 0, '30'),\n",
       " Text(4, 0, '40'),\n",
       " Text(5, 0, '50'),\n",
       " Text(6, 0, '60'),\n",
       " Text(7, 0, '70'),\n",
       " Text(8, 0, '80'),\n",
       " Text(9, 0, '90'),\n",
       " Text(10, 0, '100'),\n",
       " Text(11, 0, '110'),\n",
       " Text(12, 0, '120'),\n",
       " Text(13, 0, '130'),\n",
       " Text(14, 0, '140'),\n",
       " Text(15, 0, '150'),\n",
       " Text(16, 0, '160'),\n",
       " Text(17, 0, '170'),\n",
       " Text(18, 0, '180'),\n",
       " Text(19, 0, '190'),\n",
       " Text(20, 0, '200'),\n",
       " Text(21, 0, '210'),\n",
       " Text(22, 0, '220'),\n",
       " Text(23, 0, '230'),\n",
       " Text(24, 0, '240'),\n",
       " Text(25, 0, '250'),\n",
       " Text(26, 0, '260'),\n",
       " Text(27, 0, '270'),\n",
       " Text(28, 0, '280'),\n",
       " Text(29, 0, '290'),\n",
       " Text(30, 0, '300'),\n",
       " Text(31, 0, '310'),\n",
       " Text(32, 0, '320'),\n",
       " Text(33, 0, '330'),\n",
       " Text(34, 0, '340'),\n",
       " Text(35, 0, '350'),\n",
       " Text(36, 0, '360'),\n",
       " Text(37, 0, '370'),\n",
       " Text(38, 0, '380'),\n",
       " Text(39, 0, '390'),\n",
       " Text(40, 0, '400'),\n",
       " Text(41, 0, '410'),\n",
       " Text(42, 0, '420'),\n",
       " Text(43, 0, '430'),\n",
       " Text(44, 0, '440'),\n",
       " Text(45, 0, '450'),\n",
       " Text(46, 0, '460'),\n",
       " Text(47, 0, '470'),\n",
       " Text(48, 0, '480'),\n",
       " Text(49, 0, '490'),\n",
       " Text(50, 0, '500'),\n",
       " Text(51, 0, '510'),\n",
       " Text(52, 0, '520'),\n",
       " Text(53, 0, '530'),\n",
       " Text(54, 0, '540'),\n",
       " Text(55, 0, '550'),\n",
       " Text(56, 0, '560'),\n",
       " Text(57, 0, '570'),\n",
       " Text(58, 0, '580'),\n",
       " Text(59, 0, '590'),\n",
       " Text(60, 0, '600'),\n",
       " Text(61, 0, '610'),\n",
       " Text(62, 0, '620')]"
      ]
     },
     "execution_count": 12,
     "metadata": {},
     "output_type": "execute_result"
    },
    {
     "data": {
      "text/plain": [
       "[Text(0, 0, '0'),\n",
       " Text(0, 1, '10'),\n",
       " Text(0, 2, '20'),\n",
       " Text(0, 3, '30'),\n",
       " Text(0, 4, '40'),\n",
       " Text(0, 5, '50'),\n",
       " Text(0, 6, '60'),\n",
       " Text(0, 7, '70'),\n",
       " Text(0, 8, '80'),\n",
       " Text(0, 9, '90'),\n",
       " Text(0, 10, '100'),\n",
       " Text(0, 11, '110'),\n",
       " Text(0, 12, '120'),\n",
       " Text(0, 13, '130'),\n",
       " Text(0, 14, '140'),\n",
       " Text(0, 15, '150'),\n",
       " Text(0, 16, '160'),\n",
       " Text(0, 17, '170'),\n",
       " Text(0, 18, '180'),\n",
       " Text(0, 19, '190'),\n",
       " Text(0, 20, '200'),\n",
       " Text(0, 21, '210'),\n",
       " Text(0, 22, '220'),\n",
       " Text(0, 23, '230'),\n",
       " Text(0, 24, '240'),\n",
       " Text(0, 25, '250'),\n",
       " Text(0, 26, '260'),\n",
       " Text(0, 27, '270'),\n",
       " Text(0, 28, '280'),\n",
       " Text(0, 29, '290'),\n",
       " Text(0, 30, '300'),\n",
       " Text(0, 31, '310'),\n",
       " Text(0, 32, '320'),\n",
       " Text(0, 33, '330'),\n",
       " Text(0, 34, '340'),\n",
       " Text(0, 35, '350'),\n",
       " Text(0, 36, '360'),\n",
       " Text(0, 37, '370'),\n",
       " Text(0, 38, '380'),\n",
       " Text(0, 39, '390'),\n",
       " Text(0, 40, '400'),\n",
       " Text(0, 41, '410'),\n",
       " Text(0, 42, '420'),\n",
       " Text(0, 43, '430'),\n",
       " Text(0, 44, '440'),\n",
       " Text(0, 45, '450'),\n",
       " Text(0, 46, '460'),\n",
       " Text(0, 47, '470'),\n",
       " Text(0, 48, '480'),\n",
       " Text(0, 49, '490'),\n",
       " Text(0, 50, '500'),\n",
       " Text(0, 51, '510'),\n",
       " Text(0, 52, '520'),\n",
       " Text(0, 53, '530'),\n",
       " Text(0, 54, '540'),\n",
       " Text(0, 55, '550'),\n",
       " Text(0, 56, '560'),\n",
       " Text(0, 57, '570'),\n",
       " Text(0, 58, '580'),\n",
       " Text(0, 59, '590'),\n",
       " Text(0, 60, '600'),\n",
       " Text(0, 61, '610'),\n",
       " Text(0, 62, '620')]"
      ]
     },
     "execution_count": 12,
     "metadata": {},
     "output_type": "execute_result"
    },
    {
     "data": {
      "text/plain": [
       "Text(0.5, 1.0, 'Attention Map of Layer 18')"
      ]
     },
     "execution_count": 12,
     "metadata": {},
     "output_type": "execute_result"
    },
    {
     "data": {
      "text/plain": [
       "Text(0.5, 242.16666666666694, 'Column')"
      ]
     },
     "execution_count": 12,
     "metadata": {},
     "output_type": "execute_result"
    },
    {
     "data": {
      "text/plain": [
       "Text(187.79166666666666, 0.5, 'Row')"
      ]
     },
     "execution_count": 12,
     "metadata": {},
     "output_type": "execute_result"
    },
    {
     "data": {
      "text/plain": [
       "Text(0.5, 1.0, 'Attention from last input token to vision of Layer 18')"
      ]
     },
     "execution_count": 12,
     "metadata": {},
     "output_type": "execute_result"
    },
    {
     "data": {
      "text/plain": [
       "<matplotlib.image.AxesImage at 0x7f2f4ce19240>"
      ]
     },
     "execution_count": 12,
     "metadata": {},
     "output_type": "execute_result"
    },
    {
     "data": {
      "text/plain": [
       "(0.0, 22.0)"
      ]
     },
     "execution_count": 12,
     "metadata": {},
     "output_type": "execute_result"
    },
    {
     "data": {
      "text/plain": [
       "(22.0, 0.0)"
      ]
     },
     "execution_count": 12,
     "metadata": {},
     "output_type": "execute_result"
    },
    {
     "name": "stderr",
     "output_type": "stream",
     "text": [
      "/tmp/ipykernel_1627/3125494494.py:15: MatplotlibDeprecationWarning: The get_cmap function was deprecated in Matplotlib 3.7 and will be removed in 3.11. Use ``matplotlib.colormaps[name]`` or ``matplotlib.colormaps.get_cmap()`` or ``pyplot.get_cmap()`` instead.\n",
      "  cmap = plt.cm.get_cmap(\"viridis\")\n"
     ]
    },
    {
     "data": {
      "text/plain": [
       "<Axes: >"
      ]
     },
     "execution_count": 12,
     "metadata": {},
     "output_type": "execute_result"
    },
    {
     "data": {
      "text/plain": [
       "[<matplotlib.axis.XTick at 0x7f2f4cebf0d0>,\n",
       " <matplotlib.axis.XTick at 0x7f2f4ceee260>,\n",
       " <matplotlib.axis.XTick at 0x7f2f4ceeee90>,\n",
       " <matplotlib.axis.XTick at 0x7f2f4ceeef20>,\n",
       " <matplotlib.axis.XTick at 0x7f2f4ceef730>,\n",
       " <matplotlib.axis.XTick at 0x7f2f4ca085b0>,\n",
       " <matplotlib.axis.XTick at 0x7f2f4ca08fd0>,\n",
       " <matplotlib.axis.XTick at 0x7f2f4ca099f0>,\n",
       " <matplotlib.axis.XTick at 0x7f2f4ca0a410>,\n",
       " <matplotlib.axis.XTick at 0x7f2f4ca0a4d0>,\n",
       " <matplotlib.axis.XTick at 0x7f2f4ca08280>,\n",
       " <matplotlib.axis.XTick at 0x7f2f4ca0b4f0>,\n",
       " <matplotlib.axis.XTick at 0x7f2f4ca280d0>,\n",
       " <matplotlib.axis.XTick at 0x7f2f4ca28970>,\n",
       " <matplotlib.axis.XTick at 0x7f2f4ceee6e0>,\n",
       " <matplotlib.axis.XTick at 0x7f2f4ca290c0>,\n",
       " <matplotlib.axis.XTick at 0x7f2f4ca29ae0>,\n",
       " <matplotlib.axis.XTick at 0x7f2f4ca2a500>,\n",
       " <matplotlib.axis.XTick at 0x7f2f4ca0ab60>,\n",
       " <matplotlib.axis.XTick at 0x7f2f4ca296f0>,\n",
       " <matplotlib.axis.XTick at 0x7f2f4ca2b700>,\n",
       " <matplotlib.axis.XTick at 0x7f2f4ca44160>,\n",
       " <matplotlib.axis.XTick at 0x7f2f4ca44b80>,\n",
       " <matplotlib.axis.XTick at 0x7f2f4ca2bbe0>,\n",
       " <matplotlib.axis.XTick at 0x7f2f4ca44220>,\n",
       " <matplotlib.axis.XTick at 0x7f2f4ca45ea0>,\n",
       " <matplotlib.axis.XTick at 0x7f2f4ca468c0>,\n",
       " <matplotlib.axis.XTick at 0x7f2f4ca472e0>,\n",
       " <matplotlib.axis.XTick at 0x7f2f4ca46f20>,\n",
       " <matplotlib.axis.XTick at 0x7f2f4ca47ac0>,\n",
       " <matplotlib.axis.XTick at 0x7f2f4ca60520>,\n",
       " <matplotlib.axis.XTick at 0x7f2f4ca60f40>,\n",
       " <matplotlib.axis.XTick at 0x7f2f4c9376d0>,\n",
       " <matplotlib.axis.XTick at 0x7f2f4c946aa0>,\n",
       " <matplotlib.axis.XTick at 0x7f2f4c947310>,\n",
       " <matplotlib.axis.XTick at 0x7f2f4c947b20>,\n",
       " <matplotlib.axis.XTick at 0x7f2f4c960580>,\n",
       " <matplotlib.axis.XTick at 0x7f2f4c947760>,\n",
       " <matplotlib.axis.XTick at 0x7f2f4c9601f0>,\n",
       " <matplotlib.axis.XTick at 0x7f2f4c9618a0>,\n",
       " <matplotlib.axis.XTick at 0x7f2f4c9622c0>,\n",
       " <matplotlib.axis.XTick at 0x7f2f4c962ce0>,\n",
       " <matplotlib.axis.XTick at 0x7f2f4c962a70>,\n",
       " <matplotlib.axis.XTick at 0x7f2f4c9634c0>,\n",
       " <matplotlib.axis.XTick at 0x7f2f4c9740d0>,\n",
       " <matplotlib.axis.XTick at 0x7f2f4c974940>,\n",
       " <matplotlib.axis.XTick at 0x7f2f4c975360>,\n",
       " <matplotlib.axis.XTick at 0x7f2f4c9754b0>,\n",
       " <matplotlib.axis.XTick at 0x7f2f4c975ab0>,\n",
       " <matplotlib.axis.XTick at 0x7f2f4c9764d0>,\n",
       " <matplotlib.axis.XTick at 0x7f2f4c976ef0>,\n",
       " <matplotlib.axis.XTick at 0x7f2f4c963c70>,\n",
       " <matplotlib.axis.XTick at 0x7f2f4c975f90>,\n",
       " <matplotlib.axis.XTick at 0x7f2f4c99c130>,\n",
       " <matplotlib.axis.XTick at 0x7f2f4c99cb50>,\n",
       " <matplotlib.axis.XTick at 0x7f2f4c99d570>,\n",
       " <matplotlib.axis.XTick at 0x7f2f4c977430>,\n",
       " <matplotlib.axis.XTick at 0x7f2f4c99c1f0>,\n",
       " <matplotlib.axis.XTick at 0x7f2f4c99e890>,\n",
       " <matplotlib.axis.XTick at 0x7f2f4c99f2b0>,\n",
       " <matplotlib.axis.XTick at 0x7f2f4c99fcd0>,\n",
       " <matplotlib.axis.XTick at 0x7f2f4c99f010>,\n",
       " <matplotlib.axis.XTick at 0x7f2f4c9b04f0>]"
      ]
     },
     "execution_count": 12,
     "metadata": {},
     "output_type": "execute_result"
    },
    {
     "data": {
      "text/plain": [
       "[<matplotlib.axis.YTick at 0x7f2f4cebf100>,\n",
       " <matplotlib.axis.YTick at 0x7f2f4ceee230>,\n",
       " <matplotlib.axis.YTick at 0x7f2f4ca60280>,\n",
       " <matplotlib.axis.YTick at 0x7f2f4ca62260>,\n",
       " <matplotlib.axis.YTick at 0x7f2f4ca62c80>,\n",
       " <matplotlib.axis.YTick at 0x7f2f4ca636a0>,\n",
       " <matplotlib.axis.YTick at 0x7f2f4ca637f0>,\n",
       " <matplotlib.axis.YTick at 0x7f2f4ca7c160>,\n",
       " <matplotlib.axis.YTick at 0x7f2f4ca7ca00>,\n",
       " <matplotlib.axis.YTick at 0x7f2f4ca7d420>,\n",
       " <matplotlib.axis.YTick at 0x7f2f4ca7de40>,\n",
       " <matplotlib.axis.YTick at 0x7f2f4ca7df90>,\n",
       " <matplotlib.axis.YTick at 0x7f2f4ca7e620>,\n",
       " <matplotlib.axis.YTick at 0x7f2f4ca7f040>,\n",
       " <matplotlib.axis.YTick at 0x7f2f4ca7fa60>,\n",
       " <matplotlib.axis.YTick at 0x7f2f4ca7fbb0>,\n",
       " <matplotlib.axis.YTick at 0x7f2f4caa0640>,\n",
       " <matplotlib.axis.YTick at 0x7f2f4caa0dc0>,\n",
       " <matplotlib.axis.YTick at 0x7f2f4caa17e0>,\n",
       " <matplotlib.axis.YTick at 0x7f2f4caa2200>,\n",
       " <matplotlib.axis.YTick at 0x7f2f4caa2230>,\n",
       " <matplotlib.axis.YTick at 0x7f2f4caa0520>,\n",
       " <matplotlib.axis.YTick at 0x7f2f4caa3520>,\n",
       " <matplotlib.axis.YTick at 0x7f2f4cae4100>,\n",
       " <matplotlib.axis.YTick at 0x7f2f4cae49a0>,\n",
       " <matplotlib.axis.YTick at 0x7f2f4caa32e0>,\n",
       " <matplotlib.axis.YTick at 0x7f2f4cae5180>,\n",
       " <matplotlib.axis.YTick at 0x7f2f4cae5ba0>,\n",
       " <matplotlib.axis.YTick at 0x7f2f4cae65c0>,\n",
       " <matplotlib.axis.YTick at 0x7f2f4cae7160>,\n",
       " <matplotlib.axis.YTick at 0x7f2f4cae5660>,\n",
       " <matplotlib.axis.YTick at 0x7f2f4cae78e0>,\n",
       " <matplotlib.axis.YTick at 0x7f2f4ceaae90>,\n",
       " <matplotlib.axis.YTick at 0x7f2f4c9b1360>,\n",
       " <matplotlib.axis.YTick at 0x7f2f4c9b1b70>,\n",
       " <matplotlib.axis.YTick at 0x7f2f4c9b2590>,\n",
       " <matplotlib.axis.YTick at 0x7f2f4c9b2fb0>,\n",
       " <matplotlib.axis.YTick at 0x7f2f4c9778e0>,\n",
       " <matplotlib.axis.YTick at 0x7f2f4c9b2bf0>,\n",
       " <matplotlib.axis.YTick at 0x7f2f4c9b39d0>,\n",
       " <matplotlib.axis.YTick at 0x7f2f4c9d4430>,\n",
       " <matplotlib.axis.YTick at 0x7f2f4c9d4e50>,\n",
       " <matplotlib.axis.YTick at 0x7f2f4c9b26b0>,\n",
       " <matplotlib.axis.YTick at 0x7f2f4c9d5630>,\n",
       " <matplotlib.axis.YTick at 0x7f2f4c9d6050>,\n",
       " <matplotlib.axis.YTick at 0x7f2f4c9d6a70>,\n",
       " <matplotlib.axis.YTick at 0x7f2f4c9d7490>,\n",
       " <matplotlib.axis.YTick at 0x7f2f4c9d6800>,\n",
       " <matplotlib.axis.YTick at 0x7f2f4c9d7be0>,\n",
       " <matplotlib.axis.YTick at 0x7f2f4c9f4640>,\n",
       " <matplotlib.axis.YTick at 0x7f2f4c9f5060>,\n",
       " <matplotlib.axis.YTick at 0x7f2f4c9d7ca0>,\n",
       " <matplotlib.axis.YTick at 0x7f2f4c9f4ca0>,\n",
       " <matplotlib.axis.YTick at 0x7f2f4c9f6260>,\n",
       " <matplotlib.axis.YTick at 0x7f2f4c9f6c80>,\n",
       " <matplotlib.axis.YTick at 0x7f2f4c9f76a0>,\n",
       " <matplotlib.axis.YTick at 0x7f2f4c9f77f0>,\n",
       " <matplotlib.axis.YTick at 0x7f2f4cb10160>,\n",
       " <matplotlib.axis.YTick at 0x7f2f4cb10a00>,\n",
       " <matplotlib.axis.YTick at 0x7f2f4cb11420>,\n",
       " <matplotlib.axis.YTick at 0x7f2f4cb11e40>,\n",
       " <matplotlib.axis.YTick at 0x7f2f4cb11ed0>,\n",
       " <matplotlib.axis.YTick at 0x7f2f4cb12620>]"
      ]
     },
     "execution_count": 12,
     "metadata": {},
     "output_type": "execute_result"
    },
    {
     "data": {
      "text/plain": [
       "[Text(0, 0, '0'),\n",
       " Text(1, 0, '10'),\n",
       " Text(2, 0, '20'),\n",
       " Text(3, 0, '30'),\n",
       " Text(4, 0, '40'),\n",
       " Text(5, 0, '50'),\n",
       " Text(6, 0, '60'),\n",
       " Text(7, 0, '70'),\n",
       " Text(8, 0, '80'),\n",
       " Text(9, 0, '90'),\n",
       " Text(10, 0, '100'),\n",
       " Text(11, 0, '110'),\n",
       " Text(12, 0, '120'),\n",
       " Text(13, 0, '130'),\n",
       " Text(14, 0, '140'),\n",
       " Text(15, 0, '150'),\n",
       " Text(16, 0, '160'),\n",
       " Text(17, 0, '170'),\n",
       " Text(18, 0, '180'),\n",
       " Text(19, 0, '190'),\n",
       " Text(20, 0, '200'),\n",
       " Text(21, 0, '210'),\n",
       " Text(22, 0, '220'),\n",
       " Text(23, 0, '230'),\n",
       " Text(24, 0, '240'),\n",
       " Text(25, 0, '250'),\n",
       " Text(26, 0, '260'),\n",
       " Text(27, 0, '270'),\n",
       " Text(28, 0, '280'),\n",
       " Text(29, 0, '290'),\n",
       " Text(30, 0, '300'),\n",
       " Text(31, 0, '310'),\n",
       " Text(32, 0, '320'),\n",
       " Text(33, 0, '330'),\n",
       " Text(34, 0, '340'),\n",
       " Text(35, 0, '350'),\n",
       " Text(36, 0, '360'),\n",
       " Text(37, 0, '370'),\n",
       " Text(38, 0, '380'),\n",
       " Text(39, 0, '390'),\n",
       " Text(40, 0, '400'),\n",
       " Text(41, 0, '410'),\n",
       " Text(42, 0, '420'),\n",
       " Text(43, 0, '430'),\n",
       " Text(44, 0, '440'),\n",
       " Text(45, 0, '450'),\n",
       " Text(46, 0, '460'),\n",
       " Text(47, 0, '470'),\n",
       " Text(48, 0, '480'),\n",
       " Text(49, 0, '490'),\n",
       " Text(50, 0, '500'),\n",
       " Text(51, 0, '510'),\n",
       " Text(52, 0, '520'),\n",
       " Text(53, 0, '530'),\n",
       " Text(54, 0, '540'),\n",
       " Text(55, 0, '550'),\n",
       " Text(56, 0, '560'),\n",
       " Text(57, 0, '570'),\n",
       " Text(58, 0, '580'),\n",
       " Text(59, 0, '590'),\n",
       " Text(60, 0, '600'),\n",
       " Text(61, 0, '610'),\n",
       " Text(62, 0, '620')]"
      ]
     },
     "execution_count": 12,
     "metadata": {},
     "output_type": "execute_result"
    },
    {
     "data": {
      "text/plain": [
       "[Text(0, 0, '0'),\n",
       " Text(0, 1, '10'),\n",
       " Text(0, 2, '20'),\n",
       " Text(0, 3, '30'),\n",
       " Text(0, 4, '40'),\n",
       " Text(0, 5, '50'),\n",
       " Text(0, 6, '60'),\n",
       " Text(0, 7, '70'),\n",
       " Text(0, 8, '80'),\n",
       " Text(0, 9, '90'),\n",
       " Text(0, 10, '100'),\n",
       " Text(0, 11, '110'),\n",
       " Text(0, 12, '120'),\n",
       " Text(0, 13, '130'),\n",
       " Text(0, 14, '140'),\n",
       " Text(0, 15, '150'),\n",
       " Text(0, 16, '160'),\n",
       " Text(0, 17, '170'),\n",
       " Text(0, 18, '180'),\n",
       " Text(0, 19, '190'),\n",
       " Text(0, 20, '200'),\n",
       " Text(0, 21, '210'),\n",
       " Text(0, 22, '220'),\n",
       " Text(0, 23, '230'),\n",
       " Text(0, 24, '240'),\n",
       " Text(0, 25, '250'),\n",
       " Text(0, 26, '260'),\n",
       " Text(0, 27, '270'),\n",
       " Text(0, 28, '280'),\n",
       " Text(0, 29, '290'),\n",
       " Text(0, 30, '300'),\n",
       " Text(0, 31, '310'),\n",
       " Text(0, 32, '320'),\n",
       " Text(0, 33, '330'),\n",
       " Text(0, 34, '340'),\n",
       " Text(0, 35, '350'),\n",
       " Text(0, 36, '360'),\n",
       " Text(0, 37, '370'),\n",
       " Text(0, 38, '380'),\n",
       " Text(0, 39, '390'),\n",
       " Text(0, 40, '400'),\n",
       " Text(0, 41, '410'),\n",
       " Text(0, 42, '420'),\n",
       " Text(0, 43, '430'),\n",
       " Text(0, 44, '440'),\n",
       " Text(0, 45, '450'),\n",
       " Text(0, 46, '460'),\n",
       " Text(0, 47, '470'),\n",
       " Text(0, 48, '480'),\n",
       " Text(0, 49, '490'),\n",
       " Text(0, 50, '500'),\n",
       " Text(0, 51, '510'),\n",
       " Text(0, 52, '520'),\n",
       " Text(0, 53, '530'),\n",
       " Text(0, 54, '540'),\n",
       " Text(0, 55, '550'),\n",
       " Text(0, 56, '560'),\n",
       " Text(0, 57, '570'),\n",
       " Text(0, 58, '580'),\n",
       " Text(0, 59, '590'),\n",
       " Text(0, 60, '600'),\n",
       " Text(0, 61, '610'),\n",
       " Text(0, 62, '620')]"
      ]
     },
     "execution_count": 12,
     "metadata": {},
     "output_type": "execute_result"
    },
    {
     "data": {
      "text/plain": [
       "Text(0.5, 1.0, 'Attention Map of Layer 19')"
      ]
     },
     "execution_count": 12,
     "metadata": {},
     "output_type": "execute_result"
    },
    {
     "data": {
      "text/plain": [
       "Text(0.5, 242.16666666666694, 'Column')"
      ]
     },
     "execution_count": 12,
     "metadata": {},
     "output_type": "execute_result"
    },
    {
     "data": {
      "text/plain": [
       "Text(187.79166666666666, 0.5, 'Row')"
      ]
     },
     "execution_count": 12,
     "metadata": {},
     "output_type": "execute_result"
    },
    {
     "data": {
      "text/plain": [
       "Text(0.5, 1.0, 'Attention from last input token to vision of Layer 19')"
      ]
     },
     "execution_count": 12,
     "metadata": {},
     "output_type": "execute_result"
    },
    {
     "data": {
      "text/plain": [
       "<matplotlib.image.AxesImage at 0x7f2f4cb10100>"
      ]
     },
     "execution_count": 12,
     "metadata": {},
     "output_type": "execute_result"
    },
    {
     "data": {
      "text/plain": [
       "(0.0, 22.0)"
      ]
     },
     "execution_count": 12,
     "metadata": {},
     "output_type": "execute_result"
    },
    {
     "data": {
      "text/plain": [
       "(22.0, 0.0)"
      ]
     },
     "execution_count": 12,
     "metadata": {},
     "output_type": "execute_result"
    },
    {
     "name": "stderr",
     "output_type": "stream",
     "text": [
      "/tmp/ipykernel_1627/3125494494.py:15: MatplotlibDeprecationWarning: The get_cmap function was deprecated in Matplotlib 3.7 and will be removed in 3.11. Use ``matplotlib.colormaps[name]`` or ``matplotlib.colormaps.get_cmap()`` or ``pyplot.get_cmap()`` instead.\n",
      "  cmap = plt.cm.get_cmap(\"viridis\")\n"
     ]
    },
    {
     "data": {
      "text/plain": [
       "<Axes: >"
      ]
     },
     "execution_count": 12,
     "metadata": {},
     "output_type": "execute_result"
    },
    {
     "data": {
      "text/plain": [
       "[<matplotlib.axis.XTick at 0x7f2f4cad09a0>,\n",
       " <matplotlib.axis.XTick at 0x7f2f4cbd8e50>,\n",
       " <matplotlib.axis.XTick at 0x7f2f4cbd9c60>,\n",
       " <matplotlib.axis.XTick at 0x7f2f4cbd9cf0>,\n",
       " <matplotlib.axis.XTick at 0x7f2f4cbdaf50>,\n",
       " <matplotlib.axis.XTick at 0x7f2f4cbdb970>,\n",
       " <matplotlib.axis.XTick at 0x7f2f4cbd94e0>,\n",
       " <matplotlib.axis.XTick at 0x7f2f4cbf4460>,\n",
       " <matplotlib.axis.XTick at 0x7f2f4cbf4e80>,\n",
       " <matplotlib.axis.XTick at 0x7f2f4cbf58a0>,\n",
       " <matplotlib.axis.XTick at 0x7f2f4cad0d00>,\n",
       " <matplotlib.axis.XTick at 0x7f2f4cbf44f0>,\n",
       " <matplotlib.axis.XTick at 0x7f2f4cbf6980>,\n",
       " <matplotlib.axis.XTick at 0x7f2f4cbf73a0>,\n",
       " <matplotlib.axis.XTick at 0x7f2f4cbf7fd0>,\n",
       " <matplotlib.axis.XTick at 0x7f2f4cbf7100>,\n",
       " <matplotlib.axis.XTick at 0x7f2f4c7085e0>,\n",
       " <matplotlib.axis.XTick at 0x7f2f4c709000>,\n",
       " <matplotlib.axis.XTick at 0x7f2f4c709a20>,\n",
       " <matplotlib.axis.XTick at 0x7f2f4cbf4eb0>,\n",
       " <matplotlib.axis.XTick at 0x7f2f4c709540>,\n",
       " <matplotlib.axis.XTick at 0x7f2f4c70acb0>,\n",
       " <matplotlib.axis.XTick at 0x7f2f4c70b6d0>,\n",
       " <matplotlib.axis.XTick at 0x7f2f4c728130>,\n",
       " <matplotlib.axis.XTick at 0x7f2f4c70bbb0>,\n",
       " <matplotlib.axis.XTick at 0x7f2f4c7281f0>,\n",
       " <matplotlib.axis.XTick at 0x7f2f4c729450>,\n",
       " <matplotlib.axis.XTick at 0x7f2f4c729e70>,\n",
       " <matplotlib.axis.XTick at 0x7f2f4c72a890>,\n",
       " <matplotlib.axis.XTick at 0x7f2f4c72a920>,\n",
       " <matplotlib.axis.XTick at 0x7f2f4c72b070>,\n",
       " <matplotlib.axis.XTick at 0x7f2f4c72ba90>,\n",
       " <matplotlib.axis.XTick at 0x7f2f4ce7fac0>,\n",
       " <matplotlib.axis.XTick at 0x7f2f4c62da20>,\n",
       " <matplotlib.axis.XTick at 0x7f2f4c62dab0>,\n",
       " <matplotlib.axis.XTick at 0x7f2f4c62ed10>,\n",
       " <matplotlib.axis.XTick at 0x7f2f4c62f730>,\n",
       " <matplotlib.axis.XTick at 0x7f2f4c62f700>,\n",
       " <matplotlib.axis.XTick at 0x7f2f4c640070>,\n",
       " <matplotlib.axis.XTick at 0x7f2f4c640a90>,\n",
       " <matplotlib.axis.XTick at 0x7f2f4c6414b0>,\n",
       " <matplotlib.axis.XTick at 0x7f2f4c641ed0>,\n",
       " <matplotlib.axis.XTick at 0x7f2f4c6419c0>,\n",
       " <matplotlib.axis.XTick at 0x7f2f4c6426b0>,\n",
       " <matplotlib.axis.XTick at 0x7f2f4c6430d0>,\n",
       " <matplotlib.axis.XTick at 0x7f2f4c643af0>,\n",
       " <matplotlib.axis.XTick at 0x7f2f4c643b80>,\n",
       " <matplotlib.axis.XTick at 0x7f2f4c65c160>,\n",
       " <matplotlib.axis.XTick at 0x7f2f4c65cd30>,\n",
       " <matplotlib.axis.XTick at 0x7f2f4c65d750>,\n",
       " <matplotlib.axis.XTick at 0x7f2f4c65e170>,\n",
       " <matplotlib.axis.XTick at 0x7f2f4c65e230>,\n",
       " <matplotlib.axis.XTick at 0x7f2f4c65c850>,\n",
       " <matplotlib.axis.XTick at 0x7f2f4c65f490>,\n",
       " <matplotlib.axis.XTick at 0x7f2f4c67c0a0>,\n",
       " <matplotlib.axis.XTick at 0x7f2f4c67c910>,\n",
       " <matplotlib.axis.XTick at 0x7f2f4c65f1f0>,\n",
       " <matplotlib.axis.XTick at 0x7f2f4c67d0f0>,\n",
       " <matplotlib.axis.XTick at 0x7f2f4c67db10>,\n",
       " <matplotlib.axis.XTick at 0x7f2f4c67e530>,\n",
       " <matplotlib.axis.XTick at 0x7f2f4c65f550>,\n",
       " <matplotlib.axis.XTick at 0x7f2f4c67d750>,\n",
       " <matplotlib.axis.XTick at 0x7f2f4c67f850>]"
      ]
     },
     "execution_count": 12,
     "metadata": {},
     "output_type": "execute_result"
    },
    {
     "data": {
      "text/plain": [
       "[<matplotlib.axis.YTick at 0x7f2f4cad09d0>,\n",
       " <matplotlib.axis.YTick at 0x7f2f4cbd8eb0>,\n",
       " <matplotlib.axis.YTick at 0x7f2f4c72bb50>,\n",
       " <matplotlib.axis.YTick at 0x7f2f4c74cb20>,\n",
       " <matplotlib.axis.YTick at 0x7f2f4c74d810>,\n",
       " <matplotlib.axis.YTick at 0x7f2f4c74e230>,\n",
       " <matplotlib.axis.YTick at 0x7f2f4c74ec50>,\n",
       " <matplotlib.axis.YTick at 0x7f2f4c74ece0>,\n",
       " <matplotlib.axis.YTick at 0x7f2f4c74ca00>,\n",
       " <matplotlib.axis.YTick at 0x7f2f4c760130>,\n",
       " <matplotlib.axis.YTick at 0x7f2f4c7609d0>,\n",
       " <matplotlib.axis.YTick at 0x7f2f4c7613f0>,\n",
       " <matplotlib.axis.YTick at 0x7f2f4c761540>,\n",
       " <matplotlib.axis.YTick at 0x7f2f4c761bd0>,\n",
       " <matplotlib.axis.YTick at 0x7f2f4c7625f0>,\n",
       " <matplotlib.axis.YTick at 0x7f2f4c763010>,\n",
       " <matplotlib.axis.YTick at 0x7f2f4c763bb0>,\n",
       " <matplotlib.axis.YTick at 0x7f2f4c7620b0>,\n",
       " <matplotlib.axis.YTick at 0x7f2f4c78c370>,\n",
       " <matplotlib.axis.YTick at 0x7f2f4c78cd90>,\n",
       " <matplotlib.axis.YTick at 0x7f2f4c78d7b0>,\n",
       " <matplotlib.axis.YTick at 0x7f2f4c7620e0>,\n",
       " <matplotlib.axis.YTick at 0x7f2f4c78c130>,\n",
       " <matplotlib.axis.YTick at 0x7f2f4c78ead0>,\n",
       " <matplotlib.axis.YTick at 0x7f2f4c78f4f0>,\n",
       " <matplotlib.axis.YTick at 0x7f2f4c7c80d0>,\n",
       " <matplotlib.axis.YTick at 0x7f2f4c78f280>,\n",
       " <matplotlib.axis.YTick at 0x7f2f4c7c8730>,\n",
       " <matplotlib.axis.YTick at 0x7f2f4c7c9150>,\n",
       " <matplotlib.axis.YTick at 0x7f2f4c7c9b70>,\n",
       " <matplotlib.axis.YTick at 0x7f2f4c78d3f0>,\n",
       " <matplotlib.axis.YTick at 0x7f2f4c7c9120>,\n",
       " <matplotlib.axis.YTick at 0x7f2f55597520>,\n",
       " <matplotlib.axis.YTick at 0x7f2f4c67e1a0>,\n",
       " <matplotlib.axis.YTick at 0x7f2f4c698bb0>,\n",
       " <matplotlib.axis.YTick at 0x7f2f4c6995d0>,\n",
       " <matplotlib.axis.YTick at 0x7f2f4c699ff0>,\n",
       " <matplotlib.axis.YTick at 0x7f2f4c67d630>,\n",
       " <matplotlib.axis.YTick at 0x7f2f4c7e71c0>,\n",
       " <matplotlib.axis.YTick at 0x7f2f4c698b80>,\n",
       " <matplotlib.axis.YTick at 0x7f2f4c69b1f0>,\n",
       " <matplotlib.axis.YTick at 0x7f2f4c69bc10>,\n",
       " <matplotlib.axis.YTick at 0x7f2f4c69b880>,\n",
       " <matplotlib.axis.YTick at 0x7f2f4c6b4460>,\n",
       " <matplotlib.axis.YTick at 0x7f2f4c6b4e50>,\n",
       " <matplotlib.axis.YTick at 0x7f2f4c6b5870>,\n",
       " <matplotlib.axis.YTick at 0x7f2f4c6b6290>,\n",
       " <matplotlib.axis.YTick at 0x7f2f4c6b5ff0>,\n",
       " <matplotlib.axis.YTick at 0x7f2f4c6b6a70>,\n",
       " <matplotlib.axis.YTick at 0x7f2f4c6b7490>,\n",
       " <matplotlib.axis.YTick at 0x7f2f4c6cc0a0>,\n",
       " <matplotlib.axis.YTick at 0x7f2f4c6b7c10>,\n",
       " <matplotlib.axis.YTick at 0x7f2f4c6cc880>,\n",
       " <matplotlib.axis.YTick at 0x7f2f4c6cd180>,\n",
       " <matplotlib.axis.YTick at 0x7f2f4c6cdba0>,\n",
       " <matplotlib.axis.YTick at 0x7f2f4c6ce5c0>,\n",
       " <matplotlib.axis.YTick at 0x7f2f4c6ce6e0>,\n",
       " <matplotlib.axis.YTick at 0x7f2f4c6ccac0>,\n",
       " <matplotlib.axis.YTick at 0x7f2f4c6cf8e0>,\n",
       " <matplotlib.axis.YTick at 0x7f2f4c6f0340>,\n",
       " <matplotlib.axis.YTick at 0x7f2f4c6f1180>,\n",
       " <matplotlib.axis.YTick at 0x7f2f4c6b7250>,\n",
       " <matplotlib.axis.YTick at 0x7f2f4c6f1690>]"
      ]
     },
     "execution_count": 12,
     "metadata": {},
     "output_type": "execute_result"
    },
    {
     "data": {
      "text/plain": [
       "[Text(0, 0, '0'),\n",
       " Text(1, 0, '10'),\n",
       " Text(2, 0, '20'),\n",
       " Text(3, 0, '30'),\n",
       " Text(4, 0, '40'),\n",
       " Text(5, 0, '50'),\n",
       " Text(6, 0, '60'),\n",
       " Text(7, 0, '70'),\n",
       " Text(8, 0, '80'),\n",
       " Text(9, 0, '90'),\n",
       " Text(10, 0, '100'),\n",
       " Text(11, 0, '110'),\n",
       " Text(12, 0, '120'),\n",
       " Text(13, 0, '130'),\n",
       " Text(14, 0, '140'),\n",
       " Text(15, 0, '150'),\n",
       " Text(16, 0, '160'),\n",
       " Text(17, 0, '170'),\n",
       " Text(18, 0, '180'),\n",
       " Text(19, 0, '190'),\n",
       " Text(20, 0, '200'),\n",
       " Text(21, 0, '210'),\n",
       " Text(22, 0, '220'),\n",
       " Text(23, 0, '230'),\n",
       " Text(24, 0, '240'),\n",
       " Text(25, 0, '250'),\n",
       " Text(26, 0, '260'),\n",
       " Text(27, 0, '270'),\n",
       " Text(28, 0, '280'),\n",
       " Text(29, 0, '290'),\n",
       " Text(30, 0, '300'),\n",
       " Text(31, 0, '310'),\n",
       " Text(32, 0, '320'),\n",
       " Text(33, 0, '330'),\n",
       " Text(34, 0, '340'),\n",
       " Text(35, 0, '350'),\n",
       " Text(36, 0, '360'),\n",
       " Text(37, 0, '370'),\n",
       " Text(38, 0, '380'),\n",
       " Text(39, 0, '390'),\n",
       " Text(40, 0, '400'),\n",
       " Text(41, 0, '410'),\n",
       " Text(42, 0, '420'),\n",
       " Text(43, 0, '430'),\n",
       " Text(44, 0, '440'),\n",
       " Text(45, 0, '450'),\n",
       " Text(46, 0, '460'),\n",
       " Text(47, 0, '470'),\n",
       " Text(48, 0, '480'),\n",
       " Text(49, 0, '490'),\n",
       " Text(50, 0, '500'),\n",
       " Text(51, 0, '510'),\n",
       " Text(52, 0, '520'),\n",
       " Text(53, 0, '530'),\n",
       " Text(54, 0, '540'),\n",
       " Text(55, 0, '550'),\n",
       " Text(56, 0, '560'),\n",
       " Text(57, 0, '570'),\n",
       " Text(58, 0, '580'),\n",
       " Text(59, 0, '590'),\n",
       " Text(60, 0, '600'),\n",
       " Text(61, 0, '610'),\n",
       " Text(62, 0, '620')]"
      ]
     },
     "execution_count": 12,
     "metadata": {},
     "output_type": "execute_result"
    },
    {
     "data": {
      "text/plain": [
       "[Text(0, 0, '0'),\n",
       " Text(0, 1, '10'),\n",
       " Text(0, 2, '20'),\n",
       " Text(0, 3, '30'),\n",
       " Text(0, 4, '40'),\n",
       " Text(0, 5, '50'),\n",
       " Text(0, 6, '60'),\n",
       " Text(0, 7, '70'),\n",
       " Text(0, 8, '80'),\n",
       " Text(0, 9, '90'),\n",
       " Text(0, 10, '100'),\n",
       " Text(0, 11, '110'),\n",
       " Text(0, 12, '120'),\n",
       " Text(0, 13, '130'),\n",
       " Text(0, 14, '140'),\n",
       " Text(0, 15, '150'),\n",
       " Text(0, 16, '160'),\n",
       " Text(0, 17, '170'),\n",
       " Text(0, 18, '180'),\n",
       " Text(0, 19, '190'),\n",
       " Text(0, 20, '200'),\n",
       " Text(0, 21, '210'),\n",
       " Text(0, 22, '220'),\n",
       " Text(0, 23, '230'),\n",
       " Text(0, 24, '240'),\n",
       " Text(0, 25, '250'),\n",
       " Text(0, 26, '260'),\n",
       " Text(0, 27, '270'),\n",
       " Text(0, 28, '280'),\n",
       " Text(0, 29, '290'),\n",
       " Text(0, 30, '300'),\n",
       " Text(0, 31, '310'),\n",
       " Text(0, 32, '320'),\n",
       " Text(0, 33, '330'),\n",
       " Text(0, 34, '340'),\n",
       " Text(0, 35, '350'),\n",
       " Text(0, 36, '360'),\n",
       " Text(0, 37, '370'),\n",
       " Text(0, 38, '380'),\n",
       " Text(0, 39, '390'),\n",
       " Text(0, 40, '400'),\n",
       " Text(0, 41, '410'),\n",
       " Text(0, 42, '420'),\n",
       " Text(0, 43, '430'),\n",
       " Text(0, 44, '440'),\n",
       " Text(0, 45, '450'),\n",
       " Text(0, 46, '460'),\n",
       " Text(0, 47, '470'),\n",
       " Text(0, 48, '480'),\n",
       " Text(0, 49, '490'),\n",
       " Text(0, 50, '500'),\n",
       " Text(0, 51, '510'),\n",
       " Text(0, 52, '520'),\n",
       " Text(0, 53, '530'),\n",
       " Text(0, 54, '540'),\n",
       " Text(0, 55, '550'),\n",
       " Text(0, 56, '560'),\n",
       " Text(0, 57, '570'),\n",
       " Text(0, 58, '580'),\n",
       " Text(0, 59, '590'),\n",
       " Text(0, 60, '600'),\n",
       " Text(0, 61, '610'),\n",
       " Text(0, 62, '620')]"
      ]
     },
     "execution_count": 12,
     "metadata": {},
     "output_type": "execute_result"
    },
    {
     "data": {
      "text/plain": [
       "Text(0.5, 1.0, 'Attention Map of Layer 20')"
      ]
     },
     "execution_count": 12,
     "metadata": {},
     "output_type": "execute_result"
    },
    {
     "data": {
      "text/plain": [
       "Text(0.5, 242.16666666666694, 'Column')"
      ]
     },
     "execution_count": 12,
     "metadata": {},
     "output_type": "execute_result"
    },
    {
     "data": {
      "text/plain": [
       "Text(187.79166666666666, 0.5, 'Row')"
      ]
     },
     "execution_count": 12,
     "metadata": {},
     "output_type": "execute_result"
    },
    {
     "data": {
      "text/plain": [
       "Text(0.5, 1.0, 'Attention from last input token to vision of Layer 20')"
      ]
     },
     "execution_count": 12,
     "metadata": {},
     "output_type": "execute_result"
    },
    {
     "data": {
      "text/plain": [
       "<matplotlib.image.AxesImage at 0x7f2f4c6f0580>"
      ]
     },
     "execution_count": 12,
     "metadata": {},
     "output_type": "execute_result"
    },
    {
     "data": {
      "text/plain": [
       "(0.0, 22.0)"
      ]
     },
     "execution_count": 12,
     "metadata": {},
     "output_type": "execute_result"
    },
    {
     "data": {
      "text/plain": [
       "(22.0, 0.0)"
      ]
     },
     "execution_count": 12,
     "metadata": {},
     "output_type": "execute_result"
    },
    {
     "name": "stderr",
     "output_type": "stream",
     "text": [
      "/tmp/ipykernel_1627/3125494494.py:15: MatplotlibDeprecationWarning: The get_cmap function was deprecated in Matplotlib 3.7 and will be removed in 3.11. Use ``matplotlib.colormaps[name]`` or ``matplotlib.colormaps.get_cmap()`` or ``pyplot.get_cmap()`` instead.\n",
      "  cmap = plt.cm.get_cmap(\"viridis\")\n"
     ]
    },
    {
     "data": {
      "text/plain": [
       "<Axes: >"
      ]
     },
     "execution_count": 12,
     "metadata": {},
     "output_type": "execute_result"
    },
    {
     "data": {
      "text/plain": [
       "[<matplotlib.axis.XTick at 0x7f2f4c883490>,\n",
       " <matplotlib.axis.XTick at 0x7f2f4c8aea40>,\n",
       " <matplotlib.axis.XTick at 0x7f2f4c8af880>,\n",
       " <matplotlib.axis.XTick at 0x7f2f4c8af910>,\n",
       " <matplotlib.axis.XTick at 0x7f2f4c8c4bb0>,\n",
       " <matplotlib.axis.XTick at 0x7f2f4c8afbe0>,\n",
       " <matplotlib.axis.XTick at 0x7f2f4c8c4820>,\n",
       " <matplotlib.axis.XTick at 0x7f2f4c8c6080>,\n",
       " <matplotlib.axis.XTick at 0x7f2f4c8c6aa0>,\n",
       " <matplotlib.axis.XTick at 0x7f2f4c8c74c0>,\n",
       " <matplotlib.axis.XTick at 0x7f2f4c8c7580>,\n",
       " <matplotlib.axis.XTick at 0x7f2f4c8c56f0>,\n",
       " <matplotlib.axis.XTick at 0x7f2f4c8dc5e0>,\n",
       " <matplotlib.axis.XTick at 0x7f2f4c8dd000>,\n",
       " <matplotlib.axis.XTick at 0x7f2f4c8dda20>,\n",
       " <matplotlib.axis.XTick at 0x7f2f4c8de050>,\n",
       " <matplotlib.axis.XTick at 0x7f2f4c8de200>,\n",
       " <matplotlib.axis.XTick at 0x7f2f4c8dec20>,\n",
       " <matplotlib.axis.XTick at 0x7f2f4c8df640>,\n",
       " <matplotlib.axis.XTick at 0x7f2f4c8dfb50>,\n",
       " <matplotlib.axis.XTick at 0x7f2f4c8df880>,\n",
       " <matplotlib.axis.XTick at 0x7f2f4c894910>,\n",
       " <matplotlib.axis.XTick at 0x7f2f4c895330>,\n",
       " <matplotlib.axis.XTick at 0x7f2f4c895d50>,\n",
       " <matplotlib.axis.XTick at 0x7f2f4c895e10>,\n",
       " <matplotlib.axis.XTick at 0x7f2f4c894430>,\n",
       " <matplotlib.axis.XTick at 0x7f2f4c897070>,\n",
       " <matplotlib.axis.XTick at 0x7f2f4c897a90>,\n",
       " <matplotlib.axis.XTick at 0x7f2f4c4084f0>,\n",
       " <matplotlib.axis.XTick at 0x7f2f4c8971c0>,\n",
       " <matplotlib.axis.XTick at 0x7f2f4c408cd0>,\n",
       " <matplotlib.axis.XTick at 0x7f2f4c4096f0>,\n",
       " <matplotlib.axis.XTick at 0x7f2f4c8830d0>,\n",
       " <matplotlib.axis.XTick at 0x7f2f4c4fb4c0>,\n",
       " <matplotlib.axis.XTick at 0x7f2f4c4fbc10>,\n",
       " <matplotlib.axis.XTick at 0x7f2f4c31c670>,\n",
       " <matplotlib.axis.XTick at 0x7f2f4c31d090>,\n",
       " <matplotlib.axis.XTick at 0x7f2f4c4b11b0>,\n",
       " <matplotlib.axis.XTick at 0x7f2f4c31c160>,\n",
       " <matplotlib.axis.XTick at 0x7f2f4c31e3b0>,\n",
       " <matplotlib.axis.XTick at 0x7f2f4c31edd0>,\n",
       " <matplotlib.axis.XTick at 0x7f2f4c31f7f0>,\n",
       " <matplotlib.axis.XTick at 0x7f2f4c31f2e0>,\n",
       " <matplotlib.axis.XTick at 0x7f2f4c330040>,\n",
       " <matplotlib.axis.XTick at 0x7f2f4c330a30>,\n",
       " <matplotlib.axis.XTick at 0x7f2f4c331450>,\n",
       " <matplotlib.axis.XTick at 0x7f2f4c331e70>,\n",
       " <matplotlib.axis.XTick at 0x7f2f4c331ae0>,\n",
       " <matplotlib.axis.XTick at 0x7f2f4c3320b0>,\n",
       " <matplotlib.axis.XTick at 0x7f2f4c333130>,\n",
       " <matplotlib.axis.XTick at 0x7f2f4c333b50>,\n",
       " <matplotlib.axis.XTick at 0x7f2f4c3337c0>,\n",
       " <matplotlib.axis.XTick at 0x7f2f4c3445b0>,\n",
       " <matplotlib.axis.XTick at 0x7f2f4c344eb0>,\n",
       " <matplotlib.axis.XTick at 0x7f2f4c3458d0>,\n",
       " <matplotlib.axis.XTick at 0x7f2f4c3462f0>,\n",
       " <matplotlib.axis.XTick at 0x7f2f4c3462c0>,\n",
       " <matplotlib.axis.XTick at 0x7f2f4c346ad0>,\n",
       " <matplotlib.axis.XTick at 0x7f2f4c3474f0>,\n",
       " <matplotlib.axis.XTick at 0x7f2f4c3680d0>,\n",
       " <matplotlib.axis.XTick at 0x7f2f4c368970>,\n",
       " <matplotlib.axis.XTick at 0x7f2f4c333b80>,\n",
       " <matplotlib.axis.XTick at 0x7f2f4c369150>]"
      ]
     },
     "execution_count": 12,
     "metadata": {},
     "output_type": "execute_result"
    },
    {
     "data": {
      "text/plain": [
       "[<matplotlib.axis.YTick at 0x7f2f4c8834c0>,\n",
       " <matplotlib.axis.YTick at 0x7f2f4c8aeaa0>,\n",
       " <matplotlib.axis.YTick at 0x7f2f4c897b20>,\n",
       " <matplotlib.axis.YTick at 0x7f2f4c409300>,\n",
       " <matplotlib.axis.YTick at 0x7f2f4c40b430>,\n",
       " <matplotlib.axis.YTick at 0x7f2f4c430190>,\n",
       " <matplotlib.axis.YTick at 0x7f2f4c4308b0>,\n",
       " <matplotlib.axis.YTick at 0x7f2f4c40bbb0>,\n",
       " <matplotlib.axis.YTick at 0x7f2f4c4303d0>,\n",
       " <matplotlib.axis.YTick at 0x7f2f4c431bd0>,\n",
       " <matplotlib.axis.YTick at 0x7f2f4c4325f0>,\n",
       " <matplotlib.axis.YTick at 0x7f2f4c433010>,\n",
       " <matplotlib.axis.YTick at 0x7f2f4c432da0>,\n",
       " <matplotlib.axis.YTick at 0x7f2f4c4337f0>,\n",
       " <matplotlib.axis.YTick at 0x7f2f4c448250>,\n",
       " <matplotlib.axis.YTick at 0x7f2f4c448c70>,\n",
       " <matplotlib.axis.YTick at 0x7f2f4c433e80>,\n",
       " <matplotlib.axis.YTick at 0x7f2f4c448c40>,\n",
       " <matplotlib.axis.YTick at 0x7f2f4c449f90>,\n",
       " <matplotlib.axis.YTick at 0x7f2f4c44a9b0>,\n",
       " <matplotlib.axis.YTick at 0x7f2f4c44b3d0>,\n",
       " <matplotlib.axis.YTick at 0x7f2f4c44b400>,\n",
       " <matplotlib.axis.YTick at 0x7f2f4c448550>,\n",
       " <matplotlib.axis.YTick at 0x7f2f4c464730>,\n",
       " <matplotlib.axis.YTick at 0x7f2f4c465150>,\n",
       " <matplotlib.axis.YTick at 0x7f2f4c465b70>,\n",
       " <matplotlib.axis.YTick at 0x7f2f4c4661d0>,\n",
       " <matplotlib.axis.YTick at 0x7f2f4c466350>,\n",
       " <matplotlib.axis.YTick at 0x7f2f4c466d70>,\n",
       " <matplotlib.axis.YTick at 0x7f2f4c467790>,\n",
       " <matplotlib.axis.YTick at 0x7f2f4c467cd0>,\n",
       " <matplotlib.axis.YTick at 0x7f2f4c4b03d0>,\n",
       " <matplotlib.axis.YTick at 0x7f2f4c86b7f0>,\n",
       " <matplotlib.axis.YTick at 0x7f2f4c368ac0>,\n",
       " <matplotlib.axis.YTick at 0x7f2f4c36a680>,\n",
       " <matplotlib.axis.YTick at 0x7f2f4c36b0a0>,\n",
       " <matplotlib.axis.YTick at 0x7f2f4c36bac0>,\n",
       " <matplotlib.axis.YTick at 0x7f2f4c36ab90>,\n",
       " <matplotlib.axis.YTick at 0x7f2f4c31fd30>,\n",
       " <matplotlib.axis.YTick at 0x7f2f4c380550>,\n",
       " <matplotlib.axis.YTick at 0x7f2f4c380f70>,\n",
       " <matplotlib.axis.YTick at 0x7f2f4c381990>,\n",
       " <matplotlib.axis.YTick at 0x7f2f4c381a20>,\n",
       " <matplotlib.axis.YTick at 0x7f2f4c382170>,\n",
       " <matplotlib.axis.YTick at 0x7f2f4c382b90>,\n",
       " <matplotlib.axis.YTick at 0x7f2f4c3835b0>,\n",
       " <matplotlib.axis.YTick at 0x7f2f4c383ac0>,\n",
       " <matplotlib.axis.YTick at 0x7f2f4c3a81f0>,\n",
       " <matplotlib.axis.YTick at 0x7f2f4c3a8910>,\n",
       " <matplotlib.axis.YTick at 0x7f2f4c3a9330>,\n",
       " <matplotlib.axis.YTick at 0x7f2f4c3a9d50>,\n",
       " <matplotlib.axis.YTick at 0x7f2f4c3a9e10>,\n",
       " <matplotlib.axis.YTick at 0x7f2f4c3a8430>,\n",
       " <matplotlib.axis.YTick at 0x7f2f4c3ab070>,\n",
       " <matplotlib.axis.YTick at 0x7f2f4c3aba90>,\n",
       " <matplotlib.axis.YTick at 0x7f2f4c3c04f0>,\n",
       " <matplotlib.axis.YTick at 0x7f2f4c3ab1c0>,\n",
       " <matplotlib.axis.YTick at 0x7f2f4c3c0cd0>,\n",
       " <matplotlib.axis.YTick at 0x7f2f4c3c16f0>,\n",
       " <matplotlib.axis.YTick at 0x7f2f4c3c2110>,\n",
       " <matplotlib.axis.YTick at 0x7f2f4c3abb20>,\n",
       " <matplotlib.axis.YTick at 0x7f2f4c3c14b0>,\n",
       " <matplotlib.axis.YTick at 0x7f2f4c3c3430>]"
      ]
     },
     "execution_count": 12,
     "metadata": {},
     "output_type": "execute_result"
    },
    {
     "data": {
      "text/plain": [
       "[Text(0, 0, '0'),\n",
       " Text(1, 0, '10'),\n",
       " Text(2, 0, '20'),\n",
       " Text(3, 0, '30'),\n",
       " Text(4, 0, '40'),\n",
       " Text(5, 0, '50'),\n",
       " Text(6, 0, '60'),\n",
       " Text(7, 0, '70'),\n",
       " Text(8, 0, '80'),\n",
       " Text(9, 0, '90'),\n",
       " Text(10, 0, '100'),\n",
       " Text(11, 0, '110'),\n",
       " Text(12, 0, '120'),\n",
       " Text(13, 0, '130'),\n",
       " Text(14, 0, '140'),\n",
       " Text(15, 0, '150'),\n",
       " Text(16, 0, '160'),\n",
       " Text(17, 0, '170'),\n",
       " Text(18, 0, '180'),\n",
       " Text(19, 0, '190'),\n",
       " Text(20, 0, '200'),\n",
       " Text(21, 0, '210'),\n",
       " Text(22, 0, '220'),\n",
       " Text(23, 0, '230'),\n",
       " Text(24, 0, '240'),\n",
       " Text(25, 0, '250'),\n",
       " Text(26, 0, '260'),\n",
       " Text(27, 0, '270'),\n",
       " Text(28, 0, '280'),\n",
       " Text(29, 0, '290'),\n",
       " Text(30, 0, '300'),\n",
       " Text(31, 0, '310'),\n",
       " Text(32, 0, '320'),\n",
       " Text(33, 0, '330'),\n",
       " Text(34, 0, '340'),\n",
       " Text(35, 0, '350'),\n",
       " Text(36, 0, '360'),\n",
       " Text(37, 0, '370'),\n",
       " Text(38, 0, '380'),\n",
       " Text(39, 0, '390'),\n",
       " Text(40, 0, '400'),\n",
       " Text(41, 0, '410'),\n",
       " Text(42, 0, '420'),\n",
       " Text(43, 0, '430'),\n",
       " Text(44, 0, '440'),\n",
       " Text(45, 0, '450'),\n",
       " Text(46, 0, '460'),\n",
       " Text(47, 0, '470'),\n",
       " Text(48, 0, '480'),\n",
       " Text(49, 0, '490'),\n",
       " Text(50, 0, '500'),\n",
       " Text(51, 0, '510'),\n",
       " Text(52, 0, '520'),\n",
       " Text(53, 0, '530'),\n",
       " Text(54, 0, '540'),\n",
       " Text(55, 0, '550'),\n",
       " Text(56, 0, '560'),\n",
       " Text(57, 0, '570'),\n",
       " Text(58, 0, '580'),\n",
       " Text(59, 0, '590'),\n",
       " Text(60, 0, '600'),\n",
       " Text(61, 0, '610'),\n",
       " Text(62, 0, '620')]"
      ]
     },
     "execution_count": 12,
     "metadata": {},
     "output_type": "execute_result"
    },
    {
     "data": {
      "text/plain": [
       "[Text(0, 0, '0'),\n",
       " Text(0, 1, '10'),\n",
       " Text(0, 2, '20'),\n",
       " Text(0, 3, '30'),\n",
       " Text(0, 4, '40'),\n",
       " Text(0, 5, '50'),\n",
       " Text(0, 6, '60'),\n",
       " Text(0, 7, '70'),\n",
       " Text(0, 8, '80'),\n",
       " Text(0, 9, '90'),\n",
       " Text(0, 10, '100'),\n",
       " Text(0, 11, '110'),\n",
       " Text(0, 12, '120'),\n",
       " Text(0, 13, '130'),\n",
       " Text(0, 14, '140'),\n",
       " Text(0, 15, '150'),\n",
       " Text(0, 16, '160'),\n",
       " Text(0, 17, '170'),\n",
       " Text(0, 18, '180'),\n",
       " Text(0, 19, '190'),\n",
       " Text(0, 20, '200'),\n",
       " Text(0, 21, '210'),\n",
       " Text(0, 22, '220'),\n",
       " Text(0, 23, '230'),\n",
       " Text(0, 24, '240'),\n",
       " Text(0, 25, '250'),\n",
       " Text(0, 26, '260'),\n",
       " Text(0, 27, '270'),\n",
       " Text(0, 28, '280'),\n",
       " Text(0, 29, '290'),\n",
       " Text(0, 30, '300'),\n",
       " Text(0, 31, '310'),\n",
       " Text(0, 32, '320'),\n",
       " Text(0, 33, '330'),\n",
       " Text(0, 34, '340'),\n",
       " Text(0, 35, '350'),\n",
       " Text(0, 36, '360'),\n",
       " Text(0, 37, '370'),\n",
       " Text(0, 38, '380'),\n",
       " Text(0, 39, '390'),\n",
       " Text(0, 40, '400'),\n",
       " Text(0, 41, '410'),\n",
       " Text(0, 42, '420'),\n",
       " Text(0, 43, '430'),\n",
       " Text(0, 44, '440'),\n",
       " Text(0, 45, '450'),\n",
       " Text(0, 46, '460'),\n",
       " Text(0, 47, '470'),\n",
       " Text(0, 48, '480'),\n",
       " Text(0, 49, '490'),\n",
       " Text(0, 50, '500'),\n",
       " Text(0, 51, '510'),\n",
       " Text(0, 52, '520'),\n",
       " Text(0, 53, '530'),\n",
       " Text(0, 54, '540'),\n",
       " Text(0, 55, '550'),\n",
       " Text(0, 56, '560'),\n",
       " Text(0, 57, '570'),\n",
       " Text(0, 58, '580'),\n",
       " Text(0, 59, '590'),\n",
       " Text(0, 60, '600'),\n",
       " Text(0, 61, '610'),\n",
       " Text(0, 62, '620')]"
      ]
     },
     "execution_count": 12,
     "metadata": {},
     "output_type": "execute_result"
    },
    {
     "data": {
      "text/plain": [
       "Text(0.5, 1.0, 'Attention Map of Layer 21')"
      ]
     },
     "execution_count": 12,
     "metadata": {},
     "output_type": "execute_result"
    },
    {
     "data": {
      "text/plain": [
       "Text(0.5, 242.16666666666694, 'Column')"
      ]
     },
     "execution_count": 12,
     "metadata": {},
     "output_type": "execute_result"
    },
    {
     "data": {
      "text/plain": [
       "Text(187.79166666666666, 0.5, 'Row')"
      ]
     },
     "execution_count": 12,
     "metadata": {},
     "output_type": "execute_result"
    },
    {
     "data": {
      "text/plain": [
       "Text(0.5, 1.0, 'Attention from last input token to vision of Layer 21')"
      ]
     },
     "execution_count": 12,
     "metadata": {},
     "output_type": "execute_result"
    },
    {
     "data": {
      "text/plain": [
       "<matplotlib.image.AxesImage at 0x7f2f4c3c3190>"
      ]
     },
     "execution_count": 12,
     "metadata": {},
     "output_type": "execute_result"
    },
    {
     "data": {
      "text/plain": [
       "(0.0, 22.0)"
      ]
     },
     "execution_count": 12,
     "metadata": {},
     "output_type": "execute_result"
    },
    {
     "data": {
      "text/plain": [
       "(22.0, 0.0)"
      ]
     },
     "execution_count": 12,
     "metadata": {},
     "output_type": "execute_result"
    },
    {
     "name": "stderr",
     "output_type": "stream",
     "text": [
      "/tmp/ipykernel_1627/3125494494.py:15: MatplotlibDeprecationWarning: The get_cmap function was deprecated in Matplotlib 3.7 and will be removed in 3.11. Use ``matplotlib.colormaps[name]`` or ``matplotlib.colormaps.get_cmap()`` or ``pyplot.get_cmap()`` instead.\n",
      "  cmap = plt.cm.get_cmap(\"viridis\")\n"
     ]
    },
    {
     "data": {
      "text/plain": [
       "<Axes: >"
      ]
     },
     "execution_count": 12,
     "metadata": {},
     "output_type": "execute_result"
    },
    {
     "data": {
      "text/plain": [
       "[<matplotlib.axis.XTick at 0x7f2f4c572b30>,\n",
       " <matplotlib.axis.XTick at 0x7f2f4c58a0b0>,\n",
       " <matplotlib.axis.XTick at 0x7f2f4c58aef0>,\n",
       " <matplotlib.axis.XTick at 0x7f2f4c58af80>,\n",
       " <matplotlib.axis.XTick at 0x7f2f4c59c220>,\n",
       " <matplotlib.axis.XTick at 0x7f2f4c58be50>,\n",
       " <matplotlib.axis.XTick at 0x7f2f4c59c880>,\n",
       " <matplotlib.axis.XTick at 0x7f2f4c59d660>,\n",
       " <matplotlib.axis.XTick at 0x7f2f4c59e080>,\n",
       " <matplotlib.axis.XTick at 0x7f2f4c59eaa0>,\n",
       " <matplotlib.axis.XTick at 0x7f2f4c59ead0>,\n",
       " <matplotlib.axis.XTick at 0x7f2f4c59f3a0>,\n",
       " <matplotlib.axis.XTick at 0x7f2f4c59ffd0>,\n",
       " <matplotlib.axis.XTick at 0x7f2f4c5bc820>,\n",
       " <matplotlib.axis.XTick at 0x7f2f4c5bd240>,\n",
       " <matplotlib.axis.XTick at 0x7f2f4c5bd210>,\n",
       " <matplotlib.axis.XTick at 0x7f2f4c5bda20>,\n",
       " <matplotlib.axis.XTick at 0x7f2f4c5be440>,\n",
       " <matplotlib.axis.XTick at 0x7f2f4c5bee60>,\n",
       " <matplotlib.axis.XTick at 0x7f2f4c59fb20>,\n",
       " <matplotlib.axis.XTick at 0x7f2f4c5be080>,\n",
       " <matplotlib.axis.XTick at 0x7f2f4c5dc130>,\n",
       " <matplotlib.axis.XTick at 0x7f2f4c5dcb50>,\n",
       " <matplotlib.axis.XTick at 0x7f2f4c5dd570>,\n",
       " <matplotlib.axis.XTick at 0x7f2f4c5bf340>,\n",
       " <matplotlib.axis.XTick at 0x7f2f4c5dc1f0>,\n",
       " <matplotlib.axis.XTick at 0x7f2f4c5de890>,\n",
       " <matplotlib.axis.XTick at 0x7f2f4c5df2b0>,\n",
       " <matplotlib.axis.XTick at 0x7f2f4c5dfcd0>,\n",
       " <matplotlib.axis.XTick at 0x7f2f4c5df370>,\n",
       " <matplotlib.axis.XTick at 0x7f2f4c5f44f0>,\n",
       " <matplotlib.axis.XTick at 0x7f2f4c5f4f10>,\n",
       " <matplotlib.axis.XTick at 0x7f2f4c5726b0>,\n",
       " <matplotlib.axis.XTick at 0x7f2f4c1eae60>,\n",
       " <matplotlib.axis.XTick at 0x7f2f4c1eaef0>,\n",
       " <matplotlib.axis.XTick at 0x7f2f4c1f4190>,\n",
       " <matplotlib.axis.XTick at 0x7f2f4c1f4bb0>,\n",
       " <matplotlib.axis.XTick at 0x7f2f4c1eb640>,\n",
       " <matplotlib.axis.XTick at 0x7f2f4c1f54b0>,\n",
       " <matplotlib.axis.XTick at 0x7f2f4c1f5ed0>,\n",
       " <matplotlib.axis.XTick at 0x7f2f4c1f68f0>,\n",
       " <matplotlib.axis.XTick at 0x7f2f4c1f7310>,\n",
       " <matplotlib.axis.XTick at 0x7f2f4c1f6680>,\n",
       " <matplotlib.axis.XTick at 0x7f2f4c1f7af0>,\n",
       " <matplotlib.axis.XTick at 0x7f2f4c218550>,\n",
       " <matplotlib.axis.XTick at 0x7f2f4c218f70>,\n",
       " <matplotlib.axis.XTick at 0x7f2f4c1f7b80>,\n",
       " <matplotlib.axis.XTick at 0x7f2f4c218d30>,\n",
       " <matplotlib.axis.XTick at 0x7f2f4c21a170>,\n",
       " <matplotlib.axis.XTick at 0x7f2f4c21ab90>,\n",
       " <matplotlib.axis.XTick at 0x7f2f4c21b5b0>,\n",
       " <matplotlib.axis.XTick at 0x7f2f4c21b700>,\n",
       " <matplotlib.axis.XTick at 0x7f2f4c2340a0>,\n",
       " <matplotlib.axis.XTick at 0x7f2f4c234910>,\n",
       " <matplotlib.axis.XTick at 0x7f2f4c235330>,\n",
       " <matplotlib.axis.XTick at 0x7f2f4c235d50>,\n",
       " <matplotlib.axis.XTick at 0x7f2f4c2363b0>,\n",
       " <matplotlib.axis.XTick at 0x7f2f4c236530>,\n",
       " <matplotlib.axis.XTick at 0x7f2f4c236f50>,\n",
       " <matplotlib.axis.XTick at 0x7f2f4c237970>,\n",
       " <matplotlib.axis.XTick at 0x7f2f4c2379a0>,\n",
       " <matplotlib.axis.XTick at 0x7f2f4c2505e0>,\n",
       " <matplotlib.axis.XTick at 0x7f2f4c250cd0>]"
      ]
     },
     "execution_count": 12,
     "metadata": {},
     "output_type": "execute_result"
    },
    {
     "data": {
      "text/plain": [
       "[<matplotlib.axis.YTick at 0x7f2f4c572b60>,\n",
       " <matplotlib.axis.YTick at 0x7f2f4c58a110>,\n",
       " <matplotlib.axis.YTick at 0x7f2f4c5dc1c0>,\n",
       " <matplotlib.axis.YTick at 0x7f2f4c5f4fa0>,\n",
       " <matplotlib.axis.YTick at 0x7f2f4c5f6c50>,\n",
       " <matplotlib.axis.YTick at 0x7f2f4c5f7670>,\n",
       " <matplotlib.axis.YTick at 0x7f2f4c1140d0>,\n",
       " <matplotlib.axis.YTick at 0x7f2f4c5f7b50>,\n",
       " <matplotlib.axis.YTick at 0x7f2f4c114190>,\n",
       " <matplotlib.axis.YTick at 0x7f2f4c1153f0>,\n",
       " <matplotlib.axis.YTick at 0x7f2f4c115e10>,\n",
       " <matplotlib.axis.YTick at 0x7f2f4c116830>,\n",
       " <matplotlib.axis.YTick at 0x7f2f4c1168c0>,\n",
       " <matplotlib.axis.YTick at 0x7f2f4c117010>,\n",
       " <matplotlib.axis.YTick at 0x7f2f4c117a30>,\n",
       " <matplotlib.axis.YTick at 0x7f2f4c134490>,\n",
       " <matplotlib.axis.YTick at 0x7f2f4c117b80>,\n",
       " <matplotlib.axis.YTick at 0x7f2f4c134ac0>,\n",
       " <matplotlib.axis.YTick at 0x7f2f4c1357b0>,\n",
       " <matplotlib.axis.YTick at 0x7f2f4c1361d0>,\n",
       " <matplotlib.axis.YTick at 0x7f2f4c136bf0>,\n",
       " <matplotlib.axis.YTick at 0x7f2f4c136c80>,\n",
       " <matplotlib.axis.YTick at 0x7f2f4c1349a0>,\n",
       " <matplotlib.axis.YTick at 0x7f2f4c1500d0>,\n",
       " <matplotlib.axis.YTick at 0x7f2f4c150970>,\n",
       " <matplotlib.axis.YTick at 0x7f2f4c151390>,\n",
       " <matplotlib.axis.YTick at 0x7f2f4c1513c0>,\n",
       " <matplotlib.axis.YTick at 0x7f2f4c151b70>,\n",
       " <matplotlib.axis.YTick at 0x7f2f4c152590>,\n",
       " <matplotlib.axis.YTick at 0x7f2f4c152fb0>,\n",
       " <matplotlib.axis.YTick at 0x7f2f4c135cf0>,\n",
       " <matplotlib.axis.YTick at 0x7f2f4c5ddab0>,\n",
       " <matplotlib.axis.YTick at 0x7f2f55193eb0>,\n",
       " <matplotlib.axis.YTick at 0x7f2f4c1f50f0>,\n",
       " <matplotlib.axis.YTick at 0x7f2f4c251300>,\n",
       " <matplotlib.axis.YTick at 0x7f2f4c251ed0>,\n",
       " <matplotlib.axis.YTick at 0x7f2f4c2528f0>,\n",
       " <matplotlib.axis.YTick at 0x7f2f4c236bc0>,\n",
       " <matplotlib.axis.YTick at 0x7f2f4c250160>,\n",
       " <matplotlib.axis.YTick at 0x7f2f4c253c10>,\n",
       " <matplotlib.axis.YTick at 0x7f2f4c270670>,\n",
       " <matplotlib.axis.YTick at 0x7f2f4c271090>,\n",
       " <matplotlib.axis.YTick at 0x7f2f4c1cc610>,\n",
       " <matplotlib.axis.YTick at 0x7f2f4c271870>,\n",
       " <matplotlib.axis.YTick at 0x7f2f4c272290>,\n",
       " <matplotlib.axis.YTick at 0x7f2f4c272cb0>,\n",
       " <matplotlib.axis.YTick at 0x7f2f4c2736d0>,\n",
       " <matplotlib.axis.YTick at 0x7f2f4c272e00>,\n",
       " <matplotlib.axis.YTick at 0x7f2f4c28c160>,\n",
       " <matplotlib.axis.YTick at 0x7f2f4c28c880>,\n",
       " <matplotlib.axis.YTick at 0x7f2f4c28d2a0>,\n",
       " <matplotlib.axis.YTick at 0x7f2f4c273ee0>,\n",
       " <matplotlib.axis.YTick at 0x7f2f4c28cee0>,\n",
       " <matplotlib.axis.YTick at 0x7f2f4c28e530>,\n",
       " <matplotlib.axis.YTick at 0x7f2f4c28ef50>,\n",
       " <matplotlib.axis.YTick at 0x7f2f4c28f970>,\n",
       " <matplotlib.axis.YTick at 0x7f2f4c28f6d0>,\n",
       " <matplotlib.axis.YTick at 0x7f2f4c2ac2b0>,\n",
       " <matplotlib.axis.YTick at 0x7f2f4c2accd0>,\n",
       " <matplotlib.axis.YTick at 0x7f2f4c2ad6f0>,\n",
       " <matplotlib.axis.YTick at 0x7f2f4c2ae110>,\n",
       " <matplotlib.axis.YTick at 0x7f2f4c2ae0e0>,\n",
       " <matplotlib.axis.YTick at 0x7f2f4c2ae8f0>]"
      ]
     },
     "execution_count": 12,
     "metadata": {},
     "output_type": "execute_result"
    },
    {
     "data": {
      "text/plain": [
       "[Text(0, 0, '0'),\n",
       " Text(1, 0, '10'),\n",
       " Text(2, 0, '20'),\n",
       " Text(3, 0, '30'),\n",
       " Text(4, 0, '40'),\n",
       " Text(5, 0, '50'),\n",
       " Text(6, 0, '60'),\n",
       " Text(7, 0, '70'),\n",
       " Text(8, 0, '80'),\n",
       " Text(9, 0, '90'),\n",
       " Text(10, 0, '100'),\n",
       " Text(11, 0, '110'),\n",
       " Text(12, 0, '120'),\n",
       " Text(13, 0, '130'),\n",
       " Text(14, 0, '140'),\n",
       " Text(15, 0, '150'),\n",
       " Text(16, 0, '160'),\n",
       " Text(17, 0, '170'),\n",
       " Text(18, 0, '180'),\n",
       " Text(19, 0, '190'),\n",
       " Text(20, 0, '200'),\n",
       " Text(21, 0, '210'),\n",
       " Text(22, 0, '220'),\n",
       " Text(23, 0, '230'),\n",
       " Text(24, 0, '240'),\n",
       " Text(25, 0, '250'),\n",
       " Text(26, 0, '260'),\n",
       " Text(27, 0, '270'),\n",
       " Text(28, 0, '280'),\n",
       " Text(29, 0, '290'),\n",
       " Text(30, 0, '300'),\n",
       " Text(31, 0, '310'),\n",
       " Text(32, 0, '320'),\n",
       " Text(33, 0, '330'),\n",
       " Text(34, 0, '340'),\n",
       " Text(35, 0, '350'),\n",
       " Text(36, 0, '360'),\n",
       " Text(37, 0, '370'),\n",
       " Text(38, 0, '380'),\n",
       " Text(39, 0, '390'),\n",
       " Text(40, 0, '400'),\n",
       " Text(41, 0, '410'),\n",
       " Text(42, 0, '420'),\n",
       " Text(43, 0, '430'),\n",
       " Text(44, 0, '440'),\n",
       " Text(45, 0, '450'),\n",
       " Text(46, 0, '460'),\n",
       " Text(47, 0, '470'),\n",
       " Text(48, 0, '480'),\n",
       " Text(49, 0, '490'),\n",
       " Text(50, 0, '500'),\n",
       " Text(51, 0, '510'),\n",
       " Text(52, 0, '520'),\n",
       " Text(53, 0, '530'),\n",
       " Text(54, 0, '540'),\n",
       " Text(55, 0, '550'),\n",
       " Text(56, 0, '560'),\n",
       " Text(57, 0, '570'),\n",
       " Text(58, 0, '580'),\n",
       " Text(59, 0, '590'),\n",
       " Text(60, 0, '600'),\n",
       " Text(61, 0, '610'),\n",
       " Text(62, 0, '620')]"
      ]
     },
     "execution_count": 12,
     "metadata": {},
     "output_type": "execute_result"
    },
    {
     "data": {
      "text/plain": [
       "[Text(0, 0, '0'),\n",
       " Text(0, 1, '10'),\n",
       " Text(0, 2, '20'),\n",
       " Text(0, 3, '30'),\n",
       " Text(0, 4, '40'),\n",
       " Text(0, 5, '50'),\n",
       " Text(0, 6, '60'),\n",
       " Text(0, 7, '70'),\n",
       " Text(0, 8, '80'),\n",
       " Text(0, 9, '90'),\n",
       " Text(0, 10, '100'),\n",
       " Text(0, 11, '110'),\n",
       " Text(0, 12, '120'),\n",
       " Text(0, 13, '130'),\n",
       " Text(0, 14, '140'),\n",
       " Text(0, 15, '150'),\n",
       " Text(0, 16, '160'),\n",
       " Text(0, 17, '170'),\n",
       " Text(0, 18, '180'),\n",
       " Text(0, 19, '190'),\n",
       " Text(0, 20, '200'),\n",
       " Text(0, 21, '210'),\n",
       " Text(0, 22, '220'),\n",
       " Text(0, 23, '230'),\n",
       " Text(0, 24, '240'),\n",
       " Text(0, 25, '250'),\n",
       " Text(0, 26, '260'),\n",
       " Text(0, 27, '270'),\n",
       " Text(0, 28, '280'),\n",
       " Text(0, 29, '290'),\n",
       " Text(0, 30, '300'),\n",
       " Text(0, 31, '310'),\n",
       " Text(0, 32, '320'),\n",
       " Text(0, 33, '330'),\n",
       " Text(0, 34, '340'),\n",
       " Text(0, 35, '350'),\n",
       " Text(0, 36, '360'),\n",
       " Text(0, 37, '370'),\n",
       " Text(0, 38, '380'),\n",
       " Text(0, 39, '390'),\n",
       " Text(0, 40, '400'),\n",
       " Text(0, 41, '410'),\n",
       " Text(0, 42, '420'),\n",
       " Text(0, 43, '430'),\n",
       " Text(0, 44, '440'),\n",
       " Text(0, 45, '450'),\n",
       " Text(0, 46, '460'),\n",
       " Text(0, 47, '470'),\n",
       " Text(0, 48, '480'),\n",
       " Text(0, 49, '490'),\n",
       " Text(0, 50, '500'),\n",
       " Text(0, 51, '510'),\n",
       " Text(0, 52, '520'),\n",
       " Text(0, 53, '530'),\n",
       " Text(0, 54, '540'),\n",
       " Text(0, 55, '550'),\n",
       " Text(0, 56, '560'),\n",
       " Text(0, 57, '570'),\n",
       " Text(0, 58, '580'),\n",
       " Text(0, 59, '590'),\n",
       " Text(0, 60, '600'),\n",
       " Text(0, 61, '610'),\n",
       " Text(0, 62, '620')]"
      ]
     },
     "execution_count": 12,
     "metadata": {},
     "output_type": "execute_result"
    },
    {
     "data": {
      "text/plain": [
       "Text(0.5, 1.0, 'Attention Map of Layer 22')"
      ]
     },
     "execution_count": 12,
     "metadata": {},
     "output_type": "execute_result"
    },
    {
     "data": {
      "text/plain": [
       "Text(0.5, 242.16666666666694, 'Column')"
      ]
     },
     "execution_count": 12,
     "metadata": {},
     "output_type": "execute_result"
    },
    {
     "data": {
      "text/plain": [
       "Text(187.79166666666666, 0.5, 'Row')"
      ]
     },
     "execution_count": 12,
     "metadata": {},
     "output_type": "execute_result"
    },
    {
     "data": {
      "text/plain": [
       "Text(0.5, 1.0, 'Attention from last input token to vision of Layer 22')"
      ]
     },
     "execution_count": 12,
     "metadata": {},
     "output_type": "execute_result"
    },
    {
     "data": {
      "text/plain": [
       "<matplotlib.image.AxesImage at 0x7f2f4c2aedd0>"
      ]
     },
     "execution_count": 12,
     "metadata": {},
     "output_type": "execute_result"
    },
    {
     "data": {
      "text/plain": [
       "(0.0, 22.0)"
      ]
     },
     "execution_count": 12,
     "metadata": {},
     "output_type": "execute_result"
    },
    {
     "data": {
      "text/plain": [
       "(22.0, 0.0)"
      ]
     },
     "execution_count": 12,
     "metadata": {},
     "output_type": "execute_result"
    },
    {
     "name": "stderr",
     "output_type": "stream",
     "text": [
      "/tmp/ipykernel_1627/3125494494.py:15: MatplotlibDeprecationWarning: The get_cmap function was deprecated in Matplotlib 3.7 and will be removed in 3.11. Use ``matplotlib.colormaps[name]`` or ``matplotlib.colormaps.get_cmap()`` or ``pyplot.get_cmap()`` instead.\n",
      "  cmap = plt.cm.get_cmap(\"viridis\")\n"
     ]
    },
    {
     "data": {
      "text/plain": [
       "<Axes: >"
      ]
     },
     "execution_count": 12,
     "metadata": {},
     "output_type": "execute_result"
    },
    {
     "data": {
      "text/plain": [
       "[<matplotlib.axis.XTick at 0x7f2f4c1749d0>,\n",
       " <matplotlib.axis.XTick at 0x7f2f4c080e50>,\n",
       " <matplotlib.axis.XTick at 0x7f2f4c081c90>,\n",
       " <matplotlib.axis.XTick at 0x7f2f4c081d20>,\n",
       " <matplotlib.axis.XTick at 0x7f2f4c082f80>,\n",
       " <matplotlib.axis.XTick at 0x7f2f4c083b20>,\n",
       " <matplotlib.axis.XTick at 0x7f2f4c081810>,\n",
       " <matplotlib.axis.XTick at 0x7f2f4c09c400>,\n",
       " <matplotlib.axis.XTick at 0x7f2f4c09ce20>,\n",
       " <matplotlib.axis.XTick at 0x7f2f4c09d840>,\n",
       " <matplotlib.axis.XTick at 0x7f2f4c09e080>,\n",
       " <matplotlib.axis.XTick at 0x7f2f4c09e140>,\n",
       " <matplotlib.axis.XTick at 0x7f2f4c09eb60>,\n",
       " <matplotlib.axis.XTick at 0x7f2f4c09f580>,\n",
       " <matplotlib.axis.XTick at 0x7f2f4c0b4160>,\n",
       " <matplotlib.axis.XTick at 0x7f2f4c09f0a0>,\n",
       " <matplotlib.axis.XTick at 0x7f2f4c0b47c0>,\n",
       " <matplotlib.axis.XTick at 0x7f2f4c0b51e0>,\n",
       " <matplotlib.axis.XTick at 0x7f2f4c0b5c00>,\n",
       " <matplotlib.axis.XTick at 0x7f2f4c09cf40>,\n",
       " <matplotlib.axis.XTick at 0x7f2f4c0b5270>,\n",
       " <matplotlib.axis.XTick at 0x7f2f4c0b6e90>,\n",
       " <matplotlib.axis.XTick at 0x7f2f4c0b78b0>,\n",
       " <matplotlib.axis.XTick at 0x7f2f4c0d0310>,\n",
       " <matplotlib.axis.XTick at 0x7f2f4c0b78e0>,\n",
       " <matplotlib.axis.XTick at 0x7f2f4c0d00d0>,\n",
       " <matplotlib.axis.XTick at 0x7f2f4c0d1630>,\n",
       " <matplotlib.axis.XTick at 0x7f2f4c0d2050>,\n",
       " <matplotlib.axis.XTick at 0x7f2f4c0d2a70>,\n",
       " <matplotlib.axis.XTick at 0x7f2f4c0d2b00>,\n",
       " <matplotlib.axis.XTick at 0x7f2f4c0d3250>,\n",
       " <matplotlib.axis.XTick at 0x7f2f4c0d3c70>,\n",
       " <matplotlib.axis.XTick at 0x7f2f4c174550>,\n",
       " <matplotlib.axis.XTick at 0x7f2f45ec8070>,\n",
       " <matplotlib.axis.XTick at 0x7f2f45eca140>,\n",
       " <matplotlib.axis.XTick at 0x7f2f45ecab60>,\n",
       " <matplotlib.axis.XTick at 0x7f2f45ecb580>,\n",
       " <matplotlib.axis.XTick at 0x7f2f45ecbf10>,\n",
       " <matplotlib.axis.XTick at 0x7f2f45ee4070>,\n",
       " <matplotlib.axis.XTick at 0x7f2f45ee48e0>,\n",
       " <matplotlib.axis.XTick at 0x7f2f45ee5300>,\n",
       " <matplotlib.axis.XTick at 0x7f2f45ee5d20>,\n",
       " <matplotlib.axis.XTick at 0x7f2f45ee5a80>,\n",
       " <matplotlib.axis.XTick at 0x7f2f45ee6500>,\n",
       " <matplotlib.axis.XTick at 0x7f2f45ee6f20>,\n",
       " <matplotlib.axis.XTick at 0x7f2f45ee7940>,\n",
       " <matplotlib.axis.XTick at 0x7f2f45ef43a0>,\n",
       " <matplotlib.axis.XTick at 0x7f2f45ee6b90>,\n",
       " <matplotlib.axis.XTick at 0x7f2f45ef4af0>,\n",
       " <matplotlib.axis.XTick at 0x7f2f45ef5510>,\n",
       " <matplotlib.axis.XTick at 0x7f2f45ef5f30>,\n",
       " <matplotlib.axis.XTick at 0x7f2f45ee6b60>,\n",
       " <matplotlib.axis.XTick at 0x7f2f45ef52d0>,\n",
       " <matplotlib.axis.XTick at 0x7f2f45ef7130>,\n",
       " <matplotlib.axis.XTick at 0x7f2f45ef7b50>,\n",
       " <matplotlib.axis.XTick at 0x7f2f45f1c5b0>,\n",
       " <matplotlib.axis.XTick at 0x7f2f45ef78b0>,\n",
       " <matplotlib.axis.XTick at 0x7f2f45f1c0d0>,\n",
       " <matplotlib.axis.XTick at 0x7f2f45f1d8d0>,\n",
       " <matplotlib.axis.XTick at 0x7f2f45f1e2f0>,\n",
       " <matplotlib.axis.XTick at 0x7f2f45f1ed10>,\n",
       " <matplotlib.axis.XTick at 0x7f2f45f1e920>,\n",
       " <matplotlib.axis.XTick at 0x7f2f45f1f4f0>]"
      ]
     },
     "execution_count": 12,
     "metadata": {},
     "output_type": "execute_result"
    },
    {
     "data": {
      "text/plain": [
       "[<matplotlib.axis.YTick at 0x7f2f4c174a00>,\n",
       " <matplotlib.axis.YTick at 0x7f2f4c080eb0>,\n",
       " <matplotlib.axis.YTick at 0x7f2f4c0d3a30>,\n",
       " <matplotlib.axis.YTick at 0x7f2f4c0ecbb0>,\n",
       " <matplotlib.axis.YTick at 0x7f2f4c0ed9f0>,\n",
       " <matplotlib.axis.YTick at 0x7f2f4c0ee410>,\n",
       " <matplotlib.axis.YTick at 0x7f2f4c0eee30>,\n",
       " <matplotlib.axis.YTick at 0x7f2f4c0ef730>,\n",
       " <matplotlib.axis.YTick at 0x7f2f4c0ed120>,\n",
       " <matplotlib.axis.YTick at 0x7f2f45e04190>,\n",
       " <matplotlib.axis.YTick at 0x7f2f45e04bb0>,\n",
       " <matplotlib.axis.YTick at 0x7f2f45e055d0>,\n",
       " <matplotlib.axis.YTick at 0x7f2f45e05660>,\n",
       " <matplotlib.axis.YTick at 0x7f2f45e05db0>,\n",
       " <matplotlib.axis.YTick at 0x7f2f45e067d0>,\n",
       " <matplotlib.axis.YTick at 0x7f2f45e071f0>,\n",
       " <matplotlib.axis.YTick at 0x7f2f45e07d90>,\n",
       " <matplotlib.axis.YTick at 0x7f2f45e06290>,\n",
       " <matplotlib.axis.YTick at 0x7f2f45e24550>,\n",
       " <matplotlib.axis.YTick at 0x7f2f45e24f70>,\n",
       " <matplotlib.axis.YTick at 0x7f2f45e25990>,\n",
       " <matplotlib.axis.YTick at 0x7f2f45e25a20>,\n",
       " <matplotlib.axis.YTick at 0x7f2f45e24070>,\n",
       " <matplotlib.axis.YTick at 0x7f2f45e26cb0>,\n",
       " <matplotlib.axis.YTick at 0x7f2f45e276d0>,\n",
       " <matplotlib.axis.YTick at 0x7f2f45e68130>,\n",
       " <matplotlib.axis.YTick at 0x7f2f45e27340>,\n",
       " <matplotlib.axis.YTick at 0x7f2f45e68910>,\n",
       " <matplotlib.axis.YTick at 0x7f2f45e69330>,\n",
       " <matplotlib.axis.YTick at 0x7f2f45e69d50>,\n",
       " <matplotlib.axis.YTick at 0x7f2f45e26e00>,\n",
       " <matplotlib.axis.YTick at 0x7f2f4c0d2f50>,\n",
       " <matplotlib.axis.YTick at 0x7f2f4c0ec6d0>,\n",
       " <matplotlib.axis.YTick at 0x7f2f45ef6080>,\n",
       " <matplotlib.axis.YTick at 0x7f2f45f3c070>,\n",
       " <matplotlib.axis.YTick at 0x7f2f45f3cc40>,\n",
       " <matplotlib.axis.YTick at 0x7f2f45f3d660>,\n",
       " <matplotlib.axis.YTick at 0x7f2f45f1cd60>,\n",
       " <matplotlib.axis.YTick at 0x7f2f45f3c700>,\n",
       " <matplotlib.axis.YTick at 0x7f2f45f3e980>,\n",
       " <matplotlib.axis.YTick at 0x7f2f45f3f3a0>,\n",
       " <matplotlib.axis.YTick at 0x7f2f45f3ffd0>,\n",
       " <matplotlib.axis.YTick at 0x7f2f45f3e6e0>,\n",
       " <matplotlib.axis.YTick at 0x7f2f45f5c730>,\n",
       " <matplotlib.axis.YTick at 0x7f2f45f5d150>,\n",
       " <matplotlib.axis.YTick at 0x7f2f45f5db70>,\n",
       " <matplotlib.axis.YTick at 0x7f2f45f5e590>,\n",
       " <matplotlib.axis.YTick at 0x7f2f45f5e080>,\n",
       " <matplotlib.axis.YTick at 0x7f2f45f5ece0>,\n",
       " <matplotlib.axis.YTick at 0x7f2f45f5f700>,\n",
       " <matplotlib.axis.YTick at 0x7f2f45f78160>,\n",
       " <matplotlib.axis.YTick at 0x7f2f45f5fd90>,\n",
       " <matplotlib.axis.YTick at 0x7f2f45f78790>,\n",
       " <matplotlib.axis.YTick at 0x7f2f45f79360>,\n",
       " <matplotlib.axis.YTick at 0x7f2f45f79d80>,\n",
       " <matplotlib.axis.YTick at 0x7f2f45f7a7a0>,\n",
       " <matplotlib.axis.YTick at 0x7f2f45f7a8f0>,\n",
       " <matplotlib.axis.YTick at 0x7f2f45f78be0>,\n",
       " <matplotlib.axis.YTick at 0x7f2f45f7bac0>,\n",
       " <matplotlib.axis.YTick at 0x7f2f45f94520>,\n",
       " <matplotlib.axis.YTick at 0x7f2f45f94f40>,\n",
       " <matplotlib.axis.YTick at 0x7f2f45f5f1f0>,\n",
       " <matplotlib.axis.YTick at 0x7f2f45f95720>]"
      ]
     },
     "execution_count": 12,
     "metadata": {},
     "output_type": "execute_result"
    },
    {
     "data": {
      "text/plain": [
       "[Text(0, 0, '0'),\n",
       " Text(1, 0, '10'),\n",
       " Text(2, 0, '20'),\n",
       " Text(3, 0, '30'),\n",
       " Text(4, 0, '40'),\n",
       " Text(5, 0, '50'),\n",
       " Text(6, 0, '60'),\n",
       " Text(7, 0, '70'),\n",
       " Text(8, 0, '80'),\n",
       " Text(9, 0, '90'),\n",
       " Text(10, 0, '100'),\n",
       " Text(11, 0, '110'),\n",
       " Text(12, 0, '120'),\n",
       " Text(13, 0, '130'),\n",
       " Text(14, 0, '140'),\n",
       " Text(15, 0, '150'),\n",
       " Text(16, 0, '160'),\n",
       " Text(17, 0, '170'),\n",
       " Text(18, 0, '180'),\n",
       " Text(19, 0, '190'),\n",
       " Text(20, 0, '200'),\n",
       " Text(21, 0, '210'),\n",
       " Text(22, 0, '220'),\n",
       " Text(23, 0, '230'),\n",
       " Text(24, 0, '240'),\n",
       " Text(25, 0, '250'),\n",
       " Text(26, 0, '260'),\n",
       " Text(27, 0, '270'),\n",
       " Text(28, 0, '280'),\n",
       " Text(29, 0, '290'),\n",
       " Text(30, 0, '300'),\n",
       " Text(31, 0, '310'),\n",
       " Text(32, 0, '320'),\n",
       " Text(33, 0, '330'),\n",
       " Text(34, 0, '340'),\n",
       " Text(35, 0, '350'),\n",
       " Text(36, 0, '360'),\n",
       " Text(37, 0, '370'),\n",
       " Text(38, 0, '380'),\n",
       " Text(39, 0, '390'),\n",
       " Text(40, 0, '400'),\n",
       " Text(41, 0, '410'),\n",
       " Text(42, 0, '420'),\n",
       " Text(43, 0, '430'),\n",
       " Text(44, 0, '440'),\n",
       " Text(45, 0, '450'),\n",
       " Text(46, 0, '460'),\n",
       " Text(47, 0, '470'),\n",
       " Text(48, 0, '480'),\n",
       " Text(49, 0, '490'),\n",
       " Text(50, 0, '500'),\n",
       " Text(51, 0, '510'),\n",
       " Text(52, 0, '520'),\n",
       " Text(53, 0, '530'),\n",
       " Text(54, 0, '540'),\n",
       " Text(55, 0, '550'),\n",
       " Text(56, 0, '560'),\n",
       " Text(57, 0, '570'),\n",
       " Text(58, 0, '580'),\n",
       " Text(59, 0, '590'),\n",
       " Text(60, 0, '600'),\n",
       " Text(61, 0, '610'),\n",
       " Text(62, 0, '620')]"
      ]
     },
     "execution_count": 12,
     "metadata": {},
     "output_type": "execute_result"
    },
    {
     "data": {
      "text/plain": [
       "[Text(0, 0, '0'),\n",
       " Text(0, 1, '10'),\n",
       " Text(0, 2, '20'),\n",
       " Text(0, 3, '30'),\n",
       " Text(0, 4, '40'),\n",
       " Text(0, 5, '50'),\n",
       " Text(0, 6, '60'),\n",
       " Text(0, 7, '70'),\n",
       " Text(0, 8, '80'),\n",
       " Text(0, 9, '90'),\n",
       " Text(0, 10, '100'),\n",
       " Text(0, 11, '110'),\n",
       " Text(0, 12, '120'),\n",
       " Text(0, 13, '130'),\n",
       " Text(0, 14, '140'),\n",
       " Text(0, 15, '150'),\n",
       " Text(0, 16, '160'),\n",
       " Text(0, 17, '170'),\n",
       " Text(0, 18, '180'),\n",
       " Text(0, 19, '190'),\n",
       " Text(0, 20, '200'),\n",
       " Text(0, 21, '210'),\n",
       " Text(0, 22, '220'),\n",
       " Text(0, 23, '230'),\n",
       " Text(0, 24, '240'),\n",
       " Text(0, 25, '250'),\n",
       " Text(0, 26, '260'),\n",
       " Text(0, 27, '270'),\n",
       " Text(0, 28, '280'),\n",
       " Text(0, 29, '290'),\n",
       " Text(0, 30, '300'),\n",
       " Text(0, 31, '310'),\n",
       " Text(0, 32, '320'),\n",
       " Text(0, 33, '330'),\n",
       " Text(0, 34, '340'),\n",
       " Text(0, 35, '350'),\n",
       " Text(0, 36, '360'),\n",
       " Text(0, 37, '370'),\n",
       " Text(0, 38, '380'),\n",
       " Text(0, 39, '390'),\n",
       " Text(0, 40, '400'),\n",
       " Text(0, 41, '410'),\n",
       " Text(0, 42, '420'),\n",
       " Text(0, 43, '430'),\n",
       " Text(0, 44, '440'),\n",
       " Text(0, 45, '450'),\n",
       " Text(0, 46, '460'),\n",
       " Text(0, 47, '470'),\n",
       " Text(0, 48, '480'),\n",
       " Text(0, 49, '490'),\n",
       " Text(0, 50, '500'),\n",
       " Text(0, 51, '510'),\n",
       " Text(0, 52, '520'),\n",
       " Text(0, 53, '530'),\n",
       " Text(0, 54, '540'),\n",
       " Text(0, 55, '550'),\n",
       " Text(0, 56, '560'),\n",
       " Text(0, 57, '570'),\n",
       " Text(0, 58, '580'),\n",
       " Text(0, 59, '590'),\n",
       " Text(0, 60, '600'),\n",
       " Text(0, 61, '610'),\n",
       " Text(0, 62, '620')]"
      ]
     },
     "execution_count": 12,
     "metadata": {},
     "output_type": "execute_result"
    },
    {
     "data": {
      "text/plain": [
       "Text(0.5, 1.0, 'Attention Map of Layer 23')"
      ]
     },
     "execution_count": 12,
     "metadata": {},
     "output_type": "execute_result"
    },
    {
     "data": {
      "text/plain": [
       "Text(0.5, 242.16666666666694, 'Column')"
      ]
     },
     "execution_count": 12,
     "metadata": {},
     "output_type": "execute_result"
    },
    {
     "data": {
      "text/plain": [
       "Text(187.79166666666666, 0.5, 'Row')"
      ]
     },
     "execution_count": 12,
     "metadata": {},
     "output_type": "execute_result"
    },
    {
     "data": {
      "text/plain": [
       "Text(0.5, 1.0, 'Attention from last input token to vision of Layer 23')"
      ]
     },
     "execution_count": 12,
     "metadata": {},
     "output_type": "execute_result"
    },
    {
     "data": {
      "text/plain": [
       "<matplotlib.image.AxesImage at 0x7f2f45f95d50>"
      ]
     },
     "execution_count": 12,
     "metadata": {},
     "output_type": "execute_result"
    },
    {
     "data": {
      "text/plain": [
       "(0.0, 22.0)"
      ]
     },
     "execution_count": 12,
     "metadata": {},
     "output_type": "execute_result"
    },
    {
     "data": {
      "text/plain": [
       "(22.0, 0.0)"
      ]
     },
     "execution_count": 12,
     "metadata": {},
     "output_type": "execute_result"
    },
    {
     "name": "stderr",
     "output_type": "stream",
     "text": [
      "/tmp/ipykernel_1627/3125494494.py:15: MatplotlibDeprecationWarning: The get_cmap function was deprecated in Matplotlib 3.7 and will be removed in 3.11. Use ``matplotlib.colormaps[name]`` or ``matplotlib.colormaps.get_cmap()`` or ``pyplot.get_cmap()`` instead.\n",
      "  cmap = plt.cm.get_cmap(\"viridis\")\n"
     ]
    },
    {
     "data": {
      "text/plain": [
       "<Axes: >"
      ]
     },
     "execution_count": 12,
     "metadata": {},
     "output_type": "execute_result"
    },
    {
     "data": {
      "text/plain": [
       "[<matplotlib.axis.XTick at 0x7f2f45d27910>,\n",
       " <matplotlib.axis.XTick at 0x7f2f45d43c40>,\n",
       " <matplotlib.axis.XTick at 0x7f2f45d54ac0>,\n",
       " <matplotlib.axis.XTick at 0x7f2f45d54b50>,\n",
       " <matplotlib.axis.XTick at 0x7f2f45d55db0>,\n",
       " <matplotlib.axis.XTick at 0x7f2f45d56980>,\n",
       " <matplotlib.axis.XTick at 0x7f2f45d54700>,\n",
       " <matplotlib.axis.XTick at 0x7f2f45d57160>,\n",
       " <matplotlib.axis.XTick at 0x7f2f45d57b80>,\n",
       " <matplotlib.axis.XTick at 0x7f2f45d745e0>,\n",
       " <matplotlib.axis.XTick at 0x7f2f45d577c0>,\n",
       " <matplotlib.axis.XTick at 0x7f2f45d74ee0>,\n",
       " <matplotlib.axis.XTick at 0x7f2f45d75900>,\n",
       " <matplotlib.axis.XTick at 0x7f2f45d76320>,\n",
       " <matplotlib.axis.XTick at 0x7f2f45d76d40>,\n",
       " <matplotlib.axis.XTick at 0x7f2f45d76830>,\n",
       " <matplotlib.axis.XTick at 0x7f2f45d77520>,\n",
       " <matplotlib.axis.XTick at 0x7f2f45d8c100>,\n",
       " <matplotlib.axis.XTick at 0x7f2f45d8c9a0>,\n",
       " <matplotlib.axis.XTick at 0x7f2f45d77d00>,\n",
       " <matplotlib.axis.XTick at 0x7f2f45d8ceb0>,\n",
       " <matplotlib.axis.XTick at 0x7f2f45d8dc30>,\n",
       " <matplotlib.axis.XTick at 0x7f2f45d8e650>,\n",
       " <matplotlib.axis.XTick at 0x7f2f45d8f070>,\n",
       " <matplotlib.axis.XTick at 0x7f2f45d8f970>,\n",
       " <matplotlib.axis.XTick at 0x7f2f45d8c190>,\n",
       " <matplotlib.axis.XTick at 0x7f2f45da83d0>,\n",
       " <matplotlib.axis.XTick at 0x7f2f45da8df0>,\n",
       " <matplotlib.axis.XTick at 0x7f2f45da9810>,\n",
       " <matplotlib.axis.XTick at 0x7f2f45da9960>,\n",
       " <matplotlib.axis.XTick at 0x7f2f45da9ff0>,\n",
       " <matplotlib.axis.XTick at 0x7f2f45daaa10>,\n",
       " <matplotlib.axis.XTick at 0x7f2f45d27520>,\n",
       " <matplotlib.axis.XTick at 0x7f2f45bac9a0>,\n",
       " <matplotlib.axis.XTick at 0x7f2f45baca30>,\n",
       " <matplotlib.axis.XTick at 0x7f2f45badc90>,\n",
       " <matplotlib.axis.XTick at 0x7f2f45bae6b0>,\n",
       " <matplotlib.axis.XTick at 0x7f2f45bae680>,\n",
       " <matplotlib.axis.XTick at 0x7f2f45baefb0>,\n",
       " <matplotlib.axis.XTick at 0x7f2f45baf9d0>,\n",
       " <matplotlib.axis.XTick at 0x7f2f45bc8430>,\n",
       " <matplotlib.axis.XTick at 0x7f2f45bc8e50>,\n",
       " <matplotlib.axis.XTick at 0x7f2f45bc8ee0>,\n",
       " <matplotlib.axis.XTick at 0x7f2f45bc9630>,\n",
       " <matplotlib.axis.XTick at 0x7f2f45bca050>,\n",
       " <matplotlib.axis.XTick at 0x7f2f45bcaa70>,\n",
       " <matplotlib.axis.XTick at 0x7f2f45bad210>,\n",
       " <matplotlib.axis.XTick at 0x7f2f45bc9c60>,\n",
       " <matplotlib.axis.XTick at 0x7f2f45bcbc70>,\n",
       " <matplotlib.axis.XTick at 0x7f2f45be06d0>,\n",
       " <matplotlib.axis.XTick at 0x7f2f45be10f0>,\n",
       " <matplotlib.axis.XTick at 0x7f2f45bcb9d0>,\n",
       " <matplotlib.axis.XTick at 0x7f2f45be01f0>,\n",
       " <matplotlib.axis.XTick at 0x7f2f45be2410>,\n",
       " <matplotlib.axis.XTick at 0x7f2f45be2e30>,\n",
       " <matplotlib.axis.XTick at 0x7f2f45be3850>,\n",
       " <matplotlib.axis.XTick at 0x7f2f45be3340>,\n",
       " <matplotlib.axis.XTick at 0x7f2f45c08070>,\n",
       " <matplotlib.axis.XTick at 0x7f2f45c08a90>,\n",
       " <matplotlib.axis.XTick at 0x7f2f45c094b0>,\n",
       " <matplotlib.axis.XTick at 0x7f2f45be01c0>,\n",
       " <matplotlib.axis.XTick at 0x7f2f45c08a60>,\n",
       " <matplotlib.axis.XTick at 0x7f2f45c0a7d0>]"
      ]
     },
     "execution_count": 12,
     "metadata": {},
     "output_type": "execute_result"
    },
    {
     "data": {
      "text/plain": [
       "[<matplotlib.axis.YTick at 0x7f2f45d24970>,\n",
       " <matplotlib.axis.YTick at 0x7f2f45d43ca0>,\n",
       " <matplotlib.axis.YTick at 0x7f2f45daba90>,\n",
       " <matplotlib.axis.YTick at 0x7f2f45d8f190>,\n",
       " <matplotlib.axis.YTick at 0x7f2f45dcc790>,\n",
       " <matplotlib.axis.YTick at 0x7f2f45dcd1b0>,\n",
       " <matplotlib.axis.YTick at 0x7f2f45dcdbd0>,\n",
       " <matplotlib.axis.YTick at 0x7f2f45dcdc90>,\n",
       " <matplotlib.axis.YTick at 0x7f2f45dcc2b0>,\n",
       " <matplotlib.axis.YTick at 0x7f2f45dceef0>,\n",
       " <matplotlib.axis.YTick at 0x7f2f45dcf910>,\n",
       " <matplotlib.axis.YTick at 0x7f2f45de8370>,\n",
       " <matplotlib.axis.YTick at 0x7f2f45dcf430>,\n",
       " <matplotlib.axis.YTick at 0x7f2f45de8b50>,\n",
       " <matplotlib.axis.YTick at 0x7f2f45de9570>,\n",
       " <matplotlib.axis.YTick at 0x7f2f45de9f90>,\n",
       " <matplotlib.axis.YTick at 0x7f2f45dcd2d0>,\n",
       " <matplotlib.axis.YTick at 0x7f2f45de92d0>,\n",
       " <matplotlib.axis.YTick at 0x7f2f45deb2b0>,\n",
       " <matplotlib.axis.YTick at 0x7f2f45debcd0>,\n",
       " <matplotlib.axis.YTick at 0x7f2f45b0c730>,\n",
       " <matplotlib.axis.YTick at 0x7f2f45deba30>,\n",
       " <matplotlib.axis.YTick at 0x7f2f45b0c250>,\n",
       " <matplotlib.axis.YTick at 0x7f2f45b0da50>,\n",
       " <matplotlib.axis.YTick at 0x7f2f45b0e470>,\n",
       " <matplotlib.axis.YTick at 0x7f2f45b0ee90>,\n",
       " <matplotlib.axis.YTick at 0x7f2f45b0ec20>,\n",
       " <matplotlib.axis.YTick at 0x7f2f45b0f670>,\n",
       " <matplotlib.axis.YTick at 0x7f2f45b540d0>,\n",
       " <matplotlib.axis.YTick at 0x7f2f45b54af0>,\n",
       " <matplotlib.axis.YTick at 0x7f2f45b0fd00>,\n",
       " <matplotlib.axis.YTick at 0x7f2f45de89a0>,\n",
       " <matplotlib.axis.YTick at 0x7f2f45d07af0>,\n",
       " <matplotlib.axis.YTick at 0x7f2f45b96ec0>,\n",
       " <matplotlib.axis.YTick at 0x7f2f45c0a590>,\n",
       " <matplotlib.axis.YTick at 0x7f2f45c0b9a0>,\n",
       " <matplotlib.axis.YTick at 0x7f2f45c2c400>,\n",
       " <matplotlib.axis.YTick at 0x7f2f45c0b730>,\n",
       " <matplotlib.axis.YTick at 0x7f2f45c2c490>,\n",
       " <matplotlib.axis.YTick at 0x7f2f45c2d720>,\n",
       " <matplotlib.axis.YTick at 0x7f2f45c2e140>,\n",
       " <matplotlib.axis.YTick at 0x7f2f45c2eb60>,\n",
       " <matplotlib.axis.YTick at 0x7f2f45c2eb90>,\n",
       " <matplotlib.axis.YTick at 0x7f2f45c2f340>,\n",
       " <matplotlib.axis.YTick at 0x7f2f45c2ffa0>,\n",
       " <matplotlib.axis.YTick at 0x7f2f45c407c0>,\n",
       " <matplotlib.axis.YTick at 0x7f2f45c411e0>,\n",
       " <matplotlib.axis.YTick at 0x7f2f45c41330>,\n",
       " <matplotlib.axis.YTick at 0x7f2f45c41930>,\n",
       " <matplotlib.axis.YTick at 0x7f2f45c42350>,\n",
       " <matplotlib.axis.YTick at 0x7f2f45c42d70>,\n",
       " <matplotlib.axis.YTick at 0x7f2f45c2fac0>,\n",
       " <matplotlib.axis.YTick at 0x7f2f45c41f90>,\n",
       " <matplotlib.axis.YTick at 0x7f2f45c54040>,\n",
       " <matplotlib.axis.YTick at 0x7f2f45c54a60>,\n",
       " <matplotlib.axis.YTick at 0x7f2f45c55480>,\n",
       " <matplotlib.axis.YTick at 0x7f2f45c43c70>,\n",
       " <matplotlib.axis.YTick at 0x7f2f45c54100>,\n",
       " <matplotlib.axis.YTick at 0x7f2f45c567a0>,\n",
       " <matplotlib.axis.YTick at 0x7f2f45c571c0>,\n",
       " <matplotlib.axis.YTick at 0x7f2f45c57be0>,\n",
       " <matplotlib.axis.YTick at 0x7f2f45c57280>,\n",
       " <matplotlib.axis.YTick at 0x7f2f45c7c400>]"
      ]
     },
     "execution_count": 12,
     "metadata": {},
     "output_type": "execute_result"
    },
    {
     "data": {
      "text/plain": [
       "[Text(0, 0, '0'),\n",
       " Text(1, 0, '10'),\n",
       " Text(2, 0, '20'),\n",
       " Text(3, 0, '30'),\n",
       " Text(4, 0, '40'),\n",
       " Text(5, 0, '50'),\n",
       " Text(6, 0, '60'),\n",
       " Text(7, 0, '70'),\n",
       " Text(8, 0, '80'),\n",
       " Text(9, 0, '90'),\n",
       " Text(10, 0, '100'),\n",
       " Text(11, 0, '110'),\n",
       " Text(12, 0, '120'),\n",
       " Text(13, 0, '130'),\n",
       " Text(14, 0, '140'),\n",
       " Text(15, 0, '150'),\n",
       " Text(16, 0, '160'),\n",
       " Text(17, 0, '170'),\n",
       " Text(18, 0, '180'),\n",
       " Text(19, 0, '190'),\n",
       " Text(20, 0, '200'),\n",
       " Text(21, 0, '210'),\n",
       " Text(22, 0, '220'),\n",
       " Text(23, 0, '230'),\n",
       " Text(24, 0, '240'),\n",
       " Text(25, 0, '250'),\n",
       " Text(26, 0, '260'),\n",
       " Text(27, 0, '270'),\n",
       " Text(28, 0, '280'),\n",
       " Text(29, 0, '290'),\n",
       " Text(30, 0, '300'),\n",
       " Text(31, 0, '310'),\n",
       " Text(32, 0, '320'),\n",
       " Text(33, 0, '330'),\n",
       " Text(34, 0, '340'),\n",
       " Text(35, 0, '350'),\n",
       " Text(36, 0, '360'),\n",
       " Text(37, 0, '370'),\n",
       " Text(38, 0, '380'),\n",
       " Text(39, 0, '390'),\n",
       " Text(40, 0, '400'),\n",
       " Text(41, 0, '410'),\n",
       " Text(42, 0, '420'),\n",
       " Text(43, 0, '430'),\n",
       " Text(44, 0, '440'),\n",
       " Text(45, 0, '450'),\n",
       " Text(46, 0, '460'),\n",
       " Text(47, 0, '470'),\n",
       " Text(48, 0, '480'),\n",
       " Text(49, 0, '490'),\n",
       " Text(50, 0, '500'),\n",
       " Text(51, 0, '510'),\n",
       " Text(52, 0, '520'),\n",
       " Text(53, 0, '530'),\n",
       " Text(54, 0, '540'),\n",
       " Text(55, 0, '550'),\n",
       " Text(56, 0, '560'),\n",
       " Text(57, 0, '570'),\n",
       " Text(58, 0, '580'),\n",
       " Text(59, 0, '590'),\n",
       " Text(60, 0, '600'),\n",
       " Text(61, 0, '610'),\n",
       " Text(62, 0, '620')]"
      ]
     },
     "execution_count": 12,
     "metadata": {},
     "output_type": "execute_result"
    },
    {
     "data": {
      "text/plain": [
       "[Text(0, 0, '0'),\n",
       " Text(0, 1, '10'),\n",
       " Text(0, 2, '20'),\n",
       " Text(0, 3, '30'),\n",
       " Text(0, 4, '40'),\n",
       " Text(0, 5, '50'),\n",
       " Text(0, 6, '60'),\n",
       " Text(0, 7, '70'),\n",
       " Text(0, 8, '80'),\n",
       " Text(0, 9, '90'),\n",
       " Text(0, 10, '100'),\n",
       " Text(0, 11, '110'),\n",
       " Text(0, 12, '120'),\n",
       " Text(0, 13, '130'),\n",
       " Text(0, 14, '140'),\n",
       " Text(0, 15, '150'),\n",
       " Text(0, 16, '160'),\n",
       " Text(0, 17, '170'),\n",
       " Text(0, 18, '180'),\n",
       " Text(0, 19, '190'),\n",
       " Text(0, 20, '200'),\n",
       " Text(0, 21, '210'),\n",
       " Text(0, 22, '220'),\n",
       " Text(0, 23, '230'),\n",
       " Text(0, 24, '240'),\n",
       " Text(0, 25, '250'),\n",
       " Text(0, 26, '260'),\n",
       " Text(0, 27, '270'),\n",
       " Text(0, 28, '280'),\n",
       " Text(0, 29, '290'),\n",
       " Text(0, 30, '300'),\n",
       " Text(0, 31, '310'),\n",
       " Text(0, 32, '320'),\n",
       " Text(0, 33, '330'),\n",
       " Text(0, 34, '340'),\n",
       " Text(0, 35, '350'),\n",
       " Text(0, 36, '360'),\n",
       " Text(0, 37, '370'),\n",
       " Text(0, 38, '380'),\n",
       " Text(0, 39, '390'),\n",
       " Text(0, 40, '400'),\n",
       " Text(0, 41, '410'),\n",
       " Text(0, 42, '420'),\n",
       " Text(0, 43, '430'),\n",
       " Text(0, 44, '440'),\n",
       " Text(0, 45, '450'),\n",
       " Text(0, 46, '460'),\n",
       " Text(0, 47, '470'),\n",
       " Text(0, 48, '480'),\n",
       " Text(0, 49, '490'),\n",
       " Text(0, 50, '500'),\n",
       " Text(0, 51, '510'),\n",
       " Text(0, 52, '520'),\n",
       " Text(0, 53, '530'),\n",
       " Text(0, 54, '540'),\n",
       " Text(0, 55, '550'),\n",
       " Text(0, 56, '560'),\n",
       " Text(0, 57, '570'),\n",
       " Text(0, 58, '580'),\n",
       " Text(0, 59, '590'),\n",
       " Text(0, 60, '600'),\n",
       " Text(0, 61, '610'),\n",
       " Text(0, 62, '620')]"
      ]
     },
     "execution_count": 12,
     "metadata": {},
     "output_type": "execute_result"
    },
    {
     "data": {
      "text/plain": [
       "Text(0.5, 1.0, 'Attention Map of Layer 24')"
      ]
     },
     "execution_count": 12,
     "metadata": {},
     "output_type": "execute_result"
    },
    {
     "data": {
      "text/plain": [
       "Text(0.5, 242.16666666666694, 'Column')"
      ]
     },
     "execution_count": 12,
     "metadata": {},
     "output_type": "execute_result"
    },
    {
     "data": {
      "text/plain": [
       "Text(187.79166666666666, 0.5, 'Row')"
      ]
     },
     "execution_count": 12,
     "metadata": {},
     "output_type": "execute_result"
    },
    {
     "data": {
      "text/plain": [
       "Text(0.5, 1.0, 'Attention from last input token to vision of Layer 24')"
      ]
     },
     "execution_count": 12,
     "metadata": {},
     "output_type": "execute_result"
    },
    {
     "data": {
      "text/plain": [
       "<matplotlib.image.AxesImage at 0x7f2f45c7cf70>"
      ]
     },
     "execution_count": 12,
     "metadata": {},
     "output_type": "execute_result"
    },
    {
     "data": {
      "text/plain": [
       "(0.0, 22.0)"
      ]
     },
     "execution_count": 12,
     "metadata": {},
     "output_type": "execute_result"
    },
    {
     "data": {
      "text/plain": [
       "(22.0, 0.0)"
      ]
     },
     "execution_count": 12,
     "metadata": {},
     "output_type": "execute_result"
    },
    {
     "name": "stderr",
     "output_type": "stream",
     "text": [
      "/tmp/ipykernel_1627/3125494494.py:15: MatplotlibDeprecationWarning: The get_cmap function was deprecated in Matplotlib 3.7 and will be removed in 3.11. Use ``matplotlib.colormaps[name]`` or ``matplotlib.colormaps.get_cmap()`` or ``pyplot.get_cmap()`` instead.\n",
      "  cmap = plt.cm.get_cmap(\"viridis\")\n"
     ]
    },
    {
     "data": {
      "text/plain": [
       "<Axes: >"
      ]
     },
     "execution_count": 12,
     "metadata": {},
     "output_type": "execute_result"
    },
    {
     "data": {
      "text/plain": [
       "[<matplotlib.axis.XTick at 0x7f2f45a09e10>,\n",
       " <matplotlib.axis.XTick at 0x7f2f458320b0>,\n",
       " <matplotlib.axis.XTick at 0x7f2f45832ef0>,\n",
       " <matplotlib.axis.XTick at 0x7f2f45832f80>,\n",
       " <matplotlib.axis.XTick at 0x7f2f45848220>,\n",
       " <matplotlib.axis.XTick at 0x7f2f45833e50>,\n",
       " <matplotlib.axis.XTick at 0x7f2f45848880>,\n",
       " <matplotlib.axis.XTick at 0x7f2f45849660>,\n",
       " <matplotlib.axis.XTick at 0x7f2f4584a080>,\n",
       " <matplotlib.axis.XTick at 0x7f2f4584aaa0>,\n",
       " <matplotlib.axis.XTick at 0x7f2f548b5a20>,\n",
       " <matplotlib.axis.XTick at 0x7f2f5443cd00>,\n",
       " <matplotlib.axis.XTick at 0x7f2f544c99c0>,\n",
       " <matplotlib.axis.XTick at 0x7f2f544c81f0>,\n",
       " <matplotlib.axis.XTick at 0x7f2f544f7ca0>,\n",
       " <matplotlib.axis.XTick at 0x7f2f5450c2b0>,\n",
       " <matplotlib.axis.XTick at 0x7f2f5c1de7d0>,\n",
       " <matplotlib.axis.XTick at 0x7f2f55b1e200>,\n",
       " <matplotlib.axis.XTick at 0x7f2f4d2a5f00>,\n",
       " <matplotlib.axis.XTick at 0x7f2f4d013580>,\n",
       " <matplotlib.axis.XTick at 0x7f2f4d039300>,\n",
       " <matplotlib.axis.XTick at 0x7f2f4d024490>,\n",
       " <matplotlib.axis.XTick at 0x7f2f4d013280>,\n",
       " <matplotlib.axis.XTick at 0x7f2f4d069690>,\n",
       " <matplotlib.axis.XTick at 0x7f2f4d06b190>,\n",
       " <matplotlib.axis.XTick at 0x7f2f4cf27df0>,\n",
       " <matplotlib.axis.XTick at 0x7f2f4d074fd0>,\n",
       " <matplotlib.axis.XTick at 0x7f2f4d0763e0>,\n",
       " <matplotlib.axis.XTick at 0x7f2f4d09e5f0>,\n",
       " <matplotlib.axis.XTick at 0x7f2f4cf0b250>,\n",
       " <matplotlib.axis.XTick at 0x7f2f4cf86e60>,\n",
       " <matplotlib.axis.XTick at 0x7f2f4d09db40>,\n",
       " <matplotlib.axis.XTick at 0x7f2f45a09a20>,\n",
       " <matplotlib.axis.XTick at 0x7f2f4591d810>,\n",
       " <matplotlib.axis.XTick at 0x7f2f4591e530>,\n",
       " <matplotlib.axis.XTick at 0x7f2f4591f190>,\n",
       " <matplotlib.axis.XTick at 0x7f2f4591fdf0>,\n",
       " <matplotlib.axis.XTick at 0x7f2f4591cb50>,\n",
       " <matplotlib.axis.XTick at 0x7f2f45924bb0>,\n",
       " <matplotlib.axis.XTick at 0x7f2f45925810>,\n",
       " <matplotlib.axis.XTick at 0x7f2f45926470>,\n",
       " <matplotlib.axis.XTick at 0x7f2f45926080>,\n",
       " <matplotlib.axis.XTick at 0x7f2f459271f0>,\n",
       " <matplotlib.axis.XTick at 0x7f2f45927e50>,\n",
       " <matplotlib.axis.XTick at 0x7f2f4595caf0>,\n",
       " <matplotlib.axis.XTick at 0x7f2f4595d750>,\n",
       " <matplotlib.axis.XTick at 0x7f2f4595c250>,\n",
       " <matplotlib.axis.XTick at 0x7f2f4595e4d0>,\n",
       " <matplotlib.axis.XTick at 0x7f2f4595f130>,\n",
       " <matplotlib.axis.XTick at 0x7f2f4595fd90>,\n",
       " <matplotlib.axis.XTick at 0x7f2f4595df90>,\n",
       " <matplotlib.axis.XTick at 0x7f2f4596cb50>,\n",
       " <matplotlib.axis.XTick at 0x7f2f4596d7b0>,\n",
       " <matplotlib.axis.XTick at 0x7f2f4596e410>,\n",
       " <matplotlib.axis.XTick at 0x7f2f45926950>,\n",
       " <matplotlib.axis.XTick at 0x7f2f4596c400>,\n",
       " <matplotlib.axis.XTick at 0x7f2f4596f850>,\n",
       " <matplotlib.axis.XTick at 0x7f2f459884f0>,\n",
       " <matplotlib.axis.XTick at 0x7f2f45989150>,\n",
       " <matplotlib.axis.XTick at 0x7f2f459888b0>,\n",
       " <matplotlib.axis.XTick at 0x7f2f45989ed0>,\n",
       " <matplotlib.axis.XTick at 0x7f2f4598ab30>,\n",
       " <matplotlib.axis.XTick at 0x7f2f4598b790>]"
      ]
     },
     "execution_count": 12,
     "metadata": {},
     "output_type": "execute_result"
    },
    {
     "data": {
      "text/plain": [
       "[<matplotlib.axis.YTick at 0x7f2f45a09060>,\n",
       " <matplotlib.axis.YTick at 0x7f2f4cf968c0>,\n",
       " <matplotlib.axis.YTick at 0x7f2f4cf6de70>,\n",
       " <matplotlib.axis.YTick at 0x7f2f4cfc8730>,\n",
       " <matplotlib.axis.YTick at 0x7f2f4cf97c10>,\n",
       " <matplotlib.axis.YTick at 0x7f2f4cfc9750>,\n",
       " <matplotlib.axis.YTick at 0x7f2f4cfb4be0>,\n",
       " <matplotlib.axis.YTick at 0x7f2f45c55ab0>,\n",
       " <matplotlib.axis.YTick at 0x7f2f5485a410>,\n",
       " <matplotlib.axis.YTick at 0x7f2f54858ee0>,\n",
       " <matplotlib.axis.YTick at 0x7f2f548745e0>,\n",
       " <matplotlib.axis.YTick at 0x7f2f54840f40>,\n",
       " <matplotlib.axis.YTick at 0x7f2f45a08400>,\n",
       " <matplotlib.axis.YTick at 0x7f2f45cc3e20>,\n",
       " <matplotlib.axis.YTick at 0x7f2f45e6a500>,\n",
       " <matplotlib.axis.YTick at 0x7f2f4cbf6080>,\n",
       " <matplotlib.axis.YTick at 0x7f2f4cf4eef0>,\n",
       " <matplotlib.axis.YTick at 0x7f2f4cf4d030>,\n",
       " <matplotlib.axis.YTick at 0x7f2f4d056650>,\n",
       " <matplotlib.axis.YTick at 0x7f2f45849de0>,\n",
       " <matplotlib.axis.YTick at 0x7f2f4584b820>,\n",
       " <matplotlib.axis.YTick at 0x7f2f458b84c0>,\n",
       " <matplotlib.axis.YTick at 0x7f2f45b55540>,\n",
       " <matplotlib.axis.YTick at 0x7f2f458b9240>,\n",
       " <matplotlib.axis.YTick at 0x7f2f458b9ea0>,\n",
       " <matplotlib.axis.YTick at 0x7f2f458bab00>,\n",
       " <matplotlib.axis.YTick at 0x7f2f458b9ab0>,\n",
       " <matplotlib.axis.YTick at 0x7f2f458bb880>,\n",
       " <matplotlib.axis.YTick at 0x7f2f458cc520>,\n",
       " <matplotlib.axis.YTick at 0x7f2f458cd180>,\n",
       " <matplotlib.axis.YTick at 0x7f2f458b89a0>,\n",
       " <matplotlib.axis.YTick at 0x7f2f544cbeb0>,\n",
       " <matplotlib.axis.YTick at 0x7f2f4cf96d40>,\n",
       " <matplotlib.axis.YTick at 0x7f2f459a85e0>,\n",
       " <matplotlib.axis.YTick at 0x7f2f459a9240>,\n",
       " <matplotlib.axis.YTick at 0x7f2f459a9ea0>,\n",
       " <matplotlib.axis.YTick at 0x7f2f459aa830>,\n",
       " <matplotlib.axis.YTick at 0x7f2f459aacb0>,\n",
       " <matplotlib.axis.YTick at 0x7f2f459ab910>,\n",
       " <matplotlib.axis.YTick at 0x7f2f459b8640>,\n",
       " <matplotlib.axis.YTick at 0x7f2f459b92a0>,\n",
       " <matplotlib.axis.YTick at 0x7f2f459b81c0>,\n",
       " <matplotlib.axis.YTick at 0x7f2f459ba020>,\n",
       " <matplotlib.axis.YTick at 0x7f2f459bac80>,\n",
       " <matplotlib.axis.YTick at 0x7f2f459bb8e0>,\n",
       " <matplotlib.axis.YTick at 0x7f2f459ba800>,\n",
       " <matplotlib.axis.YTick at 0x7f2f459c86a0>,\n",
       " <matplotlib.axis.YTick at 0x7f2f459c9300>,\n",
       " <matplotlib.axis.YTick at 0x7f2f459c9f60>,\n",
       " <matplotlib.axis.YTick at 0x7f2f459ca170>,\n",
       " <matplotlib.axis.YTick at 0x7f2f459cad70>,\n",
       " <matplotlib.axis.YTick at 0x7f2f459cb9d0>,\n",
       " <matplotlib.axis.YTick at 0x7f2f459ec670>,\n",
       " <matplotlib.axis.YTick at 0x7f2f459ed2d0>,\n",
       " <matplotlib.axis.YTick at 0x7f2f459ec280>,\n",
       " <matplotlib.axis.YTick at 0x7f2f459ee050>,\n",
       " <matplotlib.axis.YTick at 0x7f2f459eecb0>,\n",
       " <matplotlib.axis.YTick at 0x7f2f459ef910>,\n",
       " <matplotlib.axis.YTick at 0x7f2f459ee8c0>,\n",
       " <matplotlib.axis.YTick at 0x7f2f45a1c6d0>,\n",
       " <matplotlib.axis.YTick at 0x7f2f45a1d330>,\n",
       " <matplotlib.axis.YTick at 0x7f2f45a1df90>,\n",
       " <matplotlib.axis.YTick at 0x7f2f45a1e320>]"
      ]
     },
     "execution_count": 12,
     "metadata": {},
     "output_type": "execute_result"
    },
    {
     "data": {
      "text/plain": [
       "[Text(0, 0, '0'),\n",
       " Text(1, 0, '10'),\n",
       " Text(2, 0, '20'),\n",
       " Text(3, 0, '30'),\n",
       " Text(4, 0, '40'),\n",
       " Text(5, 0, '50'),\n",
       " Text(6, 0, '60'),\n",
       " Text(7, 0, '70'),\n",
       " Text(8, 0, '80'),\n",
       " Text(9, 0, '90'),\n",
       " Text(10, 0, '100'),\n",
       " Text(11, 0, '110'),\n",
       " Text(12, 0, '120'),\n",
       " Text(13, 0, '130'),\n",
       " Text(14, 0, '140'),\n",
       " Text(15, 0, '150'),\n",
       " Text(16, 0, '160'),\n",
       " Text(17, 0, '170'),\n",
       " Text(18, 0, '180'),\n",
       " Text(19, 0, '190'),\n",
       " Text(20, 0, '200'),\n",
       " Text(21, 0, '210'),\n",
       " Text(22, 0, '220'),\n",
       " Text(23, 0, '230'),\n",
       " Text(24, 0, '240'),\n",
       " Text(25, 0, '250'),\n",
       " Text(26, 0, '260'),\n",
       " Text(27, 0, '270'),\n",
       " Text(28, 0, '280'),\n",
       " Text(29, 0, '290'),\n",
       " Text(30, 0, '300'),\n",
       " Text(31, 0, '310'),\n",
       " Text(32, 0, '320'),\n",
       " Text(33, 0, '330'),\n",
       " Text(34, 0, '340'),\n",
       " Text(35, 0, '350'),\n",
       " Text(36, 0, '360'),\n",
       " Text(37, 0, '370'),\n",
       " Text(38, 0, '380'),\n",
       " Text(39, 0, '390'),\n",
       " Text(40, 0, '400'),\n",
       " Text(41, 0, '410'),\n",
       " Text(42, 0, '420'),\n",
       " Text(43, 0, '430'),\n",
       " Text(44, 0, '440'),\n",
       " Text(45, 0, '450'),\n",
       " Text(46, 0, '460'),\n",
       " Text(47, 0, '470'),\n",
       " Text(48, 0, '480'),\n",
       " Text(49, 0, '490'),\n",
       " Text(50, 0, '500'),\n",
       " Text(51, 0, '510'),\n",
       " Text(52, 0, '520'),\n",
       " Text(53, 0, '530'),\n",
       " Text(54, 0, '540'),\n",
       " Text(55, 0, '550'),\n",
       " Text(56, 0, '560'),\n",
       " Text(57, 0, '570'),\n",
       " Text(58, 0, '580'),\n",
       " Text(59, 0, '590'),\n",
       " Text(60, 0, '600'),\n",
       " Text(61, 0, '610'),\n",
       " Text(62, 0, '620')]"
      ]
     },
     "execution_count": 12,
     "metadata": {},
     "output_type": "execute_result"
    },
    {
     "data": {
      "text/plain": [
       "[Text(0, 0, '0'),\n",
       " Text(0, 1, '10'),\n",
       " Text(0, 2, '20'),\n",
       " Text(0, 3, '30'),\n",
       " Text(0, 4, '40'),\n",
       " Text(0, 5, '50'),\n",
       " Text(0, 6, '60'),\n",
       " Text(0, 7, '70'),\n",
       " Text(0, 8, '80'),\n",
       " Text(0, 9, '90'),\n",
       " Text(0, 10, '100'),\n",
       " Text(0, 11, '110'),\n",
       " Text(0, 12, '120'),\n",
       " Text(0, 13, '130'),\n",
       " Text(0, 14, '140'),\n",
       " Text(0, 15, '150'),\n",
       " Text(0, 16, '160'),\n",
       " Text(0, 17, '170'),\n",
       " Text(0, 18, '180'),\n",
       " Text(0, 19, '190'),\n",
       " Text(0, 20, '200'),\n",
       " Text(0, 21, '210'),\n",
       " Text(0, 22, '220'),\n",
       " Text(0, 23, '230'),\n",
       " Text(0, 24, '240'),\n",
       " Text(0, 25, '250'),\n",
       " Text(0, 26, '260'),\n",
       " Text(0, 27, '270'),\n",
       " Text(0, 28, '280'),\n",
       " Text(0, 29, '290'),\n",
       " Text(0, 30, '300'),\n",
       " Text(0, 31, '310'),\n",
       " Text(0, 32, '320'),\n",
       " Text(0, 33, '330'),\n",
       " Text(0, 34, '340'),\n",
       " Text(0, 35, '350'),\n",
       " Text(0, 36, '360'),\n",
       " Text(0, 37, '370'),\n",
       " Text(0, 38, '380'),\n",
       " Text(0, 39, '390'),\n",
       " Text(0, 40, '400'),\n",
       " Text(0, 41, '410'),\n",
       " Text(0, 42, '420'),\n",
       " Text(0, 43, '430'),\n",
       " Text(0, 44, '440'),\n",
       " Text(0, 45, '450'),\n",
       " Text(0, 46, '460'),\n",
       " Text(0, 47, '470'),\n",
       " Text(0, 48, '480'),\n",
       " Text(0, 49, '490'),\n",
       " Text(0, 50, '500'),\n",
       " Text(0, 51, '510'),\n",
       " Text(0, 52, '520'),\n",
       " Text(0, 53, '530'),\n",
       " Text(0, 54, '540'),\n",
       " Text(0, 55, '550'),\n",
       " Text(0, 56, '560'),\n",
       " Text(0, 57, '570'),\n",
       " Text(0, 58, '580'),\n",
       " Text(0, 59, '590'),\n",
       " Text(0, 60, '600'),\n",
       " Text(0, 61, '610'),\n",
       " Text(0, 62, '620')]"
      ]
     },
     "execution_count": 12,
     "metadata": {},
     "output_type": "execute_result"
    },
    {
     "data": {
      "text/plain": [
       "Text(0.5, 1.0, 'Attention Map of Layer 25')"
      ]
     },
     "execution_count": 12,
     "metadata": {},
     "output_type": "execute_result"
    },
    {
     "data": {
      "text/plain": [
       "Text(0.5, 242.16666666666694, 'Column')"
      ]
     },
     "execution_count": 12,
     "metadata": {},
     "output_type": "execute_result"
    },
    {
     "data": {
      "text/plain": [
       "Text(187.79166666666666, 0.5, 'Row')"
      ]
     },
     "execution_count": 12,
     "metadata": {},
     "output_type": "execute_result"
    },
    {
     "data": {
      "text/plain": [
       "Text(0.5, 1.0, 'Attention from last input token to vision of Layer 25')"
      ]
     },
     "execution_count": 12,
     "metadata": {},
     "output_type": "execute_result"
    },
    {
     "data": {
      "text/plain": [
       "<matplotlib.image.AxesImage at 0x7f2f45a1f130>"
      ]
     },
     "execution_count": 12,
     "metadata": {},
     "output_type": "execute_result"
    },
    {
     "data": {
      "text/plain": [
       "(0.0, 22.0)"
      ]
     },
     "execution_count": 12,
     "metadata": {},
     "output_type": "execute_result"
    },
    {
     "data": {
      "text/plain": [
       "(22.0, 0.0)"
      ]
     },
     "execution_count": 12,
     "metadata": {},
     "output_type": "execute_result"
    },
    {
     "name": "stderr",
     "output_type": "stream",
     "text": [
      "/tmp/ipykernel_1627/3125494494.py:15: MatplotlibDeprecationWarning: The get_cmap function was deprecated in Matplotlib 3.7 and will be removed in 3.11. Use ``matplotlib.colormaps[name]`` or ``matplotlib.colormaps.get_cmap()`` or ``pyplot.get_cmap()`` instead.\n",
      "  cmap = plt.cm.get_cmap(\"viridis\")\n"
     ]
    },
    {
     "data": {
      "text/plain": [
       "<Axes: >"
      ]
     },
     "execution_count": 12,
     "metadata": {},
     "output_type": "execute_result"
    },
    {
     "data": {
      "text/plain": [
       "[<matplotlib.axis.XTick at 0x7f2f45ac1060>,\n",
       " <matplotlib.axis.XTick at 0x7f2f45ae9840>,\n",
       " <matplotlib.axis.XTick at 0x7f2f45aea470>,\n",
       " <matplotlib.axis.XTick at 0x7f2f45aeb0d0>,\n",
       " <matplotlib.axis.XTick at 0x7f2f45aebd30>,\n",
       " <matplotlib.axis.XTick at 0x7f2f45aea680>,\n",
       " <matplotlib.axis.XTick at 0x7f2f45af4dc0>,\n",
       " <matplotlib.axis.XTick at 0x7f2f45af5a20>,\n",
       " <matplotlib.axis.XTick at 0x7f2f45af6680>,\n",
       " <matplotlib.axis.XTick at 0x7f2f45af54e0>,\n",
       " <matplotlib.axis.XTick at 0x7f2f45af7520>,\n",
       " <matplotlib.axis.XTick at 0x7f2f456001c0>,\n",
       " <matplotlib.axis.XTick at 0x7f2f45600e20>,\n",
       " <matplotlib.axis.XTick at 0x7f2f45af6dd0>,\n",
       " <matplotlib.axis.XTick at 0x7f2f45601c30>,\n",
       " <matplotlib.axis.XTick at 0x7f2f45602890>,\n",
       " <matplotlib.axis.XTick at 0x7f2f456034f0>,\n",
       " <matplotlib.axis.XTick at 0x7f2f45618190>,\n",
       " <matplotlib.axis.XTick at 0x7f2f45601750>,\n",
       " <matplotlib.axis.XTick at 0x7f2f45618970>,\n",
       " <matplotlib.axis.XTick at 0x7f2f45619390>,\n",
       " <matplotlib.axis.XTick at 0x7f2f45619db0>,\n",
       " <matplotlib.axis.XTick at 0x7f2f45602b00>,\n",
       " <matplotlib.axis.XTick at 0x7f2f4561a8c0>,\n",
       " <matplotlib.axis.XTick at 0x7f2f4561a980>,\n",
       " <matplotlib.axis.XTick at 0x7f2f4561b3a0>,\n",
       " <matplotlib.axis.XTick at 0x7f2f4561bfd0>,\n",
       " <matplotlib.axis.XTick at 0x7f2f4561bb20>,\n",
       " <matplotlib.axis.XTick at 0x7f2f45638700>,\n",
       " <matplotlib.axis.XTick at 0x7f2f45639120>,\n",
       " <matplotlib.axis.XTick at 0x7f2f45639b40>,\n",
       " <matplotlib.axis.XTick at 0x7f2f4563a560>,\n",
       " <matplotlib.axis.XTick at 0x7f2f45ac0be0>,\n",
       " <matplotlib.axis.XTick at 0x7f2f455502e0>,\n",
       " <matplotlib.axis.XTick at 0x7f2f45550340>,\n",
       " <matplotlib.axis.XTick at 0x7f2f45551480>,\n",
       " <matplotlib.axis.XTick at 0x7f2f45551ea0>,\n",
       " <matplotlib.axis.XTick at 0x7f2f45551f60>,\n",
       " <matplotlib.axis.XTick at 0x7f2f455527a0>,\n",
       " <matplotlib.axis.XTick at 0x7f2f455531c0>,\n",
       " <matplotlib.axis.XTick at 0x7f2f45553be0>,\n",
       " <matplotlib.axis.XTick at 0x7f2f45568640>,\n",
       " <matplotlib.axis.XTick at 0x7f2f45552e30>,\n",
       " <matplotlib.axis.XTick at 0x7f2f45568e20>,\n",
       " <matplotlib.axis.XTick at 0x7f2f45569840>,\n",
       " <matplotlib.axis.XTick at 0x7f2f4556a260>,\n",
       " <matplotlib.axis.XTick at 0x7f2f45552e00>,\n",
       " <matplotlib.axis.XTick at 0x7f2f45569450>,\n",
       " <matplotlib.axis.XTick at 0x7f2f4556b460>,\n",
       " <matplotlib.axis.XTick at 0x7f2f45584070>,\n",
       " <matplotlib.axis.XTick at 0x7f2f455848e0>,\n",
       " <matplotlib.axis.XTick at 0x7f2f4556bbe0>,\n",
       " <matplotlib.axis.XTick at 0x7f2f45584400>,\n",
       " <matplotlib.axis.XTick at 0x7f2f45585c00>,\n",
       " <matplotlib.axis.XTick at 0x7f2f45586620>,\n",
       " <matplotlib.axis.XTick at 0x7f2f45587040>,\n",
       " <matplotlib.axis.XTick at 0x7f2f45586dd0>,\n",
       " <matplotlib.axis.XTick at 0x7f2f45587820>,\n",
       " <matplotlib.axis.XTick at 0x7f2f455a0280>,\n",
       " <matplotlib.axis.XTick at 0x7f2f455a0ca0>,\n",
       " <matplotlib.axis.XTick at 0x7f2f45587d00>,\n",
       " <matplotlib.axis.XTick at 0x7f2f455a0d30>,\n",
       " <matplotlib.axis.XTick at 0x7f2f455a1fc0>]"
      ]
     },
     "execution_count": 12,
     "metadata": {},
     "output_type": "execute_result"
    },
    {
     "data": {
      "text/plain": [
       "[<matplotlib.axis.YTick at 0x7f2f45ac1090>,\n",
       " <matplotlib.axis.YTick at 0x7f2f45ae9810>,\n",
       " <matplotlib.axis.YTick at 0x7f2f4563af50>,\n",
       " <matplotlib.axis.YTick at 0x7f2f4563b760>,\n",
       " <matplotlib.axis.YTick at 0x7f2f456501c0>,\n",
       " <matplotlib.axis.YTick at 0x7f2f4563bdf0>,\n",
       " <matplotlib.axis.YTick at 0x7f2f45650d60>,\n",
       " <matplotlib.axis.YTick at 0x7f2f456514e0>,\n",
       " <matplotlib.axis.YTick at 0x7f2f45651f00>,\n",
       " <matplotlib.axis.YTick at 0x7f2f45652920>,\n",
       " <matplotlib.axis.YTick at 0x7f2f456529b0>,\n",
       " <matplotlib.axis.YTick at 0x7f2f45650dc0>,\n",
       " <matplotlib.axis.YTick at 0x7f2f45653c40>,\n",
       " <matplotlib.axis.YTick at 0x7f2f456746a0>,\n",
       " <matplotlib.axis.YTick at 0x7f2f456750c0>,\n",
       " <matplotlib.axis.YTick at 0x7f2f45652950>,\n",
       " <matplotlib.axis.YTick at 0x7f2f456758a0>,\n",
       " <matplotlib.axis.YTick at 0x7f2f456762c0>,\n",
       " <matplotlib.axis.YTick at 0x7f2f45676ce0>,\n",
       " <matplotlib.axis.YTick at 0x7f2f45677880>,\n",
       " <matplotlib.axis.YTick at 0x7f2f45675d80>,\n",
       " <matplotlib.axis.YTick at 0x7f2f456c4040>,\n",
       " <matplotlib.axis.YTick at 0x7f2f456c4a60>,\n",
       " <matplotlib.axis.YTick at 0x7f2f456c5480>,\n",
       " <matplotlib.axis.YTick at 0x7f2f45677c70>,\n",
       " <matplotlib.axis.YTick at 0x7f2f456c4100>,\n",
       " <matplotlib.axis.YTick at 0x7f2f456c67a0>,\n",
       " <matplotlib.axis.YTick at 0x7f2f456c71c0>,\n",
       " <matplotlib.axis.YTick at 0x7f2f456c7be0>,\n",
       " <matplotlib.axis.YTick at 0x7f2f456c7280>,\n",
       " <matplotlib.axis.YTick at 0x7f2f456e4400>,\n",
       " <matplotlib.axis.YTick at 0x7f2f456e4e20>,\n",
       " <matplotlib.axis.YTick at 0x7f2f5406edd0>,\n",
       " <matplotlib.axis.YTick at 0x7f2f455a1ab0>,\n",
       " <matplotlib.axis.YTick at 0x7f2f455a32e0>,\n",
       " <matplotlib.axis.YTick at 0x7f2f455a3f40>,\n",
       " <matplotlib.axis.YTick at 0x7f2f455bc760>,\n",
       " <matplotlib.axis.YTick at 0x7f2f455a3a60>,\n",
       " <matplotlib.axis.YTick at 0x7f2f455bc370>,\n",
       " <matplotlib.axis.YTick at 0x7f2f455bda80>,\n",
       " <matplotlib.axis.YTick at 0x7f2f455be4a0>,\n",
       " <matplotlib.axis.YTick at 0x7f2f455beec0>,\n",
       " <matplotlib.axis.YTick at 0x7f2f455bf010>,\n",
       " <matplotlib.axis.YTick at 0x7f2f455bf6a0>,\n",
       " <matplotlib.axis.YTick at 0x7f2f455e0100>,\n",
       " <matplotlib.axis.YTick at 0x7f2f455e0b20>,\n",
       " <matplotlib.axis.YTick at 0x7f2f455e1540>,\n",
       " <matplotlib.axis.YTick at 0x7f2f455e15d0>,\n",
       " <matplotlib.axis.YTick at 0x7f2f455e1c90>,\n",
       " <matplotlib.axis.YTick at 0x7f2f455e26b0>,\n",
       " <matplotlib.axis.YTick at 0x7f2f455e30d0>,\n",
       " <matplotlib.axis.YTick at 0x7f2f455bfbe0>,\n",
       " <matplotlib.axis.YTick at 0x7f2f455523b0>,\n",
       " <matplotlib.axis.YTick at 0x7f2f455e22c0>,\n",
       " <matplotlib.axis.YTick at 0x7f2f455fc280>,\n",
       " <matplotlib.axis.YTick at 0x7f2f455fcca0>,\n",
       " <matplotlib.axis.YTick at 0x7f2f4556aa10>,\n",
       " <matplotlib.axis.YTick at 0x7f2f455fc040>,\n",
       " <matplotlib.axis.YTick at 0x7f2f455fdfc0>,\n",
       " <matplotlib.axis.YTick at 0x7f2f455fe9e0>,\n",
       " <matplotlib.axis.YTick at 0x7f2f455ff400>,\n",
       " <matplotlib.axis.YTick at 0x7f2f455ff040>,\n",
       " <matplotlib.axis.YTick at 0x7f2f455ffbe0>]"
      ]
     },
     "execution_count": 12,
     "metadata": {},
     "output_type": "execute_result"
    },
    {
     "data": {
      "text/plain": [
       "[Text(0, 0, '0'),\n",
       " Text(1, 0, '10'),\n",
       " Text(2, 0, '20'),\n",
       " Text(3, 0, '30'),\n",
       " Text(4, 0, '40'),\n",
       " Text(5, 0, '50'),\n",
       " Text(6, 0, '60'),\n",
       " Text(7, 0, '70'),\n",
       " Text(8, 0, '80'),\n",
       " Text(9, 0, '90'),\n",
       " Text(10, 0, '100'),\n",
       " Text(11, 0, '110'),\n",
       " Text(12, 0, '120'),\n",
       " Text(13, 0, '130'),\n",
       " Text(14, 0, '140'),\n",
       " Text(15, 0, '150'),\n",
       " Text(16, 0, '160'),\n",
       " Text(17, 0, '170'),\n",
       " Text(18, 0, '180'),\n",
       " Text(19, 0, '190'),\n",
       " Text(20, 0, '200'),\n",
       " Text(21, 0, '210'),\n",
       " Text(22, 0, '220'),\n",
       " Text(23, 0, '230'),\n",
       " Text(24, 0, '240'),\n",
       " Text(25, 0, '250'),\n",
       " Text(26, 0, '260'),\n",
       " Text(27, 0, '270'),\n",
       " Text(28, 0, '280'),\n",
       " Text(29, 0, '290'),\n",
       " Text(30, 0, '300'),\n",
       " Text(31, 0, '310'),\n",
       " Text(32, 0, '320'),\n",
       " Text(33, 0, '330'),\n",
       " Text(34, 0, '340'),\n",
       " Text(35, 0, '350'),\n",
       " Text(36, 0, '360'),\n",
       " Text(37, 0, '370'),\n",
       " Text(38, 0, '380'),\n",
       " Text(39, 0, '390'),\n",
       " Text(40, 0, '400'),\n",
       " Text(41, 0, '410'),\n",
       " Text(42, 0, '420'),\n",
       " Text(43, 0, '430'),\n",
       " Text(44, 0, '440'),\n",
       " Text(45, 0, '450'),\n",
       " Text(46, 0, '460'),\n",
       " Text(47, 0, '470'),\n",
       " Text(48, 0, '480'),\n",
       " Text(49, 0, '490'),\n",
       " Text(50, 0, '500'),\n",
       " Text(51, 0, '510'),\n",
       " Text(52, 0, '520'),\n",
       " Text(53, 0, '530'),\n",
       " Text(54, 0, '540'),\n",
       " Text(55, 0, '550'),\n",
       " Text(56, 0, '560'),\n",
       " Text(57, 0, '570'),\n",
       " Text(58, 0, '580'),\n",
       " Text(59, 0, '590'),\n",
       " Text(60, 0, '600'),\n",
       " Text(61, 0, '610'),\n",
       " Text(62, 0, '620')]"
      ]
     },
     "execution_count": 12,
     "metadata": {},
     "output_type": "execute_result"
    },
    {
     "data": {
      "text/plain": [
       "[Text(0, 0, '0'),\n",
       " Text(0, 1, '10'),\n",
       " Text(0, 2, '20'),\n",
       " Text(0, 3, '30'),\n",
       " Text(0, 4, '40'),\n",
       " Text(0, 5, '50'),\n",
       " Text(0, 6, '60'),\n",
       " Text(0, 7, '70'),\n",
       " Text(0, 8, '80'),\n",
       " Text(0, 9, '90'),\n",
       " Text(0, 10, '100'),\n",
       " Text(0, 11, '110'),\n",
       " Text(0, 12, '120'),\n",
       " Text(0, 13, '130'),\n",
       " Text(0, 14, '140'),\n",
       " Text(0, 15, '150'),\n",
       " Text(0, 16, '160'),\n",
       " Text(0, 17, '170'),\n",
       " Text(0, 18, '180'),\n",
       " Text(0, 19, '190'),\n",
       " Text(0, 20, '200'),\n",
       " Text(0, 21, '210'),\n",
       " Text(0, 22, '220'),\n",
       " Text(0, 23, '230'),\n",
       " Text(0, 24, '240'),\n",
       " Text(0, 25, '250'),\n",
       " Text(0, 26, '260'),\n",
       " Text(0, 27, '270'),\n",
       " Text(0, 28, '280'),\n",
       " Text(0, 29, '290'),\n",
       " Text(0, 30, '300'),\n",
       " Text(0, 31, '310'),\n",
       " Text(0, 32, '320'),\n",
       " Text(0, 33, '330'),\n",
       " Text(0, 34, '340'),\n",
       " Text(0, 35, '350'),\n",
       " Text(0, 36, '360'),\n",
       " Text(0, 37, '370'),\n",
       " Text(0, 38, '380'),\n",
       " Text(0, 39, '390'),\n",
       " Text(0, 40, '400'),\n",
       " Text(0, 41, '410'),\n",
       " Text(0, 42, '420'),\n",
       " Text(0, 43, '430'),\n",
       " Text(0, 44, '440'),\n",
       " Text(0, 45, '450'),\n",
       " Text(0, 46, '460'),\n",
       " Text(0, 47, '470'),\n",
       " Text(0, 48, '480'),\n",
       " Text(0, 49, '490'),\n",
       " Text(0, 50, '500'),\n",
       " Text(0, 51, '510'),\n",
       " Text(0, 52, '520'),\n",
       " Text(0, 53, '530'),\n",
       " Text(0, 54, '540'),\n",
       " Text(0, 55, '550'),\n",
       " Text(0, 56, '560'),\n",
       " Text(0, 57, '570'),\n",
       " Text(0, 58, '580'),\n",
       " Text(0, 59, '590'),\n",
       " Text(0, 60, '600'),\n",
       " Text(0, 61, '610'),\n",
       " Text(0, 62, '620')]"
      ]
     },
     "execution_count": 12,
     "metadata": {},
     "output_type": "execute_result"
    },
    {
     "data": {
      "text/plain": [
       "Text(0.5, 1.0, 'Attention Map of Layer 26')"
      ]
     },
     "execution_count": 12,
     "metadata": {},
     "output_type": "execute_result"
    },
    {
     "data": {
      "text/plain": [
       "Text(0.5, 242.16666666666694, 'Column')"
      ]
     },
     "execution_count": 12,
     "metadata": {},
     "output_type": "execute_result"
    },
    {
     "data": {
      "text/plain": [
       "Text(187.79166666666666, 0.5, 'Row')"
      ]
     },
     "execution_count": 12,
     "metadata": {},
     "output_type": "execute_result"
    },
    {
     "data": {
      "text/plain": [
       "Text(0.5, 1.0, 'Attention from last input token to vision of Layer 26')"
      ]
     },
     "execution_count": 12,
     "metadata": {},
     "output_type": "execute_result"
    },
    {
     "data": {
      "text/plain": [
       "<matplotlib.image.AxesImage at 0x7f2f455ff010>"
      ]
     },
     "execution_count": 12,
     "metadata": {},
     "output_type": "execute_result"
    },
    {
     "data": {
      "text/plain": [
       "(0.0, 22.0)"
      ]
     },
     "execution_count": 12,
     "metadata": {},
     "output_type": "execute_result"
    },
    {
     "data": {
      "text/plain": [
       "(22.0, 0.0)"
      ]
     },
     "execution_count": 12,
     "metadata": {},
     "output_type": "execute_result"
    },
    {
     "name": "stderr",
     "output_type": "stream",
     "text": [
      "/tmp/ipykernel_1627/3125494494.py:15: MatplotlibDeprecationWarning: The get_cmap function was deprecated in Matplotlib 3.7 and will be removed in 3.11. Use ``matplotlib.colormaps[name]`` or ``matplotlib.colormaps.get_cmap()`` or ``pyplot.get_cmap()`` instead.\n",
      "  cmap = plt.cm.get_cmap(\"viridis\")\n"
     ]
    },
    {
     "data": {
      "text/plain": [
       "<Axes: >"
      ]
     },
     "execution_count": 12,
     "metadata": {},
     "output_type": "execute_result"
    },
    {
     "data": {
      "text/plain": [
       "[<matplotlib.axis.XTick at 0x7f2f457a4070>,\n",
       " <matplotlib.axis.XTick at 0x7f2f457d56c0>,\n",
       " <matplotlib.axis.XTick at 0x7f2f457d62f0>,\n",
       " <matplotlib.axis.XTick at 0x7f2f457d6380>,\n",
       " <matplotlib.axis.XTick at 0x7f2f457d75e0>,\n",
       " <matplotlib.axis.XTick at 0x7f2f457d7940>,\n",
       " <matplotlib.axis.XTick at 0x7f2f457e83a0>,\n",
       " <matplotlib.axis.XTick at 0x7f2f457e8dc0>,\n",
       " <matplotlib.axis.XTick at 0x7f2f457e97e0>,\n",
       " <matplotlib.axis.XTick at 0x7f2f457e9870>,\n",
       " <matplotlib.axis.XTick at 0x7f2f457ea0e0>,\n",
       " <matplotlib.axis.XTick at 0x7f2f457eab00>,\n",
       " <matplotlib.axis.XTick at 0x7f2f457eb520>,\n",
       " <matplotlib.axis.XTick at 0x7f2f45304100>,\n",
       " <matplotlib.axis.XTick at 0x7f2f457eabc0>,\n",
       " <matplotlib.axis.XTick at 0x7f2f453046d0>,\n",
       " <matplotlib.axis.XTick at 0x7f2f453050f0>,\n",
       " <matplotlib.axis.XTick at 0x7f2f45305b10>,\n",
       " <matplotlib.axis.XTick at 0x7f2f457ea770>,\n",
       " <matplotlib.axis.XTick at 0x7f2f45304e80>,\n",
       " <matplotlib.axis.XTick at 0x7f2f45306d10>,\n",
       " <matplotlib.axis.XTick at 0x7f2f45307730>,\n",
       " <matplotlib.axis.XTick at 0x7f2f45324190>,\n",
       " <matplotlib.axis.XTick at 0x7f2f45307c10>,\n",
       " <matplotlib.axis.XTick at 0x7f2f457d7340>,\n",
       " <matplotlib.axis.XTick at 0x7f2f45325030>,\n",
       " <matplotlib.axis.XTick at 0x7f2f45325a50>,\n",
       " <matplotlib.axis.XTick at 0x7f2f45326470>,\n",
       " <matplotlib.axis.XTick at 0x7f2f453265c0>,\n",
       " <matplotlib.axis.XTick at 0x7f2f45326c50>,\n",
       " <matplotlib.axis.XTick at 0x7f2f45327670>,\n",
       " <matplotlib.axis.XTick at 0x7f2f453380d0>,\n",
       " <matplotlib.axis.XTick at 0x7f2f4537d900>,\n",
       " <matplotlib.axis.XTick at 0x7f2f45221f60>,\n",
       " <matplotlib.axis.XTick at 0x7f2f45220bb0>,\n",
       " <matplotlib.axis.XTick at 0x7f2f45223160>,\n",
       " <matplotlib.axis.XTick at 0x7f2f45223b80>,\n",
       " <matplotlib.axis.XTick at 0x7f2f452237c0>,\n",
       " <matplotlib.axis.XTick at 0x7f2f452304c0>,\n",
       " <matplotlib.axis.XTick at 0x7f2f45230ee0>,\n",
       " <matplotlib.axis.XTick at 0x7f2f45231900>,\n",
       " <matplotlib.axis.XTick at 0x7f2f45232320>,\n",
       " <matplotlib.axis.XTick at 0x7f2f45231e10>,\n",
       " <matplotlib.axis.XTick at 0x7f2f45232b00>,\n",
       " <matplotlib.axis.XTick at 0x7f2f45233520>,\n",
       " <matplotlib.axis.XTick at 0x7f2f45258100>,\n",
       " <matplotlib.axis.XTick at 0x7f2f45233d00>,\n",
       " <matplotlib.axis.XTick at 0x7f2f45258a90>,\n",
       " <matplotlib.axis.XTick at 0x7f2f45259180>,\n",
       " <matplotlib.axis.XTick at 0x7f2f45259ba0>,\n",
       " <matplotlib.axis.XTick at 0x7f2f4525a5c0>,\n",
       " <matplotlib.axis.XTick at 0x7f2f4525a5f0>,\n",
       " <matplotlib.axis.XTick at 0x7f2f45258a00>,\n",
       " <matplotlib.axis.XTick at 0x7f2f4525b8e0>,\n",
       " <matplotlib.axis.XTick at 0x7f2f45274340>,\n",
       " <matplotlib.axis.XTick at 0x7f2f45274d60>,\n",
       " <matplotlib.axis.XTick at 0x7f2f45232fe0>,\n",
       " <matplotlib.axis.XTick at 0x7f2f45275540>,\n",
       " <matplotlib.axis.XTick at 0x7f2f45275f60>,\n",
       " <matplotlib.axis.XTick at 0x7f2f45276980>,\n",
       " <matplotlib.axis.XTick at 0x7f2f45277520>,\n",
       " <matplotlib.axis.XTick at 0x7f2f45275a20>,\n",
       " <matplotlib.axis.XTick at 0x7f2f45277ca0>]"
      ]
     },
     "execution_count": 12,
     "metadata": {},
     "output_type": "execute_result"
    },
    {
     "data": {
      "text/plain": [
       "[<matplotlib.axis.YTick at 0x7f2f457a4910>,\n",
       " <matplotlib.axis.YTick at 0x7f2f457d5690>,\n",
       " <matplotlib.axis.YTick at 0x7f2f457e9cc0>,\n",
       " <matplotlib.axis.YTick at 0x7f2f45339240>,\n",
       " <matplotlib.axis.YTick at 0x7f2f45339c60>,\n",
       " <matplotlib.axis.YTick at 0x7f2f4533a680>,\n",
       " <matplotlib.axis.YTick at 0x7f2f45327bb0>,\n",
       " <matplotlib.axis.YTick at 0x7f2f453398a0>,\n",
       " <matplotlib.axis.YTick at 0x7f2f4533b910>,\n",
       " <matplotlib.axis.YTick at 0x7f2f4535c370>,\n",
       " <matplotlib.axis.YTick at 0x7f2f4535cd90>,\n",
       " <matplotlib.axis.YTick at 0x7f2f4533b940>,\n",
       " <matplotlib.axis.YTick at 0x7f2f4535c130>,\n",
       " <matplotlib.axis.YTick at 0x7f2f4535e0b0>,\n",
       " <matplotlib.axis.YTick at 0x7f2f4535ead0>,\n",
       " <matplotlib.axis.YTick at 0x7f2f4535f4f0>,\n",
       " <matplotlib.axis.YTick at 0x7f2f4535f160>,\n",
       " <matplotlib.axis.YTick at 0x7f2f4535fcd0>,\n",
       " <matplotlib.axis.YTick at 0x7f2f4537c730>,\n",
       " <matplotlib.axis.YTick at 0x7f2f4537d150>,\n",
       " <matplotlib.axis.YTick at 0x7f2f4535fca0>,\n",
       " <matplotlib.axis.YTick at 0x7f2f4537cc10>,\n",
       " <matplotlib.axis.YTick at 0x7f2f4537e410>,\n",
       " <matplotlib.axis.YTick at 0x7f2f4537ee90>,\n",
       " <matplotlib.axis.YTick at 0x7f2f4537f8b0>,\n",
       " <matplotlib.axis.YTick at 0x7f2f4537f610>,\n",
       " <matplotlib.axis.YTick at 0x7f2f453c81f0>,\n",
       " <matplotlib.axis.YTick at 0x7f2f453c8c10>,\n",
       " <matplotlib.axis.YTick at 0x7f2f453c9630>,\n",
       " <matplotlib.axis.YTick at 0x7f2f453ca050>,\n",
       " <matplotlib.axis.YTick at 0x7f2f453ca020>,\n",
       " <matplotlib.axis.YTick at 0x7f2f453ca830>,\n",
       " <matplotlib.axis.YTick at 0x7f2f457866e0>,\n",
       " <matplotlib.axis.YTick at 0x7f2f45290820>,\n",
       " <matplotlib.axis.YTick at 0x7f2f45290fd0>,\n",
       " <matplotlib.axis.YTick at 0x7f2f452919f0>,\n",
       " <matplotlib.axis.YTick at 0x7f2f45292410>,\n",
       " <matplotlib.axis.YTick at 0x7f2f45292530>,\n",
       " <matplotlib.axis.YTick at 0x7f2f45290c10>,\n",
       " <matplotlib.axis.YTick at 0x7f2f45293730>,\n",
       " <matplotlib.axis.YTick at 0x7f2f452a4190>,\n",
       " <matplotlib.axis.YTick at 0x7f2f452a4bb0>,\n",
       " <matplotlib.axis.YTick at 0x7f2f45326ad0>,\n",
       " <matplotlib.axis.YTick at 0x7f2f452a5390>,\n",
       " <matplotlib.axis.YTick at 0x7f2f452a5db0>,\n",
       " <matplotlib.axis.YTick at 0x7f2f452a67d0>,\n",
       " <matplotlib.axis.YTick at 0x7f2f452a71f0>,\n",
       " <matplotlib.axis.YTick at 0x7f2f452a6890>,\n",
       " <matplotlib.axis.YTick at 0x7f2f452a7940>,\n",
       " <matplotlib.axis.YTick at 0x7f2f452cc3a0>,\n",
       " <matplotlib.axis.YTick at 0x7f2f452ccdc0>,\n",
       " <matplotlib.axis.YTick at 0x7f2f452a7e80>,\n",
       " <matplotlib.axis.YTick at 0x7f2f4525abf0>,\n",
       " <matplotlib.axis.YTick at 0x7f2f452ccdf0>,\n",
       " <matplotlib.axis.YTick at 0x7f2f452cdf30>,\n",
       " <matplotlib.axis.YTick at 0x7f2f452ce950>,\n",
       " <matplotlib.axis.YTick at 0x7f2f45277460>,\n",
       " <matplotlib.axis.YTick at 0x7f2f452cc5e0>,\n",
       " <matplotlib.axis.YTick at 0x7f2f452cfc70>,\n",
       " <matplotlib.axis.YTick at 0x7f2f452e86d0>,\n",
       " <matplotlib.axis.YTick at 0x7f2f452e90f0>,\n",
       " <matplotlib.axis.YTick at 0x7f2f45277430>,\n",
       " <matplotlib.axis.YTick at 0x7f2f452e98d0>]"
      ]
     },
     "execution_count": 12,
     "metadata": {},
     "output_type": "execute_result"
    },
    {
     "data": {
      "text/plain": [
       "[Text(0, 0, '0'),\n",
       " Text(1, 0, '10'),\n",
       " Text(2, 0, '20'),\n",
       " Text(3, 0, '30'),\n",
       " Text(4, 0, '40'),\n",
       " Text(5, 0, '50'),\n",
       " Text(6, 0, '60'),\n",
       " Text(7, 0, '70'),\n",
       " Text(8, 0, '80'),\n",
       " Text(9, 0, '90'),\n",
       " Text(10, 0, '100'),\n",
       " Text(11, 0, '110'),\n",
       " Text(12, 0, '120'),\n",
       " Text(13, 0, '130'),\n",
       " Text(14, 0, '140'),\n",
       " Text(15, 0, '150'),\n",
       " Text(16, 0, '160'),\n",
       " Text(17, 0, '170'),\n",
       " Text(18, 0, '180'),\n",
       " Text(19, 0, '190'),\n",
       " Text(20, 0, '200'),\n",
       " Text(21, 0, '210'),\n",
       " Text(22, 0, '220'),\n",
       " Text(23, 0, '230'),\n",
       " Text(24, 0, '240'),\n",
       " Text(25, 0, '250'),\n",
       " Text(26, 0, '260'),\n",
       " Text(27, 0, '270'),\n",
       " Text(28, 0, '280'),\n",
       " Text(29, 0, '290'),\n",
       " Text(30, 0, '300'),\n",
       " Text(31, 0, '310'),\n",
       " Text(32, 0, '320'),\n",
       " Text(33, 0, '330'),\n",
       " Text(34, 0, '340'),\n",
       " Text(35, 0, '350'),\n",
       " Text(36, 0, '360'),\n",
       " Text(37, 0, '370'),\n",
       " Text(38, 0, '380'),\n",
       " Text(39, 0, '390'),\n",
       " Text(40, 0, '400'),\n",
       " Text(41, 0, '410'),\n",
       " Text(42, 0, '420'),\n",
       " Text(43, 0, '430'),\n",
       " Text(44, 0, '440'),\n",
       " Text(45, 0, '450'),\n",
       " Text(46, 0, '460'),\n",
       " Text(47, 0, '470'),\n",
       " Text(48, 0, '480'),\n",
       " Text(49, 0, '490'),\n",
       " Text(50, 0, '500'),\n",
       " Text(51, 0, '510'),\n",
       " Text(52, 0, '520'),\n",
       " Text(53, 0, '530'),\n",
       " Text(54, 0, '540'),\n",
       " Text(55, 0, '550'),\n",
       " Text(56, 0, '560'),\n",
       " Text(57, 0, '570'),\n",
       " Text(58, 0, '580'),\n",
       " Text(59, 0, '590'),\n",
       " Text(60, 0, '600'),\n",
       " Text(61, 0, '610'),\n",
       " Text(62, 0, '620')]"
      ]
     },
     "execution_count": 12,
     "metadata": {},
     "output_type": "execute_result"
    },
    {
     "data": {
      "text/plain": [
       "[Text(0, 0, '0'),\n",
       " Text(0, 1, '10'),\n",
       " Text(0, 2, '20'),\n",
       " Text(0, 3, '30'),\n",
       " Text(0, 4, '40'),\n",
       " Text(0, 5, '50'),\n",
       " Text(0, 6, '60'),\n",
       " Text(0, 7, '70'),\n",
       " Text(0, 8, '80'),\n",
       " Text(0, 9, '90'),\n",
       " Text(0, 10, '100'),\n",
       " Text(0, 11, '110'),\n",
       " Text(0, 12, '120'),\n",
       " Text(0, 13, '130'),\n",
       " Text(0, 14, '140'),\n",
       " Text(0, 15, '150'),\n",
       " Text(0, 16, '160'),\n",
       " Text(0, 17, '170'),\n",
       " Text(0, 18, '180'),\n",
       " Text(0, 19, '190'),\n",
       " Text(0, 20, '200'),\n",
       " Text(0, 21, '210'),\n",
       " Text(0, 22, '220'),\n",
       " Text(0, 23, '230'),\n",
       " Text(0, 24, '240'),\n",
       " Text(0, 25, '250'),\n",
       " Text(0, 26, '260'),\n",
       " Text(0, 27, '270'),\n",
       " Text(0, 28, '280'),\n",
       " Text(0, 29, '290'),\n",
       " Text(0, 30, '300'),\n",
       " Text(0, 31, '310'),\n",
       " Text(0, 32, '320'),\n",
       " Text(0, 33, '330'),\n",
       " Text(0, 34, '340'),\n",
       " Text(0, 35, '350'),\n",
       " Text(0, 36, '360'),\n",
       " Text(0, 37, '370'),\n",
       " Text(0, 38, '380'),\n",
       " Text(0, 39, '390'),\n",
       " Text(0, 40, '400'),\n",
       " Text(0, 41, '410'),\n",
       " Text(0, 42, '420'),\n",
       " Text(0, 43, '430'),\n",
       " Text(0, 44, '440'),\n",
       " Text(0, 45, '450'),\n",
       " Text(0, 46, '460'),\n",
       " Text(0, 47, '470'),\n",
       " Text(0, 48, '480'),\n",
       " Text(0, 49, '490'),\n",
       " Text(0, 50, '500'),\n",
       " Text(0, 51, '510'),\n",
       " Text(0, 52, '520'),\n",
       " Text(0, 53, '530'),\n",
       " Text(0, 54, '540'),\n",
       " Text(0, 55, '550'),\n",
       " Text(0, 56, '560'),\n",
       " Text(0, 57, '570'),\n",
       " Text(0, 58, '580'),\n",
       " Text(0, 59, '590'),\n",
       " Text(0, 60, '600'),\n",
       " Text(0, 61, '610'),\n",
       " Text(0, 62, '620')]"
      ]
     },
     "execution_count": 12,
     "metadata": {},
     "output_type": "execute_result"
    },
    {
     "data": {
      "text/plain": [
       "Text(0.5, 1.0, 'Attention Map of Layer 27')"
      ]
     },
     "execution_count": 12,
     "metadata": {},
     "output_type": "execute_result"
    },
    {
     "data": {
      "text/plain": [
       "Text(0.5, 242.16666666666694, 'Column')"
      ]
     },
     "execution_count": 12,
     "metadata": {},
     "output_type": "execute_result"
    },
    {
     "data": {
      "text/plain": [
       "Text(187.79166666666666, 0.5, 'Row')"
      ]
     },
     "execution_count": 12,
     "metadata": {},
     "output_type": "execute_result"
    },
    {
     "data": {
      "text/plain": [
       "Text(0.5, 1.0, 'Attention from last input token to vision of Layer 27')"
      ]
     },
     "execution_count": 12,
     "metadata": {},
     "output_type": "execute_result"
    },
    {
     "data": {
      "text/plain": [
       "<matplotlib.image.AxesImage at 0x7f2f452ea3b0>"
      ]
     },
     "execution_count": 12,
     "metadata": {},
     "output_type": "execute_result"
    },
    {
     "data": {
      "text/plain": [
       "(0.0, 22.0)"
      ]
     },
     "execution_count": 12,
     "metadata": {},
     "output_type": "execute_result"
    },
    {
     "data": {
      "text/plain": [
       "(22.0, 0.0)"
      ]
     },
     "execution_count": 12,
     "metadata": {},
     "output_type": "execute_result"
    },
    {
     "name": "stderr",
     "output_type": "stream",
     "text": [
      "/tmp/ipykernel_1627/3125494494.py:15: MatplotlibDeprecationWarning: The get_cmap function was deprecated in Matplotlib 3.7 and will be removed in 3.11. Use ``matplotlib.colormaps[name]`` or ``matplotlib.colormaps.get_cmap()`` or ``pyplot.get_cmap()`` instead.\n",
      "  cmap = plt.cm.get_cmap(\"viridis\")\n"
     ]
    },
    {
     "data": {
      "text/plain": [
       "<Axes: >"
      ]
     },
     "execution_count": 12,
     "metadata": {},
     "output_type": "execute_result"
    },
    {
     "data": {
      "text/plain": [
       "[<matplotlib.axis.XTick at 0x7f2f4dd11ab0>,\n",
       " <matplotlib.axis.XTick at 0x7f2f454c4520>,\n",
       " <matplotlib.axis.XTick at 0x7f2f454c5150>,\n",
       " <matplotlib.axis.XTick at 0x7f2f454c51e0>,\n",
       " <matplotlib.axis.XTick at 0x7f2f454c6440>,\n",
       " <matplotlib.axis.XTick at 0x7f2f454c67a0>,\n",
       " <matplotlib.axis.XTick at 0x7f2f454c71c0>,\n",
       " <matplotlib.axis.XTick at 0x7f2f454c7be0>,\n",
       " <matplotlib.axis.XTick at 0x7f2f454dc640>,\n",
       " <matplotlib.axis.XTick at 0x7f2f454c7190>,\n",
       " <matplotlib.axis.XTick at 0x7f2f454dcf40>,\n",
       " <matplotlib.axis.XTick at 0x7f2f454dd960>,\n",
       " <matplotlib.axis.XTick at 0x7f2f454de380>,\n",
       " <matplotlib.axis.XTick at 0x7f2f454deda0>,\n",
       " <matplotlib.axis.XTick at 0x7f2f454de0e0>,\n",
       " <matplotlib.axis.XTick at 0x7f2f454df4f0>,\n",
       " <matplotlib.axis.XTick at 0x7f2f454f40d0>,\n",
       " <matplotlib.axis.XTick at 0x7f2f454f4970>,\n",
       " <matplotlib.axis.XTick at 0x7f2f454dfca0>,\n",
       " <matplotlib.axis.XTick at 0x7f2f454f4e80>,\n",
       " <matplotlib.axis.XTick at 0x7f2f454f5b70>,\n",
       " <matplotlib.axis.XTick at 0x7f2f454f6590>,\n",
       " <matplotlib.axis.XTick at 0x7f2f454f6fb0>,\n",
       " <matplotlib.axis.XTick at 0x7f2f454c61a0>,\n",
       " <matplotlib.axis.XTick at 0x7f2f454f5c30>,\n",
       " <matplotlib.axis.XTick at 0x7f2f45018190>,\n",
       " <matplotlib.axis.XTick at 0x7f2f450188b0>,\n",
       " <matplotlib.axis.XTick at 0x7f2f450192d0>,\n",
       " <matplotlib.axis.XTick at 0x7f2f454dcb80>,\n",
       " <matplotlib.axis.XTick at 0x7f2f45019ab0>,\n",
       " <matplotlib.axis.XTick at 0x7f2f4501a4d0>,\n",
       " <matplotlib.axis.XTick at 0x7f2f4501aef0>,\n",
       " <matplotlib.axis.XTick at 0x7f2f45483e50>,\n",
       " <matplotlib.axis.XTick at 0x7f2f44f1c9a0>,\n",
       " <matplotlib.axis.XTick at 0x7f2f44f1cdf0>,\n",
       " <matplotlib.axis.XTick at 0x7f2f44f1e050>,\n",
       " <matplotlib.axis.XTick at 0x7f2f44f1ea70>,\n",
       " <matplotlib.axis.XTick at 0x7f2f44f1eb30>,\n",
       " <matplotlib.axis.XTick at 0x7f2f44f1f370>,\n",
       " <matplotlib.axis.XTick at 0x7f2f44f1ffd0>,\n",
       " <matplotlib.axis.XTick at 0x7f2f44f2c7f0>,\n",
       " <matplotlib.axis.XTick at 0x7f2f44f2d210>,\n",
       " <matplotlib.axis.XTick at 0x7f2f44f2d330>,\n",
       " <matplotlib.axis.XTick at 0x7f2f44f2d9f0>,\n",
       " <matplotlib.axis.XTick at 0x7f2f44f2e410>,\n",
       " <matplotlib.axis.XTick at 0x7f2f44f2ee30>,\n",
       " <matplotlib.axis.XTick at 0x7f2f44f1d5d0>,\n",
       " <matplotlib.axis.XTick at 0x7f2f44f2e020>,\n",
       " <matplotlib.axis.XTick at 0x7f2f44f54070>,\n",
       " <matplotlib.axis.XTick at 0x7f2f44f54a90>,\n",
       " <matplotlib.axis.XTick at 0x7f2f44f554b0>,\n",
       " <matplotlib.axis.XTick at 0x7f2f44f2f4c0>,\n",
       " <matplotlib.axis.XTick at 0x7f2f44f54130>,\n",
       " <matplotlib.axis.XTick at 0x7f2f44f567d0>,\n",
       " <matplotlib.axis.XTick at 0x7f2f44f571f0>,\n",
       " <matplotlib.axis.XTick at 0x7f2f44f57c10>,\n",
       " <matplotlib.axis.XTick at 0x7f2f44f572b0>,\n",
       " <matplotlib.axis.XTick at 0x7f2f44f70430>,\n",
       " <matplotlib.axis.XTick at 0x7f2f44f70e50>,\n",
       " <matplotlib.axis.XTick at 0x7f2f44f71870>,\n",
       " <matplotlib.axis.XTick at 0x7f2f44f54ac0>,\n",
       " <matplotlib.axis.XTick at 0x7f2f44f70e20>,\n",
       " <matplotlib.axis.XTick at 0x7f2f44f72b90>]"
      ]
     },
     "execution_count": 12,
     "metadata": {},
     "output_type": "execute_result"
    },
    {
     "data": {
      "text/plain": [
       "[<matplotlib.axis.YTick at 0x7f2f4dd13e20>,\n",
       " <matplotlib.axis.YTick at 0x7f2f454c44f0>,\n",
       " <matplotlib.axis.YTick at 0x7f2f4501aa10>,\n",
       " <matplotlib.axis.YTick at 0x7f2f450340a0>,\n",
       " <matplotlib.axis.YTick at 0x7f2f45034ac0>,\n",
       " <matplotlib.axis.YTick at 0x7f2f450354e0>,\n",
       " <matplotlib.axis.YTick at 0x7f2f45018970>,\n",
       " <matplotlib.axis.YTick at 0x7f2f45034be0>,\n",
       " <matplotlib.axis.YTick at 0x7f2f45036770>,\n",
       " <matplotlib.axis.YTick at 0x7f2f45037190>,\n",
       " <matplotlib.axis.YTick at 0x7f2f45037bb0>,\n",
       " <matplotlib.axis.YTick at 0x7f2f45037910>,\n",
       " <matplotlib.axis.YTick at 0x7f2f450504f0>,\n",
       " <matplotlib.axis.YTick at 0x7f2f45050f10>,\n",
       " <matplotlib.axis.YTick at 0x7f2f45051930>,\n",
       " <matplotlib.axis.YTick at 0x7f2f45052350>,\n",
       " <matplotlib.axis.YTick at 0x7f2f45052320>,\n",
       " <matplotlib.axis.YTick at 0x7f2f45052b30>,\n",
       " <matplotlib.axis.YTick at 0x7f2f45053550>,\n",
       " <matplotlib.axis.YTick at 0x7f2f4506c130>,\n",
       " <matplotlib.axis.YTick at 0x7f2f45053b80>,\n",
       " <matplotlib.axis.YTick at 0x7f2f4506ca30>,\n",
       " <matplotlib.axis.YTick at 0x7f2f4506d2d0>,\n",
       " <matplotlib.axis.YTick at 0x7f2f4506dcf0>,\n",
       " <matplotlib.axis.YTick at 0x7f2f4506e710>,\n",
       " <matplotlib.axis.YTick at 0x7f2f4506e6e0>,\n",
       " <matplotlib.axis.YTick at 0x7f2f4506cac0>,\n",
       " <matplotlib.axis.YTick at 0x7f2f4506fa30>,\n",
       " <matplotlib.axis.YTick at 0x7f2f450c0490>,\n",
       " <matplotlib.axis.YTick at 0x7f2f450c0eb0>,\n",
       " <matplotlib.axis.YTick at 0x7f2f4506f550>,\n",
       " <matplotlib.axis.YTick at 0x7f2f450c1690>,\n",
       " <matplotlib.axis.YTick at 0x7f2f454806d0>,\n",
       " <matplotlib.axis.YTick at 0x7f2f44f71d80>,\n",
       " <matplotlib.axis.YTick at 0x7f2f44f8c160>,\n",
       " <matplotlib.axis.YTick at 0x7f2f44f8ca00>,\n",
       " <matplotlib.axis.YTick at 0x7f2f44f8d420>,\n",
       " <matplotlib.axis.YTick at 0x7f2f44f03220>,\n",
       " <matplotlib.axis.YTick at 0x7f2f44f8c0a0>,\n",
       " <matplotlib.axis.YTick at 0x7f2f44f8e740>,\n",
       " <matplotlib.axis.YTick at 0x7f2f44f8f160>,\n",
       " <matplotlib.axis.YTick at 0x7f2f44f8fb80>,\n",
       " <matplotlib.axis.YTick at 0x7f2f44f8eec0>,\n",
       " <matplotlib.axis.YTick at 0x7f2f44fa43a0>,\n",
       " <matplotlib.axis.YTick at 0x7f2f44fa4dc0>,\n",
       " <matplotlib.axis.YTick at 0x7f2f44fa57e0>,\n",
       " <matplotlib.axis.YTick at 0x7f2f44f8cf40>,\n",
       " <matplotlib.axis.YTick at 0x7f2f44fa5300>,\n",
       " <matplotlib.axis.YTick at 0x7f2f44fa6a70>,\n",
       " <matplotlib.axis.YTick at 0x7f2f44fa7490>,\n",
       " <matplotlib.axis.YTick at 0x7f2f44fc40a0>,\n",
       " <matplotlib.axis.YTick at 0x7f2f44fa7c40>,\n",
       " <matplotlib.axis.YTick at 0x7f2f44fa6320>,\n",
       " <matplotlib.axis.YTick at 0x7f2f44fc4040>,\n",
       " <matplotlib.axis.YTick at 0x7f2f44fc5060>,\n",
       " <matplotlib.axis.YTick at 0x7f2f44fc5a80>,\n",
       " <matplotlib.axis.YTick at 0x7f2f44fa5f90>,\n",
       " <matplotlib.axis.YTick at 0x7f2f44fc6260>,\n",
       " <matplotlib.axis.YTick at 0x7f2f44fc6c80>,\n",
       " <matplotlib.axis.YTick at 0x7f2f44fc76a0>,\n",
       " <matplotlib.axis.YTick at 0x7f2f44fe4100>,\n",
       " <matplotlib.axis.YTick at 0x7f2f44fc6c50>,\n",
       " <matplotlib.axis.YTick at 0x7f2f44fe4850>]"
      ]
     },
     "execution_count": 12,
     "metadata": {},
     "output_type": "execute_result"
    },
    {
     "data": {
      "text/plain": [
       "[Text(0, 0, '0'),\n",
       " Text(1, 0, '10'),\n",
       " Text(2, 0, '20'),\n",
       " Text(3, 0, '30'),\n",
       " Text(4, 0, '40'),\n",
       " Text(5, 0, '50'),\n",
       " Text(6, 0, '60'),\n",
       " Text(7, 0, '70'),\n",
       " Text(8, 0, '80'),\n",
       " Text(9, 0, '90'),\n",
       " Text(10, 0, '100'),\n",
       " Text(11, 0, '110'),\n",
       " Text(12, 0, '120'),\n",
       " Text(13, 0, '130'),\n",
       " Text(14, 0, '140'),\n",
       " Text(15, 0, '150'),\n",
       " Text(16, 0, '160'),\n",
       " Text(17, 0, '170'),\n",
       " Text(18, 0, '180'),\n",
       " Text(19, 0, '190'),\n",
       " Text(20, 0, '200'),\n",
       " Text(21, 0, '210'),\n",
       " Text(22, 0, '220'),\n",
       " Text(23, 0, '230'),\n",
       " Text(24, 0, '240'),\n",
       " Text(25, 0, '250'),\n",
       " Text(26, 0, '260'),\n",
       " Text(27, 0, '270'),\n",
       " Text(28, 0, '280'),\n",
       " Text(29, 0, '290'),\n",
       " Text(30, 0, '300'),\n",
       " Text(31, 0, '310'),\n",
       " Text(32, 0, '320'),\n",
       " Text(33, 0, '330'),\n",
       " Text(34, 0, '340'),\n",
       " Text(35, 0, '350'),\n",
       " Text(36, 0, '360'),\n",
       " Text(37, 0, '370'),\n",
       " Text(38, 0, '380'),\n",
       " Text(39, 0, '390'),\n",
       " Text(40, 0, '400'),\n",
       " Text(41, 0, '410'),\n",
       " Text(42, 0, '420'),\n",
       " Text(43, 0, '430'),\n",
       " Text(44, 0, '440'),\n",
       " Text(45, 0, '450'),\n",
       " Text(46, 0, '460'),\n",
       " Text(47, 0, '470'),\n",
       " Text(48, 0, '480'),\n",
       " Text(49, 0, '490'),\n",
       " Text(50, 0, '500'),\n",
       " Text(51, 0, '510'),\n",
       " Text(52, 0, '520'),\n",
       " Text(53, 0, '530'),\n",
       " Text(54, 0, '540'),\n",
       " Text(55, 0, '550'),\n",
       " Text(56, 0, '560'),\n",
       " Text(57, 0, '570'),\n",
       " Text(58, 0, '580'),\n",
       " Text(59, 0, '590'),\n",
       " Text(60, 0, '600'),\n",
       " Text(61, 0, '610'),\n",
       " Text(62, 0, '620')]"
      ]
     },
     "execution_count": 12,
     "metadata": {},
     "output_type": "execute_result"
    },
    {
     "data": {
      "text/plain": [
       "[Text(0, 0, '0'),\n",
       " Text(0, 1, '10'),\n",
       " Text(0, 2, '20'),\n",
       " Text(0, 3, '30'),\n",
       " Text(0, 4, '40'),\n",
       " Text(0, 5, '50'),\n",
       " Text(0, 6, '60'),\n",
       " Text(0, 7, '70'),\n",
       " Text(0, 8, '80'),\n",
       " Text(0, 9, '90'),\n",
       " Text(0, 10, '100'),\n",
       " Text(0, 11, '110'),\n",
       " Text(0, 12, '120'),\n",
       " Text(0, 13, '130'),\n",
       " Text(0, 14, '140'),\n",
       " Text(0, 15, '150'),\n",
       " Text(0, 16, '160'),\n",
       " Text(0, 17, '170'),\n",
       " Text(0, 18, '180'),\n",
       " Text(0, 19, '190'),\n",
       " Text(0, 20, '200'),\n",
       " Text(0, 21, '210'),\n",
       " Text(0, 22, '220'),\n",
       " Text(0, 23, '230'),\n",
       " Text(0, 24, '240'),\n",
       " Text(0, 25, '250'),\n",
       " Text(0, 26, '260'),\n",
       " Text(0, 27, '270'),\n",
       " Text(0, 28, '280'),\n",
       " Text(0, 29, '290'),\n",
       " Text(0, 30, '300'),\n",
       " Text(0, 31, '310'),\n",
       " Text(0, 32, '320'),\n",
       " Text(0, 33, '330'),\n",
       " Text(0, 34, '340'),\n",
       " Text(0, 35, '350'),\n",
       " Text(0, 36, '360'),\n",
       " Text(0, 37, '370'),\n",
       " Text(0, 38, '380'),\n",
       " Text(0, 39, '390'),\n",
       " Text(0, 40, '400'),\n",
       " Text(0, 41, '410'),\n",
       " Text(0, 42, '420'),\n",
       " Text(0, 43, '430'),\n",
       " Text(0, 44, '440'),\n",
       " Text(0, 45, '450'),\n",
       " Text(0, 46, '460'),\n",
       " Text(0, 47, '470'),\n",
       " Text(0, 48, '480'),\n",
       " Text(0, 49, '490'),\n",
       " Text(0, 50, '500'),\n",
       " Text(0, 51, '510'),\n",
       " Text(0, 52, '520'),\n",
       " Text(0, 53, '530'),\n",
       " Text(0, 54, '540'),\n",
       " Text(0, 55, '550'),\n",
       " Text(0, 56, '560'),\n",
       " Text(0, 57, '570'),\n",
       " Text(0, 58, '580'),\n",
       " Text(0, 59, '590'),\n",
       " Text(0, 60, '600'),\n",
       " Text(0, 61, '610'),\n",
       " Text(0, 62, '620')]"
      ]
     },
     "execution_count": 12,
     "metadata": {},
     "output_type": "execute_result"
    },
    {
     "data": {
      "text/plain": [
       "Text(0.5, 1.0, 'Attention Map of Layer 28')"
      ]
     },
     "execution_count": 12,
     "metadata": {},
     "output_type": "execute_result"
    },
    {
     "data": {
      "text/plain": [
       "Text(0.5, 242.16666666666694, 'Column')"
      ]
     },
     "execution_count": 12,
     "metadata": {},
     "output_type": "execute_result"
    },
    {
     "data": {
      "text/plain": [
       "Text(187.79166666666666, 0.5, 'Row')"
      ]
     },
     "execution_count": 12,
     "metadata": {},
     "output_type": "execute_result"
    },
    {
     "data": {
      "text/plain": [
       "Text(0.5, 1.0, 'Attention from last input token to vision of Layer 28')"
      ]
     },
     "execution_count": 12,
     "metadata": {},
     "output_type": "execute_result"
    },
    {
     "data": {
      "text/plain": [
       "<matplotlib.image.AxesImage at 0x7f2f45483a00>"
      ]
     },
     "execution_count": 12,
     "metadata": {},
     "output_type": "execute_result"
    },
    {
     "data": {
      "text/plain": [
       "(0.0, 22.0)"
      ]
     },
     "execution_count": 12,
     "metadata": {},
     "output_type": "execute_result"
    },
    {
     "data": {
      "text/plain": [
       "(22.0, 0.0)"
      ]
     },
     "execution_count": 12,
     "metadata": {},
     "output_type": "execute_result"
    },
    {
     "name": "stderr",
     "output_type": "stream",
     "text": [
      "/tmp/ipykernel_1627/3125494494.py:15: MatplotlibDeprecationWarning: The get_cmap function was deprecated in Matplotlib 3.7 and will be removed in 3.11. Use ``matplotlib.colormaps[name]`` or ``matplotlib.colormaps.get_cmap()`` or ``pyplot.get_cmap()`` instead.\n",
      "  cmap = plt.cm.get_cmap(\"viridis\")\n"
     ]
    },
    {
     "data": {
      "text/plain": [
       "<Axes: >"
      ]
     },
     "execution_count": 12,
     "metadata": {},
     "output_type": "execute_result"
    },
    {
     "data": {
      "text/plain": [
       "[<matplotlib.axis.XTick at 0x7f2f4517afb0>,\n",
       " <matplotlib.axis.XTick at 0x7f2f45193340>,\n",
       " <matplotlib.axis.XTick at 0x7f2f451b01c0>,\n",
       " <matplotlib.axis.XTick at 0x7f2f451b0250>,\n",
       " <matplotlib.axis.XTick at 0x7f2f451b14b0>,\n",
       " <matplotlib.axis.XTick at 0x7f2f45193d30>,\n",
       " <matplotlib.axis.XTick at 0x7f2f451b06d0>,\n",
       " <matplotlib.axis.XTick at 0x7f2f451b2980>,\n",
       " <matplotlib.axis.XTick at 0x7f2f451b33a0>,\n",
       " <matplotlib.axis.XTick at 0x7f2f451b3fd0>,\n",
       " <matplotlib.axis.XTick at 0x7f2f451b3a30>,\n",
       " <matplotlib.axis.XTick at 0x7f2f451c8700>,\n",
       " <matplotlib.axis.XTick at 0x7f2f451c9120>,\n",
       " <matplotlib.axis.XTick at 0x7f2f451c9b40>,\n",
       " <matplotlib.axis.XTick at 0x7f2f451ca560>,\n",
       " <matplotlib.axis.XTick at 0x7f2f451ca170>,\n",
       " <matplotlib.axis.XTick at 0x7f2f451cad40>,\n",
       " <matplotlib.axis.XTick at 0x7f2f451cb760>,\n",
       " <matplotlib.axis.XTick at 0x7f2f451e41c0>,\n",
       " <matplotlib.axis.XTick at 0x7f2f451cbdf0>,\n",
       " <matplotlib.axis.XTick at 0x7f2f451e4c40>,\n",
       " <matplotlib.axis.XTick at 0x7f2f451e5450>,\n",
       " <matplotlib.axis.XTick at 0x7f2f451e5e70>,\n",
       " <matplotlib.axis.XTick at 0x7f2f451e6890>,\n",
       " <matplotlib.axis.XTick at 0x7f2f451cb250>,\n",
       " <matplotlib.axis.XTick at 0x7f2f451e5bd0>,\n",
       " <matplotlib.axis.XTick at 0x7f2f451e74f0>,\n",
       " <matplotlib.axis.XTick at 0x7f2f44d6c0d0>,\n",
       " <matplotlib.axis.XTick at 0x7f2f44d6c970>,\n",
       " <matplotlib.axis.XTick at 0x7f2f451e7610>,\n",
       " <matplotlib.axis.XTick at 0x7f2f44d6d150>,\n",
       " <matplotlib.axis.XTick at 0x7f2f44d6db70>,\n",
       " <matplotlib.axis.XTick at 0x7f2f451935e0>,\n",
       " <matplotlib.axis.XTick at 0x7f2f44d581c0>,\n",
       " <matplotlib.axis.XTick at 0x7f2f44e005b0>,\n",
       " <matplotlib.axis.XTick at 0x7f2f44e00dc0>,\n",
       " <matplotlib.axis.XTick at 0x7f2f44e017e0>,\n",
       " <matplotlib.axis.XTick at 0x7f2f44e01870>,\n",
       " <matplotlib.axis.XTick at 0x7f2f44e020e0>,\n",
       " <matplotlib.axis.XTick at 0x7f2f44e02b00>,\n",
       " <matplotlib.axis.XTick at 0x7f2f44e03520>,\n",
       " <matplotlib.axis.XTick at 0x7f2f44e03b50>,\n",
       " <matplotlib.axis.XTick at 0x7f2f44e03760>,\n",
       " <matplotlib.axis.XTick at 0x7f2f44e247f0>,\n",
       " <matplotlib.axis.XTick at 0x7f2f44e25210>,\n",
       " <matplotlib.axis.XTick at 0x7f2f44e25c30>,\n",
       " <matplotlib.axis.XTick at 0x7f2f44e25cf0>,\n",
       " <matplotlib.axis.XTick at 0x7f2f44e24310>,\n",
       " <matplotlib.axis.XTick at 0x7f2f44e26f50>,\n",
       " <matplotlib.axis.XTick at 0x7f2f44e27970>,\n",
       " <matplotlib.axis.XTick at 0x7f2f44e3c3d0>,\n",
       " <matplotlib.axis.XTick at 0x7f2f44e26f80>,\n",
       " <matplotlib.axis.XTick at 0x7f2f44e3cbb0>,\n",
       " <matplotlib.axis.XTick at 0x7f2f44e3d5d0>,\n",
       " <matplotlib.axis.XTick at 0x7f2f44e3dff0>,\n",
       " <matplotlib.axis.XTick at 0x7f2f44e25360>,\n",
       " <matplotlib.axis.XTick at 0x7f2f44e3d330>,\n",
       " <matplotlib.axis.XTick at 0x7f2f44e3f310>,\n",
       " <matplotlib.axis.XTick at 0x7f2f44e3ff70>,\n",
       " <matplotlib.axis.XTick at 0x7f2f44e58790>,\n",
       " <matplotlib.axis.XTick at 0x7f2f44e3fa90>,\n",
       " <matplotlib.axis.XTick at 0x7f2f44e582b0>,\n",
       " <matplotlib.axis.XTick at 0x7f2f44e59ab0>]"
      ]
     },
     "execution_count": 12,
     "metadata": {},
     "output_type": "execute_result"
    },
    {
     "data": {
      "text/plain": [
       "[<matplotlib.axis.YTick at 0x7f2f45179540>,\n",
       " <matplotlib.axis.YTick at 0x7f2f451933a0>,\n",
       " <matplotlib.axis.YTick at 0x7f2f44d6f1c0>,\n",
       " <matplotlib.axis.YTick at 0x7f2f44d6eaa0>,\n",
       " <matplotlib.axis.YTick at 0x7f2f44d6f700>,\n",
       " <matplotlib.axis.YTick at 0x7f2f44d24160>,\n",
       " <matplotlib.axis.YTick at 0x7f2f44d24b80>,\n",
       " <matplotlib.axis.YTick at 0x7f2f44d6fd90>,\n",
       " <matplotlib.axis.YTick at 0x7f2f44d24ca0>,\n",
       " <matplotlib.axis.YTick at 0x7f2f44d25e10>,\n",
       " <matplotlib.axis.YTick at 0x7f2f44d26830>,\n",
       " <matplotlib.axis.YTick at 0x7f2f44d27250>,\n",
       " <matplotlib.axis.YTick at 0x7f2f44d27b50>,\n",
       " <matplotlib.axis.YTick at 0x7f2f44d25690>,\n",
       " <matplotlib.axis.YTick at 0x7f2f44d3c5b0>,\n",
       " <matplotlib.axis.YTick at 0x7f2f44d3cfd0>,\n",
       " <matplotlib.axis.YTick at 0x7f2f44d3d9f0>,\n",
       " <matplotlib.axis.YTick at 0x7f2f44d3e050>,\n",
       " <matplotlib.axis.YTick at 0x7f2f44d3e1d0>,\n",
       " <matplotlib.axis.YTick at 0x7f2f44d3ebf0>,\n",
       " <matplotlib.axis.YTick at 0x7f2f44d3f610>,\n",
       " <matplotlib.axis.YTick at 0x7f2f44d3fb20>,\n",
       " <matplotlib.axis.YTick at 0x7f2f44d58250>,\n",
       " <matplotlib.axis.YTick at 0x7f2f44d58970>,\n",
       " <matplotlib.axis.YTick at 0x7f2f44d59390>,\n",
       " <matplotlib.axis.YTick at 0x7f2f44d59db0>,\n",
       " <matplotlib.axis.YTick at 0x7f2f44d59e70>,\n",
       " <matplotlib.axis.YTick at 0x7f2f44d58490>,\n",
       " <matplotlib.axis.YTick at 0x7f2f44d5b0d0>,\n",
       " <matplotlib.axis.YTick at 0x7f2f44d5baf0>,\n",
       " <matplotlib.axis.YTick at 0x7f2f44da0550>,\n",
       " <matplotlib.axis.YTick at 0x7f2f44d5b160>,\n",
       " <matplotlib.axis.YTick at 0x7f2f4515f460>,\n",
       " <matplotlib.axis.YTick at 0x7f2f44e59150>,\n",
       " <matplotlib.axis.YTick at 0x7f2f44e5af80>,\n",
       " <matplotlib.axis.YTick at 0x7f2f44e5b9a0>,\n",
       " <matplotlib.axis.YTick at 0x7f2f44e74400>,\n",
       " <matplotlib.axis.YTick at 0x7f2f44e5baf0>,\n",
       " <matplotlib.axis.YTick at 0x7f2f44e74040>,\n",
       " <matplotlib.axis.YTick at 0x7f2f44e75720>,\n",
       " <matplotlib.axis.YTick at 0x7f2f44e76140>,\n",
       " <matplotlib.axis.YTick at 0x7f2f44e76b60>,\n",
       " <matplotlib.axis.YTick at 0x7f2f44e76bf0>,\n",
       " <matplotlib.axis.YTick at 0x7f2f44e77340>,\n",
       " <matplotlib.axis.YTick at 0x7f2f44e77fa0>,\n",
       " <matplotlib.axis.YTick at 0x7f2f44e907c0>,\n",
       " <matplotlib.axis.YTick at 0x7f2f44e911e0>,\n",
       " <matplotlib.axis.YTick at 0x7f2f44e91300>,\n",
       " <matplotlib.axis.YTick at 0x7f2f44e91930>,\n",
       " <matplotlib.axis.YTick at 0x7f2f44e92350>,\n",
       " <matplotlib.axis.YTick at 0x7f2f44e92d70>,\n",
       " <matplotlib.axis.YTick at 0x7f2f44e77df0>,\n",
       " <matplotlib.axis.YTick at 0x7f2f44e91fc0>,\n",
       " <matplotlib.axis.YTick at 0x7f2f44eb4130>,\n",
       " <matplotlib.axis.YTick at 0x7f2f44eb49d0>,\n",
       " <matplotlib.axis.YTick at 0x7f2f44eb53f0>,\n",
       " <matplotlib.axis.YTick at 0x7f2f44e93bb0>,\n",
       " <matplotlib.axis.YTick at 0x7f2f44e262c0>,\n",
       " <matplotlib.axis.YTick at 0x7f2f44eb49a0>,\n",
       " <matplotlib.axis.YTick at 0x7f2f44eb6440>,\n",
       " <matplotlib.axis.YTick at 0x7f2f44eb6e60>,\n",
       " <matplotlib.axis.YTick at 0x7f2f44eb6f20>,\n",
       " <matplotlib.axis.YTick at 0x7f2f44eb7640>]"
      ]
     },
     "execution_count": 12,
     "metadata": {},
     "output_type": "execute_result"
    },
    {
     "data": {
      "text/plain": [
       "[Text(0, 0, '0'),\n",
       " Text(1, 0, '10'),\n",
       " Text(2, 0, '20'),\n",
       " Text(3, 0, '30'),\n",
       " Text(4, 0, '40'),\n",
       " Text(5, 0, '50'),\n",
       " Text(6, 0, '60'),\n",
       " Text(7, 0, '70'),\n",
       " Text(8, 0, '80'),\n",
       " Text(9, 0, '90'),\n",
       " Text(10, 0, '100'),\n",
       " Text(11, 0, '110'),\n",
       " Text(12, 0, '120'),\n",
       " Text(13, 0, '130'),\n",
       " Text(14, 0, '140'),\n",
       " Text(15, 0, '150'),\n",
       " Text(16, 0, '160'),\n",
       " Text(17, 0, '170'),\n",
       " Text(18, 0, '180'),\n",
       " Text(19, 0, '190'),\n",
       " Text(20, 0, '200'),\n",
       " Text(21, 0, '210'),\n",
       " Text(22, 0, '220'),\n",
       " Text(23, 0, '230'),\n",
       " Text(24, 0, '240'),\n",
       " Text(25, 0, '250'),\n",
       " Text(26, 0, '260'),\n",
       " Text(27, 0, '270'),\n",
       " Text(28, 0, '280'),\n",
       " Text(29, 0, '290'),\n",
       " Text(30, 0, '300'),\n",
       " Text(31, 0, '310'),\n",
       " Text(32, 0, '320'),\n",
       " Text(33, 0, '330'),\n",
       " Text(34, 0, '340'),\n",
       " Text(35, 0, '350'),\n",
       " Text(36, 0, '360'),\n",
       " Text(37, 0, '370'),\n",
       " Text(38, 0, '380'),\n",
       " Text(39, 0, '390'),\n",
       " Text(40, 0, '400'),\n",
       " Text(41, 0, '410'),\n",
       " Text(42, 0, '420'),\n",
       " Text(43, 0, '430'),\n",
       " Text(44, 0, '440'),\n",
       " Text(45, 0, '450'),\n",
       " Text(46, 0, '460'),\n",
       " Text(47, 0, '470'),\n",
       " Text(48, 0, '480'),\n",
       " Text(49, 0, '490'),\n",
       " Text(50, 0, '500'),\n",
       " Text(51, 0, '510'),\n",
       " Text(52, 0, '520'),\n",
       " Text(53, 0, '530'),\n",
       " Text(54, 0, '540'),\n",
       " Text(55, 0, '550'),\n",
       " Text(56, 0, '560'),\n",
       " Text(57, 0, '570'),\n",
       " Text(58, 0, '580'),\n",
       " Text(59, 0, '590'),\n",
       " Text(60, 0, '600'),\n",
       " Text(61, 0, '610'),\n",
       " Text(62, 0, '620')]"
      ]
     },
     "execution_count": 12,
     "metadata": {},
     "output_type": "execute_result"
    },
    {
     "data": {
      "text/plain": [
       "[Text(0, 0, '0'),\n",
       " Text(0, 1, '10'),\n",
       " Text(0, 2, '20'),\n",
       " Text(0, 3, '30'),\n",
       " Text(0, 4, '40'),\n",
       " Text(0, 5, '50'),\n",
       " Text(0, 6, '60'),\n",
       " Text(0, 7, '70'),\n",
       " Text(0, 8, '80'),\n",
       " Text(0, 9, '90'),\n",
       " Text(0, 10, '100'),\n",
       " Text(0, 11, '110'),\n",
       " Text(0, 12, '120'),\n",
       " Text(0, 13, '130'),\n",
       " Text(0, 14, '140'),\n",
       " Text(0, 15, '150'),\n",
       " Text(0, 16, '160'),\n",
       " Text(0, 17, '170'),\n",
       " Text(0, 18, '180'),\n",
       " Text(0, 19, '190'),\n",
       " Text(0, 20, '200'),\n",
       " Text(0, 21, '210'),\n",
       " Text(0, 22, '220'),\n",
       " Text(0, 23, '230'),\n",
       " Text(0, 24, '240'),\n",
       " Text(0, 25, '250'),\n",
       " Text(0, 26, '260'),\n",
       " Text(0, 27, '270'),\n",
       " Text(0, 28, '280'),\n",
       " Text(0, 29, '290'),\n",
       " Text(0, 30, '300'),\n",
       " Text(0, 31, '310'),\n",
       " Text(0, 32, '320'),\n",
       " Text(0, 33, '330'),\n",
       " Text(0, 34, '340'),\n",
       " Text(0, 35, '350'),\n",
       " Text(0, 36, '360'),\n",
       " Text(0, 37, '370'),\n",
       " Text(0, 38, '380'),\n",
       " Text(0, 39, '390'),\n",
       " Text(0, 40, '400'),\n",
       " Text(0, 41, '410'),\n",
       " Text(0, 42, '420'),\n",
       " Text(0, 43, '430'),\n",
       " Text(0, 44, '440'),\n",
       " Text(0, 45, '450'),\n",
       " Text(0, 46, '460'),\n",
       " Text(0, 47, '470'),\n",
       " Text(0, 48, '480'),\n",
       " Text(0, 49, '490'),\n",
       " Text(0, 50, '500'),\n",
       " Text(0, 51, '510'),\n",
       " Text(0, 52, '520'),\n",
       " Text(0, 53, '530'),\n",
       " Text(0, 54, '540'),\n",
       " Text(0, 55, '550'),\n",
       " Text(0, 56, '560'),\n",
       " Text(0, 57, '570'),\n",
       " Text(0, 58, '580'),\n",
       " Text(0, 59, '590'),\n",
       " Text(0, 60, '600'),\n",
       " Text(0, 61, '610'),\n",
       " Text(0, 62, '620')]"
      ]
     },
     "execution_count": 12,
     "metadata": {},
     "output_type": "execute_result"
    },
    {
     "data": {
      "text/plain": [
       "Text(0.5, 1.0, 'Attention Map of Layer 29')"
      ]
     },
     "execution_count": 12,
     "metadata": {},
     "output_type": "execute_result"
    },
    {
     "data": {
      "text/plain": [
       "Text(0.5, 242.16666666666694, 'Column')"
      ]
     },
     "execution_count": 12,
     "metadata": {},
     "output_type": "execute_result"
    },
    {
     "data": {
      "text/plain": [
       "Text(187.79166666666666, 0.5, 'Row')"
      ]
     },
     "execution_count": 12,
     "metadata": {},
     "output_type": "execute_result"
    },
    {
     "data": {
      "text/plain": [
       "Text(0.5, 1.0, 'Attention from last input token to vision of Layer 29')"
      ]
     },
     "execution_count": 12,
     "metadata": {},
     "output_type": "execute_result"
    },
    {
     "data": {
      "text/plain": [
       "<matplotlib.image.AxesImage at 0x7f2f44eb45e0>"
      ]
     },
     "execution_count": 12,
     "metadata": {},
     "output_type": "execute_result"
    },
    {
     "data": {
      "text/plain": [
       "(0.0, 22.0)"
      ]
     },
     "execution_count": 12,
     "metadata": {},
     "output_type": "execute_result"
    },
    {
     "data": {
      "text/plain": [
       "(22.0, 0.0)"
      ]
     },
     "execution_count": 12,
     "metadata": {},
     "output_type": "execute_result"
    },
    {
     "name": "stderr",
     "output_type": "stream",
     "text": [
      "/tmp/ipykernel_1627/3125494494.py:15: MatplotlibDeprecationWarning: The get_cmap function was deprecated in Matplotlib 3.7 and will be removed in 3.11. Use ``matplotlib.colormaps[name]`` or ``matplotlib.colormaps.get_cmap()`` or ``pyplot.get_cmap()`` instead.\n",
      "  cmap = plt.cm.get_cmap(\"viridis\")\n"
     ]
    },
    {
     "data": {
      "text/plain": [
       "<Axes: >"
      ]
     },
     "execution_count": 12,
     "metadata": {},
     "output_type": "execute_result"
    },
    {
     "data": {
      "text/plain": [
       "[<matplotlib.axis.XTick at 0x7f2f44c507f0>,\n",
       " <matplotlib.axis.XTick at 0x7f2f44c7d1e0>,\n",
       " <matplotlib.axis.XTick at 0x7f2f44c7e020>,\n",
       " <matplotlib.axis.XTick at 0x7f2f44c7e0b0>,\n",
       " <matplotlib.axis.XTick at 0x7f2f44c7f310>,\n",
       " <matplotlib.axis.XTick at 0x7f2f44c7fd30>,\n",
       " <matplotlib.axis.XTick at 0x7f2f44c7ffd0>,\n",
       " <matplotlib.axis.XTick at 0x7f2f44c90820>,\n",
       " <matplotlib.axis.XTick at 0x7f2f44c91240>,\n",
       " <matplotlib.axis.XTick at 0x7f2f44c91c60>,\n",
       " <matplotlib.axis.XTick at 0x7f2f44c91db0>,\n",
       " <matplotlib.axis.XTick at 0x7f2f44c92560>,\n",
       " <matplotlib.axis.XTick at 0x7f2f44c92f80>,\n",
       " <matplotlib.axis.XTick at 0x7f2f44c939a0>,\n",
       " <matplotlib.axis.XTick at 0x7f2f44ca8400>,\n",
       " <matplotlib.axis.XTick at 0x7f2f44c92f50>,\n",
       " <matplotlib.axis.XTick at 0x7f2f44ca8be0>,\n",
       " <matplotlib.axis.XTick at 0x7f2f44ca9600>,\n",
       " <matplotlib.axis.XTick at 0x7f2f44caa020>,\n",
       " <matplotlib.axis.XTick at 0x7f2f44c92bc0>,\n",
       " <matplotlib.axis.XTick at 0x7f2f44ca9390>,\n",
       " <matplotlib.axis.XTick at 0x7f2f44cab2b0>,\n",
       " <matplotlib.axis.XTick at 0x7f2f44cabcd0>,\n",
       " <matplotlib.axis.XTick at 0x7f2f44cc4730>,\n",
       " <matplotlib.axis.XTick at 0x7f2f44caba30>,\n",
       " <matplotlib.axis.XTick at 0x7f2f44cc4250>,\n",
       " <matplotlib.axis.XTick at 0x7f2f44cc5a50>,\n",
       " <matplotlib.axis.XTick at 0x7f2f44cc6470>,\n",
       " <matplotlib.axis.XTick at 0x7f2f44cc6e90>,\n",
       " <matplotlib.axis.XTick at 0x7f2f44c7fdc0>,\n",
       " <matplotlib.axis.XTick at 0x7f2f44cc60b0>,\n",
       " <matplotlib.axis.XTick at 0x7f2f44cc7820>,\n",
       " <matplotlib.axis.XTick at 0x7f2f44c51150>,\n",
       " <matplotlib.axis.XTick at 0x7f2f44a66e00>,\n",
       " <matplotlib.axis.XTick at 0x7f2f44ac6260>,\n",
       " <matplotlib.axis.XTick at 0x7f2f44ac6950>,\n",
       " <matplotlib.axis.XTick at 0x7f2f44ac7370>,\n",
       " <matplotlib.axis.XTick at 0x7f2f44c7cfd0>,\n",
       " <matplotlib.axis.XTick at 0x7f2f44ac6020>,\n",
       " <matplotlib.axis.XTick at 0x7f2f44ae06d0>,\n",
       " <matplotlib.axis.XTick at 0x7f2f44ae10f0>,\n",
       " <matplotlib.axis.XTick at 0x7f2f44ae1b10>,\n",
       " <matplotlib.axis.XTick at 0x7f2f44ae1870>,\n",
       " <matplotlib.axis.XTick at 0x7f2f44ae22f0>,\n",
       " <matplotlib.axis.XTick at 0x7f2f44ae2d10>,\n",
       " <matplotlib.axis.XTick at 0x7f2f44ae3730>,\n",
       " <matplotlib.axis.XTick at 0x7f2f44ae34c0>,\n",
       " <matplotlib.axis.XTick at 0x7f2f44b00190>,\n",
       " <matplotlib.axis.XTick at 0x7f2f44b00be0>,\n",
       " <matplotlib.axis.XTick at 0x7f2f44b01600>,\n",
       " <matplotlib.axis.XTick at 0x7f2f44b02020>,\n",
       " <matplotlib.axis.XTick at 0x7f2f44b020b0>,\n",
       " <matplotlib.axis.XTick at 0x7f2f44b02920>,\n",
       " <matplotlib.axis.XTick at 0x7f2f44b03340>,\n",
       " <matplotlib.axis.XTick at 0x7f2f44b03fa0>,\n",
       " <matplotlib.axis.XTick at 0x7f2f44b207c0>,\n",
       " <matplotlib.axis.XTick at 0x7f2f44b03100>,\n",
       " <matplotlib.axis.XTick at 0x7f2f44b20fa0>,\n",
       " <matplotlib.axis.XTick at 0x7f2f44b219c0>,\n",
       " <matplotlib.axis.XTick at 0x7f2f44b223e0>,\n",
       " <matplotlib.axis.XTick at 0x7f2f44b03df0>,\n",
       " <matplotlib.axis.XTick at 0x7f2f44b21600>,\n",
       " <matplotlib.axis.XTick at 0x7f2f44b23670>]"
      ]
     },
     "execution_count": 12,
     "metadata": {},
     "output_type": "execute_result"
    },
    {
     "data": {
      "text/plain": [
       "[<matplotlib.axis.YTick at 0x7f2f44c500d0>,\n",
       " <matplotlib.axis.YTick at 0x7f2f44c7d240>,\n",
       " <matplotlib.axis.YTick at 0x7f2f44ce4eb0>,\n",
       " <matplotlib.axis.YTick at 0x7f2f44cab790>,\n",
       " <matplotlib.axis.YTick at 0x7f2f44ce53f0>,\n",
       " <matplotlib.axis.YTick at 0x7f2f44ce5e10>,\n",
       " <matplotlib.axis.YTick at 0x7f2f44ce6830>,\n",
       " <matplotlib.axis.YTick at 0x7f2f44cc6f50>,\n",
       " <matplotlib.axis.YTick at 0x7f2f44ce5a20>,\n",
       " <matplotlib.axis.YTick at 0x7f2f44ce7a30>,\n",
       " <matplotlib.axis.YTick at 0x7f2f44a04490>,\n",
       " <matplotlib.axis.YTick at 0x7f2f44a04eb0>,\n",
       " <matplotlib.axis.YTick at 0x7f2f44ce7a00>,\n",
       " <matplotlib.axis.YTick at 0x7f2f44a04100>,\n",
       " <matplotlib.axis.YTick at 0x7f2f44a061d0>,\n",
       " <matplotlib.axis.YTick at 0x7f2f44a06bf0>,\n",
       " <matplotlib.axis.YTick at 0x7f2f44a07610>,\n",
       " <matplotlib.axis.YTick at 0x7f2f44a07100>,\n",
       " <matplotlib.axis.YTick at 0x7f2f44a20130>,\n",
       " <matplotlib.axis.YTick at 0x7f2f44a20850>,\n",
       " <matplotlib.axis.YTick at 0x7f2f44a21270>,\n",
       " <matplotlib.axis.YTick at 0x7f2f44a07eb0>,\n",
       " <matplotlib.axis.YTick at 0x7f2f44a20d30>,\n",
       " <matplotlib.axis.YTick at 0x7f2f44a22590>,\n",
       " <matplotlib.axis.YTick at 0x7f2f44a22fb0>,\n",
       " <matplotlib.axis.YTick at 0x7f2f44a239d0>,\n",
       " <matplotlib.axis.YTick at 0x7f2f44a23730>,\n",
       " <matplotlib.axis.YTick at 0x7f2f44a64310>,\n",
       " <matplotlib.axis.YTick at 0x7f2f44a64d30>,\n",
       " <matplotlib.axis.YTick at 0x7f2f44a65750>,\n",
       " <matplotlib.axis.YTick at 0x7f2f44a66170>,\n",
       " <matplotlib.axis.YTick at 0x7f2f44a66140>,\n",
       " <matplotlib.axis.YTick at 0x7f2f44c42140>,\n",
       " <matplotlib.axis.YTick at 0x7f2f44b3c1f0>,\n",
       " <matplotlib.axis.YTick at 0x7f2f44b3cb50>,\n",
       " <matplotlib.axis.YTick at 0x7f2f44b3d570>,\n",
       " <matplotlib.axis.YTick at 0x7f2f44b3df90>,\n",
       " <matplotlib.axis.YTick at 0x7f2f44b3e020>,\n",
       " <matplotlib.axis.YTick at 0x7f2f44b3c640>,\n",
       " <matplotlib.axis.YTick at 0x7f2f44b3f2b0>,\n",
       " <matplotlib.axis.YTick at 0x7f2f44b3fcd0>,\n",
       " <matplotlib.axis.YTick at 0x7f2f44b54730>,\n",
       " <matplotlib.axis.YTick at 0x7f2f44b3f280>,\n",
       " <matplotlib.axis.YTick at 0x7f2f44b54f10>,\n",
       " <matplotlib.axis.YTick at 0x7f2f44b55930>,\n",
       " <matplotlib.axis.YTick at 0x7f2f44b56350>,\n",
       " <matplotlib.axis.YTick at 0x7f2f44b56d70>,\n",
       " <matplotlib.axis.YTick at 0x7f2f44b563e0>,\n",
       " <matplotlib.axis.YTick at 0x7f2f44b574c0>,\n",
       " <matplotlib.axis.YTick at 0x7f2f44b780d0>,\n",
       " <matplotlib.axis.YTick at 0x7f2f44b78940>,\n",
       " <matplotlib.axis.YTick at 0x7f2f44b57c70>,\n",
       " <matplotlib.axis.YTick at 0x7f2f44b78fd0>,\n",
       " <matplotlib.axis.YTick at 0x7f2f44b79b40>,\n",
       " <matplotlib.axis.YTick at 0x7f2f44b7a560>,\n",
       " <matplotlib.axis.YTick at 0x7f2f44b7af80>,\n",
       " <matplotlib.axis.YTick at 0x7f2f44b3e470>,\n",
       " <matplotlib.axis.YTick at 0x7f2f44b7afb0>,\n",
       " <matplotlib.axis.YTick at 0x7f2f44b78e20>,\n",
       " <matplotlib.axis.YTick at 0x7f2f44b9c040>,\n",
       " <matplotlib.axis.YTick at 0x7f2f44b9ca30>,\n",
       " <matplotlib.axis.YTick at 0x7f2f44ac4460>,\n",
       " <matplotlib.axis.YTick at 0x7f2f44b9d360>]"
      ]
     },
     "execution_count": 12,
     "metadata": {},
     "output_type": "execute_result"
    },
    {
     "data": {
      "text/plain": [
       "[Text(0, 0, '0'),\n",
       " Text(1, 0, '10'),\n",
       " Text(2, 0, '20'),\n",
       " Text(3, 0, '30'),\n",
       " Text(4, 0, '40'),\n",
       " Text(5, 0, '50'),\n",
       " Text(6, 0, '60'),\n",
       " Text(7, 0, '70'),\n",
       " Text(8, 0, '80'),\n",
       " Text(9, 0, '90'),\n",
       " Text(10, 0, '100'),\n",
       " Text(11, 0, '110'),\n",
       " Text(12, 0, '120'),\n",
       " Text(13, 0, '130'),\n",
       " Text(14, 0, '140'),\n",
       " Text(15, 0, '150'),\n",
       " Text(16, 0, '160'),\n",
       " Text(17, 0, '170'),\n",
       " Text(18, 0, '180'),\n",
       " Text(19, 0, '190'),\n",
       " Text(20, 0, '200'),\n",
       " Text(21, 0, '210'),\n",
       " Text(22, 0, '220'),\n",
       " Text(23, 0, '230'),\n",
       " Text(24, 0, '240'),\n",
       " Text(25, 0, '250'),\n",
       " Text(26, 0, '260'),\n",
       " Text(27, 0, '270'),\n",
       " Text(28, 0, '280'),\n",
       " Text(29, 0, '290'),\n",
       " Text(30, 0, '300'),\n",
       " Text(31, 0, '310'),\n",
       " Text(32, 0, '320'),\n",
       " Text(33, 0, '330'),\n",
       " Text(34, 0, '340'),\n",
       " Text(35, 0, '350'),\n",
       " Text(36, 0, '360'),\n",
       " Text(37, 0, '370'),\n",
       " Text(38, 0, '380'),\n",
       " Text(39, 0, '390'),\n",
       " Text(40, 0, '400'),\n",
       " Text(41, 0, '410'),\n",
       " Text(42, 0, '420'),\n",
       " Text(43, 0, '430'),\n",
       " Text(44, 0, '440'),\n",
       " Text(45, 0, '450'),\n",
       " Text(46, 0, '460'),\n",
       " Text(47, 0, '470'),\n",
       " Text(48, 0, '480'),\n",
       " Text(49, 0, '490'),\n",
       " Text(50, 0, '500'),\n",
       " Text(51, 0, '510'),\n",
       " Text(52, 0, '520'),\n",
       " Text(53, 0, '530'),\n",
       " Text(54, 0, '540'),\n",
       " Text(55, 0, '550'),\n",
       " Text(56, 0, '560'),\n",
       " Text(57, 0, '570'),\n",
       " Text(58, 0, '580'),\n",
       " Text(59, 0, '590'),\n",
       " Text(60, 0, '600'),\n",
       " Text(61, 0, '610'),\n",
       " Text(62, 0, '620')]"
      ]
     },
     "execution_count": 12,
     "metadata": {},
     "output_type": "execute_result"
    },
    {
     "data": {
      "text/plain": [
       "[Text(0, 0, '0'),\n",
       " Text(0, 1, '10'),\n",
       " Text(0, 2, '20'),\n",
       " Text(0, 3, '30'),\n",
       " Text(0, 4, '40'),\n",
       " Text(0, 5, '50'),\n",
       " Text(0, 6, '60'),\n",
       " Text(0, 7, '70'),\n",
       " Text(0, 8, '80'),\n",
       " Text(0, 9, '90'),\n",
       " Text(0, 10, '100'),\n",
       " Text(0, 11, '110'),\n",
       " Text(0, 12, '120'),\n",
       " Text(0, 13, '130'),\n",
       " Text(0, 14, '140'),\n",
       " Text(0, 15, '150'),\n",
       " Text(0, 16, '160'),\n",
       " Text(0, 17, '170'),\n",
       " Text(0, 18, '180'),\n",
       " Text(0, 19, '190'),\n",
       " Text(0, 20, '200'),\n",
       " Text(0, 21, '210'),\n",
       " Text(0, 22, '220'),\n",
       " Text(0, 23, '230'),\n",
       " Text(0, 24, '240'),\n",
       " Text(0, 25, '250'),\n",
       " Text(0, 26, '260'),\n",
       " Text(0, 27, '270'),\n",
       " Text(0, 28, '280'),\n",
       " Text(0, 29, '290'),\n",
       " Text(0, 30, '300'),\n",
       " Text(0, 31, '310'),\n",
       " Text(0, 32, '320'),\n",
       " Text(0, 33, '330'),\n",
       " Text(0, 34, '340'),\n",
       " Text(0, 35, '350'),\n",
       " Text(0, 36, '360'),\n",
       " Text(0, 37, '370'),\n",
       " Text(0, 38, '380'),\n",
       " Text(0, 39, '390'),\n",
       " Text(0, 40, '400'),\n",
       " Text(0, 41, '410'),\n",
       " Text(0, 42, '420'),\n",
       " Text(0, 43, '430'),\n",
       " Text(0, 44, '440'),\n",
       " Text(0, 45, '450'),\n",
       " Text(0, 46, '460'),\n",
       " Text(0, 47, '470'),\n",
       " Text(0, 48, '480'),\n",
       " Text(0, 49, '490'),\n",
       " Text(0, 50, '500'),\n",
       " Text(0, 51, '510'),\n",
       " Text(0, 52, '520'),\n",
       " Text(0, 53, '530'),\n",
       " Text(0, 54, '540'),\n",
       " Text(0, 55, '550'),\n",
       " Text(0, 56, '560'),\n",
       " Text(0, 57, '570'),\n",
       " Text(0, 58, '580'),\n",
       " Text(0, 59, '590'),\n",
       " Text(0, 60, '600'),\n",
       " Text(0, 61, '610'),\n",
       " Text(0, 62, '620')]"
      ]
     },
     "execution_count": 12,
     "metadata": {},
     "output_type": "execute_result"
    },
    {
     "data": {
      "text/plain": [
       "Text(0.5, 1.0, 'Attention Map of Layer 30')"
      ]
     },
     "execution_count": 12,
     "metadata": {},
     "output_type": "execute_result"
    },
    {
     "data": {
      "text/plain": [
       "Text(0.5, 242.16666666666694, 'Column')"
      ]
     },
     "execution_count": 12,
     "metadata": {},
     "output_type": "execute_result"
    },
    {
     "data": {
      "text/plain": [
       "Text(187.79166666666666, 0.5, 'Row')"
      ]
     },
     "execution_count": 12,
     "metadata": {},
     "output_type": "execute_result"
    },
    {
     "data": {
      "text/plain": [
       "Text(0.5, 1.0, 'Attention from last input token to vision of Layer 30')"
      ]
     },
     "execution_count": 12,
     "metadata": {},
     "output_type": "execute_result"
    },
    {
     "data": {
      "text/plain": [
       "<matplotlib.image.AxesImage at 0x7f2f44b9db40>"
      ]
     },
     "execution_count": 12,
     "metadata": {},
     "output_type": "execute_result"
    },
    {
     "data": {
      "text/plain": [
       "(0.0, 22.0)"
      ]
     },
     "execution_count": 12,
     "metadata": {},
     "output_type": "execute_result"
    },
    {
     "data": {
      "text/plain": [
       "(22.0, 0.0)"
      ]
     },
     "execution_count": 12,
     "metadata": {},
     "output_type": "execute_result"
    },
    {
     "name": "stderr",
     "output_type": "stream",
     "text": [
      "/tmp/ipykernel_1627/3125494494.py:15: MatplotlibDeprecationWarning: The get_cmap function was deprecated in Matplotlib 3.7 and will be removed in 3.11. Use ``matplotlib.colormaps[name]`` or ``matplotlib.colormaps.get_cmap()`` or ``pyplot.get_cmap()`` instead.\n",
      "  cmap = plt.cm.get_cmap(\"viridis\")\n"
     ]
    },
    {
     "data": {
      "text/plain": [
       "<Axes: >"
      ]
     },
     "execution_count": 12,
     "metadata": {},
     "output_type": "execute_result"
    },
    {
     "data": {
      "text/plain": [
       "[<matplotlib.axis.XTick at 0x7f2f449270d0>,\n",
       " <matplotlib.axis.XTick at 0x7f2f44946d70>,\n",
       " <matplotlib.axis.XTick at 0x7f2f44947bb0>,\n",
       " <matplotlib.axis.XTick at 0x7f2f44947c40>,\n",
       " <matplotlib.axis.XTick at 0x7f2f4495cee0>,\n",
       " <matplotlib.axis.XTick at 0x7f2f44947e20>,\n",
       " <matplotlib.axis.XTick at 0x7f2f4495c490>,\n",
       " <matplotlib.axis.XTick at 0x7f2f4495e3b0>,\n",
       " <matplotlib.axis.XTick at 0x7f2f4495edd0>,\n",
       " <matplotlib.axis.XTick at 0x7f2f4495f7f0>,\n",
       " <matplotlib.axis.XTick at 0x7f2f4495f460>,\n",
       " <matplotlib.axis.XTick at 0x7f2f44978130>,\n",
       " <matplotlib.axis.XTick at 0x7f2f44978b50>,\n",
       " <matplotlib.axis.XTick at 0x7f2f44979570>,\n",
       " <matplotlib.axis.XTick at 0x7f2f44979f90>,\n",
       " <matplotlib.axis.XTick at 0x7f2f44979ba0>,\n",
       " <matplotlib.axis.XTick at 0x7f2f4497a770>,\n",
       " <matplotlib.axis.XTick at 0x7f2f4497b190>,\n",
       " <matplotlib.axis.XTick at 0x7f2f4497bbb0>,\n",
       " <matplotlib.axis.XTick at 0x7f2f4497bc70>,\n",
       " <matplotlib.axis.XTick at 0x7f2f44994790>,\n",
       " <matplotlib.axis.XTick at 0x7f2f44994e80>,\n",
       " <matplotlib.axis.XTick at 0x7f2f449958a0>,\n",
       " <matplotlib.axis.XTick at 0x7f2f449962c0>,\n",
       " <matplotlib.axis.XTick at 0x7f2f449962f0>,\n",
       " <matplotlib.axis.XTick at 0x7f2f44994670>,\n",
       " <matplotlib.axis.XTick at 0x7f2f449975e0>,\n",
       " <matplotlib.axis.XTick at 0x7f2f449b4040>,\n",
       " <matplotlib.axis.XTick at 0x7f2f449b4a60>,\n",
       " <matplotlib.axis.XTick at 0x7f2f44997220>,\n",
       " <matplotlib.axis.XTick at 0x7f2f4495d9c0>,\n",
       " <matplotlib.axis.XTick at 0x7f2f449b53f0>,\n",
       " <matplotlib.axis.XTick at 0x7f2f449262f0>,\n",
       " <matplotlib.axis.XTick at 0x7f2f44946a40>,\n",
       " <matplotlib.axis.XTick at 0x7f2f4478fdf0>,\n",
       " <matplotlib.axis.XTick at 0x7f2f447b8520>,\n",
       " <matplotlib.axis.XTick at 0x7f2f447b8f40>,\n",
       " <matplotlib.axis.XTick at 0x7f2f54858f10>,\n",
       " <matplotlib.axis.XTick at 0x7f2f447b8130>,\n",
       " <matplotlib.axis.XTick at 0x7f2f447ba260>,\n",
       " <matplotlib.axis.XTick at 0x7f2f447bac80>,\n",
       " <matplotlib.axis.XTick at 0x7f2f447bb6a0>,\n",
       " <matplotlib.axis.XTick at 0x7f2f447bb190>,\n",
       " <matplotlib.axis.XTick at 0x7f2f447c4070>,\n",
       " <matplotlib.axis.XTick at 0x7f2f447c48e0>,\n",
       " <matplotlib.axis.XTick at 0x7f2f447c5300>,\n",
       " <matplotlib.axis.XTick at 0x7f2f447c5d20>,\n",
       " <matplotlib.axis.XTick at 0x7f2f447c5ab0>,\n",
       " <matplotlib.axis.XTick at 0x7f2f447c6470>,\n",
       " <matplotlib.axis.XTick at 0x7f2f447c6e90>,\n",
       " <matplotlib.axis.XTick at 0x7f2f447c78b0>,\n",
       " <matplotlib.axis.XTick at 0x7f2f447c7df0>,\n",
       " <matplotlib.axis.XTick at 0x7f2f447b82e0>,\n",
       " <matplotlib.axis.XTick at 0x7f2f447e0af0>,\n",
       " <matplotlib.axis.XTick at 0x7f2f447e1510>,\n",
       " <matplotlib.axis.XTick at 0x7f2f447e1f30>,\n",
       " <matplotlib.axis.XTick at 0x7f2f447e1ff0>,\n",
       " <matplotlib.axis.XTick at 0x7f2f447e0610>,\n",
       " <matplotlib.axis.XTick at 0x7f2f447e3250>,\n",
       " <matplotlib.axis.XTick at 0x7f2f447e3c70>,\n",
       " <matplotlib.axis.XTick at 0x7f2f447fc6d0>,\n",
       " <matplotlib.axis.XTick at 0x7f2f447e2fb0>,\n",
       " <matplotlib.axis.XTick at 0x7f2f447fceb0>]"
      ]
     },
     "execution_count": 12,
     "metadata": {},
     "output_type": "execute_result"
    },
    {
     "data": {
      "text/plain": [
       "[<matplotlib.axis.YTick at 0x7f2f44927100>,\n",
       " <matplotlib.axis.YTick at 0x7f2f44946dd0>,\n",
       " <matplotlib.axis.YTick at 0x7f2f449b6a40>,\n",
       " <matplotlib.axis.YTick at 0x7f2f449b68c0>,\n",
       " <matplotlib.axis.YTick at 0x7f2f449b6f80>,\n",
       " <matplotlib.axis.YTick at 0x7f2f449b79a0>,\n",
       " <matplotlib.axis.YTick at 0x7f2f449d4400>,\n",
       " <matplotlib.axis.YTick at 0x7f2f449b7ac0>,\n",
       " <matplotlib.axis.YTick at 0x7f2f449d4d90>,\n",
       " <matplotlib.axis.YTick at 0x7f2f449d5600>,\n",
       " <matplotlib.axis.YTick at 0x7f2f449d6020>,\n",
       " <matplotlib.axis.YTick at 0x7f2f449d6a40>,\n",
       " <matplotlib.axis.YTick at 0x7f2f449d6ad0>,\n",
       " <matplotlib.axis.YTick at 0x7f2f449d4a30>,\n",
       " <matplotlib.axis.YTick at 0x7f2f449d7fa0>,\n",
       " <matplotlib.axis.YTick at 0x7f2f449f07c0>,\n",
       " <matplotlib.axis.YTick at 0x7f2f449f11e0>,\n",
       " <matplotlib.axis.YTick at 0x7f2f449d6a70>,\n",
       " <matplotlib.axis.YTick at 0x7f2f449f19c0>,\n",
       " <matplotlib.axis.YTick at 0x7f2f449f23e0>,\n",
       " <matplotlib.axis.YTick at 0x7f2f449f2e00>,\n",
       " <matplotlib.axis.YTick at 0x7f2f449f39a0>,\n",
       " <matplotlib.axis.YTick at 0x7f2f449f1ea0>,\n",
       " <matplotlib.axis.YTick at 0x7f2f44700160>,\n",
       " <matplotlib.axis.YTick at 0x7f2f44700b80>,\n",
       " <matplotlib.axis.YTick at 0x7f2f447015a0>,\n",
       " <matplotlib.axis.YTick at 0x7f2f449f3340>,\n",
       " <matplotlib.axis.YTick at 0x7f2f44700220>,\n",
       " <matplotlib.axis.YTick at 0x7f2f447028c0>,\n",
       " <matplotlib.axis.YTick at 0x7f2f447032e0>,\n",
       " <matplotlib.axis.YTick at 0x7f2f44703f40>,\n",
       " <matplotlib.axis.YTick at 0x7f2f447033a0>,\n",
       " <matplotlib.axis.YTick at 0x7f2f44907cd0>,\n",
       " <matplotlib.axis.YTick at 0x7f2f447fdd20>,\n",
       " <matplotlib.axis.YTick at 0x7f2f447fe530>,\n",
       " <matplotlib.axis.YTick at 0x7f2f447fef50>,\n",
       " <matplotlib.axis.YTick at 0x7f2f447ff970>,\n",
       " <matplotlib.axis.YTick at 0x7f2f447ff580>,\n",
       " <matplotlib.axis.YTick at 0x7f2f4481c2b0>,\n",
       " <matplotlib.axis.YTick at 0x7f2f4481ccd0>,\n",
       " <matplotlib.axis.YTick at 0x7f2f4481d6f0>,\n",
       " <matplotlib.axis.YTick at 0x7f2f4481e110>,\n",
       " <matplotlib.axis.YTick at 0x7f2f4481dd20>,\n",
       " <matplotlib.axis.YTick at 0x7f2f4481e8f0>,\n",
       " <matplotlib.axis.YTick at 0x7f2f4481f310>,\n",
       " <matplotlib.axis.YTick at 0x7f2f4481ff70>,\n",
       " <matplotlib.axis.YTick at 0x7f2f4481fdf0>,\n",
       " <matplotlib.axis.YTick at 0x7f2f44834910>,\n",
       " <matplotlib.axis.YTick at 0x7f2f44835000>,\n",
       " <matplotlib.axis.YTick at 0x7f2f44835a20>,\n",
       " <matplotlib.axis.YTick at 0x7f2f44836440>,\n",
       " <matplotlib.axis.YTick at 0x7f2f44836470>,\n",
       " <matplotlib.axis.YTick at 0x7f2f448347f0>,\n",
       " <matplotlib.axis.YTick at 0x7f2f44837760>,\n",
       " <matplotlib.axis.YTick at 0x7f2f4485c1c0>,\n",
       " <matplotlib.axis.YTick at 0x7f2f4485cbe0>,\n",
       " <matplotlib.axis.YTick at 0x7f2f448373d0>,\n",
       " <matplotlib.axis.YTick at 0x7f2f447e2410>,\n",
       " <matplotlib.axis.YTick at 0x7f2f4485c2e0>,\n",
       " <matplotlib.axis.YTick at 0x7f2f4485dba0>,\n",
       " <matplotlib.axis.YTick at 0x7f2f4485e5c0>,\n",
       " <matplotlib.axis.YTick at 0x7f2f4485e710>,\n",
       " <matplotlib.axis.YTick at 0x7f2f4485ed10>]"
      ]
     },
     "execution_count": 12,
     "metadata": {},
     "output_type": "execute_result"
    },
    {
     "data": {
      "text/plain": [
       "[Text(0, 0, '0'),\n",
       " Text(1, 0, '10'),\n",
       " Text(2, 0, '20'),\n",
       " Text(3, 0, '30'),\n",
       " Text(4, 0, '40'),\n",
       " Text(5, 0, '50'),\n",
       " Text(6, 0, '60'),\n",
       " Text(7, 0, '70'),\n",
       " Text(8, 0, '80'),\n",
       " Text(9, 0, '90'),\n",
       " Text(10, 0, '100'),\n",
       " Text(11, 0, '110'),\n",
       " Text(12, 0, '120'),\n",
       " Text(13, 0, '130'),\n",
       " Text(14, 0, '140'),\n",
       " Text(15, 0, '150'),\n",
       " Text(16, 0, '160'),\n",
       " Text(17, 0, '170'),\n",
       " Text(18, 0, '180'),\n",
       " Text(19, 0, '190'),\n",
       " Text(20, 0, '200'),\n",
       " Text(21, 0, '210'),\n",
       " Text(22, 0, '220'),\n",
       " Text(23, 0, '230'),\n",
       " Text(24, 0, '240'),\n",
       " Text(25, 0, '250'),\n",
       " Text(26, 0, '260'),\n",
       " Text(27, 0, '270'),\n",
       " Text(28, 0, '280'),\n",
       " Text(29, 0, '290'),\n",
       " Text(30, 0, '300'),\n",
       " Text(31, 0, '310'),\n",
       " Text(32, 0, '320'),\n",
       " Text(33, 0, '330'),\n",
       " Text(34, 0, '340'),\n",
       " Text(35, 0, '350'),\n",
       " Text(36, 0, '360'),\n",
       " Text(37, 0, '370'),\n",
       " Text(38, 0, '380'),\n",
       " Text(39, 0, '390'),\n",
       " Text(40, 0, '400'),\n",
       " Text(41, 0, '410'),\n",
       " Text(42, 0, '420'),\n",
       " Text(43, 0, '430'),\n",
       " Text(44, 0, '440'),\n",
       " Text(45, 0, '450'),\n",
       " Text(46, 0, '460'),\n",
       " Text(47, 0, '470'),\n",
       " Text(48, 0, '480'),\n",
       " Text(49, 0, '490'),\n",
       " Text(50, 0, '500'),\n",
       " Text(51, 0, '510'),\n",
       " Text(52, 0, '520'),\n",
       " Text(53, 0, '530'),\n",
       " Text(54, 0, '540'),\n",
       " Text(55, 0, '550'),\n",
       " Text(56, 0, '560'),\n",
       " Text(57, 0, '570'),\n",
       " Text(58, 0, '580'),\n",
       " Text(59, 0, '590'),\n",
       " Text(60, 0, '600'),\n",
       " Text(61, 0, '610'),\n",
       " Text(62, 0, '620')]"
      ]
     },
     "execution_count": 12,
     "metadata": {},
     "output_type": "execute_result"
    },
    {
     "data": {
      "text/plain": [
       "[Text(0, 0, '0'),\n",
       " Text(0, 1, '10'),\n",
       " Text(0, 2, '20'),\n",
       " Text(0, 3, '30'),\n",
       " Text(0, 4, '40'),\n",
       " Text(0, 5, '50'),\n",
       " Text(0, 6, '60'),\n",
       " Text(0, 7, '70'),\n",
       " Text(0, 8, '80'),\n",
       " Text(0, 9, '90'),\n",
       " Text(0, 10, '100'),\n",
       " Text(0, 11, '110'),\n",
       " Text(0, 12, '120'),\n",
       " Text(0, 13, '130'),\n",
       " Text(0, 14, '140'),\n",
       " Text(0, 15, '150'),\n",
       " Text(0, 16, '160'),\n",
       " Text(0, 17, '170'),\n",
       " Text(0, 18, '180'),\n",
       " Text(0, 19, '190'),\n",
       " Text(0, 20, '200'),\n",
       " Text(0, 21, '210'),\n",
       " Text(0, 22, '220'),\n",
       " Text(0, 23, '230'),\n",
       " Text(0, 24, '240'),\n",
       " Text(0, 25, '250'),\n",
       " Text(0, 26, '260'),\n",
       " Text(0, 27, '270'),\n",
       " Text(0, 28, '280'),\n",
       " Text(0, 29, '290'),\n",
       " Text(0, 30, '300'),\n",
       " Text(0, 31, '310'),\n",
       " Text(0, 32, '320'),\n",
       " Text(0, 33, '330'),\n",
       " Text(0, 34, '340'),\n",
       " Text(0, 35, '350'),\n",
       " Text(0, 36, '360'),\n",
       " Text(0, 37, '370'),\n",
       " Text(0, 38, '380'),\n",
       " Text(0, 39, '390'),\n",
       " Text(0, 40, '400'),\n",
       " Text(0, 41, '410'),\n",
       " Text(0, 42, '420'),\n",
       " Text(0, 43, '430'),\n",
       " Text(0, 44, '440'),\n",
       " Text(0, 45, '450'),\n",
       " Text(0, 46, '460'),\n",
       " Text(0, 47, '470'),\n",
       " Text(0, 48, '480'),\n",
       " Text(0, 49, '490'),\n",
       " Text(0, 50, '500'),\n",
       " Text(0, 51, '510'),\n",
       " Text(0, 52, '520'),\n",
       " Text(0, 53, '530'),\n",
       " Text(0, 54, '540'),\n",
       " Text(0, 55, '550'),\n",
       " Text(0, 56, '560'),\n",
       " Text(0, 57, '570'),\n",
       " Text(0, 58, '580'),\n",
       " Text(0, 59, '590'),\n",
       " Text(0, 60, '600'),\n",
       " Text(0, 61, '610'),\n",
       " Text(0, 62, '620')]"
      ]
     },
     "execution_count": 12,
     "metadata": {},
     "output_type": "execute_result"
    },
    {
     "data": {
      "text/plain": [
       "Text(0.5, 1.0, 'Attention Map of Layer 31')"
      ]
     },
     "execution_count": 12,
     "metadata": {},
     "output_type": "execute_result"
    },
    {
     "data": {
      "text/plain": [
       "Text(0.5, 242.16666666666694, 'Column')"
      ]
     },
     "execution_count": 12,
     "metadata": {},
     "output_type": "execute_result"
    },
    {
     "data": {
      "text/plain": [
       "Text(187.79166666666666, 0.5, 'Row')"
      ]
     },
     "execution_count": 12,
     "metadata": {},
     "output_type": "execute_result"
    },
    {
     "data": {
      "text/plain": [
       "Text(0.5, 1.0, 'Attention from last input token to vision of Layer 31')"
      ]
     },
     "execution_count": 12,
     "metadata": {},
     "output_type": "execute_result"
    },
    {
     "data": {
      "text/plain": [
       "<matplotlib.image.AxesImage at 0x7f2f4485cd30>"
      ]
     },
     "execution_count": 12,
     "metadata": {},
     "output_type": "execute_result"
    },
    {
     "data": {
      "text/plain": [
       "(0.0, 22.0)"
      ]
     },
     "execution_count": 12,
     "metadata": {},
     "output_type": "execute_result"
    },
    {
     "data": {
      "text/plain": [
       "(22.0, 0.0)"
      ]
     },
     "execution_count": 12,
     "metadata": {},
     "output_type": "execute_result"
    }
   ],
   "source": [
    "image_path = IMAGE_PATH \n",
    "image = Image.open(image_path)\n",
    "image = transforms.Resize((  int(image.size[0]/2), int(image.size[1]/2)))(image)\n",
    "\n",
    "total_layers = len(self_attention)\n",
    "for layer_index in range(total_layers):\n",
    "    multihead_attention = self_attention[layer_index].cpu()\n",
    "    averaged_attention = torch.mean(multihead_attention, axis=1)[0].float()\n",
    "    averaged_attention = torch.nn.functional.avg_pool2d(averaged_attention.unsqueeze(0).unsqueeze(0), 10, stride=10).squeeze(0).squeeze(0)\n",
    "    \n",
    "    cmap = plt.cm.get_cmap(\"viridis\")\n",
    "    fig, (ax1, ax2) = plt.subplots(nrows=2, ncols=1, figsize=(8, 10), dpi=300, gridspec_kw={'height_ratios': [1, 0.5]})\n",
    "\n",
    "    log_norm = LogNorm(vmin=0.0007, vmax=averaged_attention.max())\n",
    "    sns.heatmap(averaged_attention,\n",
    "                cmap=cmap,\n",
    "                norm=log_norm,\n",
    "                ax=ax1,\n",
    "                cbar=False,\n",
    "                linewidths=0\n",
    "                )\n",
    "\n",
    "    x_ticks = [str(i*10) for i in range(0, averaged_attention.shape[0])]\n",
    "    y_ticks = [str(i*10) for i in range(0, averaged_attention.shape[0])]\n",
    "    ax1.set_xticks([i for i in range(0, averaged_attention.shape[0])])\n",
    "    ax1.set_yticks([i for i in range(0, averaged_attention.shape[0])])\n",
    "    ax1.set_xticklabels(x_ticks, fontsize=6, rotation=90)\n",
    "    ax1.set_yticklabels(y_ticks, fontsize=6)\n",
    "    ax1.set_title(\"Attention Map of Layer \" + str(layer_index), fontsize=10)\n",
    "\n",
    "    tensor_grid = attention_grids[layer_index]\n",
    "    im = ax2.imshow(tensor_grid, cmap='viridis')\n",
    "    ax2.set_xlabel('Column', fontsize=8)\n",
    "    ax2.set_ylabel('Row', fontsize=8)\n",
    "    ax2.set_title('Attention from last input token to visual tokens of Layer ' + str(layer_index), fontsize=10)\n",
    "\n",
    "    grid_h, grid_w = tensor_grid.shape[0]-1, tensor_grid.shape[1]-1\n",
    "    \n",
    "    ax2.imshow(image, cmap='gray', alpha=0.7, extent=(0, grid_w, grid_h, 0))\n",
    "    ax2.set_xlim(0, grid_w - 1)\n",
    "    ax2.set_ylim(grid_h - 1, 0)\n",
    "\n",
    "    cbar_ax = fig.add_axes([0.92, 0.15, 0.02, 0.7])\n",
    "    cbar = fig.colorbar(mappable=im, cax=cbar_ax)\n",
    "    cbar.set_label('Value', rotation=270, labelpad=20, fontsize=10)\n",
    "\n",
    "    plt.subplots_adjust(wspace=0.3, hspace=0.3)\n",
    "\n",
    "    plt.savefig(f\"./prefill_attn/attn_map_grid_{layer_index}.svg\", format=\"svg\", bbox_inches='tight', dpi=300)\n",
    "    plt.close(fig)"
   ]
  }
 ],
 "metadata": {
  "kernelspec": {
   "display_name": "llava-visipruner",
   "language": "python",
   "name": "python3"
  },
  "language_info": {
   "codemirror_mode": {
    "name": "ipython",
    "version": 3
   },
   "file_extension": ".py",
   "mimetype": "text/x-python",
   "name": "python",
   "nbconvert_exporter": "python",
   "pygments_lexer": "ipython3",
   "version": "3.10.18"
  }
 },
 "nbformat": 4,
 "nbformat_minor": 2
}
